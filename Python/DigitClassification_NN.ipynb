{
  "nbformat": 4,
  "nbformat_minor": 0,
  "metadata": {
    "colab": {
      "name": "DigitClassification-NN.ipynb",
      "provenance": [],
      "collapsed_sections": [
        "EmecX1x2rXxY",
        "_tW7DKmiwNm5",
        "yLRITkDWxbOu",
        "tTG_z44dxlPW",
        "BkkC5WfY3zyN"
      ]
    },
    "kernelspec": {
      "name": "python3",
      "display_name": "Python 3"
    }
  },
  "cells": [
    {
      "cell_type": "markdown",
      "metadata": {
        "id": "VCdrpYmmlNyw"
      },
      "source": [
        "# Neural Networks for MNIST database #\r\n",
        "Author: Marco Sousa\r\n",
        "\\\r\n",
        "Last Updated Date: 3/7/2021\r\n",
        "\\\r\n",
        "Details: This is an investigation of applying NN and C-NN onto the MNIST database, further investigating machine Learning for my DSC[499] Capstone assignment at UMass Dartmouth.\r\n",
        "\r\n",
        "Much of the low level design was inspired by [Victor Zhou](https://victorzhou.com/about/) and his posts on [Neural Networks](https://victorzhou.com/blog/intro-to-neural-networks/). Many methods are mostly similar. If I have time, I'd like to return to this implementation to (1) generalize it and (2) change the matrix dimensions in relation to softmax (and its back propagation).\r\n",
        "\r\n",
        "High level design using tensorflow/keras was learned via [TensorFlow](https://www.tensorflow.org/tutorials/keras/classification).\r\n",
        "\r\n",
        "The primary text resource for machine learning and deep learning was by [Goodfellow et. al.](https://www.deeplearningbook.org/).\r\n",
        "\r\n",
        "Below is a linked **Table of Contents:**"
      ]
    },
    {
      "cell_type": "markdown",
      "metadata": {
        "id": "0Wfs__e0d8py"
      },
      "source": [
        "### Table of Contents ###\r\n",
        "\r\n",
        "1. [MNIST Dataset](#one)\r\n",
        "    1. Importing and Formatting\r\n",
        "    2. Basic Visualization\r\n",
        "2. [NN](#two)\r\n",
        "3. [C-NN](#three)\r\n",
        "    1. [Motivation for C-NN over NN for Images](#three-one)\r\n",
        "    2. [C-NN Feedforward](#three-two)\r\n",
        "        1. [Convolution](#three-two-one)\r\n",
        "        2. [Maxpool](#three-two-two)\r\n",
        "        3. [Softmax](#three-two-three)\r\n",
        "        4. [Cross-Entropy Loss](#three-two-four)\r\n",
        "        5. [Feedforward Method and Prediction](#three-two-five)\r\n",
        "    3. [Back Propagation and Training](#three-three)\r\n",
        "        1. [Softmax Back Propagation](#three-three-one)\r\n",
        "        2. [Maxpool Back Propagation](#three-three-two)\r\n",
        "        3. [Convolution Back Propagation](#three-three-three)\r\n",
        "        4. [Training with Epochs](#three-three-four)\r\n",
        "        5. [Keras Equivalent of Zhou Implementation](#three-three-five)\r\n",
        "    4. [Official Keras CNN Example](#three-four)"
      ]
    },
    {
      "cell_type": "markdown",
      "metadata": {
        "id": "d0qfNBI0jH76"
      },
      "source": [
        "### To Do Task List ###\r\n",
        "\r\n",
        "- [x] Github Repo\r\n",
        "- [x] K-Nearest Neighbor\r\n",
        "- [ ] NN Low-Level\r\n",
        "- [ ] NN by Keras/tensorflow\r\n",
        "- [x] Code C-NN Low-Level\r\n",
        "- [x] Convolution Class\r\n",
        "- [x] Maxpool Class\r\n",
        "- [x] Softmax Class\r\n",
        "- [x] Cross Entropy Loss\r\n",
        "- [x] Training C-NN\r\n",
        "- [x] Make predictions for C-NN\r\n",
        "- [x] C-NN by Keras/tensorflow (High-level)\r\n",
        "- [ ] Consider changing the attribute dimensions for softmax and training\r\n",
        "- [ ] Optional: Generalize Convolution Class out of 3x3\r\n",
        "- [ ] Optional: Generalize  Maxpool Class out of 2x2\r\n",
        "- [ ] Optional: Fickleness of input # of features for softmax\r\n",
        "- [ ] Optional: I'd like to make a visualization as it passes feedforward/backprop"
      ]
    },
    {
      "cell_type": "markdown",
      "metadata": {
        "id": "GJtSzzNfo8zS"
      },
      "source": [
        "# MNIST Dataset <a class=\"anchor\" id=\"one\" name=\"one\"></a> #\r\n"
      ]
    },
    {
      "cell_type": "markdown",
      "metadata": {
        "id": "smJ5oMqWpvSe"
      },
      "source": [
        "## Importing and Formatting##"
      ]
    },
    {
      "cell_type": "code",
      "metadata": {
        "id": "gTfhEmSrcS7Z"
      },
      "source": [
        "#Importing libraries\r\n",
        "import numpy as np \r\n",
        "import pandas as pd\r\n",
        "\r\n",
        "#Machine Learning libraries\r\n",
        "from tensorflow import keras\r\n",
        "from tensorflow.keras import layers\r\n",
        "\r\n",
        "#Visualization libraries\r\n",
        "import matplotlib.pyplot as plt\r\n",
        "#import altair as alt\r\n",
        "\r\n",
        "#Counter dict class\r\n",
        "from collections import Counter"
      ],
      "execution_count": 1,
      "outputs": []
    },
    {
      "cell_type": "code",
      "metadata": {
        "id": "4D0Esk3xcTrP"
      },
      "source": [
        "#Importing MNIST data from keras\r\n",
        "(x_train, y_train), (x_test, y_test) = keras.datasets.mnist.load_data()"
      ],
      "execution_count": 3,
      "outputs": []
    },
    {
      "cell_type": "code",
      "metadata": {
        "id": "QtqIhnGXcTvy"
      },
      "source": [
        "#Converting to int32; forcing to 0-255 from uint8 causes error when subtraction leads to a negative value\r\n",
        "xTrain = x_train.astype(np.int32)\r\n",
        "yTrain = y_train.astype(np.int32)\r\n",
        "xTest = x_test.astype(np.int32)\r\n",
        "yTest = y_test.astype(np.int32)"
      ],
      "execution_count": 4,
      "outputs": []
    },
    {
      "cell_type": "markdown",
      "metadata": {
        "id": "EmecX1x2rXxY"
      },
      "source": [
        "## Basic Visualization ##"
      ]
    },
    {
      "cell_type": "code",
      "metadata": {
        "colab": {
          "base_uri": "https://localhost:8080/"
        },
        "id": "p0-ttHicgYcb",
        "outputId": "88f9d04b-bfd2-47fb-9495-fc74c9c1afe0"
      },
      "source": [
        "#Printing shape\r\n",
        "print('xTrain: ' + str(xTrain.shape))\r\n",
        "print('yTrain: ' + str(yTrain.shape))\r\n",
        "print('xTest: ' + str(xTest.shape))\r\n",
        "print('yTest: ' + str(yTest.shape))"
      ],
      "execution_count": null,
      "outputs": [
        {
          "output_type": "stream",
          "text": [
            "xTrain: (60000, 28, 28)\n",
            "yTrain: (60000,)\n",
            "xTest: (10000, 28, 28)\n",
            "yTest: (10000,)\n"
          ],
          "name": "stdout"
        }
      ]
    },
    {
      "cell_type": "code",
      "metadata": {
        "colab": {
          "base_uri": "https://localhost:8080/"
        },
        "id": "OHG-d2kugYeu",
        "outputId": "7668b5b0-9cf0-445f-9c56-6b013255a8a1"
      },
      "source": [
        "#Visualizing the first 16 xTrain digits in a 4 by 4 grid.\r\n",
        "for i in range(1,17):\r\n",
        "  plt.subplot(4,4,i)\r\n",
        "  plt.imshow(xTrain[i-1], cmap=plt.get_cmap('gray'))"
      ],
      "execution_count": null,
      "outputs": [
        {
          "output_type": "display_data",
          "data": {
            "image/png": "[encoded data removed]",
            "text/plain": [
              "<Figure size 432x288 with 16 Axes>"
            ]
          },
          "metadata": {
            "tags": [],
            "needs_background": "light"
          }
        }
      ]
    },
    {
      "cell_type": "code",
      "metadata": {
        "colab": {
          "base_uri": "https://localhost:8080/"
        },
        "id": "6-LwQ3dVgYhQ",
        "outputId": "1d317cc5-40a8-4b0a-d981-76a8eb8f0d4f"
      },
      "source": [
        "#This of course reflects our yTrain labels on our 28x28 matrix of xTrain\r\n",
        "yTrain[0:16]"
      ],
      "execution_count": null,
      "outputs": [
        {
          "output_type": "execute_result",
          "data": {
            "text/plain": [
              "array([5, 0, 4, 1, 9, 2, 1, 3, 1, 4, 3, 5, 3, 6, 1, 7], dtype=int32)"
            ]
          },
          "metadata": {
            "tags": []
          },
          "execution_count": 25
        }
      ]
    },
    {
      "cell_type": "markdown",
      "metadata": {
        "id": "TM7C9uu4trY_"
      },
      "source": [
        "We observe the label (or digit) distribution. It can be seen that both are mostly uniform. We could prove this with a Chi-Sqaured test, but the following is mostly convincing enough for now. "
      ]
    },
    {
      "cell_type": "code",
      "metadata": {
        "colab": {
          "base_uri": "https://localhost:8080/"
        },
        "id": "inHQoNiatEjy",
        "outputId": "fba5ea69-bf50-4b99-d133-12de733d65ce"
      },
      "source": [
        "trainLabelDict = Counter(yTrain)\r\n",
        "trainLabelDict"
      ],
      "execution_count": null,
      "outputs": [
        {
          "output_type": "execute_result",
          "data": {
            "text/plain": [
              "Counter({0: 5923,\n",
              "         1: 6742,\n",
              "         2: 5958,\n",
              "         3: 6131,\n",
              "         4: 5842,\n",
              "         5: 5421,\n",
              "         6: 5918,\n",
              "         7: 6265,\n",
              "         8: 5851,\n",
              "         9: 5949})"
            ]
          },
          "metadata": {
            "tags": []
          },
          "execution_count": 26
        }
      ]
    },
    {
      "cell_type": "code",
      "metadata": {
        "colab": {
          "base_uri": "https://localhost:8080/"
        },
        "id": "Uyt5TNKdtEls",
        "outputId": "38b2f144-2f8a-4af2-a81c-080b0503dd0c"
      },
      "source": [
        "plt.bar(range(len(trainLabelDict)), list(trainLabelDict.values()), align='center')"
      ],
      "execution_count": null,
      "outputs": [
        {
          "output_type": "execute_result",
          "data": {
            "text/plain": [
              "<BarContainer object of 10 artists>"
            ]
          },
          "metadata": {
            "tags": []
          },
          "execution_count": 27
        },
        {
          "output_type": "display_data",
          "data": {
            "image/png": "[encoded data removed]",
            "text/plain": [
              "<Figure size 432x288 with 1 Axes>"
            ]
          },
          "metadata": {
            "tags": [],
            "needs_background": "light"
          }
        }
      ]
    },
    {
      "cell_type": "code",
      "metadata": {
        "colab": {
          "base_uri": "https://localhost:8080/"
        },
        "id": "TSTGCRKSjQ4-",
        "outputId": "907587b1-8280-4309-f9b1-cd6dfbbcbcf1"
      },
      "source": [
        "testLabelDict = Counter(yTest)\r\n",
        "testLabelDict"
      ],
      "execution_count": null,
      "outputs": [
        {
          "output_type": "execute_result",
          "data": {
            "text/plain": [
              "Counter({0: 980,\n",
              "         1: 1135,\n",
              "         2: 1032,\n",
              "         3: 1010,\n",
              "         4: 982,\n",
              "         5: 892,\n",
              "         6: 958,\n",
              "         7: 1028,\n",
              "         8: 974,\n",
              "         9: 1009})"
            ]
          },
          "metadata": {
            "tags": []
          },
          "execution_count": 28
        }
      ]
    },
    {
      "cell_type": "code",
      "metadata": {
        "colab": {
          "base_uri": "https://localhost:8080/"
        },
        "id": "gezX-yIEtVpF",
        "outputId": "2691e246-a8f2-467a-ab72-e8e1449e5297"
      },
      "source": [
        "plt.bar(range(len(testLabelDict)), list(testLabelDict.values()), align='center')"
      ],
      "execution_count": null,
      "outputs": [
        {
          "output_type": "execute_result",
          "data": {
            "text/plain": [
              "<BarContainer object of 10 artists>"
            ]
          },
          "metadata": {
            "tags": []
          },
          "execution_count": 29
        },
        {
          "output_type": "display_data",
          "data": {
            "image/png": "[encoded data removed]",
            "text/plain": [
              "<Figure size 432x288 with 1 Axes>"
            ]
          },
          "metadata": {
            "tags": [],
            "needs_background": "light"
          }
        }
      ]
    },
    {
      "cell_type": "code",
      "metadata": {
        "id": "qS002FFDuYxM"
      },
      "source": [
        "#If we wish to view the raw matrix\r\n",
        "#np.set_printoptions(edgeitems=1,linewidth=500,formatter=dict(float=lambda x: \"%.3g\" %x))\r\n",
        "#xTrain[0]"
      ],
      "execution_count": null,
      "outputs": []
    },
    {
      "cell_type": "markdown",
      "metadata": {
        "id": "etMbz7_sQ4xw"
      },
      "source": [
        "# NN <a class=\"anchor\" id=\"two\" name=\"two\"></a> #"
      ]
    },
    {
      "cell_type": "code",
      "metadata": {
        "id": "2_QdczzhS_dE"
      },
      "source": [
        ""
      ],
      "execution_count": null,
      "outputs": []
    },
    {
      "cell_type": "markdown",
      "metadata": {
        "id": "OdrefnucjQ-w"
      },
      "source": [
        "# C-NN <a  class=\"anchor\" id=\"three\" name=\"three\"></a> #\r\n"
      ]
    },
    {
      "cell_type": "markdown",
      "metadata": {
        "id": "_tW7DKmiwNm5"
      },
      "source": [
        "## Motivations for C-NN <a class=\"anchor\" id=\"three-one\" name=\"three-one\"></a> ##"
      ]
    },
    {
      "cell_type": "markdown",
      "metadata": {
        "id": "4rOq0lm_vhWk"
      },
      "source": [
        "1. **Large Images:** Consider a larger image. 224x224 in size, with 3 RGB. Thus, we\r\n",
        "have 224x224x3 features, or roughly 150,000 features. If we consider\r\n",
        "many nodes, this is extraordinarily expensive\r\n",
        "2. **Invariances:** Convolution better handles edge shifting, that is, if we slightly transform an image, it still retains its essential identification."
      ]
    },
    {
      "cell_type": "markdown",
      "metadata": {
        "id": "_OfWgWhkc-Le"
      },
      "source": [
        "The following is a supervised method of C-NN training."
      ]
    },
    {
      "cell_type": "markdown",
      "metadata": {
        "id": "--qFA4YdvGW7"
      },
      "source": [
        "## C-NN Feedforward <a class=\"anchor\" id=\"three-two\" name=\"three-two\"></a> ##\r\n",
        "\r\n"
      ]
    },
    {
      "cell_type": "markdown",
      "metadata": {
        "id": "X-g8q85Lx0Uw"
      },
      "source": [
        "### Convolution <a class=\"anchor\" id=\"three-two-one\" name=\"three-two-one\"></a> ###"
      ]
    },
    {
      "cell_type": "code",
      "metadata": {
        "id": "LGrcfDN9ksid"
      },
      "source": [
        "class Conv:\r\n",
        "  #Convolutional Layer Class\r\n",
        "\r\n",
        "  def __init__(self, dim, filterNum):\r\n",
        "    #dim - length of one side of conv filter (e.g. 3x3, dim=3)\r\n",
        "    #filterNum - determines how many convolution filter layers will be used\r\n",
        "    #filters - numpy arr of filters initialized with random normal distribution values\r\n",
        "    #Note: Dividing by 9 implements Xavier initialization\r\n",
        "\r\n",
        "    self.dim = dim\r\n",
        "    self.filterNum = filterNum\r\n",
        "    self.filters = np.random.randn(filterNum, dim, dim) / 9\r\n",
        "\r\n",
        "  def regionGenerator(self, image):\r\n",
        "    \"\"\"\r\n",
        "    Input: An image of mxn\r\n",
        "    Outpuut: 2d numpy arrays with yield\r\n",
        "    Functionality: Generates all possible dimxdim image regions using valid padding.\r\n",
        "    Note: Yield works better for the generator than returning a large list at once\r\n",
        "    \"\"\"\r\n",
        "    m,n = image.shape\r\n",
        "\r\n",
        "    for i in range(m - 2):\r\n",
        "      for j in range(n - 2):\r\n",
        "        region = image[i:(i + self.dim), j:(j + self.dim)]\r\n",
        "        #Yielding (rather than returning) a location with dimxdim, with associated i,j\r\n",
        "        yield region, i, j\r\n",
        "\r\n",
        "  def forward(self,input):\r\n",
        "    \"\"\"\r\n",
        "    Input: (image)\r\n",
        "    Output:(convolution for each layerNumber convolution filter)\r\n",
        "    Functionality: Performs a forward pass of a convolution layer\r\n",
        "    \"\"\"\r\n",
        "    #shape of image\r\n",
        "    m,n = input.shape\r\n",
        "    #Blank output object of valid convolution for each filter\r\n",
        "    output = np.zeros((m - 2, n - 2, self.filterNum))\r\n",
        "\r\n",
        "    #We use our generator to iterate each region to perform the convolution\r\n",
        "    #Each region has an i,j associated with it\r\n",
        "    #np.sum takes the convolutoion for that region vs filters along axis=(1,2)\r\n",
        "    for currentRegion,i,j in self.regionGenerator(input):\r\n",
        "      output[i,j] = np.sum(currentRegion * self.filters, axis= (1,2))\r\n",
        "    return output"
      ],
      "execution_count": null,
      "outputs": []
    },
    {
      "cell_type": "markdown",
      "metadata": {
        "id": "moNojXbhVeX3"
      },
      "source": [
        "Example of Convolution Layer"
      ]
    },
    {
      "cell_type": "code",
      "metadata": {
        "colab": {
          "base_uri": "https://localhost:8080/"
        },
        "id": "bi_OlnrhVhAX",
        "outputId": "3ac1a0b1-dee8-4d0e-fe9c-6bd5dbc867b8"
      },
      "source": [
        "object1 = Conv(3,8)\r\n",
        "output = object1.forward(xTrain[0])\r\n",
        "output.shape"
      ],
      "execution_count": null,
      "outputs": [
        {
          "output_type": "execute_result",
          "data": {
            "text/plain": [
              "(26, 26, 8)"
            ]
          },
          "metadata": {
            "tags": []
          },
          "execution_count": 5
        }
      ]
    },
    {
      "cell_type": "markdown",
      "metadata": {
        "id": "YXfeFOwzVsu7"
      },
      "source": [
        "Demonstration of Programming Used\r\n",
        "\r\n",
        "Below it is demonstrated how the matrix multiplication and sum takes place appropirately"
      ]
    },
    {
      "cell_type": "code",
      "metadata": {
        "id": "cfXIG6E6ks5L",
        "colab": {
          "base_uri": "https://localhost:8080/"
        },
        "outputId": "9a701537-cfed-47d4-e451-84836597e816"
      },
      "source": [
        "#Here we can see filters are constructed appropriately\r\n",
        "object2 = Conv(3,8)\r\n",
        "object2.filters"
      ],
      "execution_count": null,
      "outputs": [
        {
          "output_type": "execute_result",
          "data": {
            "text/plain": [
              "array([[[ 0.1620258 , -0.03949712,  0.18592248],\n",
              "        [-0.00688197, -0.13220466, -0.07185183],\n",
              "        [ 0.05501568, -0.14325138, -0.05393859]],\n",
              "\n",
              "       [[ 0.13471507,  0.17440606,  0.12440023],\n",
              "        [ 0.13360631, -0.01311093,  0.07599943],\n",
              "        [-0.22280663,  0.08263787,  0.17031129]],\n",
              "\n",
              "       [[ 0.00961843, -0.08931186, -0.05837847],\n",
              "        [ 0.02978031, -0.0013962 , -0.03631192],\n",
              "        [-0.27779298,  0.13273665,  0.13168553]],\n",
              "\n",
              "       [[ 0.01496955, -0.06553535, -0.0759538 ],\n",
              "        [-0.02393561,  0.02524038,  0.15201885],\n",
              "        [ 0.16809755,  0.03827875,  0.14757435]],\n",
              "\n",
              "       [[-0.06009024, -0.09169747, -0.12797365],\n",
              "        [-0.05763668, -0.133988  ,  0.00520959],\n",
              "        [-0.07593835, -0.07040611,  0.02517824]],\n",
              "\n",
              "       [[ 0.15254578, -0.04705088, -0.14702103],\n",
              "        [ 0.00200645,  0.13341694, -0.09177518],\n",
              "        [ 0.04109489, -0.02249475, -0.06718998]],\n",
              "\n",
              "       [[-0.17804608, -0.07250985, -0.13954395],\n",
              "        [ 0.03531423,  0.13210428,  0.04742926],\n",
              "        [-0.04360202,  0.07115009,  0.12084859]],\n",
              "\n",
              "       [[-0.26627974, -0.02375579,  0.01033549],\n",
              "        [-0.15875513, -0.05562005, -0.15487613],\n",
              "        [ 0.10416784, -0.12012013, -0.03611229]]])"
            ]
          },
          "metadata": {
            "tags": []
          },
          "execution_count": 6
        }
      ]
    },
    {
      "cell_type": "code",
      "metadata": {
        "id": "Cw3vpJi4hlGl",
        "colab": {
          "base_uri": "https://localhost:8080/"
        },
        "outputId": "1c63fe98-50d0-4583-e903-f83c6646a5da"
      },
      "source": [
        "#3x3 ones matrix\r\n",
        "onesDemo = np.ones((3, 3))\r\n",
        "onesDemo"
      ],
      "execution_count": null,
      "outputs": [
        {
          "output_type": "execute_result",
          "data": {
            "text/plain": [
              "array([[1., 1., 1.],\n",
              "       [1., 1., 1.],\n",
              "       [1., 1., 1.]])"
            ]
          },
          "metadata": {
            "tags": []
          },
          "execution_count": 7
        }
      ]
    },
    {
      "cell_type": "code",
      "metadata": {
        "colab": {
          "base_uri": "https://localhost:8080/"
        },
        "id": "p9VCNxyNRlIo",
        "outputId": "ba580e86-596c-4cc3-abc4-67f7a8e45b6a"
      },
      "source": [
        "#The following is ademonstration that multiplying a mxn matrix by an array of mxn matrices iterates each\r\n",
        "#They retain the same values since element-wise and ones matrix\r\n",
        "demonstration = onesDemo * object2.filters\r\n",
        "demonstration"
      ],
      "execution_count": null,
      "outputs": [
        {
          "output_type": "execute_result",
          "data": {
            "text/plain": [
              "array([[[ 0.1620258 , -0.03949712,  0.18592248],\n",
              "        [-0.00688197, -0.13220466, -0.07185183],\n",
              "        [ 0.05501568, -0.14325138, -0.05393859]],\n",
              "\n",
              "       [[ 0.13471507,  0.17440606,  0.12440023],\n",
              "        [ 0.13360631, -0.01311093,  0.07599943],\n",
              "        [-0.22280663,  0.08263787,  0.17031129]],\n",
              "\n",
              "       [[ 0.00961843, -0.08931186, -0.05837847],\n",
              "        [ 0.02978031, -0.0013962 , -0.03631192],\n",
              "        [-0.27779298,  0.13273665,  0.13168553]],\n",
              "\n",
              "       [[ 0.01496955, -0.06553535, -0.0759538 ],\n",
              "        [-0.02393561,  0.02524038,  0.15201885],\n",
              "        [ 0.16809755,  0.03827875,  0.14757435]],\n",
              "\n",
              "       [[-0.06009024, -0.09169747, -0.12797365],\n",
              "        [-0.05763668, -0.133988  ,  0.00520959],\n",
              "        [-0.07593835, -0.07040611,  0.02517824]],\n",
              "\n",
              "       [[ 0.15254578, -0.04705088, -0.14702103],\n",
              "        [ 0.00200645,  0.13341694, -0.09177518],\n",
              "        [ 0.04109489, -0.02249475, -0.06718998]],\n",
              "\n",
              "       [[-0.17804608, -0.07250985, -0.13954395],\n",
              "        [ 0.03531423,  0.13210428,  0.04742926],\n",
              "        [-0.04360202,  0.07115009,  0.12084859]],\n",
              "\n",
              "       [[-0.26627974, -0.02375579,  0.01033549],\n",
              "        [-0.15875513, -0.05562005, -0.15487613],\n",
              "        [ 0.10416784, -0.12012013, -0.03611229]]])"
            ]
          },
          "metadata": {
            "tags": []
          },
          "execution_count": 8
        }
      ]
    },
    {
      "cell_type": "code",
      "metadata": {
        "colab": {
          "base_uri": "https://localhost:8080/"
        },
        "id": "KWKg4bIZTcmR",
        "outputId": "db57a4fd-ea6a-45da-ae88-96c1b7457547"
      },
      "source": [
        "demo1 = np.sum(onesDemo * object1.filters, axis=(0)) #Sums each of the matrices...\r\n",
        "demo2 = np.sum(onesDemo * object1.filters, axis=(1)) #Sums each col for each matrix\r\n",
        "demo3 = np.sum(onesDemo * object1.filters, axis=(2)) #Sums each row for each matrix\r\n",
        "demo4 = np.sum(onesDemo * object1.filters, axis=(1,2)) #Takes col and row sum for each matrix\r\n",
        "\r\n",
        "#This may seem confusing, but it's actually really simple.\r\n",
        "#We're asking for the max ACROSS the row and column axis, only, for each.\r\n",
        "print(demo1)\r\n",
        "print(demo2)\r\n",
        "print(demo3) \r\n",
        "print(demo4) #Yes! A sum for each matrix 1x8"
      ],
      "execution_count": null,
      "outputs": [
        {
          "output_type": "stream",
          "text": [
            "[[-0.48418365  0.22823476  0.20851229]\n",
            " [ 0.05070577 -0.38035465  0.41181257]\n",
            " [ 0.37919693 -0.24723711 -0.33250606]]\n",
            "[[-0.20623554  0.09516286 -0.01933834]\n",
            " [-0.02108242 -0.13040184  0.22752261]\n",
            " [ 0.11757771 -0.37927459 -0.03802164]\n",
            " [ 0.10716064 -0.06063794  0.10955082]\n",
            " [-0.12847017 -0.09630738 -0.25285927]\n",
            " [-0.05512939  0.11672198 -0.06321427]\n",
            " [ 0.07913879  0.19505107  0.24843329]\n",
            " [ 0.05275943 -0.13967115  0.07574562]]\n",
            "[[-0.05013998  0.11177847 -0.19204951]\n",
            " [-0.11005347  0.04345985  0.14263197]\n",
            " [-0.14087143 -0.22988503  0.07103793]\n",
            " [ 0.07677365  0.07825759  0.00104227]\n",
            " [ 0.05710694 -0.15913341 -0.37561035]\n",
            " [-0.12349455  0.15754881 -0.03567594]\n",
            " [ 0.20326116  0.21644847  0.10291352]\n",
            " [ 0.03998108 -0.13631106  0.08516388]]\n",
            "[-0.13041102  0.07603835 -0.29971853  0.15607351 -0.47763682 -0.00162168\n",
            "  0.52262315 -0.0111661 ]\n"
          ],
          "name": "stdout"
        }
      ]
    },
    {
      "cell_type": "markdown",
      "metadata": {
        "id": "b7yuPdJmhnRq"
      },
      "source": [
        "### Maxpool Class <a class=\"anchor\" id=\"three-two-two\" name=\"three-two-two\"></a> ###"
      ]
    },
    {
      "cell_type": "markdown",
      "metadata": {
        "id": "F_pAfqH1XODs"
      },
      "source": [
        "Maxpool works nearly the same as convolution, except we take the max with no overlap instead.\r\n",
        "\r\n",
        "Note that we use axis(0,1) here to sum the row and column but not 2 (which would be summing across the filters)."
      ]
    },
    {
      "cell_type": "code",
      "metadata": {
        "id": "Omouz6mShlI-"
      },
      "source": [
        "class MaxPool:\r\n",
        "  #Maxpool Class \r\n",
        "  #NOTE: We are restricted to a 2x2 maxpool for now\r\n",
        "  def __init__(self, dim):\r\n",
        "    #dim - length of one side of maxpool filter (e.g. 2x2, dim=2)\r\n",
        "    #Note: Maxpool does not overlap regions like convolution class\r\n",
        "\r\n",
        "    self.dim = dim\r\n",
        "\r\n",
        "  def regionGenerator(self,image):\r\n",
        "    m, n, _ = image.shape\r\n",
        "    m2 = m // 2\r\n",
        "    n2 = n // 2\r\n",
        "\r\n",
        "    for i in range(m2):\r\n",
        "      for j in range(n2):\r\n",
        "        region = image[(i * 2):(i * 2 + 2), (j * 2):(j * 2 + 2)]\r\n",
        "        yield region, i, j\r\n",
        "          \r\n",
        "\r\n",
        "  def forward(self, input):\r\n",
        "    \"\"\"\r\n",
        "    Input: (matrix input)\r\n",
        "    Output: 3d matrix array of dim(m/2,n/2,filterNum)\r\n",
        "    Functionality: performs maxpool on input image for each filter\r\n",
        "    \"\"\"\r\n",
        "      \r\n",
        "    #Shape of matrix for each filter (filters make 3d)\r\n",
        "    m, n, filterNum = input.shape\r\n",
        "    #Empty output object for each filter\r\n",
        "    output = np.zeros((m // 2, n // 2, filterNum))\r\n",
        "\r\n",
        "    #Iterating across each region and finding max\r\n",
        "    for region, i, j in self.regionGenerator(input):\r\n",
        "      output[i, j] = np.amax(region, axis=(0, 1))\r\n",
        "        \r\n",
        "    return output"
      ],
      "execution_count": null,
      "outputs": []
    },
    {
      "cell_type": "markdown",
      "metadata": {
        "id": "I2ySdVhtjJu8"
      },
      "source": [
        "Example of MaxPool Layer"
      ]
    },
    {
      "cell_type": "code",
      "metadata": {
        "id": "WwgilHMkWUB3"
      },
      "source": [
        "conv = Conv(3,8)\r\n",
        "pool = MaxPool(2)"
      ],
      "execution_count": null,
      "outputs": []
    },
    {
      "cell_type": "code",
      "metadata": {
        "colab": {
          "base_uri": "https://localhost:8080/"
        },
        "id": "P_Sq9NoJWUEX",
        "outputId": "232bde57-bc40-4907-a73c-fa91340b3bb8"
      },
      "source": [
        "output = conv.forward(xTrain[0])\r\n",
        "output = pool.forward(output)\r\n",
        "output.shape"
      ],
      "execution_count": null,
      "outputs": [
        {
          "output_type": "execute_result",
          "data": {
            "text/plain": [
              "(13, 13, 8)"
            ]
          },
          "metadata": {
            "tags": []
          },
          "execution_count": 12
        }
      ]
    },
    {
      "cell_type": "markdown",
      "metadata": {
        "id": "i7gh0iVUjFCF"
      },
      "source": [
        "### Softmax Class <a class=\"anchor\" id=\"three-two-three\" name=\"three-two-three\"></a> ###"
      ]
    },
    {
      "cell_type": "markdown",
      "metadata": {
        "id": "Xbo1toqMkIEy"
      },
      "source": [
        "Softmax converts a value distribution to a probability distribution. Taking the max of such will be the activation that allows for classification.\r\n",
        "\r\n",
        "Softmax Formula:\r\n",
        " $$\\frac{e^{x_i}}{\\sum_{i=0}^{i=n} e^{x_i}} \\text{ for } x_0...x_n$$\r\n",
        "\r\n",
        "\r\n"
      ]
    },
    {
      "cell_type": "markdown",
      "metadata": {
        "id": "3B7pcliso9U2"
      },
      "source": [
        "I considered modifying Zhou's method to fit a natural Ax=b form. However, the advantage of not doing this is that the weights and bias arrays are row arrays. This makes indexing straight forward, as we can avoid using column and row vectors, and instead stay with simple array indexing. Computationally these should be roughly the same, the only difference being that if we wish to preserve column vectors, we would need some additional indexing. My consideration was simply to use $(xA=b)^{T}$ = $A^Tx^T = b^T$.\r\n",
        "\r\n",
        "For activation, we want to represent each of our features as a (weight*feature), weighting those features, compute a value corresponding to each digit 0...9, with some added bias. I will represent these as weights $\\omega_{0...n}$ and bias $\\beta_c$, for features $x_{0...n}$, for each digit class c.\r\n",
        "\r\n",
        "Note that for n features, we actually index 0 to n-1, not n, in python. Also note that it is better to sum our bias after, rather than to matrix multiply, because then we can keep our bias separate as an attribute of the class (without concatonation or pre-allocation of matrix A).\r\n",
        "\r\n",
        "Formula for c $\\in$ {0,1,...,9}:\r\n",
        "$$(\\omega_0x_0)+(\\omega_1x_1)+...+(\\omega_nx_n) + \\beta_c= d_c + \\beta_c = \\text{DigitValue}_{c}$$\r\n",
        "\r\n",
        "Represented as a linear algebraic system of 10 equations:\r\n",
        "\r\n",
        "Zhou's Method:\r\n",
        "\\begin{equation*}\r\n",
        "\r\n",
        "\\begin{bmatrix}\r\n",
        "\\omega_0  &\\omega_0  & \\cdots & \\omega_n  \r\n",
        "\\end{bmatrix}\r\n",
        "\r\n",
        "\\begin{bmatrix} \r\n",
        "x_{0,0} & x_{0,1} & \\cdots & x_{0,9} \\\\ \r\n",
        "x_{1,0} & x_{1,1} & \\cdots & x_{1,9}\\\\\r\n",
        "\\vdots & \\vdots & \\ddots \\\\ \r\n",
        "x_{n,0} & x_{9,1} & & x_{n,9}\r\n",
        "\\end{bmatrix}\r\n",
        "=\r\n",
        "\\begin{bmatrix}\r\n",
        "d_0 + \\beta_0  &d_1 +\\beta_1  & \\cdots & d_9+\\beta_9 \r\n",
        "\\end{bmatrix}\r\n",
        "\r\n",
        "\\end{equation*}\r\n",
        "\r\n",
        "Alternative Method:\r\n",
        "\\begin{equation*}\r\n",
        "\r\n",
        "\\begin{bmatrix} \r\n",
        "x_{0,0} & x_{0,1} & \\cdots & x_{0,n} \\\\ \r\n",
        "x_{1,0} & x_{1,1} & \\cdots & x_{1,n}\\\\\r\n",
        "\\vdots & \\vdots & \\ddots \\\\ \r\n",
        "x_{9,0} & x_{9,1} & & x_{9,n}\r\n",
        "\\end{bmatrix}\r\n",
        "\r\n",
        "\\begin{bmatrix}\r\n",
        "\\omega_0 \\\\ \r\n",
        "\\omega_1 \\\\\r\n",
        "\\vdots \\\\ \r\n",
        "\\omega_n \r\n",
        "\\end{bmatrix}\r\n",
        "\r\n",
        "=\r\n",
        "\r\n",
        "\\begin{bmatrix}\r\n",
        "d_0  \\\\ \r\n",
        "d_1  \\\\\r\n",
        "\\vdots \\\\ \r\n",
        "d_9\r\n",
        "\\end{bmatrix}\r\n",
        "+\r\n",
        "\\begin{bmatrix}\r\n",
        "\\beta_0 \\\\ \r\n",
        "\\beta_1 \\\\\r\n",
        "\\vdots \\\\ \r\n",
        "\\beta_9\r\n",
        "\\end{bmatrix}\r\n",
        "=\r\n",
        "\\begin{bmatrix}\r\n",
        "\\vdots \\\\ \r\n",
        "t_c \\\\ \r\n",
        "\\vdots\r\n",
        "\\end{bmatrix}\r\n",
        "\r\n",
        "\\end{equation*}\r\n",
        "\\\r\n",
        "Ultimitely I settled on Zhou's method because the indexing is so natural, although the alternative is the more familiar to me.\r\n",
        "\r\n",
        "\r\n"
      ]
    },
    {
      "cell_type": "code",
      "metadata": {
        "id": "dqliQB-uhlLR"
      },
      "source": [
        "\r\n",
        "class Softmax:\r\n",
        "  # A standard fully-connected layer with softmax activation.\r\n",
        "\r\n",
        "  def __init__(self, inputLen, nodes):\r\n",
        "    # inputLen - number of features m*n*k along m,n,k dimensions\r\n",
        "    # nodes - number of desired nodes\r\n",
        "    # weights - \r\n",
        "    # Note: We divide by inputLen to reduce the variance of our initial values\r\n",
        "\r\n",
        "    #np.random.seed(0)\r\n",
        "\r\n",
        "    self.weights = np.random.randn(inputLen, nodes) / inputLen\r\n",
        "    self.biases = np.zeros(nodes)\r\n",
        "\r\n",
        "  def computeSoftmax(self, valArr):\r\n",
        "    #Encapsulating the formal definition of softmax\r\n",
        "\r\n",
        "    expArr = np.exp(valArr)\r\n",
        "    return expArr / (np.sum(expArr, axis=0))\r\n",
        "\r\n",
        "  def forward(self, input):\r\n",
        "    \"\"\"\r\n",
        "    Input: Flattening allows for any input\r\n",
        "    Output: 1d array of respective probability distribution\r\n",
        "    Functionality: Computes fully connected softmax distribution with input array\r\n",
        "    \"\"\"\r\n",
        "    #Flattens the input into 1d array\r\n",
        "    input = input.flatten()\r\n",
        "\r\n",
        "    #Calculating values for each class c\r\n",
        "    totals = np.dot(input, self.weights) + self.biases\r\n",
        "\r\n",
        "    #Computing and returning probability distribution\r\n",
        "    return self.computeSoftmax(totals)"
      ],
      "execution_count": null,
      "outputs": []
    },
    {
      "cell_type": "markdown",
      "metadata": {
        "id": "4GmUA5JdPf5d"
      },
      "source": [
        "Example of Softmax Layer"
      ]
    },
    {
      "cell_type": "code",
      "metadata": {
        "colab": {
          "base_uri": "https://localhost:8080/"
        },
        "id": "wgzNkEKescjk",
        "outputId": "0f60c6fa-892a-4735-c3c3-1e280ff18d09"
      },
      "source": [
        "output = conv.forward(xTrain[0])\r\n",
        "output = pool.forward(output)\r\n",
        "softmax = Softmax(13 * 13 * 8, 10)\r\n",
        "out = softmax.forward(output)\r\n",
        "print(out)\r\n",
        "print(np.sum(out))"
      ],
      "execution_count": null,
      "outputs": [
        {
          "output_type": "stream",
          "text": [
            "[0.06330705 0.11898444 0.13886223 0.02231434 0.01060356 0.15252899\n",
            " 0.09613176 0.19998856 0.14214247 0.0551366 ]\n",
            "1.0\n"
          ],
          "name": "stdout"
        }
      ]
    },
    {
      "cell_type": "markdown",
      "metadata": {
        "id": "kd3b7oUiPlb0"
      },
      "source": [
        "### Cross-Entropy Loss <a class=\"anchor\" id=\"three-two-four\" name=\"three-two-four\"></a> ###"
      ]
    },
    {
      "cell_type": "markdown",
      "metadata": {
        "id": "1D3xPEJ4VqVa"
      },
      "source": [
        "The cross-entropy loss function is commonly used for classification. Loss is calculated as a measure of he probability for a particular class c among a distribution (as was attained from the softmax function, for example).\r\n",
        "\r\n",
        "Naturally, being a loss function, we want to minimize the loss error.\r\n",
        "\r\n",
        "$$L = -\\ln(p_c)$$"
      ]
    },
    {
      "cell_type": "code",
      "metadata": {
        "id": "AHrACxjYGVri"
      },
      "source": [
        "def crossEntropyLoss(pc):\r\n",
        "  \"\"\"\r\n",
        "  Input: pc, probability for label c\r\n",
        "  Output: cross entropy loss\r\n",
        "  Functionality: Calculates cross entropy loss\r\n",
        "  \"\"\"\r\n",
        "  return (-np.log(pc))\r\n"
      ],
      "execution_count": null,
      "outputs": []
    },
    {
      "cell_type": "code",
      "metadata": {
        "id": "wzSX-32WGVt3",
        "colab": {
          "base_uri": "https://localhost:8080/"
        },
        "outputId": "438ba98a-fa25-41db-97e5-0ca79b7abb68"
      },
      "source": [
        "out[1]"
      ],
      "execution_count": null,
      "outputs": [
        {
          "output_type": "execute_result",
          "data": {
            "text/plain": [
              "0.1189844425733209"
            ]
          },
          "metadata": {
            "tags": []
          },
          "execution_count": 16
        }
      ]
    },
    {
      "cell_type": "code",
      "metadata": {
        "id": "OMfjezf6GVwP",
        "colab": {
          "base_uri": "https://localhost:8080/"
        },
        "outputId": "db1e5177-be5f-41cd-a417-cfcecb9686b6"
      },
      "source": [
        "crossEntropyLoss(out[1])"
      ],
      "execution_count": null,
      "outputs": [
        {
          "output_type": "execute_result",
          "data": {
            "text/plain": [
              "2.128762529095106"
            ]
          },
          "metadata": {
            "tags": []
          },
          "execution_count": 17
        }
      ]
    },
    {
      "cell_type": "markdown",
      "metadata": {
        "id": "tSUEc7KigAsk"
      },
      "source": [
        "### Feedforward Method and Prediction <a class=\"anchor\" id=\"three-two-five\" name=\"three-two-five\"></a> ###"
      ]
    },
    {
      "cell_type": "markdown",
      "metadata": {
        "id": "ILRKJm97rdKl"
      },
      "source": [
        "Feedforward thus far"
      ]
    },
    {
      "cell_type": "code",
      "metadata": {
        "id": "z3yQE0aWw8fE"
      },
      "source": [
        "conv = Conv(3,8)\r\n",
        "pool = MaxPool(2)"
      ],
      "execution_count": null,
      "outputs": []
    },
    {
      "cell_type": "code",
      "metadata": {
        "id": "qZJtogaTGVyU",
        "colab": {
          "base_uri": "https://localhost:8080/"
        },
        "outputId": "e7ef78e7-542a-4117-d1f7-02707c306d3a"
      },
      "source": [
        "output = conv.forward(xTrain[0])\r\n",
        "output = pool.forward(output)\r\n",
        "softmax = Softmax(13 * 13 * 8, 10)\r\n",
        "out = softmax.forward(output)\r\n",
        "out"
      ],
      "execution_count": null,
      "outputs": [
        {
          "output_type": "execute_result",
          "data": {
            "text/plain": [
              "array([0.08599052, 0.08423136, 0.21316414, 0.04457939, 0.25236947,\n",
              "       0.05047417, 0.02057091, 0.10155226, 0.11638111, 0.03068667])"
            ]
          },
          "metadata": {
            "tags": []
          },
          "execution_count": 18
        }
      ]
    },
    {
      "cell_type": "markdown",
      "metadata": {
        "id": "6Vr-puD5XWx7"
      },
      "source": [
        "Zhou implementation\r\n",
        "\r\n",
        "We are interested in taking the test images and labels, and observing loss and accuracy for every 100. Noticibly, accuracy is roughly 10%, which is what we'd expect with a 1/10 chance of randomly guessing the correct digit. \r\n",
        "\r\n",
        "Once training occurs, we can start to see improvements as Gradient descents updates our weights as according to our partial derivative gradient."
      ]
    },
    {
      "cell_type": "code",
      "metadata": {
        "id": "wtIbQf0kGV0r",
        "colab": {
          "base_uri": "https://localhost:8080/"
        },
        "outputId": "8df3799f-d131-4695-ddd1-731d07531fee"
      },
      "source": [
        "def forward(image, label):\r\n",
        "  '''\r\n",
        "  Completes a forward pass of the CNN and calculates the accuracy and\r\n",
        "  cross-entropy loss.\r\n",
        "  - image is a 2d numpy array\r\n",
        "  - label is a digit\r\n",
        "  '''\r\n",
        "  # We transform the image from [0, 255] to [-0.5, 0.5] to make it easier\r\n",
        "  # to work with. This is standard practice.\r\n",
        "  out = conv.forward((image / 255) - 0.5)\r\n",
        "  out = pool.forward(out)\r\n",
        "  out = softmax.forward(out)\r\n",
        "\r\n",
        "  # Calculate cross-entropy loss and accuracy. np.log() is the natural log.\r\n",
        "  loss = -np.log(out[label])\r\n",
        "  acc = 1 if np.argmax(out) == label else 0\r\n",
        "\r\n",
        "  return out, loss, acc\r\n",
        "\r\n",
        "print('MNIST CNN initialized!')\r\n",
        "\r\n",
        "loss = 0\r\n",
        "num_correct = 0\r\n",
        "for i, (im, label) in enumerate(zip(xTest[0:400], yTest[0:400])):\r\n",
        "  # Do a forward pass.\r\n",
        "  _, l, acc = forward(im, label)\r\n",
        "  loss += l\r\n",
        "  num_correct += acc\r\n",
        "\r\n",
        "  # Print stats every 100 steps.\r\n",
        "  if i % 100 == 99:\r\n",
        "    print(\r\n",
        "      '[Step %d] Past 100 steps: Average Loss %.3f | Accuracy: %d%%' %\r\n",
        "      (i + 1, loss / 100, num_correct)\r\n",
        "    )\r\n",
        "    loss = 0\r\n",
        "    num_correct = 0\r\n",
        "\r\n",
        "\r\n"
      ],
      "execution_count": null,
      "outputs": [
        {
          "output_type": "stream",
          "text": [
            "MNIST CNN initialized!\n",
            "[Step 100] Past 100 steps: Average Loss 2.302 | Accuracy: 9%\n",
            "[Step 200] Past 100 steps: Average Loss 2.302 | Accuracy: 13%\n",
            "[Step 300] Past 100 steps: Average Loss 2.302 | Accuracy: 10%\n",
            "[Step 400] Past 100 steps: Average Loss 2.303 | Accuracy: 8%\n"
          ],
          "name": "stdout"
        }
      ]
    },
    {
      "cell_type": "markdown",
      "metadata": {
        "id": "hSFBFeRMrzR2"
      },
      "source": [
        "Alternative Identical Method"
      ]
    },
    {
      "cell_type": "markdown",
      "metadata": {
        "id": "Wjl7WQq6Z6JF"
      },
      "source": [
        "Object Instantiation and Feedforward Prep"
      ]
    },
    {
      "cell_type": "code",
      "metadata": {
        "id": "y5w0wjxOZ9R4"
      },
      "source": [
        "#Instantiation\r\n",
        "conv = Conv(3,8)\r\n",
        "pool = MaxPool(2)\r\n",
        "softmax = Softmax(13 * 13 * 8, 10)"
      ],
      "execution_count": null,
      "outputs": []
    },
    {
      "cell_type": "markdown",
      "metadata": {
        "id": "4nl3EX2vZ3e-"
      },
      "source": [
        "Alternative Feedforward"
      ]
    },
    {
      "cell_type": "code",
      "metadata": {
        "id": "zvVuX4t1eGzR"
      },
      "source": [
        "def feedforwardModify(image,label):\r\n",
        "  \"\"\"\r\n",
        "  Input: An image and label\r\n",
        "  Output: probability distribution,loss,accuracy\r\n",
        "  Functionality: Conducts forward pass predicting an image \r\n",
        "  \"\"\"\r\n",
        "\r\n",
        "  #converts to [-0.5,0.5]\r\n",
        "  #feedforward through convolution,pool,activation,softmax\r\n",
        "  output = conv.forward((image / 255) - 0.5)\r\n",
        "  output = pool.forward(output)\r\n",
        "  output = softmax.forward(output)\r\n",
        "\r\n",
        "  loss = crossEntropyLoss(output[label])\r\n",
        "\r\n",
        "  if(np.argmax(output) == label):\r\n",
        "    acc = 1\r\n",
        "  else:\r\n",
        "    acc = 0\r\n",
        "\r\n",
        "  return output, loss, acc\r\n"
      ],
      "execution_count": null,
      "outputs": []
    },
    {
      "cell_type": "code",
      "metadata": {
        "colab": {
          "base_uri": "https://localhost:8080/"
        },
        "id": "iEEeJ0LjeG1m",
        "outputId": "56dcd8b5-83ef-47a7-c12b-56a73506a358"
      },
      "source": [
        "\r\n",
        "print('MNIST CNN initialized!')\r\n",
        "loss = 0\r\n",
        "num_correct = 0\r\n",
        "for i, (im, label) in enumerate(zip(xTest[0:400], yTest[0:400])):\r\n",
        "  # Do a forward pass.\r\n",
        "  _, l, acc = feedforwardModify(im, label)\r\n",
        "  loss += l\r\n",
        "  num_correct += acc\r\n",
        "\r\n",
        "  # Print stats every 100 steps.\r\n",
        "  if i % 100 == 99:\r\n",
        "    print(\r\n",
        "      '[Step %d] Past 100 steps: Average Loss %.3f | Accuracy: %d%%' %\r\n",
        "      (i + 1, loss / 100, num_correct)\r\n",
        "    )\r\n",
        "    loss = 0\r\n",
        "    num_correct = 0"
      ],
      "execution_count": null,
      "outputs": [
        {
          "output_type": "stream",
          "text": [
            "MNIST CNN initialized!\n",
            "[Step 100] Past 100 steps: Average Loss 2.302 | Accuracy: 9%\n",
            "[Step 200] Past 100 steps: Average Loss 2.302 | Accuracy: 13%\n",
            "[Step 300] Past 100 steps: Average Loss 2.302 | Accuracy: 10%\n",
            "[Step 400] Past 100 steps: Average Loss 2.303 | Accuracy: 8%\n"
          ],
          "name": "stdout"
        }
      ]
    },
    {
      "cell_type": "markdown",
      "metadata": {
        "id": "_yL2Gd-3f66J"
      },
      "source": [
        "Feedforward without label in feedforward function"
      ]
    },
    {
      "cell_type": "code",
      "metadata": {
        "id": "nAeL1mnSgzTV"
      },
      "source": [
        "def feedforward(image):\r\n",
        "  \"\"\"\r\n",
        "  Input: An image\r\n",
        "  Output: A probability distribution for a given test image\r\n",
        "  Functionality: Conducts forward pass predicting an image\r\n",
        "  \"\"\"\r\n",
        "\r\n",
        "  #converts to [-0.5,0.5]\r\n",
        "  #feedforward through convolution,pool,activation,softmax\r\n",
        "  output = conv.forward((image / 255) - 0.5)\r\n",
        "  output = pool.forward(output)\r\n",
        "  output = softmax.forward(output)\r\n",
        "\r\n",
        "  return output\r\n"
      ],
      "execution_count": null,
      "outputs": []
    },
    {
      "cell_type": "code",
      "metadata": {
        "id": "lZD6W3mTgzVy",
        "colab": {
          "base_uri": "https://localhost:8080/"
        },
        "outputId": "19149395-0802-4532-acab-8fd481bb9f01"
      },
      "source": [
        "feedforward(xTest[0])"
      ],
      "execution_count": null,
      "outputs": [
        {
          "output_type": "execute_result",
          "data": {
            "text/plain": [
              "array([0.10051936, 0.10015951, 0.09934844, 0.10009936, 0.10007277,\n",
              "       0.09993042, 0.09971149, 0.10028407, 0.09955879, 0.10031578])"
            ]
          },
          "metadata": {
            "tags": []
          },
          "execution_count": 25
        }
      ]
    },
    {
      "cell_type": "code",
      "metadata": {
        "id": "RxxTrDuXgzXz"
      },
      "source": [
        "# Loss and accuracy specific to the particular digit, rather than each 100\r\n",
        "\r\n",
        "loss = np.zeros(len(xTest[0:500]))\r\n",
        "predictedValues = np.zeros(len(xTest[0:500]))\r\n",
        "\r\n",
        "for i, (im, label) in enumerate(zip(xTest[0:500], yTest[0:500])):\r\n",
        "\r\n",
        "  #Feedforward a single image\r\n",
        "  probDist = feedforward(xTest[i])\r\n",
        "\r\n",
        "  #Predicted digit is the argmax of the prob distribution\r\n",
        "  predictedDigit = np.argmax(probDist)\r\n",
        "\r\n",
        "  #Storing loss for index i\r\n",
        "  loss[i] = crossEntropyLoss(out[label])\r\n",
        "\r\n",
        "  #Adding the digit into a prediction array for a confusion matrix\r\n",
        "  predictedValues[i] = predictedDigit\r\n"
      ],
      "execution_count": null,
      "outputs": []
    },
    {
      "cell_type": "code",
      "metadata": {
        "id": "QrQqacAtgzZ5",
        "colab": {
          "base_uri": "https://localhost:8080/"
        },
        "outputId": "e33e3929-bab4-474b-a857-36446fdeb393"
      },
      "source": [
        "#Approximately the same overall mean loss\r\n",
        "loss.mean()"
      ],
      "execution_count": null,
      "outputs": [
        {
          "output_type": "execute_result",
          "data": {
            "text/plain": [
              "2.5441826909785332"
            ]
          },
          "metadata": {
            "tags": []
          },
          "execution_count": 27
        }
      ]
    },
    {
      "cell_type": "code",
      "metadata": {
        "id": "AUrqDxY_GV5E",
        "colab": {
          "base_uri": "https://localhost:8080/"
        },
        "outputId": "9fa51090-2643-48a0-8b6d-271af1cc10c2"
      },
      "source": [
        "from sklearn.metrics import confusion_matrix\r\n",
        "confusionMat = confusion_matrix(yTest[0:500], predictedValues)\r\n",
        "confusionMat"
      ],
      "execution_count": null,
      "outputs": [
        {
          "output_type": "execute_result",
          "data": {
            "text/plain": [
              "array([[ 0, 13,  0, 12,  6,  0,  2,  6,  0,  3],\n",
              "       [ 3,  5,  0,  0,  9,  0,  0,  6,  0, 44],\n",
              "       [ 2, 11,  0,  1,  4,  0,  0,  6,  0, 31],\n",
              "       [ 2, 16,  0,  0, 11,  0,  1,  2,  0, 13],\n",
              "       [ 2,  3,  0,  1, 21,  0,  0,  9,  0, 19],\n",
              "       [ 2, 14,  0,  5, 16,  0,  0, 10,  0,  3],\n",
              "       [ 0,  3,  0,  4, 17,  0,  0, 14,  0,  5],\n",
              "       [14,  1,  0,  0,  8,  0,  0,  1,  0, 25],\n",
              "       [ 0,  4,  0,  0, 12,  0,  0, 17,  0,  7],\n",
              "       [ 2,  2,  0,  0, 22,  0,  0,  4,  0, 24]])"
            ]
          },
          "metadata": {
            "tags": []
          },
          "execution_count": 28
        }
      ]
    },
    {
      "cell_type": "code",
      "metadata": {
        "colab": {
          "base_uri": "https://localhost:8080/"
        },
        "id": "igFNrtMpq_9R",
        "outputId": "c64d52a8-5969-45ed-e918-6e1b6d43350b"
      },
      "source": [
        "#Also roughly 10%\r\n",
        "confusionMat.trace() / np.sum(confusionMat)"
      ],
      "execution_count": null,
      "outputs": [
        {
          "output_type": "execute_result",
          "data": {
            "text/plain": [
              "0.102"
            ]
          },
          "metadata": {
            "tags": []
          },
          "execution_count": 29
        }
      ]
    },
    {
      "cell_type": "markdown",
      "metadata": {
        "id": "GUplVr82tUqS"
      },
      "source": [
        "## Back Propagation and Training <a class=\"anchor\" id=\"three-three\" name=\"three-three\"></a>##"
      ]
    },
    {
      "cell_type": "markdown",
      "metadata": {
        "id": "obq101yiy4VL"
      },
      "source": [
        "Now that we have a feedforward process, we need to be able to train our feedforward with back-propagation.\r\n",
        "\r\n",
        "To do this, we will cache data for each layer. Then we will update our loss gradient as we pass through each layer, and as we update for each image.\r\n",
        "\r\n",
        "Recall loss was defined using cross-entropy loss: $-\\ln(p_c)$. As such, the derivative will be \r\n",
        "\r\n",
        "0 if i $\\neq c$\r\n",
        "\r\n",
        "$-\\frac{1}{p_i}$ if i $=c$\r\n",
        "\r\n",
        "There is quite some more calculus involved for calculating and updating the gradient. I will skip this for now, as Zhou covered it very well. Since it seems mostly definitional, I will copy his implementation, as far as I understand it.\r\n",
        "\r\n",
        "In particular, we have a generalized gradient, but this general gradient has no way to be updated appropriately within our code. As such, we need to continue to derive until we can calculate gradients relative to what is in our code, namely weights, x pixel 'totals', and a bias for each class.\r\n",
        "\r\n",
        "Thus, we calculate a entropy loss gradient. Then calculate a softmax gradient. Then from this we can find gradients in the former regards, and update those."
      ]
    },
    {
      "cell_type": "code",
      "metadata": {
        "id": "y63jLbG7AnTA"
      },
      "source": [
        "#Overall Idea:\r\n",
        "\r\n",
        "# Feed forward\r\n",
        "#out = conv.forward((image / 255) - 0.5)\r\n",
        "#out = pool.forward(out)\r\n",
        "#out = softmax.forward(out)\r\n",
        "\r\n",
        "# Calculate initial gradient\r\n",
        "#gradient = np.zeros(10)\r\n",
        "#gradient[label] = -1 / out[label]\r\n",
        "\r\n",
        "# Backprop\r\n",
        "#gradient = softmax.backprop(gradient)\r\n",
        "#gradient = pool.backprop(gradient)\r\n",
        "#gradient = conv.backprop(gradient)"
      ],
      "execution_count": null,
      "outputs": []
    },
    {
      "cell_type": "code",
      "metadata": {
        "colab": {
          "base_uri": "https://localhost:8080/"
        },
        "id": "we6xaIfUBf2J",
        "outputId": "c35d6989-e297-4143-d279-676e47b786d3"
      },
      "source": [
        "# Feed forward\r\n",
        "out = conv.forward((xTest[0] / 255) - 0.5)\r\n",
        "out = pool.forward(out)\r\n",
        "out = softmax.forward(out)\r\n",
        "out"
      ],
      "execution_count": null,
      "outputs": [
        {
          "output_type": "execute_result",
          "data": {
            "text/plain": [
              "array([0.10051936, 0.10015951, 0.09934844, 0.10009936, 0.10007277,\n",
              "       0.09993042, 0.09971149, 0.10028407, 0.09955879, 0.10031578])"
            ]
          },
          "metadata": {
            "tags": []
          },
          "execution_count": 30
        }
      ]
    },
    {
      "cell_type": "code",
      "metadata": {
        "id": "JC-0UMdqB8dz",
        "colab": {
          "base_uri": "https://localhost:8080/"
        },
        "outputId": "d4dd063b-ddae-4a0f-b9d8-e508b6f69d93"
      },
      "source": [
        "label = np.argmax(out)\r\n",
        "label"
      ],
      "execution_count": null,
      "outputs": [
        {
          "output_type": "execute_result",
          "data": {
            "text/plain": [
              "0"
            ]
          },
          "metadata": {
            "tags": []
          },
          "execution_count": 32
        }
      ]
    },
    {
      "cell_type": "code",
      "metadata": {
        "colab": {
          "base_uri": "https://localhost:8080/"
        },
        "id": "FKI2eWjuB6OF",
        "outputId": "29357ed2-8e26-4832-b74b-06eec9fbaf15"
      },
      "source": [
        "#Thus we add the computed derivative at the location of the label, and 0 otherwise\r\n",
        "gradient = np.zeros(10)\r\n",
        "gradient[label] = -1 / out[label]\r\n",
        "gradient"
      ],
      "execution_count": null,
      "outputs": [
        {
          "output_type": "execute_result",
          "data": {
            "text/plain": [
              "array([-9.94833281,  0.        ,  0.        ,  0.        ,  0.        ,\n",
              "        0.        ,  0.        ,  0.        ,  0.        ,  0.        ])"
            ]
          },
          "metadata": {
            "tags": []
          },
          "execution_count": 33
        }
      ]
    },
    {
      "cell_type": "markdown",
      "metadata": {
        "id": "yLRITkDWxbOu"
      },
      "source": [
        "### Softmax Back Propagation <a class=\"anchor\" id=\"three-three-one\" name=\"three-three-one\"></a> ###"
      ]
    },
    {
      "cell_type": "markdown",
      "metadata": {
        "id": "IGRd0qQK8FKP"
      },
      "source": [
        "Zhou implementation:"
      ]
    },
    {
      "cell_type": "code",
      "metadata": {
        "id": "iYDKIS918E89"
      },
      "source": [
        "class Softmax:\r\n",
        "\r\n",
        "  def __init__(self, inputLen, nodes):\r\n",
        "\r\n",
        "    #Used for testing the method, but not used in practice\r\n",
        "    np.random.seed(0)\r\n",
        "\r\n",
        "    self.weights = np.random.randn(inputLen, nodes) / inputLen\r\n",
        "    self.biases = np.zeros(nodes)\r\n",
        "\r\n",
        "  def forward(self, input):\r\n",
        "    '''\r\n",
        "    Performs a forward pass of the softmax layer using the given input.\r\n",
        "    Returns a 1d numpy array containing the respective probability values.\r\n",
        "    - input can be any array with any dimensions.\r\n",
        "    '''\r\n",
        "    self.last_input_shape = input.shape\r\n",
        "\r\n",
        "    input = input.flatten()\r\n",
        "    self.last_input = input\r\n",
        "\r\n",
        "    input_len, nodes = self.weights.shape\r\n",
        "\r\n",
        "    totals = np.dot(input, self.weights) + self.biases\r\n",
        "    self.last_totals = totals\r\n",
        "\r\n",
        "    exp = np.exp(totals)\r\n",
        "    return exp / np.sum(exp, axis=0)\r\n",
        "\r\n",
        "  def backprop(self, d_L_d_out, learn_rate):\r\n",
        "    '''\r\n",
        "    Performs a backward pass of the softmax layer.\r\n",
        "    Returns the loss gradient for this layer's inputs.\r\n",
        "    - d_L_d_out is the loss gradient for this layer's outputs.\r\n",
        "    '''\r\n",
        "    #Simply used to test if indeed we arive at the same answer\r\n",
        "    global d_out_d_t\r\n",
        "\r\n",
        "    # We know only 1 element of d_L_d_out will be nonzero\r\n",
        "    for i, gradient in enumerate(d_L_d_out):\r\n",
        "      if gradient == 0:\r\n",
        "        continue\r\n",
        "\r\n",
        "      # e^totals\r\n",
        "      t_exp = np.exp(self.last_totals)\r\n",
        "\r\n",
        "      # Sum of all e^totals\r\n",
        "      S = np.sum(t_exp)\r\n",
        "\r\n",
        "      # Gradients of out[i] against totals\r\n",
        "      d_out_d_t = -t_exp[i] * t_exp / (S ** 2)\r\n",
        "      d_out_d_t[i] = t_exp[i] * (S - t_exp[i]) / (S ** 2)\r\n",
        "\r\n",
        "      # Gradients of loss against totals\r\n",
        "      d_L_d_t = gradient * d_out_d_t\r\n",
        "\r\n",
        "      # Gradients of totals against weights/biases/input\r\n",
        "      d_t_d_w = self.last_input      \r\n",
        "      d_t_d_b = 1      \r\n",
        "      d_t_d_inputs = self.weights\r\n",
        "      # Gradients of loss against totals\r\n",
        "      d_L_d_t = gradient * d_out_d_t\r\n",
        "      # Gradients of loss against weights/biases/input      \r\n",
        "      d_L_d_w = d_t_d_w[np.newaxis].T @ d_L_d_t[np.newaxis]      \r\n",
        "      d_L_d_b = d_L_d_t * d_t_d_b      \r\n",
        "      d_L_d_inputs = d_t_d_inputs @ d_L_d_t\r\n",
        "\r\n",
        "      # Update weights / biases      \r\n",
        "      self.weights -= learn_rate * d_L_d_w      \r\n",
        "      self.biases -= learn_rate * d_L_d_b      \r\n",
        "      return d_L_d_inputs.reshape(self.last_input_shape)\r\n"
      ],
      "execution_count": null,
      "outputs": []
    },
    {
      "cell_type": "markdown",
      "metadata": {
        "id": "k-PUeAiP9tnC"
      },
      "source": [
        "Testing out the Zhou implementation"
      ]
    },
    {
      "cell_type": "code",
      "metadata": {
        "id": "4kgAUfky8JBa"
      },
      "source": [
        "#Instantiation of conv and pool\r\n",
        "conv = Conv(3,8)\r\n",
        "pool = MaxPool(2)"
      ],
      "execution_count": null,
      "outputs": []
    },
    {
      "cell_type": "code",
      "metadata": {
        "id": "SGKexehW8JDz"
      },
      "source": [
        "#Instantiation of softmax \r\n",
        "softmax = Softmax(13 * 13 * 8, 10)"
      ],
      "execution_count": null,
      "outputs": []
    },
    {
      "cell_type": "code",
      "metadata": {
        "colab": {
          "base_uri": "https://localhost:8080/"
        },
        "id": "3lwVucd78JGB",
        "outputId": "971c8f11-2d8a-40b0-e6eb-9d47bd188a9f"
      },
      "source": [
        "# Feedforward\r\n",
        "out = conv.forward((xTest[0] / 255) - 0.5)\r\n",
        "out = pool.forward(out)\r\n",
        "out = softmax.forward(out)\r\n",
        "out"
      ],
      "execution_count": null,
      "outputs": [
        {
          "output_type": "execute_result",
          "data": {
            "text/plain": [
              "array([0.09956664, 0.10051692, 0.09956403, 0.09976503, 0.0999775 ,\n",
              "       0.09986324, 0.10034217, 0.10006443, 0.10011014, 0.10022991])"
            ]
          },
          "metadata": {
            "tags": []
          },
          "execution_count": 167
        }
      ]
    },
    {
      "cell_type": "code",
      "metadata": {
        "colab": {
          "base_uri": "https://localhost:8080/"
        },
        "id": "OAeE_sge8JIW",
        "outputId": "08dbe87e-c823-4bb5-e23c-aa15474ed949"
      },
      "source": [
        "label = np.argmax(out)\r\n",
        "\r\n",
        "#Thus we add the computed derivative at the location of the label, and 0 otherwise\r\n",
        "gradient = np.zeros(10)\r\n",
        "gradient[label] = -1 / out[label]\r\n",
        "gradient"
      ],
      "execution_count": null,
      "outputs": [
        {
          "output_type": "execute_result",
          "data": {
            "text/plain": [
              "array([ 0.        , -9.94857408,  0.        ,  0.        ,  0.        ,\n",
              "        0.        ,  0.        ,  0.        ,  0.        ,  0.        ])"
            ]
          },
          "metadata": {
            "tags": []
          },
          "execution_count": 168
        }
      ]
    },
    {
      "cell_type": "code",
      "metadata": {
        "id": "E1boNZiS8JKs"
      },
      "source": [
        "#Carrying out backpropagation\r\n",
        "softmax.backprop(gradient)"
      ],
      "execution_count": null,
      "outputs": []
    },
    {
      "cell_type": "code",
      "metadata": {
        "colab": {
          "base_uri": "https://localhost:8080/"
        },
        "id": "SQbi89vj8JM9",
        "outputId": "c8f3c768-632e-4cc5-ad7d-a23065e17d46"
      },
      "source": [
        "#Let's see if its the same with my implementation\r\n",
        "d_out_d_t"
      ],
      "execution_count": null,
      "outputs": [
        {
          "output_type": "execute_result",
          "data": {
            "text/plain": [
              "array([-0.01000813,  0.09041327, -0.01000787, -0.01002807, -0.01004943,\n",
              "       -0.01003795, -0.01008609, -0.01005817, -0.01006276, -0.0100748 ])"
            ]
          },
          "metadata": {
            "tags": []
          },
          "execution_count": 170
        }
      ]
    },
    {
      "cell_type": "markdown",
      "metadata": {
        "id": "npRr_kLS8JkY"
      },
      "source": [
        "My implementation:"
      ]
    },
    {
      "cell_type": "markdown",
      "metadata": {
        "id": "s3hCvFt8T5e-"
      },
      "source": [
        "This implementation is mostly the same with some minor changes to how we find the nonzero, and some naming.\r\n",
        "\r\n",
        "However, If I decide to change the dimensions of the prior implementation of softmax, to my matrix form, then I would edit this as well. Doing so would make the matrix multiplications of $\\frac{d_L}{d_t} \\cdot \\frac{d_t}{d_{\\text{wanted}}}$ more straightforward left multiplications, but result in column vectors when storing our attributes."
      ]
    },
    {
      "cell_type": "code",
      "metadata": {
        "id": "cwZMfWDUrACB"
      },
      "source": [
        "class Softmax:\r\n",
        "  # A standard fully-connected layer with softmax activation.\r\n",
        "\r\n",
        "  def __init__(self, inputLen, nodes):\r\n",
        "    # inputLen - number of features m*n*k along m,n,k dimensions\r\n",
        "    # nodes - number of desired nodes\r\n",
        "    # weights - weights multiplied by x values\r\n",
        "    # biases biases added to each tc = sum(xc*wc)\r\n",
        "    # Note: We divide by inputLen to reduce the variance of our initial values\r\n",
        "\r\n",
        "    #Used for testing the method, but not used in practice\r\n",
        "    #np.random.seed(0)\r\n",
        "\r\n",
        "    self.weights = np.random.randn(inputLen, nodes) / inputLen\r\n",
        "    self.biases = np.zeros(nodes)\r\n",
        "\r\n",
        "  def computeSoftmax(self, valArr):\r\n",
        "    #Encapsulating the formal definition of softmax\r\n",
        "\r\n",
        "    expArr = np.exp(valArr)\r\n",
        "    return expArr / (np.sum(expArr, axis=0))\r\n",
        "\r\n",
        "  def forward(self, input):\r\n",
        "    \"\"\"\r\n",
        "    Input: Flattening allows for any input\r\n",
        "    Output: 1d array of respective probability distribution\r\n",
        "    Functionality: Computes fully connected softmax distribution with input array\r\n",
        "    \"\"\"\r\n",
        "\r\n",
        "    # Stores original shape\r\n",
        "    self.orginalShape = input.shape\r\n",
        "\r\n",
        "    # Flattens the input into 1d array\r\n",
        "    input = input.flatten()\r\n",
        "\r\n",
        "    # Stores flat input\r\n",
        "    self.flatInput = input\r\n",
        "\r\n",
        "    # Calculating values for each class c\r\n",
        "    totals = np.dot(input, self.weights) + self.biases\r\n",
        "\r\n",
        "    # Stores activation sum of (weights*input)+bias_c\r\n",
        "    self.flatTotals = totals\r\n",
        "\r\n",
        "    # Computing and returning probability distribution\r\n",
        "    return self.computeSoftmax(totals)\r\n",
        "\r\n",
        "  def backprop(self, d_L_d_out,learn_rate):\r\n",
        "    \"\"\"\r\n",
        "    Input: d_L_d_out; loss gradient at softmax\r\n",
        "    Output: Updates loss gradient.\r\n",
        "    Functionality: Backwards propagation for softmax layer\r\n",
        "    \"\"\"\r\n",
        "\r\n",
        "    # Instead of for loop, extracting only nonzero\r\n",
        "    i = np.nonzero(d_L_d_out)\r\n",
        "    gradient = d_L_d_out[i]\r\n",
        "\r\n",
        "    # Softmax calculations\r\n",
        "    t_exp = np.exp(self.flatTotals)\r\n",
        "    S = np.sum(t_exp)\r\n",
        "\r\n",
        "    # Gradients of out[i] against totals\r\n",
        "    d_out_d_t = -t_exp[i] * t_exp / (S ** 2)\r\n",
        "    d_out_d_t[i] = t_exp[i] * (S - t_exp[i]) / (S ** 2)\r\n",
        "\r\n",
        "    # Gradients of loss against totals\r\n",
        "    d_L_d_t = gradient * d_out_d_t\r\n",
        "      \r\n",
        "    # Gradients of totals against weights/biases/input\r\n",
        "    d_t_d_w = self.flatInput      \r\n",
        "    d_t_d_b = 1      \r\n",
        "    d_t_d_inputs = self.weights\r\n",
        "\r\n",
        "    # Gradients of loss against totals\r\n",
        "    d_L_d_t = gradient * d_out_d_t\r\n",
        "\r\n",
        "    # Gradients of loss against weights/biases/input \r\n",
        "    # These are what we are especially interested in    \r\n",
        "    # Note: @ is simply the matmul function (matrix multiplication)\r\n",
        "    # It took a bit of playing around to see that these indeed work\r\n",
        "    #New axis simply increases dimension, so an np.array -> vector/matrix\r\n",
        "\r\n",
        "    # Note that matrices are not commutative in multiplication\r\n",
        "    # Note the pattern of chaining partial derivatives\r\n",
        "    # Likewise, note dL/dt = dL/dout * dout/dt\r\n",
        "\r\n",
        "    # dL/dw = dL/dout*dout/dt*dt/dw= dL/dt * dt/dw = dt/dw*dL/dt \r\n",
        "    d_L_d_w = d_t_d_w[np.newaxis].T @ d_L_d_t[np.newaxis]    \r\n",
        "\r\n",
        "    # dL/db = dL/dt*dout/dt*dt/db = dL/dt*dt/db\r\n",
        "    d_L_d_b = d_L_d_t * d_t_d_b    \r\n",
        "\r\n",
        "    # dL/dinput = dL/dt*dout/dt*dt/dinput = dL/dt*dt/dinputs = dt/dinput * dL/dt\r\n",
        "    d_L_d_inputs = d_t_d_inputs @ d_L_d_t\r\n",
        "\r\n",
        "    # Update weights / biases with learn rate     \r\n",
        "    self.weights -= learn_rate * d_L_d_w      \r\n",
        "    self.biases -= learn_rate * d_L_d_b \r\n",
        "\r\n",
        "    return d_L_d_inputs.reshape(self.orginalShape)"
      ],
      "execution_count": null,
      "outputs": []
    },
    {
      "cell_type": "code",
      "metadata": {
        "id": "L5LmfTSGU86A"
      },
      "source": [
        "    #Hmmmm I might actually implement a new matrix schema...\r\n",
        "    \r\n",
        "    # Because of the shape...we'd have to take the transpose of the whole...\r\n",
        "    #d_L_d_w2 = d_L_d_t[np.newaxis].T @ d_t_d_w[np.newaxis]\r\n",
        "    #d_L_d_w2 = d_L_d_w2.T"
      ],
      "execution_count": null,
      "outputs": []
    },
    {
      "cell_type": "markdown",
      "metadata": {
        "id": "M8J_WkjC1oVp"
      },
      "source": [
        "Testing Our Back Propagation"
      ]
    },
    {
      "cell_type": "code",
      "metadata": {
        "id": "Ij8ZzhFz5Zxb"
      },
      "source": [
        "#Instantiation of softmax \r\n",
        "softmax = Softmax(13 * 13 * 8, 10)"
      ],
      "execution_count": null,
      "outputs": []
    },
    {
      "cell_type": "code",
      "metadata": {
        "colab": {
          "base_uri": "https://localhost:8080/"
        },
        "id": "PepV7msv_RTo",
        "outputId": "b643c95f-f3af-49de-f0a3-402475b8bfdb"
      },
      "source": [
        "# Feedforward\r\n",
        "out = conv.forward((xTest[0] / 255) - 0.5)\r\n",
        "out = pool.forward(out)\r\n",
        "out = softmax.forward(out)\r\n",
        "out"
      ],
      "execution_count": null,
      "outputs": [
        {
          "output_type": "execute_result",
          "data": {
            "text/plain": [
              "array([0.09956664, 0.10051692, 0.09956403, 0.09976503, 0.0999775 ,\n",
              "       0.09986324, 0.10034217, 0.10006443, 0.10011014, 0.10022991])"
            ]
          },
          "metadata": {
            "tags": []
          },
          "execution_count": 226
        }
      ]
    },
    {
      "cell_type": "code",
      "metadata": {
        "colab": {
          "base_uri": "https://localhost:8080/"
        },
        "id": "BFkcnTx3_RVr",
        "outputId": "504631b7-2ed4-49d6-c35b-f58595f05f21"
      },
      "source": [
        "label = np.argmax(out)\r\n",
        "\r\n",
        "#Thus we add the computed derivative at the location of the label, and 0 otherwise\r\n",
        "gradient = np.zeros(10)\r\n",
        "gradient[label] = -1 / out[label]\r\n",
        "gradient"
      ],
      "execution_count": null,
      "outputs": [
        {
          "output_type": "execute_result",
          "data": {
            "text/plain": [
              "array([ 0.        , -9.94857408,  0.        ,  0.        ,  0.        ,\n",
              "        0.        ,  0.        ,  0.        ,  0.        ,  0.        ])"
            ]
          },
          "metadata": {
            "tags": []
          },
          "execution_count": 227
        }
      ]
    },
    {
      "cell_type": "code",
      "metadata": {
        "id": "PCkf2D3R_RYK"
      },
      "source": [
        "softmax.backprop(gradient)"
      ],
      "execution_count": null,
      "outputs": []
    },
    {
      "cell_type": "code",
      "metadata": {
        "colab": {
          "base_uri": "https://localhost:8080/"
        },
        "id": "ohRcA8Gh_RaN",
        "outputId": "4854760f-f888-4e77-d6f0-873c6a7ed93b"
      },
      "source": [
        "#Sugoi\r\n",
        "d_out_d_t"
      ],
      "execution_count": null,
      "outputs": [
        {
          "output_type": "execute_result",
          "data": {
            "text/plain": [
              "array([-0.01000813,  0.09041327, -0.01000787, -0.01002807, -0.01004943,\n",
              "       -0.01003795, -0.01008609, -0.01005817, -0.01006276, -0.0100748 ])"
            ]
          },
          "metadata": {
            "tags": []
          },
          "execution_count": 182
        }
      ]
    },
    {
      "cell_type": "markdown",
      "metadata": {
        "id": "jltE-RBtLRnD"
      },
      "source": [
        "The following is personal testing for matrix dimensions"
      ]
    },
    {
      "cell_type": "code",
      "metadata": {
        "id": "PNgdYH-HLVzr"
      },
      "source": [
        "#Instantiation of softmax \r\n",
        "softmax = Softmax(13 * 13 * 8, 10)"
      ],
      "execution_count": null,
      "outputs": []
    },
    {
      "cell_type": "code",
      "metadata": {
        "colab": {
          "base_uri": "https://localhost:8080/"
        },
        "id": "nWrKwGISLV12",
        "outputId": "e0fb7f14-2bc2-421d-b492-07ff25737c27"
      },
      "source": [
        "# Feedforward\r\n",
        "out = conv.forward((xTest[0] / 255) - 0.5)\r\n",
        "out = pool.forward(out)\r\n",
        "out = softmax.forward(out)\r\n",
        "out"
      ],
      "execution_count": null,
      "outputs": [
        {
          "output_type": "execute_result",
          "data": {
            "text/plain": [
              "array([0.09956664, 0.10051692, 0.09956403, 0.09976503, 0.0999775 ,\n",
              "       0.09986324, 0.10034217, 0.10006443, 0.10011014, 0.10022991])"
            ]
          },
          "metadata": {
            "tags": []
          },
          "execution_count": 241
        }
      ]
    },
    {
      "cell_type": "code",
      "metadata": {
        "colab": {
          "base_uri": "https://localhost:8080/"
        },
        "id": "qftc9ZUVLV4S",
        "outputId": "c579c7bc-f83e-49d6-afe8-3086e5178b3a"
      },
      "source": [
        "label = np.argmax(out)\r\n",
        "\r\n",
        "#Thus we add the computed derivative at the location of the label, and 0 otherwise\r\n",
        "gradient = np.zeros(10)\r\n",
        "gradient[label] = -1 / out[label]\r\n",
        "gradient"
      ],
      "execution_count": null,
      "outputs": [
        {
          "output_type": "execute_result",
          "data": {
            "text/plain": [
              "array([ 0.        , -9.94857408,  0.        ,  0.        ,  0.        ,\n",
              "        0.        ,  0.        ,  0.        ,  0.        ,  0.        ])"
            ]
          },
          "metadata": {
            "tags": []
          },
          "execution_count": 242
        }
      ]
    },
    {
      "cell_type": "code",
      "metadata": {
        "id": "a2p47U3BLV6w"
      },
      "source": [
        "nextOut1 = softmax.backprop(gradient,0.05)"
      ],
      "execution_count": null,
      "outputs": []
    },
    {
      "cell_type": "code",
      "metadata": {
        "colab": {
          "base_uri": "https://localhost:8080/"
        },
        "id": "cXWgkbGVLV9O",
        "outputId": "b274af48-dbbe-447f-b401-e32d93b282e1"
      },
      "source": [
        "#Comparing my output with his...\r\n",
        "nextOut == nextOut1"
      ],
      "execution_count": null,
      "outputs": [
        {
          "output_type": "execute_result",
          "data": {
            "text/plain": [
              "array([[[ True,  True,  True, ...,  True,  True,  True],\n",
              "        [ True,  True,  True, ...,  True,  True,  True],\n",
              "        [ True,  True,  True, ...,  True,  True,  True],\n",
              "        ...,\n",
              "        [ True,  True,  True, ...,  True,  True,  True],\n",
              "        [ True,  True,  True, ...,  True,  True,  True],\n",
              "        [ True,  True,  True, ...,  True,  True,  True]],\n",
              "\n",
              "       [[ True,  True,  True, ...,  True,  True,  True],\n",
              "        [ True,  True,  True, ...,  True,  True,  True],\n",
              "        [ True,  True,  True, ...,  True,  True,  True],\n",
              "        ...,\n",
              "        [ True,  True,  True, ...,  True,  True,  True],\n",
              "        [ True,  True,  True, ...,  True,  True,  True],\n",
              "        [ True,  True,  True, ...,  True,  True,  True]],\n",
              "\n",
              "       [[ True,  True,  True, ...,  True,  True,  True],\n",
              "        [ True,  True,  True, ...,  True,  True,  True],\n",
              "        [ True,  True,  True, ...,  True,  True,  True],\n",
              "        ...,\n",
              "        [ True,  True,  True, ...,  True,  True,  True],\n",
              "        [ True,  True,  True, ...,  True,  True,  True],\n",
              "        [ True,  True,  True, ...,  True,  True,  True]],\n",
              "\n",
              "       ...,\n",
              "\n",
              "       [[ True,  True,  True, ...,  True,  True,  True],\n",
              "        [ True,  True,  True, ...,  True,  True,  True],\n",
              "        [ True,  True,  True, ...,  True,  True,  True],\n",
              "        ...,\n",
              "        [ True,  True,  True, ...,  True,  True,  True],\n",
              "        [ True,  True,  True, ...,  True,  True,  True],\n",
              "        [ True,  True,  True, ...,  True,  True,  True]],\n",
              "\n",
              "       [[ True,  True,  True, ...,  True,  True,  True],\n",
              "        [ True,  True,  True, ...,  True,  True,  True],\n",
              "        [ True,  True,  True, ...,  True,  True,  True],\n",
              "        ...,\n",
              "        [ True,  True,  True, ...,  True,  True,  True],\n",
              "        [ True,  True,  True, ...,  True,  True,  True],\n",
              "        [ True,  True,  True, ...,  True,  True,  True]],\n",
              "\n",
              "       [[ True,  True,  True, ...,  True,  True,  True],\n",
              "        [ True,  True,  True, ...,  True,  True,  True],\n",
              "        [ True,  True,  True, ...,  True,  True,  True],\n",
              "        ...,\n",
              "        [ True,  True,  True, ...,  True,  True,  True],\n",
              "        [ True,  True,  True, ...,  True,  True,  True],\n",
              "        [ True,  True,  True, ...,  True,  True,  True]]])"
            ]
          },
          "metadata": {
            "tags": []
          },
          "execution_count": 244
        }
      ]
    },
    {
      "cell_type": "markdown",
      "metadata": {
        "id": "O0j1vJHGX4ku"
      },
      "source": [
        "Training with only softmax back Propagation"
      ]
    },
    {
      "cell_type": "code",
      "metadata": {
        "id": "Epp5wcvuYcHb"
      },
      "source": [
        "#Instantiation of softmax \r\n",
        "softmax = Softmax(13 * 13 * 8, 10)"
      ],
      "execution_count": null,
      "outputs": []
    },
    {
      "cell_type": "code",
      "metadata": {
        "colab": {
          "base_uri": "https://localhost:8080/"
        },
        "id": "PUzq1lauU2bA",
        "outputId": "0ecc62dc-e857-425b-baef-2b8cd9f0d52a"
      },
      "source": [
        "def train(im, label, lr=.005):\r\n",
        "  '''\r\n",
        "  Completes a full training step on the given image and label.\r\n",
        "  Returns the cross-entropy loss and accuracy.\r\n",
        "  - image is a 2d numpy array\r\n",
        "  - label is a digit\r\n",
        "  - lr is the learning rate\r\n",
        "  '''\r\n",
        "  # Forward\r\n",
        "  out, loss, acc = feedforwardModify(im, label)\r\n",
        "\r\n",
        "  # Calculate initial gradient\r\n",
        "  gradient = np.zeros(10)\r\n",
        "  gradient[label] = -1 / out[label]\r\n",
        "\r\n",
        "  # Backprop\r\n",
        "  gradient = softmax.backprop(gradient, lr)\r\n",
        "  # TODO: backprop MaxPool layer\r\n",
        "  # TODO: backprop Conv layer\r\n",
        "\r\n",
        "  return loss, acc\r\n",
        "\r\n",
        "print('MNIST CNN initialized!')\r\n",
        "\r\n",
        "# Train!\r\n",
        "loss = 0\r\n",
        "num_correct = 0\r\n",
        "for i, (im, label) in enumerate(zip(xTrain[0:1000], yTrain[0:1000])):\r\n",
        "  if i % 100 == 99:\r\n",
        "    print(\r\n",
        "      '[Step %d] Past 100 steps: Average Loss %.3f | Accuracy: %d%%' %\r\n",
        "      (i + 1, loss / 100, num_correct)\r\n",
        "    )\r\n",
        "    loss = 0\r\n",
        "    num_correct = 0\r\n",
        "\r\n",
        "  l, acc = train(im, label)\r\n",
        "  loss += l\r\n",
        "  num_correct += acc"
      ],
      "execution_count": null,
      "outputs": [
        {
          "output_type": "stream",
          "text": [
            "MNIST CNN initialized!\n",
            "[Step 100] Past 100 steps: Average Loss 2.246 | Accuracy: 22%\n",
            "[Step 200] Past 100 steps: Average Loss 2.195 | Accuracy: 38%\n",
            "[Step 300] Past 100 steps: Average Loss 2.116 | Accuracy: 56%\n",
            "[Step 400] Past 100 steps: Average Loss 2.031 | Accuracy: 69%\n",
            "[Step 500] Past 100 steps: Average Loss 1.977 | Accuracy: 67%\n",
            "[Step 600] Past 100 steps: Average Loss 1.987 | Accuracy: 50%\n",
            "[Step 700] Past 100 steps: Average Loss 1.936 | Accuracy: 53%\n",
            "[Step 800] Past 100 steps: Average Loss 1.844 | Accuracy: 71%\n",
            "[Step 900] Past 100 steps: Average Loss 1.785 | Accuracy: 74%\n",
            "[Step 1000] Past 100 steps: Average Loss 1.755 | Accuracy: 70%\n"
          ],
          "name": "stdout"
        }
      ]
    },
    {
      "cell_type": "code",
      "metadata": {
        "id": "n5NSMXVKX8e7"
      },
      "source": [
        ""
      ],
      "execution_count": null,
      "outputs": []
    },
    {
      "cell_type": "code",
      "metadata": {
        "id": "dlt5aboOX8hL"
      },
      "source": [
        ""
      ],
      "execution_count": null,
      "outputs": []
    },
    {
      "cell_type": "code",
      "metadata": {
        "id": "DodYDRvcX8jb"
      },
      "source": [
        ""
      ],
      "execution_count": null,
      "outputs": []
    },
    {
      "cell_type": "code",
      "metadata": {
        "id": "YD9x7kAGX8lv"
      },
      "source": [
        ""
      ],
      "execution_count": null,
      "outputs": []
    },
    {
      "cell_type": "code",
      "metadata": {
        "id": "G8353SexLV_n"
      },
      "source": [
        ""
      ],
      "execution_count": null,
      "outputs": []
    },
    {
      "cell_type": "code",
      "metadata": {
        "id": "XzgODVrvLWB0"
      },
      "source": [
        ""
      ],
      "execution_count": null,
      "outputs": []
    },
    {
      "cell_type": "code",
      "metadata": {
        "id": "KTr6lZL1LWEO"
      },
      "source": [
        ""
      ],
      "execution_count": null,
      "outputs": []
    },
    {
      "cell_type": "markdown",
      "metadata": {
        "id": "tTG_z44dxlPW"
      },
      "source": [
        "### Maxpool Back Propagation <a class=\"anchor\" id=\"three-three-two\" name=\"three-three-two\"></a> ###"
      ]
    },
    {
      "cell_type": "code",
      "metadata": {
        "id": "QPUcN0M3xa0a"
      },
      "source": [
        "class MaxPool:\r\n",
        "  #Maxpool Class \r\n",
        "  #NOTE: We are restricted to a 2x2 maxpool for now\r\n",
        "  def __init__(self, dim):\r\n",
        "    #dim - length of one side of maxpool filter (e.g. 2x2, dim=2)\r\n",
        "    #Note: Maxpool does not overlap regions like convolution class\r\n",
        "\r\n",
        "    self.dim = dim\r\n",
        "\r\n",
        "  def regionGenerator(self,image):\r\n",
        "    m, n, _ = image.shape\r\n",
        "    m2 = m // 2\r\n",
        "    n2 = n // 2\r\n",
        "\r\n",
        "    for i in range(m2):\r\n",
        "      for j in range(n2):\r\n",
        "        region = image[(i * 2):(i * 2 + 2), (j * 2):(j * 2 + 2)]\r\n",
        "        yield region, i, j\r\n",
        "          \r\n",
        "\r\n",
        "  def forward(self, input):\r\n",
        "    \"\"\"\r\n",
        "    Input: (matrix input)\r\n",
        "    Output: 3d matrix array of dim(m/2,n/2,filterNum)\r\n",
        "    Functionality: performs maxpool on input image for each filter\r\n",
        "    \"\"\"\r\n",
        "\r\n",
        "    self.last_input = input\r\n",
        "\r\n",
        "    #Shape of matrix for each filter (filters make 3d)\r\n",
        "    m, n, filterNum = input.shape\r\n",
        "    #Empty output object for each filter\r\n",
        "    output = np.zeros((m // 2, n // 2, filterNum))\r\n",
        "\r\n",
        "    #Iterating across each region and finding max\r\n",
        "    for region, i, j in self.regionGenerator(input):\r\n",
        "      output[i, j] = np.amax(region, axis=(0, 1))\r\n",
        "        \r\n",
        "    return output\r\n",
        "\r\n",
        "  def backprop(self, d_L_d_out):\r\n",
        "    '''\r\n",
        "    Performs a backward pass of the maxpool layer.\r\n",
        "    Returns the loss gradient for this layer's inputs.\r\n",
        "    - d_L_d_out is the loss gradient for this layer's outputs.\r\n",
        "    '''\r\n",
        "    d_L_d_input = np.zeros(self.last_input.shape)\r\n",
        "\r\n",
        "    for region, i, j in self.regionGenerator(self.last_input):\r\n",
        "      h, w, f = region.shape\r\n",
        "      amax = np.amax(region, axis=(0, 1))\r\n",
        "\r\n",
        "      for i2 in range(h):\r\n",
        "        for j2 in range(w):\r\n",
        "          for f2 in range(f):\r\n",
        "            # If this pixel was the max value, copy the gradient to it.\r\n",
        "            if region[i2, j2, f2] == amax[f2]:\r\n",
        "              d_L_d_input[i * 2 + i2, j * 2 + j2, f2] = d_L_d_out[i, j, f2]\r\n",
        "\r\n",
        "    return d_L_d_input\r\n",
        "\r\n"
      ],
      "execution_count": null,
      "outputs": []
    },
    {
      "cell_type": "code",
      "metadata": {
        "id": "2i1Nodo8u86A"
      },
      "source": [
        ""
      ],
      "execution_count": null,
      "outputs": []
    },
    {
      "cell_type": "code",
      "metadata": {
        "id": "c7yq8S7gu88Z"
      },
      "source": [
        ""
      ],
      "execution_count": null,
      "outputs": []
    },
    {
      "cell_type": "code",
      "metadata": {
        "id": "Tzr-teSvrAES"
      },
      "source": [
        ""
      ],
      "execution_count": null,
      "outputs": []
    },
    {
      "cell_type": "markdown",
      "metadata": {
        "id": "BkkC5WfY3zyN"
      },
      "source": [
        "### Convolution Back Propagation <a class=\"anchor\" id=\"three-three-three\" name=\"three-three-three\"></a> ###"
      ]
    },
    {
      "cell_type": "code",
      "metadata": {
        "id": "WiNDdB0D38DT"
      },
      "source": [
        "class Conv:\r\n",
        "  #Convolutional Layer Class\r\n",
        "\r\n",
        "  def __init__(self, dim, filterNum):\r\n",
        "    #dim - length of one side of conv filter (e.g. 3x3, dim=3)\r\n",
        "    #filterNum - determines how many convolution filter layers will be used\r\n",
        "    #filters - numpy arr of filters initialized with random normal distribution values\r\n",
        "    #Note: Dividing by 9 implements Xavier initialization\r\n",
        "\r\n",
        "    self.dim = dim\r\n",
        "    self.filterNum = filterNum\r\n",
        "    self.filters = np.random.randn(filterNum, dim, dim) / 9\r\n",
        "\r\n",
        "  def regionGenerator(self, image):\r\n",
        "    \"\"\"\r\n",
        "    Input: An image of mxn\r\n",
        "    Outpuut: 2d numpy arrays with yield\r\n",
        "    Functionality: Generates all possible dimxdim image regions using valid padding.\r\n",
        "    Note: Yield works better for the generator than returning a large list at once\r\n",
        "    \"\"\"\r\n",
        "    m,n = image.shape\r\n",
        "\r\n",
        "    for i in range(m - 2):\r\n",
        "      for j in range(n - 2):\r\n",
        "        region = image[i:(i + self.dim), j:(j + self.dim)]\r\n",
        "        #Yielding (rather than returning) a location with dimxdim, with associated i,j\r\n",
        "        yield region, i, j\r\n",
        "\r\n",
        "  def forward(self,input):\r\n",
        "    \"\"\"\r\n",
        "    Input: (image)\r\n",
        "    Output:(convolution for each layerNumber convolution filter)\r\n",
        "    Functionality: Performs a forward pass of a convolution layer\r\n",
        "    \"\"\"\r\n",
        "    #shape of image\r\n",
        "    m,n = input.shape\r\n",
        "    #Blank output object of valid convolution for each filter\r\n",
        "    output = np.zeros((m - 2, n - 2, self.filterNum))\r\n",
        "\r\n",
        "    #Cache input\r\n",
        "    self.last_input = input\r\n",
        "\r\n",
        "    #We use our generator to iterate each region to perform the convolution\r\n",
        "    #Each region has an i,j associated with it\r\n",
        "    #np.sum takes the convolutoion for that region vs filters along axis=(1,2)\r\n",
        "    for currentRegion,i,j in self.regionGenerator(input):\r\n",
        "      output[i,j] = np.sum(currentRegion * self.filters, axis= (1,2))\r\n",
        "    return output\r\n",
        "\r\n",
        "  def backprop(self, d_L_d_out, learn_rate):\r\n",
        "    '''\r\n",
        "    Performs a backward pass of the conv layer.\r\n",
        "    - d_L_d_out is the loss gradient for this layer's outputs.\r\n",
        "    - learn_rate is a float.\r\n",
        "    '''\r\n",
        "    d_L_d_filters = np.zeros(self.filters.shape)\r\n",
        "\r\n",
        "    for region, i, j in self.regionGenerator(self.last_input):\r\n",
        "      for f in range(self.filterNum):\r\n",
        "        d_L_d_filters[f] += d_L_d_out[i, j, f] * region\r\n",
        "\r\n",
        "    # Update filters\r\n",
        "    self.filters -= learn_rate * d_L_d_filters\r\n",
        "\r\n",
        "    #Not returning anything here since we use Conv as the first layer\r\n",
        "    #Otherwise, return the loss gradient for this layer inputs like other layers\r\n",
        "    return None\r\n"
      ],
      "execution_count": null,
      "outputs": []
    },
    {
      "cell_type": "code",
      "metadata": {
        "id": "Uf2KQARwLZ67"
      },
      "source": [
        ""
      ],
      "execution_count": null,
      "outputs": []
    },
    {
      "cell_type": "markdown",
      "metadata": {
        "id": "PUQ0kRoaddJv"
      },
      "source": [
        "### Training with Epochs <a class=\"anchor\" id=\"three-three-four\" name=\"three-three-four\"></a> ### "
      ]
    },
    {
      "cell_type": "code",
      "metadata": {
        "id": "-kPL7pbTdkOc"
      },
      "source": [
        "#Instantiation of conv and pool\r\n",
        "conv = Conv(3,8)\r\n",
        "pool = MaxPool(2)\r\n",
        "softmax = Softmax(13 * 13 * 8, 10)"
      ],
      "execution_count": null,
      "outputs": []
    },
    {
      "cell_type": "code",
      "metadata": {
        "id": "Jqu3z72QLZ_L"
      },
      "source": [
        "def feedforwardModify(image,label):\r\n",
        "  \"\"\"\r\n",
        "  Input: An image and label\r\n",
        "  Output: probability distribution,loss,accuracy\r\n",
        "  Functionality: Conducts forward pass predicting an image \r\n",
        "  \"\"\"\r\n",
        "\r\n",
        "  #converts to [-0.5,0.5]\r\n",
        "  #feedforward through convolution,pool,activation,softmax\r\n",
        "  output = conv.forward((image / 255) - 0.5)\r\n",
        "  output = pool.forward(output)\r\n",
        "  output = softmax.forward(output)\r\n",
        "\r\n",
        "  loss = crossEntropyLoss(output[label])\r\n",
        "\r\n",
        "  if(np.argmax(output) == label):\r\n",
        "    acc = 1\r\n",
        "  else:\r\n",
        "    acc = 0\r\n",
        "\r\n",
        "  return output, loss, acc\r\n",
        "\r\n",
        "def train(im, label, lr=.005):\r\n",
        "  '''\r\n",
        "  Completes a full training step on the given image and label.\r\n",
        "  Returns the cross-entropy loss and accuracy.\r\n",
        "  - image is a 2d numpy array\r\n",
        "  - label is a digit\r\n",
        "  - lr is the learning rate\r\n",
        "  '''\r\n",
        "  # Forward\r\n",
        "  out, loss, acc = feedforwardModify(im, label)\r\n",
        "\r\n",
        "  # Calculate initial gradient\r\n",
        "  gradient = np.zeros(10)\r\n",
        "  gradient[label] = -1 / out[label]\r\n",
        "\r\n",
        "  # Backprop\r\n",
        "  gradient = softmax.backprop(gradient, lr)\r\n",
        "  gradient = pool.backprop(gradient)\r\n",
        "  gradient = conv.backprop(gradient, lr)\r\n",
        "\r\n",
        "  return loss, acc"
      ],
      "execution_count": null,
      "outputs": []
    },
    {
      "cell_type": "code",
      "metadata": {
        "colab": {
          "base_uri": "https://localhost:8080/"
        },
        "id": "QYn-sd5WLaDp",
        "outputId": "b7a9e9ed-53e4-40be-f577-6c4f7b7f28b1"
      },
      "source": [
        "train_images = xTrain[:1000]\r\n",
        "train_labels = yTrain[:1000]\r\n",
        "test_images = xTest[:1000]\r\n",
        "test_labels = yTest[:1000]\r\n",
        "\r\n",
        "print('MNIST CNN initialized!')\r\n",
        "\r\n",
        "# Train the CNN for 3 epochs\r\n",
        "for epoch in range(3):\r\n",
        "  print('--- Epoch %d ---' % (epoch + 1))\r\n",
        "\r\n",
        "  # Shuffle the training data\r\n",
        "  permutation = np.random.permutation(len(train_images))\r\n",
        "  train_images = train_images[permutation]\r\n",
        "  train_labels = train_labels[permutation]\r\n",
        "\r\n",
        "  # Train!\r\n",
        "  loss = 0\r\n",
        "  num_correct = 0\r\n",
        "  for i, (im, label) in enumerate(zip(train_images, train_labels)):\r\n",
        "    if i > 0 and i % 100 == 99:\r\n",
        "      print(\r\n",
        "        '[Step %d] Past 100 steps: Average Loss %.3f | Accuracy: %d%%' %\r\n",
        "        (i + 1, loss / 100, num_correct)\r\n",
        "      )\r\n",
        "      loss = 0\r\n",
        "      num_correct = 0\r\n",
        "\r\n",
        "    l, acc = train(im, label)\r\n",
        "    loss += l\r\n",
        "    num_correct += acc\r\n",
        "\r\n",
        "# Test the CNN\r\n",
        "print('\\n--- Testing the CNN ---')\r\n",
        "loss = 0\r\n",
        "num_correct = 0\r\n",
        "for im, label in zip(test_images, test_labels):\r\n",
        "  _, l, acc = forward(im, label)\r\n",
        "  loss += l\r\n",
        "  num_correct += acc\r\n",
        "\r\n",
        "num_tests = len(test_images)\r\n",
        "print('Test Loss:', loss / num_tests)\r\n",
        "print('Test Accuracy:', num_correct / num_tests)"
      ],
      "execution_count": null,
      "outputs": [
        {
          "output_type": "stream",
          "text": [
            "MNIST CNN initialized!\n",
            "--- Epoch 1 ---\n",
            "[Step 100] Past 100 steps: Average Loss 2.215 | Accuracy: 19%\n",
            "[Step 200] Past 100 steps: Average Loss 1.966 | Accuracy: 33%\n",
            "[Step 300] Past 100 steps: Average Loss 1.459 | Accuracy: 64%\n",
            "[Step 400] Past 100 steps: Average Loss 1.087 | Accuracy: 65%\n",
            "[Step 500] Past 100 steps: Average Loss 0.862 | Accuracy: 75%\n",
            "[Step 600] Past 100 steps: Average Loss 0.914 | Accuracy: 72%\n",
            "[Step 700] Past 100 steps: Average Loss 0.688 | Accuracy: 81%\n",
            "[Step 800] Past 100 steps: Average Loss 0.684 | Accuracy: 77%\n",
            "[Step 900] Past 100 steps: Average Loss 0.745 | Accuracy: 77%\n",
            "[Step 1000] Past 100 steps: Average Loss 0.594 | Accuracy: 83%\n",
            "--- Epoch 2 ---\n",
            "[Step 100] Past 100 steps: Average Loss 0.429 | Accuracy: 89%\n",
            "[Step 200] Past 100 steps: Average Loss 0.461 | Accuracy: 85%\n",
            "[Step 300] Past 100 steps: Average Loss 0.582 | Accuracy: 85%\n",
            "[Step 400] Past 100 steps: Average Loss 0.672 | Accuracy: 78%\n",
            "[Step 500] Past 100 steps: Average Loss 0.630 | Accuracy: 80%\n",
            "[Step 600] Past 100 steps: Average Loss 0.531 | Accuracy: 83%\n",
            "[Step 700] Past 100 steps: Average Loss 0.460 | Accuracy: 87%\n",
            "[Step 800] Past 100 steps: Average Loss 0.535 | Accuracy: 82%\n",
            "[Step 900] Past 100 steps: Average Loss 0.473 | Accuracy: 84%\n",
            "[Step 1000] Past 100 steps: Average Loss 0.362 | Accuracy: 88%\n",
            "--- Epoch 3 ---\n",
            "[Step 100] Past 100 steps: Average Loss 0.315 | Accuracy: 90%\n",
            "[Step 200] Past 100 steps: Average Loss 0.420 | Accuracy: 90%\n",
            "[Step 300] Past 100 steps: Average Loss 0.488 | Accuracy: 87%\n",
            "[Step 400] Past 100 steps: Average Loss 0.408 | Accuracy: 85%\n",
            "[Step 500] Past 100 steps: Average Loss 0.404 | Accuracy: 87%\n",
            "[Step 600] Past 100 steps: Average Loss 0.346 | Accuracy: 89%\n",
            "[Step 700] Past 100 steps: Average Loss 0.305 | Accuracy: 89%\n",
            "[Step 800] Past 100 steps: Average Loss 0.488 | Accuracy: 86%\n",
            "[Step 900] Past 100 steps: Average Loss 0.496 | Accuracy: 84%\n",
            "[Step 1000] Past 100 steps: Average Loss 0.422 | Accuracy: 85%\n",
            "\n",
            "--- Testing the CNN ---\n",
            "Test Loss: 0.4905975896017013\n",
            "Test Accuracy: 0.834\n"
          ],
          "name": "stdout"
        }
      ]
    },
    {
      "cell_type": "markdown",
      "metadata": {
        "id": "hLA6kArxl6K3"
      },
      "source": [
        "Observations\r\n",
        "\r\n",
        "Following along with Zhou, and working with his implementation has gave me a very solid grasp on these introductory components! This was very exciting.\r\n",
        "\r\n",
        "Some things I'd consider coming back to change (not in a particular order):\r\n",
        "\r\n",
        "1. Generalize our methods:\r\n",
        "\\\r\n",
        "For example, Conv3x3 or Conv5x5 for dim = 3 or 5\r\n",
        "\\\r\n",
        "Or perhaps a different maxpooling number\r\n",
        "2. Modify the matrix multiplication of Softmax and the attributes to be column (IF AND ONLY IF such implementation is not much more computationally taxxing)\r\n",
        "3. Cleaner and better encapsulation for the training and testing\r\n",
        "4. Completely train, then completely test. Confusion Matrix too"
      ]
    },
    {
      "cell_type": "markdown",
      "metadata": {
        "id": "FQNcPDwtld_m"
      },
      "source": [
        "### Keras Equivalent of Zhou Implementation <a class=\"anchor\" id=\"three-three-five\" name=\"three-three-five\"></a> ###\r\n",
        "\r\n",
        "Please note this was done by Zhou himself, and I am simply copying it here. After implementing C-NN from the ground up, he then proceeds to make the same implementation using keras, as is found in his  [keras cnn tutorial](https://victorzhou.com/blog/keras-cnn-tutorial/). \r\n",
        "\r\n",
        "\r\n"
      ]
    },
    {
      "cell_type": "code",
      "metadata": {
        "id": "Updi64eTrNz1"
      },
      "source": [
        "#Importing keras utilities\r\n",
        "from tensorflow.keras.models import Sequential\r\n",
        "from tensorflow.keras.layers import Conv2D, MaxPooling2D, Dense, Flatten\r\n",
        "from tensorflow.keras.utils import to_categorical"
      ],
      "execution_count": null,
      "outputs": []
    },
    {
      "cell_type": "code",
      "metadata": {
        "colab": {
          "base_uri": "https://localhost:8080/"
        },
        "id": "zvfIHlFdldZr",
        "outputId": "415f9a0d-cd21-4678-d2a6-e14dcae6f42f"
      },
      "source": [
        "# Normalize the images.\r\n",
        "xTrain2 = (xTrain / 255) - 0.5\r\n",
        "xTest2 = (xTest / 255) - 0.5\r\n",
        "\r\n",
        "# Reshape the images.\r\n",
        "xTrain2 = np.expand_dims(xTrain2, axis=3)\r\n",
        "xTest2 = np.expand_dims(xTest2, axis=3)\r\n",
        "\r\n",
        "num_filters = 8\r\n",
        "filter_size = 3\r\n",
        "pool_size = 2\r\n",
        "\r\n",
        "# Build the model.\r\n",
        "model = Sequential([\r\n",
        "  Conv2D(num_filters, filter_size, input_shape=(28, 28, 1)),\r\n",
        "  MaxPooling2D(pool_size=pool_size),\r\n",
        "  Flatten(),\r\n",
        "  Dense(10, activation='softmax'),\r\n",
        "])\r\n",
        "\r\n",
        "# Compile the model.\r\n",
        "model.compile(\r\n",
        "  'adam',\r\n",
        "  loss='categorical_crossentropy',\r\n",
        "  metrics=['accuracy'],\r\n",
        ")\r\n",
        "\r\n",
        "# Train the model.\r\n",
        "model.fit(\r\n",
        "  xTrain2,\r\n",
        "  to_categorical(yTrain),\r\n",
        "  epochs=3,\r\n",
        "  validation_data=(xTest2, to_categorical(yTest)),\r\n",
        ")\r\n",
        "\r\n",
        "# Save the model to disk.\r\n",
        "model.save_weights('cnn.h5')\r\n",
        "\r\n",
        "# Load the model from disk later using:\r\n",
        "# model.load_weights('cnn.h5')\r\n",
        "\r\n",
        "# Predict on the first 5 test images.\r\n",
        "predictions = model.predict(xTest2[:5])\r\n",
        "\r\n",
        "# Print our model's predictions.\r\n",
        "print(np.argmax(predictions, axis=1)) # [7, 2, 1, 0, 4]\r\n",
        "\r\n",
        "# Check our predictions against the ground truths.\r\n",
        "print(test_labels[:5]) # [7, 2, 1, 0, 4]"
      ],
      "execution_count": null,
      "outputs": [
        {
          "output_type": "stream",
          "text": [
            "Epoch 1/3\n",
            "1875/1875 [==============================] - 16s 8ms/step - loss: 0.5563 - accuracy: 0.8424 - val_loss: 0.1836 - val_accuracy: 0.9482\n",
            "Epoch 2/3\n",
            "1875/1875 [==============================] - 15s 8ms/step - loss: 0.1844 - accuracy: 0.9476 - val_loss: 0.1357 - val_accuracy: 0.9592\n",
            "Epoch 3/3\n",
            "1875/1875 [==============================] - 16s 9ms/step - loss: 0.1271 - accuracy: 0.9636 - val_loss: 0.1042 - val_accuracy: 0.9682\n",
            "[7 2 1 0 4]\n",
            "[7 2 1 0 4]\n"
          ],
          "name": "stdout"
        }
      ]
    },
    {
      "cell_type": "markdown",
      "metadata": {
        "id": "q2vWAkWVvsww"
      },
      "source": [
        "Awesome! So we implemented CNN from the ground up using numpy, and also using keras, working to an accuracy of roughly 96 to 97 percent. \r\n",
        "\r\n",
        "What if we consider more questions regarding our C-NN architecture:\r\n",
        "\r\n",
        "We should consider playing around with other conv, maxpool, and softmax sizes/layers, and what if we include more/less layers? \r\n",
        "\r\n",
        "What else can we add to the model? What about dropout layers? Fully connected, or no?\r\n",
        "\r\n",
        "Lots of questions!"
      ]
    },
    {
      "cell_type": "markdown",
      "metadata": {
        "id": "RPHldywkxeN6"
      },
      "source": [
        "## Official Keras CNN Example <a class=\"anchor\" id=\"three-four\" name=\"three-four\"></a> ##"
      ]
    },
    {
      "cell_type": "markdown",
      "metadata": {
        "id": "oLuir31YzK0d"
      },
      "source": [
        "The [keras documentation](https://keras.io/getting_started/) provides a 99% accurate [example of CNN](https://keras.io/examples/vision/mnist_convnet/) for the MNIST database.\r\n",
        "\r\n",
        "The example features mostly the same architecture as prior but with some modification:\r\n",
        "1. There are two convolutional layers\r\n",
        "2. Convolutional layers have 32 and 64 filters of (same) size 3x3\r\n",
        "2. A dropout layer is introduced\r\n",
        "4. 15 epochs instead of 3\r\n",
        "5. Batch normalization"
      ]
    },
    {
      "cell_type": "markdown",
      "metadata": {
        "id": "BT6nCllX2y2F"
      },
      "source": [
        "These seem like fairly reasonable additions to our architecture. \r\n",
        "\r\n",
        "My primary question is \"why\" this architecture. What inferences about our data lead us to say $k_1$ filters is better than $k_2$ filters? What kind of inferences can we make prior to model construction to give us insight onto the appropriate number of filters, layers, and so forth, regarding neural networks?"
      ]
    },
    {
      "cell_type": "code",
      "metadata": {
        "id": "9M4tN3uB2yW5"
      },
      "source": [
        "#Importing\r\n",
        "from tensorflow import keras\r\n",
        "from tensorflow.keras import layers"
      ],
      "execution_count": 23,
      "outputs": []
    },
    {
      "cell_type": "code",
      "metadata": {
        "id": "zvMBa8pUl5LM"
      },
      "source": [
        "#Importing MNIST data from keras\r\n",
        "(x_train, y_train), (x_test, y_test) = keras.datasets.mnist.load_data()"
      ],
      "execution_count": 24,
      "outputs": []
    },
    {
      "cell_type": "code",
      "metadata": {
        "id": "DB7ULdA9l91R"
      },
      "source": [
        "#Converting to int32; forcing to 0-255 from uint8 causes error when subtraction leads to a negative value\r\n",
        "xTrain = x_train.astype(np.int32)\r\n",
        "yTrain = y_train.astype(np.int32)\r\n",
        "xTest = x_test.astype(np.int32)\r\n",
        "yTest = y_test.astype(np.int32)"
      ],
      "execution_count": 25,
      "outputs": []
    },
    {
      "cell_type": "code",
      "metadata": {
        "id": "JjFbCbqLkUzB"
      },
      "source": [
        "# Model / data parameters\r\n",
        "num_classes = 10\r\n",
        "input_shape = (28, 28, 1)"
      ],
      "execution_count": 26,
      "outputs": []
    },
    {
      "cell_type": "code",
      "metadata": {
        "id": "HGS4k3mrkU1X"
      },
      "source": [
        "#Preprocessing the data\r\n",
        "\r\n",
        "# Scale images to the [0, 1] range\r\n",
        "xTrain = xTrain.astype(\"float32\") / 255\r\n",
        "xTest = xTest.astype(\"float32\") / 255\r\n",
        "\r\n",
        "# Make sure images have shape (28, 28, 1)\r\n",
        "xTrain = np.expand_dims(xTrain, -1)\r\n",
        "xTest = np.expand_dims(xTest, -1)\r\n",
        "\r\n",
        "# convert class vectors to binary class matrices\r\n",
        "yTrain = keras.utils.to_categorical(yTrain, num_classes)\r\n",
        "yTest = keras.utils.to_categorical(yTest, num_classes)"
      ],
      "execution_count": 27,
      "outputs": []
    },
    {
      "cell_type": "code",
      "metadata": {
        "colab": {
          "base_uri": "https://localhost:8080/"
        },
        "id": "gG_O8udIlP5T",
        "outputId": "b2fab027-7e88-4b1b-8fc8-8cc2b5f5af7e"
      },
      "source": [
        "xTrain.shape"
      ],
      "execution_count": 28,
      "outputs": [
        {
          "output_type": "execute_result",
          "data": {
            "text/plain": [
              "(60000, 28, 28, 1)"
            ]
          },
          "metadata": {
            "tags": []
          },
          "execution_count": 28
        }
      ]
    },
    {
      "cell_type": "code",
      "metadata": {
        "id": "85nurDMM38mF"
      },
      "source": [
        "#building the model\r\n",
        "\r\n",
        "model = keras.Sequential(\r\n",
        "    [\r\n",
        "        keras.Input(shape=input_shape),\r\n",
        "        layers.Conv2D(32, kernel_size=(3, 3), activation=\"relu\"),\r\n",
        "        layers.MaxPooling2D(pool_size=(2, 2)),\r\n",
        "        layers.Conv2D(64, kernel_size=(3, 3), activation=\"relu\"),\r\n",
        "        layers.MaxPooling2D(pool_size=(2, 2)),\r\n",
        "        layers.Flatten(),\r\n",
        "        layers.Dropout(0.5),\r\n",
        "        layers.Dense(num_classes, activation=\"softmax\"),\r\n",
        "    ]\r\n",
        ")"
      ],
      "execution_count": 29,
      "outputs": []
    },
    {
      "cell_type": "code",
      "metadata": {
        "id": "XIyRXhaVzKdc",
        "colab": {
          "base_uri": "https://localhost:8080/"
        },
        "outputId": "a96bc440-7ce2-4d04-c9c4-3d74f8504901"
      },
      "source": [
        "#Defining batch size and number of epochs\r\n",
        "batch_size = 128\r\n",
        "epochs = 15\r\n",
        "\r\n",
        "#compile the model with corss entorpy loss\r\n",
        "model.compile(loss=\"categorical_crossentropy\", optimizer=\"adam\", metrics=[\"accuracy\"])\r\n",
        "#Fit the model with batch normalization and validation splitting\r\n",
        "model.fit(xTrain, yTrain, batch_size=batch_size, epochs=epochs, validation_split=0.1)"
      ],
      "execution_count": 30,
      "outputs": [
        {
          "output_type": "stream",
          "text": [
            "Epoch 1/15\n",
            "422/422 [==============================] - 40s 93ms/step - loss: 0.7473 - accuracy: 0.7690 - val_loss: 0.0717 - val_accuracy: 0.9800\n",
            "Epoch 2/15\n",
            "422/422 [==============================] - 39s 93ms/step - loss: 0.1178 - accuracy: 0.9637 - val_loss: 0.0539 - val_accuracy: 0.9848\n",
            "Epoch 3/15\n",
            "422/422 [==============================] - 39s 93ms/step - loss: 0.0861 - accuracy: 0.9726 - val_loss: 0.0461 - val_accuracy: 0.9875\n",
            "Epoch 4/15\n",
            "422/422 [==============================] - 40s 94ms/step - loss: 0.0710 - accuracy: 0.9782 - val_loss: 0.0416 - val_accuracy: 0.9898\n",
            "Epoch 5/15\n",
            "422/422 [==============================] - 40s 94ms/step - loss: 0.0601 - accuracy: 0.9815 - val_loss: 0.0363 - val_accuracy: 0.9902\n",
            "Epoch 6/15\n",
            "422/422 [==============================] - 40s 94ms/step - loss: 0.0545 - accuracy: 0.9834 - val_loss: 0.0376 - val_accuracy: 0.9880\n",
            "Epoch 7/15\n",
            "422/422 [==============================] - 40s 94ms/step - loss: 0.0515 - accuracy: 0.9844 - val_loss: 0.0344 - val_accuracy: 0.9900\n",
            "Epoch 8/15\n",
            "422/422 [==============================] - 40s 94ms/step - loss: 0.0443 - accuracy: 0.9864 - val_loss: 0.0331 - val_accuracy: 0.9905\n",
            "Epoch 9/15\n",
            "422/422 [==============================] - 40s 94ms/step - loss: 0.0434 - accuracy: 0.9866 - val_loss: 0.0326 - val_accuracy: 0.9910\n",
            "Epoch 10/15\n",
            "422/422 [==============================] - 39s 93ms/step - loss: 0.0414 - accuracy: 0.9869 - val_loss: 0.0316 - val_accuracy: 0.9917\n",
            "Epoch 11/15\n",
            "422/422 [==============================] - 39s 93ms/step - loss: 0.0360 - accuracy: 0.9883 - val_loss: 0.0314 - val_accuracy: 0.9915\n",
            "Epoch 12/15\n",
            "422/422 [==============================] - 40s 94ms/step - loss: 0.0369 - accuracy: 0.9876 - val_loss: 0.0288 - val_accuracy: 0.9917\n",
            "Epoch 13/15\n",
            "422/422 [==============================] - 40s 94ms/step - loss: 0.0331 - accuracy: 0.9893 - val_loss: 0.0299 - val_accuracy: 0.9925\n",
            "Epoch 14/15\n",
            "422/422 [==============================] - 40s 94ms/step - loss: 0.0328 - accuracy: 0.9897 - val_loss: 0.0319 - val_accuracy: 0.9917\n",
            "Epoch 15/15\n",
            "422/422 [==============================] - 40s 94ms/step - loss: 0.0312 - accuracy: 0.9899 - val_loss: 0.0317 - val_accuracy: 0.9918\n"
          ],
          "name": "stdout"
        },
        {
          "output_type": "execute_result",
          "data": {
            "text/plain": [
              "<tensorflow.python.keras.callbacks.History at 0x7f39a8325fd0>"
            ]
          },
          "metadata": {
            "tags": []
          },
          "execution_count": 30
        }
      ]
    },
    {
      "cell_type": "code",
      "metadata": {
        "id": "y0DrEoKfzKf0",
        "colab": {
          "base_uri": "https://localhost:8080/"
        },
        "outputId": "133cf1ce-6fc5-4c49-d858-a97a52d0d7e0"
      },
      "source": [
        "#Evaluating the model against test data\r\n",
        "score = model.evaluate(xTest, yTest, verbose=0)\r\n",
        "print(\"Test loss:\", score[0])\r\n",
        "print(\"Test accuracy:\", score[1])"
      ],
      "execution_count": 31,
      "outputs": [
        {
          "output_type": "stream",
          "text": [
            "Test loss: 0.02281571738421917\n",
            "Test accuracy: 0.9927999973297119\n"
          ],
          "name": "stdout"
        }
      ]
    },
    {
      "cell_type": "code",
      "metadata": {
        "id": "1YKhmfIqxg7a"
      },
      "source": [
        ""
      ],
      "execution_count": null,
      "outputs": []
    },
    {
      "cell_type": "code",
      "metadata": {
        "id": "zzKm8LnOxg9r"
      },
      "source": [
        ""
      ],
      "execution_count": null,
      "outputs": []
    }
  ]
}