{
  "nbformat": 4,
  "nbformat_minor": 0,
  "metadata": {
    "colab": {
      "name": "DigitClassification-NN.ipynb",
      "provenance": [],
      "collapsed_sections": [
        "EmecX1x2rXxY",
        "_tW7DKmiwNm5",
        "--qFA4YdvGW7",
        "GUplVr82tUqS",
        "yLRITkDWxbOu",
        "tTG_z44dxlPW",
        "BkkC5WfY3zyN",
        "FQNcPDwtld_m",
        "RPHldywkxeN6",
        "wlxN7-2nOHGG"
      ]
    },
    "kernelspec": {
      "name": "python3",
      "display_name": "Python 3"
    }
  },
  "cells": [
    {
      "cell_type": "markdown",
      "metadata": {
        "id": "VCdrpYmmlNyw"
      },
      "source": [
        "# Neural Networks for MNIST database #\n",
        "Author: Marco Sousa\n",
        "\\\n",
        "Last Updated Date: 3/7/2021\n",
        "\\\n",
        "Details: This is an investigation of applying NN and C-NN onto the MNIST database, further investigating machine Learning for my DSC[499] Capstone assignment at UMass Dartmouth.\n",
        "\n",
        "Much of the low level design was inspired by [Victor Zhou](https://victorzhou.com/about/) and his posts on [Neural Networks](https://victorzhou.com/blog/intro-to-neural-networks/). Many methods are mostly similar. If I have time, I'd like to return to this implementation to (1) generalize it and (2) change the matrix dimensions in relation to softmax (and its back propagation).\n",
        "\n",
        "High level design using tensorflow/keras was learned via [TensorFlow](https://www.tensorflow.org/tutorials/keras/classification).\n",
        "\n",
        "The primary text resource for machine learning and deep learning was by [Goodfellow et. al.](https://www.deeplearningbook.org/).\n",
        "\n",
        "Below is a linked **Table of Contents:**"
      ]
    },
    {
      "cell_type": "markdown",
      "metadata": {
        "id": "0Wfs__e0d8py"
      },
      "source": [
        "### Table of Contents ###\n",
        "\n",
        "1. [MNIST Dataset](#one)\n",
        "    1. Importing and Formatting\n",
        "    2. Basic Visualization\n",
        "2. [NN](#two)\n",
        "3. [C-NN](#three)\n",
        "    1. [Motivation for C-NN over NN for Images](#three-one)\n",
        "    2. [C-NN Feedforward](#three-two)\n",
        "        1. [Convolution](#three-two-one)\n",
        "        2. [Maxpool](#three-two-two)\n",
        "        3. [Softmax](#three-two-three)\n",
        "        4. [Cross-Entropy Loss](#three-two-four)\n",
        "        5. [Feedforward Method and Prediction](#three-two-five)\n",
        "    3. [Back Propagation and Training](#three-three)\n",
        "        1. [Softmax Back Propagation](#three-three-one)\n",
        "        2. [Maxpool Back Propagation](#three-three-two)\n",
        "        3. [Convolution Back Propagation](#three-three-three)\n",
        "        4. [Training with Epochs](#three-three-four)\n",
        "    4. [Keras Equivalent of Zhou Implementation](#three-four)\n",
        "    5. [Official Keras CNN Example](#three-five)\n",
        "4. [Meta Modelling](#four)\n",
        "    1. [Uniform Average Ensemble](#four-one)\n",
        "    2. [Weighted Average Ensemble](#four-two)\n",
        "    3. [Optimizing Weights](#four-three)\n",
        "    3. [Stacked Ensemble](#four-four)\n",
        "    4. [Comparing Ensemble Outcomes](#four-five)"
      ]
    },
    {
      "cell_type": "markdown",
      "metadata": {
        "id": "d0qfNBI0jH76"
      },
      "source": [
        "### To Do Task List ###\n",
        "\n",
        "- [x] Github Repo\n",
        "- [x] K-Nearest Neighbor\n",
        "- [x] NN by Keras/tensorflow\n",
        "- [x] Code C-NN Low-Level\n",
        "- [x] Convolution Class\n",
        "- [x] Maxpool Class\n",
        "- [x] Softmax Class\n",
        "- [x] Cross Entropy Loss\n",
        "- [x] Training C-NN\n",
        "- [x] Make predictions for C-NN\n",
        "- [x] C-NN by Keras/tensorflow (High-level)\n",
        "- [x] Uniform Average Ensemble\n",
        "- [x] Weighted Average Ensemble\n",
        "- [x] Optimization of Weights for Ensemble\n",
        "- [x] Stacked Ensemble\n",
        "- [ ] Optional: Consider using weights for each digit class, rahter than for each model\n",
        "- [ ] Optional:Consider changing the attribute dimensions for softmax and training\n",
        "- [ ] Optional: Generalize Convolution Class out of 3x3\n",
        "- [ ] Optional: Generalize  Maxpool Class out of 2x2\n",
        "- [ ] Optional: Fickleness of input # of features for softmax\n",
        "- [ ] Optional: Visualization as it passes feedforward/backprop\n",
        "- [ ] Optional: NN Low-Level"
      ]
    },
    {
      "cell_type": "markdown",
      "metadata": {
        "id": "GJtSzzNfo8zS"
      },
      "source": [
        "# MNIST Dataset <a class=\"anchor\" id=\"one\" name=\"one\"></a> #\n"
      ]
    },
    {
      "cell_type": "markdown",
      "metadata": {
        "id": "smJ5oMqWpvSe"
      },
      "source": [
        "## Importing and Formatting ##"
      ]
    },
    {
      "cell_type": "code",
      "metadata": {
        "id": "gTfhEmSrcS7Z"
      },
      "source": [
        "#Importing libraries\n",
        "import numpy as np \n",
        "import pandas as pd\n",
        "\n",
        "#Machine Learning libraries\n",
        "from tensorflow import keras\n",
        "from tensorflow.keras import layers\n",
        "\n",
        "#Visualization libraries\n",
        "import matplotlib.pyplot as plt\n",
        "#import altair as alt\n",
        "#import seaborn as sns\n",
        "\n",
        "#Counter dict class\n",
        "from collections import Counter"
      ],
      "execution_count": 1,
      "outputs": []
    },
    {
      "cell_type": "code",
      "metadata": {
        "id": "4D0Esk3xcTrP"
      },
      "source": [
        "#Importing MNIST data from keras\n",
        "(x_train, y_train), (x_test, y_test) = keras.datasets.mnist.load_data()"
      ],
      "execution_count": 3,
      "outputs": []
    },
    {
      "cell_type": "code",
      "metadata": {
        "id": "QtqIhnGXcTvy"
      },
      "source": [
        "#Converting to int64; forcing to 0-255 from uint8 causes error when subtraction leads to a negative value\n",
        "xTrain = x_train.astype(np.int64)\n",
        "yTrain = y_train.astype(np.int64)\n",
        "xTest = x_test.astype(np.int64)\n",
        "yTest = y_test.astype(np.int64)"
      ],
      "execution_count": 4,
      "outputs": []
    },
    {
      "cell_type": "markdown",
      "metadata": {
        "id": "EmecX1x2rXxY"
      },
      "source": [
        "## Basic Visualization ##"
      ]
    },
    {
      "cell_type": "code",
      "metadata": {
        "colab": {
          "base_uri": "https://localhost:8080/"
        },
        "id": "p0-ttHicgYcb",
        "outputId": "2c48fa48-70b9-4aae-8413-b6e1441aa342"
      },
      "source": [
        "#Printing shape\n",
        "print('xTrain: ' + str(xTrain.shape))\n",
        "print('yTrain: ' + str(yTrain.shape))\n",
        "print('xTest: ' + str(xTest.shape))\n",
        "print('yTest: ' + str(yTest.shape))"
      ],
      "execution_count": null,
      "outputs": [
        {
          "output_type": "stream",
          "text": [
            "xTrain: (60000, 28, 28)\n",
            "yTrain: (60000,)\n",
            "xTest: (10000, 28, 28)\n",
            "yTest: (10000,)\n"
          ],
          "name": "stdout"
        }
      ]
    },
    {
      "cell_type": "code",
      "metadata": {
        "colab": {
          "base_uri": "https://localhost:8080/",
          "height": 268
        },
        "id": "OHG-d2kugYeu",
        "outputId": "784c0ada-c66f-4248-8934-16e49a096378"
      },
      "source": [
        "#Visualizing the first 16 xTrain digits in a 4 by 4 grid.\n",
        "for i in range(1,17):\n",
        "  plt.subplot(4,4,i)\n",
        "  plt.imshow(xTrain[i-1], cmap=plt.get_cmap('gray'))"
      ],
      "execution_count": null,
      "outputs": [
        {
          "output_type": "display_data",
          "data": {
            "image/png": "[encoded data removed]",
            "text/plain": [
              "<Figure size 432x288 with 16 Axes>"
            ]
          },
          "metadata": {
            "tags": [],
            "needs_background": "light"
          }
        }
      ]
    },
    {
      "cell_type": "code",
      "metadata": {
        "colab": {
          "base_uri": "https://localhost:8080/"
        },
        "id": "6-LwQ3dVgYhQ",
        "outputId": "06f95137-7efc-489e-bd12-43e9ac78e3b4"
      },
      "source": [
        "#This of course reflects our yTrain labels on our 28x28 matrix of xTrain\n",
        "yTrain[0:16]"
      ],
      "execution_count": null,
      "outputs": [
        {
          "output_type": "execute_result",
          "data": {
            "text/plain": [
              "array([5, 0, 4, 1, 9, 2, 1, 3, 1, 4, 3, 5, 3, 6, 1, 7], dtype=int32)"
            ]
          },
          "metadata": {
            "tags": []
          },
          "execution_count": 11
        }
      ]
    },
    {
      "cell_type": "markdown",
      "metadata": {
        "id": "TM7C9uu4trY_"
      },
      "source": [
        "We observe the label (or digit) distribution. It can be seen that both are mostly uniform. We could prove this with a Chi-Sqaured test, but the following is mostly convincing enough for now. "
      ]
    },
    {
      "cell_type": "code",
      "metadata": {
        "colab": {
          "base_uri": "https://localhost:8080/"
        },
        "id": "inHQoNiatEjy",
        "outputId": "c7293577-5d49-400a-dbba-f0df32384b8b"
      },
      "source": [
        "trainLabelDict = Counter(yTrain)\n",
        "trainLabelDict"
      ],
      "execution_count": null,
      "outputs": [
        {
          "output_type": "execute_result",
          "data": {
            "text/plain": [
              "Counter({0: 5923,\n",
              "         1: 6742,\n",
              "         2: 5958,\n",
              "         3: 6131,\n",
              "         4: 5842,\n",
              "         5: 5421,\n",
              "         6: 5918,\n",
              "         7: 6265,\n",
              "         8: 5851,\n",
              "         9: 5949})"
            ]
          },
          "metadata": {
            "tags": []
          },
          "execution_count": 12
        }
      ]
    },
    {
      "cell_type": "code",
      "metadata": {
        "colab": {
          "base_uri": "https://localhost:8080/",
          "height": 285
        },
        "id": "Uyt5TNKdtEls",
        "outputId": "cfc52dd8-09a5-4e50-b4d4-67ca6671dce3"
      },
      "source": [
        "plt.bar(range(len(trainLabelDict)), list(trainLabelDict.values()), align='center')"
      ],
      "execution_count": null,
      "outputs": [
        {
          "output_type": "execute_result",
          "data": {
            "text/plain": [
              "<BarContainer object of 10 artists>"
            ]
          },
          "metadata": {
            "tags": []
          },
          "execution_count": 13
        },
        {
          "output_type": "display_data",
          "data": {
            "image/png": "[encoded data removed]",
            "text/plain": [
              "<Figure size 432x288 with 1 Axes>"
            ]
          },
          "metadata": {
            "tags": [],
            "needs_background": "light"
          }
        }
      ]
    },
    {
      "cell_type": "code",
      "metadata": {
        "colab": {
          "base_uri": "https://localhost:8080/"
        },
        "id": "TSTGCRKSjQ4-",
        "outputId": "066946ca-f03e-4a0d-e692-6b44bb2b02b9"
      },
      "source": [
        "testLabelDict = Counter(yTest)\n",
        "testLabelDict"
      ],
      "execution_count": null,
      "outputs": [
        {
          "output_type": "execute_result",
          "data": {
            "text/plain": [
              "Counter({0: 980,\n",
              "         1: 1135,\n",
              "         2: 1032,\n",
              "         3: 1010,\n",
              "         4: 982,\n",
              "         5: 892,\n",
              "         6: 958,\n",
              "         7: 1028,\n",
              "         8: 974,\n",
              "         9: 1009})"
            ]
          },
          "metadata": {
            "tags": []
          },
          "execution_count": 14
        }
      ]
    },
    {
      "cell_type": "code",
      "metadata": {
        "colab": {
          "base_uri": "https://localhost:8080/",
          "height": 283
        },
        "id": "gezX-yIEtVpF",
        "outputId": "8163cba4-3ea0-45ca-87ae-fdcebaacd8c3"
      },
      "source": [
        "plt.bar(range(len(testLabelDict)), list(testLabelDict.values()), align='center')"
      ],
      "execution_count": null,
      "outputs": [
        {
          "output_type": "execute_result",
          "data": {
            "text/plain": [
              "<BarContainer object of 10 artists>"
            ]
          },
          "metadata": {
            "tags": []
          },
          "execution_count": 15
        },
        {
          "output_type": "display_data",
          "data": {
            "image/png": "[encoded data removed]",
            "text/plain": [
              "<Figure size 432x288 with 1 Axes>"
            ]
          },
          "metadata": {
            "tags": [],
            "needs_background": "light"
          }
        }
      ]
    },
    {
      "cell_type": "code",
      "metadata": {
        "id": "qS002FFDuYxM"
      },
      "source": [
        "#If we wish to view the raw matrix\n",
        "#np.set_printoptions(edgeitems=1,linewidth=500,formatter=dict(float=lambda x: \"%.3g\" %x))\n",
        "#xTrain[0]"
      ],
      "execution_count": null,
      "outputs": []
    },
    {
      "cell_type": "markdown",
      "metadata": {
        "id": "etMbz7_sQ4xw"
      },
      "source": [
        "# NN <a class=\"anchor\" id=\"two\" name=\"two\"></a> #"
      ]
    },
    {
      "cell_type": "markdown",
      "metadata": {
        "id": "gpiXTOMaLcTg"
      },
      "source": [
        "Preprocessing"
      ]
    },
    {
      "cell_type": "code",
      "metadata": {
        "id": "ArppbDl1r2TD"
      },
      "source": [
        "#Importing MNIST data from keras\n",
        "(x_train, y_train), (x_test, y_test) = keras.datasets.mnist.load_data()"
      ],
      "execution_count": null,
      "outputs": []
    },
    {
      "cell_type": "code",
      "metadata": {
        "id": "GjXgMo7Jr6-b"
      },
      "source": [
        "#Converting to int64; forcing to 0-255 from uint8 causes error when subtraction leads to a negative value\n",
        "xTrain = x_train.astype(np.int64)\n",
        "yTrain = y_train.astype(np.int64)\n",
        "xTest = x_test.astype(np.int64)\n",
        "yTest = y_test.astype(np.int64)"
      ],
      "execution_count": null,
      "outputs": []
    },
    {
      "cell_type": "code",
      "metadata": {
        "id": "2_QdczzhS_dE",
        "colab": {
          "base_uri": "https://localhost:8080/"
        },
        "outputId": "00aec3f9-e0c9-42f6-ff89-26fa1134f5e0"
      },
      "source": [
        "# Normalize the images.\n",
        "xTrain = (xTrain / 255) - 0.5\n",
        "xTest = (xTest / 255) - 0.5\n",
        "\n",
        "# Flatten the images.\n",
        "xTrain = xTrain.reshape((-1, 784))\n",
        "xTest = xTest.reshape((-1, 784))\n",
        "#input = input.flatten()\n",
        "\n",
        "#printing shape\n",
        "print(xTrain.shape)\n",
        "print(xTest.shape)"
      ],
      "execution_count": null,
      "outputs": [
        {
          "output_type": "stream",
          "text": [
            "(60000, 784)\n",
            "(10000, 784)\n"
          ],
          "name": "stdout"
        }
      ]
    },
    {
      "cell_type": "markdown",
      "metadata": {
        "id": "bN9CI48Cfse-"
      },
      "source": [
        "Importing"
      ]
    },
    {
      "cell_type": "code",
      "metadata": {
        "id": "gb13gfjlLWzo"
      },
      "source": [
        "#Machine Learning libraries\n",
        "from tensorflow import keras\n",
        "from tensorflow.keras import layers"
      ],
      "execution_count": null,
      "outputs": []
    },
    {
      "cell_type": "code",
      "metadata": {
        "id": "NpAJlAMtNCHf"
      },
      "source": [
        "#In case we only want these in our space\n",
        "from tensorflow.keras.models import Sequential\n",
        "from tensorflow.keras.layers import Dense\n",
        "from tensorflow.keras.layers import Dropout\n",
        "#from tensorflow.keras import utils #hmmm so this doesn't work...\n",
        "#from keras import utils #HMMMMM this doesn't work either\n",
        "#why do I need the specific function and not utils package...?\n",
        "from keras.utils import to_categorical"
      ],
      "execution_count": null,
      "outputs": []
    },
    {
      "cell_type": "markdown",
      "metadata": {
        "id": "rInuPaKofuoH"
      },
      "source": [
        "An Initial Model"
      ]
    },
    {
      "cell_type": "code",
      "metadata": {
        "id": "m51bx5WoLW2J"
      },
      "source": [
        "#Constructing our layers\n",
        "model = Sequential([\n",
        "  Dense(64, activation='relu'),\n",
        "  Dense(64, activation='relu'),\n",
        "  Dense(10, activation='softmax'),\n",
        "])"
      ],
      "execution_count": null,
      "outputs": []
    },
    {
      "cell_type": "code",
      "metadata": {
        "id": "O5hFCyeZLW4m"
      },
      "source": [
        "#Comppiling our model with categorical crossentropy loss; adam optimizer\n",
        "model.compile(\n",
        "  optimizer='adam',\n",
        "  loss='categorical_crossentropy',\n",
        "  metrics=['accuracy'],\n",
        ")"
      ],
      "execution_count": null,
      "outputs": []
    },
    {
      "cell_type": "code",
      "metadata": {
        "colab": {
          "base_uri": "https://localhost:8080/"
        },
        "id": "xlNRfr2-LW69",
        "outputId": "e5cb5e4b-0568-46a4-dcee-abdbfc26ba36"
      },
      "source": [
        "#Training the model with 5 epochs and batching\n",
        "#to_categorical is important in relation to our last softmax layer.\n",
        "#In particular, we're feeding an array of integers, when we want an array of VECTORS\n",
        "#...containing each integer classification\n",
        "#i.e, [5] will become ~[0 0 0 0 0 1 0 0 0 0]\n",
        "model.fit(\n",
        "  xTrain, # training data\n",
        "  to_categorical(yTrain), # training labels\n",
        "  epochs=10,\n",
        "  batch_size=32,\n",
        "  validation_data=(xTest, to_categorical(yTest))\n",
        ")"
      ],
      "execution_count": null,
      "outputs": [
        {
          "output_type": "stream",
          "text": [
            "Epoch 1/10\n",
            "1875/1875 [==============================] - 4s 2ms/step - loss: 0.6003 - accuracy: 0.8159 - val_loss: 0.2113 - val_accuracy: 0.9361\n",
            "Epoch 2/10\n",
            "1875/1875 [==============================] - 3s 2ms/step - loss: 0.2082 - accuracy: 0.9361 - val_loss: 0.1695 - val_accuracy: 0.9463\n",
            "Epoch 3/10\n",
            "1875/1875 [==============================] - 3s 2ms/step - loss: 0.1510 - accuracy: 0.9532 - val_loss: 0.1436 - val_accuracy: 0.9554\n",
            "Epoch 4/10\n",
            "1875/1875 [==============================] - 4s 2ms/step - loss: 0.1272 - accuracy: 0.9602 - val_loss: 0.1522 - val_accuracy: 0.9541\n",
            "Epoch 5/10\n",
            "1875/1875 [==============================] - 3s 2ms/step - loss: 0.1070 - accuracy: 0.9675 - val_loss: 0.1252 - val_accuracy: 0.9611\n",
            "Epoch 6/10\n",
            "1875/1875 [==============================] - 4s 2ms/step - loss: 0.0951 - accuracy: 0.9703 - val_loss: 0.1104 - val_accuracy: 0.9647\n",
            "Epoch 7/10\n",
            "1875/1875 [==============================] - 4s 2ms/step - loss: 0.0895 - accuracy: 0.9711 - val_loss: 0.1128 - val_accuracy: 0.9654\n",
            "Epoch 8/10\n",
            "1875/1875 [==============================] - 3s 2ms/step - loss: 0.0758 - accuracy: 0.9756 - val_loss: 0.1182 - val_accuracy: 0.9661\n",
            "Epoch 9/10\n",
            "1875/1875 [==============================] - 3s 2ms/step - loss: 0.0723 - accuracy: 0.9764 - val_loss: 0.1203 - val_accuracy: 0.9659\n",
            "Epoch 10/10\n",
            "1875/1875 [==============================] - 3s 2ms/step - loss: 0.0661 - accuracy: 0.9780 - val_loss: 0.1285 - val_accuracy: 0.9638\n"
          ],
          "name": "stdout"
        },
        {
          "output_type": "execute_result",
          "data": {
            "text/plain": [
              "<tensorflow.python.keras.callbacks.History at 0x7f711f351350>"
            ]
          },
          "metadata": {
            "tags": []
          },
          "execution_count": 19
        }
      ]
    },
    {
      "cell_type": "code",
      "metadata": {
        "colab": {
          "base_uri": "https://localhost:8080/"
        },
        "id": "6XCwEMGBOeqa",
        "outputId": "aa91f406-d35b-4b48-c90c-3adfcddf5902"
      },
      "source": [
        "#Evaluating the model on the test data\n",
        "model.evaluate(xTest,to_categorical(yTest))"
      ],
      "execution_count": null,
      "outputs": [
        {
          "output_type": "stream",
          "text": [
            "313/313 [==============================] - 0s 1ms/step - loss: 0.1285 - accuracy: 0.9638\n"
          ],
          "name": "stdout"
        },
        {
          "output_type": "execute_result",
          "data": {
            "text/plain": [
              "[0.12850268185138702, 0.9638000130653381]"
            ]
          },
          "metadata": {
            "tags": []
          },
          "execution_count": 20
        }
      ]
    },
    {
      "cell_type": "markdown",
      "metadata": {
        "id": "szLEA_EZbIms"
      },
      "source": [
        "Adjusting and playing with the model/training"
      ]
    },
    {
      "cell_type": "code",
      "metadata": {
        "id": "WlZzgJxbbT6G"
      },
      "source": [
        "#Constructing our layers; now with dropout layers\n",
        "model = Sequential([\n",
        "  Dense(64, activation='relu'),\n",
        "  Dense(64, activation='relu'),  \n",
        "  Dropout(0.5),\n",
        "  Dense(10, activation='softmax'),\n",
        "])"
      ],
      "execution_count": null,
      "outputs": []
    },
    {
      "cell_type": "code",
      "metadata": {
        "id": "o0SGzhEydhJZ"
      },
      "source": [
        "#Compiling our model with categorical crossentropy loss; adam optimizer\n",
        "model.compile(\n",
        "  optimizer='adam',\n",
        "  loss='categorical_crossentropy',\n",
        "  metrics=['accuracy'],\n",
        ")"
      ],
      "execution_count": null,
      "outputs": []
    },
    {
      "cell_type": "code",
      "metadata": {
        "id": "SdRnjnTSLW9V",
        "colab": {
          "base_uri": "https://localhost:8080/"
        },
        "outputId": "fedd5673-58b4-4e0d-f86c-31f37cf5c9a9"
      },
      "source": [
        "#model fit; now with validation\n",
        "model.fit(\n",
        "  xTrain,\n",
        "  to_categorical(yTrain),\n",
        "  epochs=10,\n",
        "  batch_size=32,\n",
        "  validation_data=(xTest, to_categorical(yTest))\n",
        "  )"
      ],
      "execution_count": null,
      "outputs": [
        {
          "output_type": "stream",
          "text": [
            "Epoch 1/10\n",
            "1875/1875 [==============================] - 4s 2ms/step - loss: 0.8256 - accuracy: 0.7302 - val_loss: 0.2324 - val_accuracy: 0.9279\n",
            "Epoch 2/10\n",
            "1875/1875 [==============================] - 4s 2ms/step - loss: 0.2941 - accuracy: 0.9148 - val_loss: 0.1829 - val_accuracy: 0.9439\n",
            "Epoch 3/10\n",
            "1875/1875 [==============================] - 4s 2ms/step - loss: 0.2293 - accuracy: 0.9347 - val_loss: 0.1479 - val_accuracy: 0.9561\n",
            "Epoch 4/10\n",
            "1875/1875 [==============================] - 4s 2ms/step - loss: 0.1984 - accuracy: 0.9448 - val_loss: 0.1502 - val_accuracy: 0.9549\n",
            "Epoch 5/10\n",
            "1875/1875 [==============================] - 4s 2ms/step - loss: 0.1803 - accuracy: 0.9489 - val_loss: 0.1304 - val_accuracy: 0.9610\n",
            "Epoch 6/10\n",
            "1875/1875 [==============================] - 4s 2ms/step - loss: 0.1593 - accuracy: 0.9543 - val_loss: 0.1226 - val_accuracy: 0.9633\n",
            "Epoch 7/10\n",
            "1875/1875 [==============================] - 4s 2ms/step - loss: 0.1490 - accuracy: 0.9576 - val_loss: 0.1257 - val_accuracy: 0.9646\n",
            "Epoch 8/10\n",
            "1875/1875 [==============================] - 4s 2ms/step - loss: 0.1431 - accuracy: 0.9587 - val_loss: 0.1234 - val_accuracy: 0.9648\n",
            "Epoch 9/10\n",
            "1875/1875 [==============================] - 4s 2ms/step - loss: 0.1301 - accuracy: 0.9623 - val_loss: 0.1191 - val_accuracy: 0.9668\n",
            "Epoch 10/10\n",
            "1875/1875 [==============================] - 4s 2ms/step - loss: 0.1248 - accuracy: 0.9626 - val_loss: 0.1072 - val_accuracy: 0.9690\n"
          ],
          "name": "stdout"
        },
        {
          "output_type": "execute_result",
          "data": {
            "text/plain": [
              "<tensorflow.python.keras.callbacks.History at 0x7fbd44a4a250>"
            ]
          },
          "metadata": {
            "tags": []
          },
          "execution_count": 93
        }
      ]
    },
    {
      "cell_type": "code",
      "metadata": {
        "id": "KoRrtXdFbH-e",
        "colab": {
          "base_uri": "https://localhost:8080/"
        },
        "outputId": "63815504-260a-4333-9644-a8d634c21e4b"
      },
      "source": [
        "#Evaluating the model on the test data\n",
        "model.evaluate(xTest,to_categorical(yTest))"
      ],
      "execution_count": null,
      "outputs": [
        {
          "output_type": "stream",
          "text": [
            "313/313 [==============================] - 0s 1ms/step - loss: 0.1072 - accuracy: 0.9690\n"
          ],
          "name": "stdout"
        },
        {
          "output_type": "execute_result",
          "data": {
            "text/plain": [
              "[0.10716857761144638, 0.968999981880188]"
            ]
          },
          "metadata": {
            "tags": []
          },
          "execution_count": 94
        }
      ]
    },
    {
      "cell_type": "markdown",
      "metadata": {
        "id": "SFmUPxfre_8G"
      },
      "source": [
        "Using predictions of the model and constructing a Confusion matrix"
      ]
    },
    {
      "cell_type": "code",
      "metadata": {
        "colab": {
          "base_uri": "https://localhost:8080/"
        },
        "id": "JlR8pIdme06P",
        "outputId": "60d22049-1816-4481-fd61-0078999db5bd"
      },
      "source": [
        "# Predict on the first 5 test images.\n",
        "predictions = model.predict(xTest)\n",
        "\n",
        "# Print our model's predictions.\n",
        "print(np.argmax(predictions[:5], axis=1)) \n",
        "\n",
        "# Check our predictions against the ground truths.\n",
        "print(yTest[:5])"
      ],
      "execution_count": null,
      "outputs": [
        {
          "output_type": "stream",
          "text": [
            "[7 2 1 0 4]\n",
            "[7 2 1 0 4]\n"
          ],
          "name": "stdout"
        }
      ]
    },
    {
      "cell_type": "code",
      "metadata": {
        "colab": {
          "base_uri": "https://localhost:8080/"
        },
        "id": "rRh6Gpote08f",
        "outputId": "afa36ee5-0c77-489c-ba9e-438a466453e3"
      },
      "source": [
        "predictions[0]"
      ],
      "execution_count": null,
      "outputs": [
        {
          "output_type": "execute_result",
          "data": {
            "text/plain": [
              "array([5.1778455e-13, 4.9650395e-10, 1.4216567e-07, 7.6874012e-06,\n",
              "       2.1213875e-13, 9.7991326e-10, 7.1126894e-21, 9.9999213e-01,\n",
              "       7.9587968e-11, 1.2632773e-07], dtype=float32)"
            ]
          },
          "metadata": {
            "tags": []
          },
          "execution_count": 96
        }
      ]
    },
    {
      "cell_type": "code",
      "metadata": {
        "id": "9k15lQ-wfgdk"
      },
      "source": [
        "predictions1 = np.argmax(predictions, axis=1)"
      ],
      "execution_count": null,
      "outputs": []
    },
    {
      "cell_type": "code",
      "metadata": {
        "id": "uO_Me5Jie0-i"
      },
      "source": [
        "#Saving our outcome Y predictions\n",
        "import scipy.io\n",
        "\n",
        "scipy.io.savemat('testNN.mat', dict(predictions1=predictions1, correct=yTest))"
      ],
      "execution_count": null,
      "outputs": []
    },
    {
      "cell_type": "markdown",
      "metadata": {
        "id": "OdrefnucjQ-w"
      },
      "source": [
        "# C-NN <a  class=\"anchor\" id=\"three\" name=\"three\"></a> #\n"
      ]
    },
    {
      "cell_type": "markdown",
      "metadata": {
        "id": "_tW7DKmiwNm5"
      },
      "source": [
        "## Motivations for C-NN <a class=\"anchor\" id=\"three-one\" name=\"three-one\"></a> ##"
      ]
    },
    {
      "cell_type": "markdown",
      "metadata": {
        "id": "4rOq0lm_vhWk"
      },
      "source": [
        "1. **Large Images:** Consider a larger image. 224x224 in size, with 3 RGB. Thus, we\n",
        "have 224x224x3 features, or roughly 150,000 features. If we consider\n",
        "many nodes, this is extraordinarily expensive\n",
        "2. **Invariances:** Convolution better handles edge shifting, that is, if we slightly transform an image, it still retains its essential identification."
      ]
    },
    {
      "cell_type": "markdown",
      "metadata": {
        "id": "_OfWgWhkc-Le"
      },
      "source": [
        "The following is a supervised method of C-NN training."
      ]
    },
    {
      "cell_type": "markdown",
      "metadata": {
        "id": "--qFA4YdvGW7"
      },
      "source": [
        "## C-NN Feedforward <a class=\"anchor\" id=\"three-two\" name=\"three-two\"></a> ##\n",
        "\n"
      ]
    },
    {
      "cell_type": "markdown",
      "metadata": {
        "id": "X-g8q85Lx0Uw"
      },
      "source": [
        "### Convolution <a class=\"anchor\" id=\"three-two-one\" name=\"three-two-one\"></a> ###"
      ]
    },
    {
      "cell_type": "code",
      "metadata": {
        "id": "LGrcfDN9ksid"
      },
      "source": [
        "class Conv:\n",
        "  #Convolutional Layer Class\n",
        "\n",
        "  def __init__(self, dim, filterNum):\n",
        "    #dim - length of one side of conv filter (e.g. 3x3, dim=3)\n",
        "    #filterNum - determines how many convolution filter layers will be used\n",
        "    #filters - numpy arr of filters initialized with random normal distribution values\n",
        "    #Note: Dividing by 9 implements Xavier initialization\n",
        "\n",
        "    self.dim = dim\n",
        "    self.filterNum = filterNum\n",
        "    self.filters = np.random.randn(filterNum, dim, dim) / 9\n",
        "\n",
        "  def regionGenerator(self, image):\n",
        "    \"\"\"\n",
        "    Input: An image of mxn\n",
        "    Outpuut: 2d numpy arrays with yield\n",
        "    Functionality: Generates all possible dimxdim image regions using valid padding.\n",
        "    Note: Yield works better for the generator than returning a large list at once\n",
        "    \"\"\"\n",
        "    m,n = image.shape\n",
        "\n",
        "    for i in range(m - 2):\n",
        "      for j in range(n - 2):\n",
        "        region = image[i:(i + self.dim), j:(j + self.dim)]\n",
        "        #Yielding (rather than returning) a location with dimxdim, with associated i,j\n",
        "        yield region, i, j\n",
        "\n",
        "  def forward(self,input):\n",
        "    \"\"\"\n",
        "    Input: (image)\n",
        "    Output:(convolution for each layerNumber convolution filter)\n",
        "    Functionality: Performs a forward pass of a convolution layer\n",
        "    \"\"\"\n",
        "    #shape of image\n",
        "    m,n = input.shape\n",
        "    #Blank output object of valid convolution for each filter\n",
        "    output = np.zeros((m - 2, n - 2, self.filterNum))\n",
        "\n",
        "    #We use our generator to iterate each region to perform the convolution\n",
        "    #Each region has an i,j associated with it\n",
        "    #np.sum takes the convolutoion for that region vs filters along axis=(1,2)\n",
        "    for currentRegion,i,j in self.regionGenerator(input):\n",
        "      output[i,j] = np.sum(currentRegion * self.filters, axis= (1,2))\n",
        "    return output"
      ],
      "execution_count": null,
      "outputs": []
    },
    {
      "cell_type": "markdown",
      "metadata": {
        "id": "moNojXbhVeX3"
      },
      "source": [
        "Example of Convolution Layer"
      ]
    },
    {
      "cell_type": "code",
      "metadata": {
        "colab": {
          "base_uri": "https://localhost:8080/"
        },
        "id": "bi_OlnrhVhAX",
        "outputId": "3ac1a0b1-dee8-4d0e-fe9c-6bd5dbc867b8"
      },
      "source": [
        "object1 = Conv(3,8)\n",
        "output = object1.forward(xTrain[0])\n",
        "output.shape"
      ],
      "execution_count": null,
      "outputs": [
        {
          "output_type": "execute_result",
          "data": {
            "text/plain": [
              "(26, 26, 8)"
            ]
          },
          "metadata": {
            "tags": []
          },
          "execution_count": 5
        }
      ]
    },
    {
      "cell_type": "markdown",
      "metadata": {
        "id": "YXfeFOwzVsu7"
      },
      "source": [
        "Demonstration of Programming Used\n",
        "\n",
        "Below it is demonstrated how the matrix multiplication and sum takes place appropirately"
      ]
    },
    {
      "cell_type": "code",
      "metadata": {
        "id": "cfXIG6E6ks5L",
        "colab": {
          "base_uri": "https://localhost:8080/"
        },
        "outputId": "9a701537-cfed-47d4-e451-84836597e816"
      },
      "source": [
        "#Here we can see filters are constructed appropriately\n",
        "object2 = Conv(3,8)\n",
        "object2.filters"
      ],
      "execution_count": null,
      "outputs": [
        {
          "output_type": "execute_result",
          "data": {
            "text/plain": [
              "array([[[ 0.1620258 , -0.03949712,  0.18592248],\n",
              "        [-0.00688197, -0.13220466, -0.07185183],\n",
              "        [ 0.05501568, -0.14325138, -0.05393859]],\n",
              "\n",
              "       [[ 0.13471507,  0.17440606,  0.12440023],\n",
              "        [ 0.13360631, -0.01311093,  0.07599943],\n",
              "        [-0.22280663,  0.08263787,  0.17031129]],\n",
              "\n",
              "       [[ 0.00961843, -0.08931186, -0.05837847],\n",
              "        [ 0.02978031, -0.0013962 , -0.03631192],\n",
              "        [-0.27779298,  0.13273665,  0.13168553]],\n",
              "\n",
              "       [[ 0.01496955, -0.06553535, -0.0759538 ],\n",
              "        [-0.02393561,  0.02524038,  0.15201885],\n",
              "        [ 0.16809755,  0.03827875,  0.14757435]],\n",
              "\n",
              "       [[-0.06009024, -0.09169747, -0.12797365],\n",
              "        [-0.05763668, -0.133988  ,  0.00520959],\n",
              "        [-0.07593835, -0.07040611,  0.02517824]],\n",
              "\n",
              "       [[ 0.15254578, -0.04705088, -0.14702103],\n",
              "        [ 0.00200645,  0.13341694, -0.09177518],\n",
              "        [ 0.04109489, -0.02249475, -0.06718998]],\n",
              "\n",
              "       [[-0.17804608, -0.07250985, -0.13954395],\n",
              "        [ 0.03531423,  0.13210428,  0.04742926],\n",
              "        [-0.04360202,  0.07115009,  0.12084859]],\n",
              "\n",
              "       [[-0.26627974, -0.02375579,  0.01033549],\n",
              "        [-0.15875513, -0.05562005, -0.15487613],\n",
              "        [ 0.10416784, -0.12012013, -0.03611229]]])"
            ]
          },
          "metadata": {
            "tags": []
          },
          "execution_count": 6
        }
      ]
    },
    {
      "cell_type": "code",
      "metadata": {
        "id": "Cw3vpJi4hlGl",
        "colab": {
          "base_uri": "https://localhost:8080/"
        },
        "outputId": "1c63fe98-50d0-4583-e903-f83c6646a5da"
      },
      "source": [
        "#3x3 ones matrix\n",
        "onesDemo = np.ones((3, 3))\n",
        "onesDemo"
      ],
      "execution_count": null,
      "outputs": [
        {
          "output_type": "execute_result",
          "data": {
            "text/plain": [
              "array([[1., 1., 1.],\n",
              "       [1., 1., 1.],\n",
              "       [1., 1., 1.]])"
            ]
          },
          "metadata": {
            "tags": []
          },
          "execution_count": 7
        }
      ]
    },
    {
      "cell_type": "code",
      "metadata": {
        "colab": {
          "base_uri": "https://localhost:8080/"
        },
        "id": "p9VCNxyNRlIo",
        "outputId": "ba580e86-596c-4cc3-abc4-67f7a8e45b6a"
      },
      "source": [
        "#The following is ademonstration that multiplying a mxn matrix by an array of mxn matrices iterates each\n",
        "#They retain the same values since element-wise and ones matrix\n",
        "demonstration = onesDemo * object2.filters\n",
        "demonstration"
      ],
      "execution_count": null,
      "outputs": [
        {
          "output_type": "execute_result",
          "data": {
            "text/plain": [
              "array([[[ 0.1620258 , -0.03949712,  0.18592248],\n",
              "        [-0.00688197, -0.13220466, -0.07185183],\n",
              "        [ 0.05501568, -0.14325138, -0.05393859]],\n",
              "\n",
              "       [[ 0.13471507,  0.17440606,  0.12440023],\n",
              "        [ 0.13360631, -0.01311093,  0.07599943],\n",
              "        [-0.22280663,  0.08263787,  0.17031129]],\n",
              "\n",
              "       [[ 0.00961843, -0.08931186, -0.05837847],\n",
              "        [ 0.02978031, -0.0013962 , -0.03631192],\n",
              "        [-0.27779298,  0.13273665,  0.13168553]],\n",
              "\n",
              "       [[ 0.01496955, -0.06553535, -0.0759538 ],\n",
              "        [-0.02393561,  0.02524038,  0.15201885],\n",
              "        [ 0.16809755,  0.03827875,  0.14757435]],\n",
              "\n",
              "       [[-0.06009024, -0.09169747, -0.12797365],\n",
              "        [-0.05763668, -0.133988  ,  0.00520959],\n",
              "        [-0.07593835, -0.07040611,  0.02517824]],\n",
              "\n",
              "       [[ 0.15254578, -0.04705088, -0.14702103],\n",
              "        [ 0.00200645,  0.13341694, -0.09177518],\n",
              "        [ 0.04109489, -0.02249475, -0.06718998]],\n",
              "\n",
              "       [[-0.17804608, -0.07250985, -0.13954395],\n",
              "        [ 0.03531423,  0.13210428,  0.04742926],\n",
              "        [-0.04360202,  0.07115009,  0.12084859]],\n",
              "\n",
              "       [[-0.26627974, -0.02375579,  0.01033549],\n",
              "        [-0.15875513, -0.05562005, -0.15487613],\n",
              "        [ 0.10416784, -0.12012013, -0.03611229]]])"
            ]
          },
          "metadata": {
            "tags": []
          },
          "execution_count": 8
        }
      ]
    },
    {
      "cell_type": "code",
      "metadata": {
        "colab": {
          "base_uri": "https://localhost:8080/"
        },
        "id": "KWKg4bIZTcmR",
        "outputId": "db57a4fd-ea6a-45da-ae88-96c1b7457547"
      },
      "source": [
        "demo1 = np.sum(onesDemo * object1.filters, axis=(0)) #Sums each of the matrices...\n",
        "demo2 = np.sum(onesDemo * object1.filters, axis=(1)) #Sums each col for each matrix\n",
        "demo3 = np.sum(onesDemo * object1.filters, axis=(2)) #Sums each row for each matrix\n",
        "demo4 = np.sum(onesDemo * object1.filters, axis=(1,2)) #Takes col and row sum for each matrix\n",
        "\n",
        "#This may seem confusing, but it's actually really simple.\n",
        "#We're asking for the max ACROSS the row and column axis, only, for each.\n",
        "print(demo1)\n",
        "print(demo2)\n",
        "print(demo3) \n",
        "print(demo4) #Yes! A sum for each matrix 1x8"
      ],
      "execution_count": null,
      "outputs": [
        {
          "output_type": "stream",
          "text": [
            "[[-0.48418365  0.22823476  0.20851229]\n",
            " [ 0.05070577 -0.38035465  0.41181257]\n",
            " [ 0.37919693 -0.24723711 -0.33250606]]\n",
            "[[-0.20623554  0.09516286 -0.01933834]\n",
            " [-0.02108242 -0.13040184  0.22752261]\n",
            " [ 0.11757771 -0.37927459 -0.03802164]\n",
            " [ 0.10716064 -0.06063794  0.10955082]\n",
            " [-0.12847017 -0.09630738 -0.25285927]\n",
            " [-0.05512939  0.11672198 -0.06321427]\n",
            " [ 0.07913879  0.19505107  0.24843329]\n",
            " [ 0.05275943 -0.13967115  0.07574562]]\n",
            "[[-0.05013998  0.11177847 -0.19204951]\n",
            " [-0.11005347  0.04345985  0.14263197]\n",
            " [-0.14087143 -0.22988503  0.07103793]\n",
            " [ 0.07677365  0.07825759  0.00104227]\n",
            " [ 0.05710694 -0.15913341 -0.37561035]\n",
            " [-0.12349455  0.15754881 -0.03567594]\n",
            " [ 0.20326116  0.21644847  0.10291352]\n",
            " [ 0.03998108 -0.13631106  0.08516388]]\n",
            "[-0.13041102  0.07603835 -0.29971853  0.15607351 -0.47763682 -0.00162168\n",
            "  0.52262315 -0.0111661 ]\n"
          ],
          "name": "stdout"
        }
      ]
    },
    {
      "cell_type": "markdown",
      "metadata": {
        "id": "b7yuPdJmhnRq"
      },
      "source": [
        "### Maxpool Class <a class=\"anchor\" id=\"three-two-two\" name=\"three-two-two\"></a> ###"
      ]
    },
    {
      "cell_type": "markdown",
      "metadata": {
        "id": "F_pAfqH1XODs"
      },
      "source": [
        "Maxpool works nearly the same as convolution, except we take the max with no overlap instead.\n",
        "\n",
        "Note that we use axis(0,1) here to sum the row and column but not 2 (which would be summing across the filters)."
      ]
    },
    {
      "cell_type": "code",
      "metadata": {
        "id": "Omouz6mShlI-"
      },
      "source": [
        "class MaxPool:\n",
        "  #Maxpool Class \n",
        "  #NOTE: We are restricted to a 2x2 maxpool for now\n",
        "  def __init__(self, dim):\n",
        "    #dim - length of one side of maxpool filter (e.g. 2x2, dim=2)\n",
        "    #Note: Maxpool does not overlap regions like convolution class\n",
        "\n",
        "    self.dim = dim\n",
        "\n",
        "  def regionGenerator(self,image):\n",
        "    m, n, _ = image.shape\n",
        "    m2 = m // 2\n",
        "    n2 = n // 2\n",
        "\n",
        "    for i in range(m2):\n",
        "      for j in range(n2):\n",
        "        region = image[(i * 2):(i * 2 + 2), (j * 2):(j * 2 + 2)]\n",
        "        yield region, i, j\n",
        "          \n",
        "\n",
        "  def forward(self, input):\n",
        "    \"\"\"\n",
        "    Input: (matrix input)\n",
        "    Output: 3d matrix array of dim(m/2,n/2,filterNum)\n",
        "    Functionality: performs maxpool on input image for each filter\n",
        "    \"\"\"\n",
        "      \n",
        "    #Shape of matrix for each filter (filters make 3d)\n",
        "    m, n, filterNum = input.shape\n",
        "    #Empty output object for each filter\n",
        "    output = np.zeros((m // 2, n // 2, filterNum))\n",
        "\n",
        "    #Iterating across each region and finding max\n",
        "    for region, i, j in self.regionGenerator(input):\n",
        "      output[i, j] = np.amax(region, axis=(0, 1))\n",
        "        \n",
        "    return output"
      ],
      "execution_count": null,
      "outputs": []
    },
    {
      "cell_type": "markdown",
      "metadata": {
        "id": "I2ySdVhtjJu8"
      },
      "source": [
        "Example of MaxPool Layer"
      ]
    },
    {
      "cell_type": "code",
      "metadata": {
        "id": "WwgilHMkWUB3"
      },
      "source": [
        "conv = Conv(3,8)\n",
        "pool = MaxPool(2)"
      ],
      "execution_count": null,
      "outputs": []
    },
    {
      "cell_type": "code",
      "metadata": {
        "colab": {
          "base_uri": "https://localhost:8080/"
        },
        "id": "P_Sq9NoJWUEX",
        "outputId": "232bde57-bc40-4907-a73c-fa91340b3bb8"
      },
      "source": [
        "output = conv.forward(xTrain[0])\n",
        "output = pool.forward(output)\n",
        "output.shape"
      ],
      "execution_count": null,
      "outputs": [
        {
          "output_type": "execute_result",
          "data": {
            "text/plain": [
              "(13, 13, 8)"
            ]
          },
          "metadata": {
            "tags": []
          },
          "execution_count": 12
        }
      ]
    },
    {
      "cell_type": "markdown",
      "metadata": {
        "id": "i7gh0iVUjFCF"
      },
      "source": [
        "### Softmax Class <a class=\"anchor\" id=\"three-two-three\" name=\"three-two-three\"></a> ###"
      ]
    },
    {
      "cell_type": "markdown",
      "metadata": {
        "id": "Xbo1toqMkIEy"
      },
      "source": [
        "Softmax converts a value distribution to a probability distribution. Taking the max of such will be the activation that allows for classification.\n",
        "\n",
        "Softmax Formula:\n",
        " $$\\frac{e^{x_i}}{\\sum_{i=0}^{i=n} e^{x_i}} \\text{ for } x_0...x_n$$\n",
        "\n",
        "\n"
      ]
    },
    {
      "cell_type": "markdown",
      "metadata": {
        "id": "3B7pcliso9U2"
      },
      "source": [
        "I considered modifying Zhou's method to fit a natural Ax=b form. However, the advantage of not doing this is that the weights and bias arrays are row arrays. This makes indexing straight forward, as we can avoid using column and row vectors, and instead stay with simple array indexing. Computationally these should be roughly the same, the only difference being that if we wish to preserve column vectors, we would need some additional indexing. My consideration was simply to use $(xA=b)^{T}$ = $A^Tx^T = b^T$.\n",
        "\n",
        "For activation, we want to represent each of our features as a (weight*feature), weighting those features, compute a value corresponding to each digit 0...9, with some added bias. I will represent these as weights $\\omega_{0...n}$ and bias $\\beta_c$, for features $x_{0...n}$, for each digit class c.\n",
        "\n",
        "Note that for n features, we actually index 0 to n-1, not n, in python. Also note that it is better to sum our bias after, rather than to matrix multiply, because then we can keep our bias separate as an attribute of the class (without concatonation or pre-allocation of matrix A).\n",
        "\n",
        "Formula for c $\\in$ {0,1,...,9}:\n",
        "$$(\\omega_0x_0)+(\\omega_1x_1)+...+(\\omega_nx_n) + \\beta_c= d_c + \\beta_c = \\text{DigitValue}_{c}$$\n",
        "\n",
        "Represented as a linear algebraic system of 10 equations:\n",
        "\n",
        "\n",
        "\n",
        "Zhou's Method:\n",
        "\\begin{equation*}\n",
        "\\begin{bmatrix}\n",
        "\\omega_0  &\\omega_0  & \\cdots & \\omega_n  \n",
        "\\end{bmatrix}\n",
        "\\begin{bmatrix} \n",
        "x_{0,0} & x_{0,1} & \\cdots & x_{0,9} \\\\ \n",
        "x_{1,0} & x_{1,1} & \\cdots & x_{1,9}\\\\\n",
        "\\vdots & \\vdots & \\ddots \\\\ \n",
        "x_{n,0} & x_{9,1} & & x_{n,9}\n",
        "\\end{bmatrix}\n",
        "=\n",
        "\\begin{bmatrix}\n",
        "d_0 + \\beta_0  &d_1 +\\beta_1  & \\cdots & d_9+\\beta_9 \n",
        "\\end{bmatrix}\n",
        "\\end{equation*}\n",
        "\n",
        "Alternative Method:\n",
        "\\begin{equation*}\n",
        "\\begin{bmatrix} \n",
        "x_{0,0} & x_{0,1} & \\cdots & x_{0,n} \\\\ \n",
        "x_{1,0} & x_{1,1} & \\cdots & x_{1,n}\\\\\n",
        "\\vdots & \\vdots & \\ddots \\\\ \n",
        "x_{9,0} & x_{9,1} & & x_{9,n}\n",
        "\\end{bmatrix}\n",
        "\\begin{bmatrix}\n",
        "\\omega_0 \\\\ \n",
        "\\omega_1 \\\\\n",
        "\\vdots \\\\ \n",
        "\\omega_n \n",
        "\\end{bmatrix}\n",
        "=\n",
        "\\begin{bmatrix}\n",
        "d_0  \\\\ \n",
        "d_1  \\\\\n",
        "\\vdots \\\\ \n",
        "d_9\n",
        "\\end{bmatrix}\n",
        "+\n",
        "\\begin{bmatrix}\n",
        "\\beta_0 \\\\ \n",
        "\\beta_1 \\\\\n",
        "\\vdots \\\\ \n",
        "\\beta_9\n",
        "\\end{bmatrix}\n",
        "=\n",
        "\\begin{bmatrix}\n",
        "\\vdots \\\\ \n",
        "t_c \\\\ \n",
        "\\vdots\n",
        "\\end{bmatrix}\n",
        "\\end{equation*}\n",
        "\\\n",
        "Ultimitely I settled on Zhou's method because the indexing is so natural, although the alternative is the more familiar to me.\n",
        "\n",
        "\n"
      ]
    },
    {
      "cell_type": "markdown",
      "metadata": {
        "id": "n5cZcslIwh2U"
      },
      "source": [
        ""
      ]
    },
    {
      "cell_type": "code",
      "metadata": {
        "id": "dqliQB-uhlLR"
      },
      "source": [
        "\n",
        "class Softmax:\n",
        "  # A standard fully-connected layer with softmax activation.\n",
        "\n",
        "  def __init__(self, inputLen, nodes):\n",
        "    # inputLen - number of features m*n*k along m,n,k dimensions\n",
        "    # nodes - number of desired nodes\n",
        "    # weights - \n",
        "    # Note: We divide by inputLen to reduce the variance of our initial values\n",
        "\n",
        "    #np.random.seed(0)\n",
        "\n",
        "    self.weights = np.random.randn(inputLen, nodes) / inputLen\n",
        "    self.biases = np.zeros(nodes)\n",
        "\n",
        "  def computeSoftmax(self, valArr):\n",
        "    #Encapsulating the formal definition of softmax\n",
        "\n",
        "    expArr = np.exp(valArr)\n",
        "    return expArr / (np.sum(expArr, axis=0))\n",
        "\n",
        "  def forward(self, input):\n",
        "    \"\"\"\n",
        "    Input: Flattening allows for any input\n",
        "    Output: 1d array of respective probability distribution\n",
        "    Functionality: Computes fully connected softmax distribution with input array\n",
        "    \"\"\"\n",
        "    #Flattens the input into 1d array\n",
        "    input = input.flatten()\n",
        "\n",
        "    #Calculating values for each class c\n",
        "    totals = np.dot(input, self.weights) + self.biases\n",
        "\n",
        "    #Computing and returning probability distribution\n",
        "    return self.computeSoftmax(totals)"
      ],
      "execution_count": null,
      "outputs": []
    },
    {
      "cell_type": "markdown",
      "metadata": {
        "id": "4GmUA5JdPf5d"
      },
      "source": [
        "Example of Softmax Layer"
      ]
    },
    {
      "cell_type": "code",
      "metadata": {
        "colab": {
          "base_uri": "https://localhost:8080/"
        },
        "id": "wgzNkEKescjk",
        "outputId": "0f60c6fa-892a-4735-c3c3-1e280ff18d09"
      },
      "source": [
        "output = conv.forward(xTrain[0])\n",
        "output = pool.forward(output)\n",
        "softmax = Softmax(13 * 13 * 8, 10)\n",
        "out = softmax.forward(output)\n",
        "print(out)\n",
        "print(np.sum(out))"
      ],
      "execution_count": null,
      "outputs": [
        {
          "output_type": "stream",
          "text": [
            "[0.06330705 0.11898444 0.13886223 0.02231434 0.01060356 0.15252899\n",
            " 0.09613176 0.19998856 0.14214247 0.0551366 ]\n",
            "1.0\n"
          ],
          "name": "stdout"
        }
      ]
    },
    {
      "cell_type": "markdown",
      "metadata": {
        "id": "kd3b7oUiPlb0"
      },
      "source": [
        "### Cross-Entropy Loss <a class=\"anchor\" id=\"three-two-four\" name=\"three-two-four\"></a> ###"
      ]
    },
    {
      "cell_type": "markdown",
      "metadata": {
        "id": "1D3xPEJ4VqVa"
      },
      "source": [
        "The cross-entropy loss function is commonly used for classification. Loss is calculated as a measure of he probability for a particular class c among a distribution (as was attained from the softmax function, for example).\n",
        "\n",
        "Naturally, being a loss function, we want to minimize the loss error.\n",
        "\n",
        "$$L = -\\ln(p_c)$$"
      ]
    },
    {
      "cell_type": "code",
      "metadata": {
        "id": "AHrACxjYGVri"
      },
      "source": [
        "def crossEntropyLoss(pc):\n",
        "  \"\"\"\n",
        "  Input: pc, probability for label c\n",
        "  Output: cross entropy loss\n",
        "  Functionality: Calculates cross entropy loss\n",
        "  \"\"\"\n",
        "  return (-np.log(pc))\n"
      ],
      "execution_count": null,
      "outputs": []
    },
    {
      "cell_type": "code",
      "metadata": {
        "id": "wzSX-32WGVt3",
        "colab": {
          "base_uri": "https://localhost:8080/"
        },
        "outputId": "438ba98a-fa25-41db-97e5-0ca79b7abb68"
      },
      "source": [
        "out[1]"
      ],
      "execution_count": null,
      "outputs": [
        {
          "output_type": "execute_result",
          "data": {
            "text/plain": [
              "0.1189844425733209"
            ]
          },
          "metadata": {
            "tags": []
          },
          "execution_count": 16
        }
      ]
    },
    {
      "cell_type": "code",
      "metadata": {
        "id": "OMfjezf6GVwP",
        "colab": {
          "base_uri": "https://localhost:8080/"
        },
        "outputId": "db1e5177-be5f-41cd-a417-cfcecb9686b6"
      },
      "source": [
        "crossEntropyLoss(out[1])"
      ],
      "execution_count": null,
      "outputs": [
        {
          "output_type": "execute_result",
          "data": {
            "text/plain": [
              "2.128762529095106"
            ]
          },
          "metadata": {
            "tags": []
          },
          "execution_count": 17
        }
      ]
    },
    {
      "cell_type": "markdown",
      "metadata": {
        "id": "tSUEc7KigAsk"
      },
      "source": [
        "### Feedforward Method and Prediction <a class=\"anchor\" id=\"three-two-five\" name=\"three-two-five\"></a> ###"
      ]
    },
    {
      "cell_type": "markdown",
      "metadata": {
        "id": "ILRKJm97rdKl"
      },
      "source": [
        "Feedforward thus far"
      ]
    },
    {
      "cell_type": "code",
      "metadata": {
        "id": "z3yQE0aWw8fE"
      },
      "source": [
        "conv = Conv(3,8)\n",
        "pool = MaxPool(2)"
      ],
      "execution_count": null,
      "outputs": []
    },
    {
      "cell_type": "code",
      "metadata": {
        "id": "qZJtogaTGVyU",
        "colab": {
          "base_uri": "https://localhost:8080/"
        },
        "outputId": "e7ef78e7-542a-4117-d1f7-02707c306d3a"
      },
      "source": [
        "output = conv.forward(xTrain[0])\n",
        "output = pool.forward(output)\n",
        "softmax = Softmax(13 * 13 * 8, 10)\n",
        "out = softmax.forward(output)\n",
        "out"
      ],
      "execution_count": null,
      "outputs": [
        {
          "output_type": "execute_result",
          "data": {
            "text/plain": [
              "array([0.08599052, 0.08423136, 0.21316414, 0.04457939, 0.25236947,\n",
              "       0.05047417, 0.02057091, 0.10155226, 0.11638111, 0.03068667])"
            ]
          },
          "metadata": {
            "tags": []
          },
          "execution_count": 18
        }
      ]
    },
    {
      "cell_type": "markdown",
      "metadata": {
        "id": "6Vr-puD5XWx7"
      },
      "source": [
        "Zhou implementation\n",
        "\n",
        "We are interested in taking the test images and labels, and observing loss and accuracy for every 100. Noticibly, accuracy is roughly 10%, which is what we'd expect with a 1/10 chance of randomly guessing the correct digit. \n",
        "\n",
        "Once training occurs, we can start to see improvements as Gradient descents updates our weights as according to our partial derivative gradient."
      ]
    },
    {
      "cell_type": "code",
      "metadata": {
        "id": "wtIbQf0kGV0r",
        "colab": {
          "base_uri": "https://localhost:8080/"
        },
        "outputId": "8df3799f-d131-4695-ddd1-731d07531fee"
      },
      "source": [
        "def forward(image, label):\n",
        "  '''\n",
        "  Completes a forward pass of the CNN and calculates the accuracy and\n",
        "  cross-entropy loss.\n",
        "  - image is a 2d numpy array\n",
        "  - label is a digit\n",
        "  '''\n",
        "  # We transform the image from [0, 255] to [-0.5, 0.5] to make it easier\n",
        "  # to work with. This is standard practice.\n",
        "  out = conv.forward((image / 255) - 0.5)\n",
        "  out = pool.forward(out)\n",
        "  out = softmax.forward(out)\n",
        "\n",
        "  # Calculate cross-entropy loss and accuracy. np.log() is the natural log.\n",
        "  loss = -np.log(out[label])\n",
        "  acc = 1 if np.argmax(out) == label else 0\n",
        "\n",
        "  return out, loss, acc\n",
        "\n",
        "print('MNIST CNN initialized!')\n",
        "\n",
        "loss = 0\n",
        "num_correct = 0\n",
        "for i, (im, label) in enumerate(zip(xTest[0:400], yTest[0:400])):\n",
        "  # Do a forward pass.\n",
        "  _, l, acc = forward(im, label)\n",
        "  loss += l\n",
        "  num_correct += acc\n",
        "\n",
        "  # Print stats every 100 steps.\n",
        "  if i % 100 == 99:\n",
        "    print(\n",
        "      '[Step %d] Past 100 steps: Average Loss %.3f | Accuracy: %d%%' %\n",
        "      (i + 1, loss / 100, num_correct)\n",
        "    )\n",
        "    loss = 0\n",
        "    num_correct = 0\n",
        "\n",
        "\n"
      ],
      "execution_count": null,
      "outputs": [
        {
          "output_type": "stream",
          "text": [
            "MNIST CNN initialized!\n",
            "[Step 100] Past 100 steps: Average Loss 2.302 | Accuracy: 9%\n",
            "[Step 200] Past 100 steps: Average Loss 2.302 | Accuracy: 13%\n",
            "[Step 300] Past 100 steps: Average Loss 2.302 | Accuracy: 10%\n",
            "[Step 400] Past 100 steps: Average Loss 2.303 | Accuracy: 8%\n"
          ],
          "name": "stdout"
        }
      ]
    },
    {
      "cell_type": "markdown",
      "metadata": {
        "id": "hSFBFeRMrzR2"
      },
      "source": [
        "Alternative Identical Method"
      ]
    },
    {
      "cell_type": "markdown",
      "metadata": {
        "id": "Wjl7WQq6Z6JF"
      },
      "source": [
        "Object Instantiation and Feedforward Prep"
      ]
    },
    {
      "cell_type": "code",
      "metadata": {
        "id": "y5w0wjxOZ9R4"
      },
      "source": [
        "#Instantiation\n",
        "conv = Conv(3,8)\n",
        "pool = MaxPool(2)\n",
        "softmax = Softmax(13 * 13 * 8, 10)"
      ],
      "execution_count": null,
      "outputs": []
    },
    {
      "cell_type": "markdown",
      "metadata": {
        "id": "4nl3EX2vZ3e-"
      },
      "source": [
        "Alternative Feedforward"
      ]
    },
    {
      "cell_type": "code",
      "metadata": {
        "id": "zvVuX4t1eGzR"
      },
      "source": [
        "def feedforwardModify(image,label):\n",
        "  \"\"\"\n",
        "  Input: An image and label\n",
        "  Output: probability distribution,loss,accuracy\n",
        "  Functionality: Conducts forward pass predicting an image \n",
        "  \"\"\"\n",
        "\n",
        "  #converts to [-0.5,0.5]\n",
        "  #feedforward through convolution,pool,activation,softmax\n",
        "  output = conv.forward((image / 255) - 0.5)\n",
        "  output = pool.forward(output)\n",
        "  output = softmax.forward(output)\n",
        "\n",
        "  loss = crossEntropyLoss(output[label])\n",
        "\n",
        "  if(np.argmax(output) == label):\n",
        "    acc = 1\n",
        "  else:\n",
        "    acc = 0\n",
        "\n",
        "  return output, loss, acc\n"
      ],
      "execution_count": null,
      "outputs": []
    },
    {
      "cell_type": "code",
      "metadata": {
        "colab": {
          "base_uri": "https://localhost:8080/"
        },
        "id": "iEEeJ0LjeG1m",
        "outputId": "56dcd8b5-83ef-47a7-c12b-56a73506a358"
      },
      "source": [
        "\n",
        "print('MNIST CNN initialized!')\n",
        "loss = 0\n",
        "num_correct = 0\n",
        "for i, (im, label) in enumerate(zip(xTest[0:400], yTest[0:400])):\n",
        "  # Do a forward pass.\n",
        "  _, l, acc = feedforwardModify(im, label)\n",
        "  loss += l\n",
        "  num_correct += acc\n",
        "\n",
        "  # Print stats every 100 steps.\n",
        "  if i % 100 == 99:\n",
        "    print(\n",
        "      '[Step %d] Past 100 steps: Average Loss %.3f | Accuracy: %d%%' %\n",
        "      (i + 1, loss / 100, num_correct)\n",
        "    )\n",
        "    loss = 0\n",
        "    num_correct = 0"
      ],
      "execution_count": null,
      "outputs": [
        {
          "output_type": "stream",
          "text": [
            "MNIST CNN initialized!\n",
            "[Step 100] Past 100 steps: Average Loss 2.302 | Accuracy: 9%\n",
            "[Step 200] Past 100 steps: Average Loss 2.302 | Accuracy: 13%\n",
            "[Step 300] Past 100 steps: Average Loss 2.302 | Accuracy: 10%\n",
            "[Step 400] Past 100 steps: Average Loss 2.303 | Accuracy: 8%\n"
          ],
          "name": "stdout"
        }
      ]
    },
    {
      "cell_type": "markdown",
      "metadata": {
        "id": "_yL2Gd-3f66J"
      },
      "source": [
        "Feedforward without label in feedforward function"
      ]
    },
    {
      "cell_type": "code",
      "metadata": {
        "id": "nAeL1mnSgzTV"
      },
      "source": [
        "def feedforward(image):\n",
        "  \"\"\"\n",
        "  Input: An image\n",
        "  Output: A probability distribution for a given test image\n",
        "  Functionality: Conducts forward pass predicting an image\n",
        "  \"\"\"\n",
        "\n",
        "  #converts to [-0.5,0.5]\n",
        "  #feedforward through convolution,pool,activation,softmax\n",
        "  output = conv.forward((image / 255) - 0.5)\n",
        "  output = pool.forward(output)\n",
        "  output = softmax.forward(output)\n",
        "\n",
        "  return output\n"
      ],
      "execution_count": null,
      "outputs": []
    },
    {
      "cell_type": "code",
      "metadata": {
        "id": "lZD6W3mTgzVy",
        "colab": {
          "base_uri": "https://localhost:8080/"
        },
        "outputId": "19149395-0802-4532-acab-8fd481bb9f01"
      },
      "source": [
        "feedforward(xTest[0])"
      ],
      "execution_count": null,
      "outputs": [
        {
          "output_type": "execute_result",
          "data": {
            "text/plain": [
              "array([0.10051936, 0.10015951, 0.09934844, 0.10009936, 0.10007277,\n",
              "       0.09993042, 0.09971149, 0.10028407, 0.09955879, 0.10031578])"
            ]
          },
          "metadata": {
            "tags": []
          },
          "execution_count": 25
        }
      ]
    },
    {
      "cell_type": "code",
      "metadata": {
        "id": "RxxTrDuXgzXz"
      },
      "source": [
        "# Loss and accuracy specific to the particular digit, rather than each 100\n",
        "\n",
        "loss = np.zeros(len(xTest[0:500]))\n",
        "predictedValues = np.zeros(len(xTest[0:500]))\n",
        "\n",
        "for i, (im, label) in enumerate(zip(xTest[0:500], yTest[0:500])):\n",
        "\n",
        "  #Feedforward a single image\n",
        "  probDist = feedforward(xTest[i])\n",
        "\n",
        "  #Predicted digit is the argmax of the prob distribution\n",
        "  predictedDigit = np.argmax(probDist)\n",
        "\n",
        "  #Storing loss for index i\n",
        "  loss[i] = crossEntropyLoss(out[label])\n",
        "\n",
        "  #Adding the digit into a prediction array for a confusion matrix\n",
        "  predictedValues[i] = predictedDigit\n"
      ],
      "execution_count": null,
      "outputs": []
    },
    {
      "cell_type": "code",
      "metadata": {
        "id": "QrQqacAtgzZ5",
        "colab": {
          "base_uri": "https://localhost:8080/"
        },
        "outputId": "e33e3929-bab4-474b-a857-36446fdeb393"
      },
      "source": [
        "#Approximately the same overall mean loss\n",
        "loss.mean()"
      ],
      "execution_count": null,
      "outputs": [
        {
          "output_type": "execute_result",
          "data": {
            "text/plain": [
              "2.5441826909785332"
            ]
          },
          "metadata": {
            "tags": []
          },
          "execution_count": 27
        }
      ]
    },
    {
      "cell_type": "code",
      "metadata": {
        "id": "AUrqDxY_GV5E",
        "colab": {
          "base_uri": "https://localhost:8080/"
        },
        "outputId": "9fa51090-2643-48a0-8b6d-271af1cc10c2"
      },
      "source": [
        "from sklearn.metrics import confusion_matrix\n",
        "confusionMat = confusion_matrix(yTest[0:500], predictedValues)\n",
        "confusionMat"
      ],
      "execution_count": null,
      "outputs": [
        {
          "output_type": "execute_result",
          "data": {
            "text/plain": [
              "array([[ 0, 13,  0, 12,  6,  0,  2,  6,  0,  3],\n",
              "       [ 3,  5,  0,  0,  9,  0,  0,  6,  0, 44],\n",
              "       [ 2, 11,  0,  1,  4,  0,  0,  6,  0, 31],\n",
              "       [ 2, 16,  0,  0, 11,  0,  1,  2,  0, 13],\n",
              "       [ 2,  3,  0,  1, 21,  0,  0,  9,  0, 19],\n",
              "       [ 2, 14,  0,  5, 16,  0,  0, 10,  0,  3],\n",
              "       [ 0,  3,  0,  4, 17,  0,  0, 14,  0,  5],\n",
              "       [14,  1,  0,  0,  8,  0,  0,  1,  0, 25],\n",
              "       [ 0,  4,  0,  0, 12,  0,  0, 17,  0,  7],\n",
              "       [ 2,  2,  0,  0, 22,  0,  0,  4,  0, 24]])"
            ]
          },
          "metadata": {
            "tags": []
          },
          "execution_count": 28
        }
      ]
    },
    {
      "cell_type": "code",
      "metadata": {
        "colab": {
          "base_uri": "https://localhost:8080/"
        },
        "id": "igFNrtMpq_9R",
        "outputId": "c64d52a8-5969-45ed-e918-6e1b6d43350b"
      },
      "source": [
        "#Also roughly 10%\n",
        "confusionMat.trace() / np.sum(confusionMat)"
      ],
      "execution_count": null,
      "outputs": [
        {
          "output_type": "execute_result",
          "data": {
            "text/plain": [
              "0.102"
            ]
          },
          "metadata": {
            "tags": []
          },
          "execution_count": 29
        }
      ]
    },
    {
      "cell_type": "markdown",
      "metadata": {
        "id": "GUplVr82tUqS"
      },
      "source": [
        "## Back Propagation and Training <a class=\"anchor\" id=\"three-three\" name=\"three-three\"></a>##"
      ]
    },
    {
      "cell_type": "markdown",
      "metadata": {
        "id": "obq101yiy4VL"
      },
      "source": [
        "Now that we have a feedforward process, we need to be able to train our feedforward with back-propagation.\n",
        "\n",
        "To do this, we will cache data for each layer. Then we will update our loss gradient as we pass through each layer, and as we update for each image.\n",
        "\n",
        "Recall loss was defined using cross-entropy loss: $-\\ln(p_c)$. As such, the derivative will be \n",
        "\n",
        "0 if i $\\neq c$\n",
        "\n",
        "$-\\frac{1}{p_i}$ if i $=c$\n",
        "\n",
        "There is quite some more calculus involved for calculating and updating the gradient. I will skip this for now, as Zhou covered it very well. Since it seems mostly definitional, I will copy his implementation, as far as I understand it.\n",
        "\n",
        "In particular, we have a generalized gradient, but this general gradient has no way to be updated appropriately within our code. As such, we need to continue to derive until we can calculate gradients relative to what is in our code, namely weights, x pixel 'totals', and a bias for each class.\n",
        "\n",
        "Thus, we calculate a entropy loss gradient. Then calculate a softmax gradient. Then from this we can find gradients in the former regards, and update those."
      ]
    },
    {
      "cell_type": "code",
      "metadata": {
        "id": "y63jLbG7AnTA"
      },
      "source": [
        "#Overall Idea:\n",
        "\n",
        "# Feed forward\n",
        "#out = conv.forward((image / 255) - 0.5)\n",
        "#out = pool.forward(out)\n",
        "#out = softmax.forward(out)\n",
        "\n",
        "# Calculate initial gradient\n",
        "#gradient = np.zeros(10)\n",
        "#gradient[label] = -1 / out[label]\n",
        "\n",
        "# Backprop\n",
        "#gradient = softmax.backprop(gradient)\n",
        "#gradient = pool.backprop(gradient)\n",
        "#gradient = conv.backprop(gradient)"
      ],
      "execution_count": null,
      "outputs": []
    },
    {
      "cell_type": "code",
      "metadata": {
        "colab": {
          "base_uri": "https://localhost:8080/"
        },
        "id": "we6xaIfUBf2J",
        "outputId": "c35d6989-e297-4143-d279-676e47b786d3"
      },
      "source": [
        "# Feed forward\n",
        "out = conv.forward((xTest[0] / 255) - 0.5)\n",
        "out = pool.forward(out)\n",
        "out = softmax.forward(out)\n",
        "out"
      ],
      "execution_count": null,
      "outputs": [
        {
          "output_type": "execute_result",
          "data": {
            "text/plain": [
              "array([0.10051936, 0.10015951, 0.09934844, 0.10009936, 0.10007277,\n",
              "       0.09993042, 0.09971149, 0.10028407, 0.09955879, 0.10031578])"
            ]
          },
          "metadata": {
            "tags": []
          },
          "execution_count": 30
        }
      ]
    },
    {
      "cell_type": "code",
      "metadata": {
        "id": "JC-0UMdqB8dz",
        "colab": {
          "base_uri": "https://localhost:8080/"
        },
        "outputId": "d4dd063b-ddae-4a0f-b9d8-e508b6f69d93"
      },
      "source": [
        "label = np.argmax(out)\n",
        "label"
      ],
      "execution_count": null,
      "outputs": [
        {
          "output_type": "execute_result",
          "data": {
            "text/plain": [
              "0"
            ]
          },
          "metadata": {
            "tags": []
          },
          "execution_count": 32
        }
      ]
    },
    {
      "cell_type": "code",
      "metadata": {
        "colab": {
          "base_uri": "https://localhost:8080/"
        },
        "id": "FKI2eWjuB6OF",
        "outputId": "29357ed2-8e26-4832-b74b-06eec9fbaf15"
      },
      "source": [
        "#Thus we add the computed derivative at the location of the label, and 0 otherwise\n",
        "gradient = np.zeros(10)\n",
        "gradient[label] = -1 / out[label]\n",
        "gradient"
      ],
      "execution_count": null,
      "outputs": [
        {
          "output_type": "execute_result",
          "data": {
            "text/plain": [
              "array([-9.94833281,  0.        ,  0.        ,  0.        ,  0.        ,\n",
              "        0.        ,  0.        ,  0.        ,  0.        ,  0.        ])"
            ]
          },
          "metadata": {
            "tags": []
          },
          "execution_count": 33
        }
      ]
    },
    {
      "cell_type": "markdown",
      "metadata": {
        "id": "yLRITkDWxbOu"
      },
      "source": [
        "### Softmax Back Propagation <a class=\"anchor\" id=\"three-three-one\" name=\"three-three-one\"></a> ###"
      ]
    },
    {
      "cell_type": "markdown",
      "metadata": {
        "id": "IGRd0qQK8FKP"
      },
      "source": [
        "Zhou implementation:"
      ]
    },
    {
      "cell_type": "code",
      "metadata": {
        "id": "iYDKIS918E89"
      },
      "source": [
        "class Softmax:\n",
        "\n",
        "  def __init__(self, inputLen, nodes):\n",
        "\n",
        "    #Used for testing the method, but not used in practice\n",
        "    np.random.seed(0)\n",
        "\n",
        "    self.weights = np.random.randn(inputLen, nodes) / inputLen\n",
        "    self.biases = np.zeros(nodes)\n",
        "\n",
        "  def forward(self, input):\n",
        "    '''\n",
        "    Performs a forward pass of the softmax layer using the given input.\n",
        "    Returns a 1d numpy array containing the respective probability values.\n",
        "    - input can be any array with any dimensions.\n",
        "    '''\n",
        "    self.last_input_shape = input.shape\n",
        "\n",
        "    input = input.flatten()\n",
        "    self.last_input = input\n",
        "\n",
        "    input_len, nodes = self.weights.shape\n",
        "\n",
        "    totals = np.dot(input, self.weights) + self.biases\n",
        "    self.last_totals = totals\n",
        "\n",
        "    exp = np.exp(totals)\n",
        "    return exp / np.sum(exp, axis=0)\n",
        "\n",
        "  def backprop(self, d_L_d_out, learn_rate):\n",
        "    '''\n",
        "    Performs a backward pass of the softmax layer.\n",
        "    Returns the loss gradient for this layer's inputs.\n",
        "    - d_L_d_out is the loss gradient for this layer's outputs.\n",
        "    '''\n",
        "    #Simply used to test if indeed we arive at the same answer\n",
        "    global d_out_d_t\n",
        "\n",
        "    # We know only 1 element of d_L_d_out will be nonzero\n",
        "    for i, gradient in enumerate(d_L_d_out):\n",
        "      if gradient == 0:\n",
        "        continue\n",
        "\n",
        "      # e^totals\n",
        "      t_exp = np.exp(self.last_totals)\n",
        "\n",
        "      # Sum of all e^totals\n",
        "      S = np.sum(t_exp)\n",
        "\n",
        "      # Gradients of out[i] against totals\n",
        "      d_out_d_t = -t_exp[i] * t_exp / (S ** 2)\n",
        "      d_out_d_t[i] = t_exp[i] * (S - t_exp[i]) / (S ** 2)\n",
        "\n",
        "      # Gradients of loss against totals\n",
        "      d_L_d_t = gradient * d_out_d_t\n",
        "\n",
        "      # Gradients of totals against weights/biases/input\n",
        "      d_t_d_w = self.last_input      \n",
        "      d_t_d_b = 1      \n",
        "      d_t_d_inputs = self.weights\n",
        "      # Gradients of loss against totals\n",
        "      d_L_d_t = gradient * d_out_d_t\n",
        "      # Gradients of loss against weights/biases/input      \n",
        "      d_L_d_w = d_t_d_w[np.newaxis].T @ d_L_d_t[np.newaxis]      \n",
        "      d_L_d_b = d_L_d_t * d_t_d_b      \n",
        "      d_L_d_inputs = d_t_d_inputs @ d_L_d_t\n",
        "\n",
        "      # Update weights / biases      \n",
        "      self.weights -= learn_rate * d_L_d_w      \n",
        "      self.biases -= learn_rate * d_L_d_b      \n",
        "      return d_L_d_inputs.reshape(self.last_input_shape)\n"
      ],
      "execution_count": null,
      "outputs": []
    },
    {
      "cell_type": "markdown",
      "metadata": {
        "id": "k-PUeAiP9tnC"
      },
      "source": [
        "Testing out the Zhou implementation"
      ]
    },
    {
      "cell_type": "code",
      "metadata": {
        "id": "4kgAUfky8JBa"
      },
      "source": [
        "#Instantiation of conv and pool\n",
        "conv = Conv(3,8)\n",
        "pool = MaxPool(2)"
      ],
      "execution_count": null,
      "outputs": []
    },
    {
      "cell_type": "code",
      "metadata": {
        "id": "SGKexehW8JDz"
      },
      "source": [
        "#Instantiation of softmax \n",
        "softmax = Softmax(13 * 13 * 8, 10)"
      ],
      "execution_count": null,
      "outputs": []
    },
    {
      "cell_type": "code",
      "metadata": {
        "colab": {
          "base_uri": "https://localhost:8080/"
        },
        "id": "3lwVucd78JGB",
        "outputId": "971c8f11-2d8a-40b0-e6eb-9d47bd188a9f"
      },
      "source": [
        "# Feedforward\n",
        "out = conv.forward((xTest[0] / 255) - 0.5)\n",
        "out = pool.forward(out)\n",
        "out = softmax.forward(out)\n",
        "out"
      ],
      "execution_count": null,
      "outputs": [
        {
          "output_type": "execute_result",
          "data": {
            "text/plain": [
              "array([0.09956664, 0.10051692, 0.09956403, 0.09976503, 0.0999775 ,\n",
              "       0.09986324, 0.10034217, 0.10006443, 0.10011014, 0.10022991])"
            ]
          },
          "metadata": {
            "tags": []
          },
          "execution_count": 167
        }
      ]
    },
    {
      "cell_type": "code",
      "metadata": {
        "colab": {
          "base_uri": "https://localhost:8080/"
        },
        "id": "OAeE_sge8JIW",
        "outputId": "08dbe87e-c823-4bb5-e23c-aa15474ed949"
      },
      "source": [
        "label = np.argmax(out)\n",
        "\n",
        "#Thus we add the computed derivative at the location of the label, and 0 otherwise\n",
        "gradient = np.zeros(10)\n",
        "gradient[label] = -1 / out[label]\n",
        "gradient"
      ],
      "execution_count": null,
      "outputs": [
        {
          "output_type": "execute_result",
          "data": {
            "text/plain": [
              "array([ 0.        , -9.94857408,  0.        ,  0.        ,  0.        ,\n",
              "        0.        ,  0.        ,  0.        ,  0.        ,  0.        ])"
            ]
          },
          "metadata": {
            "tags": []
          },
          "execution_count": 168
        }
      ]
    },
    {
      "cell_type": "code",
      "metadata": {
        "id": "E1boNZiS8JKs"
      },
      "source": [
        "#Carrying out backpropagation\n",
        "softmax.backprop(gradient)"
      ],
      "execution_count": null,
      "outputs": []
    },
    {
      "cell_type": "code",
      "metadata": {
        "colab": {
          "base_uri": "https://localhost:8080/"
        },
        "id": "SQbi89vj8JM9",
        "outputId": "c8f3c768-632e-4cc5-ad7d-a23065e17d46"
      },
      "source": [
        "#Let's see if its the same with my implementation\n",
        "d_out_d_t"
      ],
      "execution_count": null,
      "outputs": [
        {
          "output_type": "execute_result",
          "data": {
            "text/plain": [
              "array([-0.01000813,  0.09041327, -0.01000787, -0.01002807, -0.01004943,\n",
              "       -0.01003795, -0.01008609, -0.01005817, -0.01006276, -0.0100748 ])"
            ]
          },
          "metadata": {
            "tags": []
          },
          "execution_count": 170
        }
      ]
    },
    {
      "cell_type": "markdown",
      "metadata": {
        "id": "npRr_kLS8JkY"
      },
      "source": [
        "My implementation:"
      ]
    },
    {
      "cell_type": "markdown",
      "metadata": {
        "id": "s3hCvFt8T5e-"
      },
      "source": [
        "This implementation is mostly the same with some minor changes to how we find the nonzero, and some naming.\n",
        "\n",
        "However, If I decide to change the dimensions of the prior implementation of softmax, to my matrix form, then I would edit this as well. Doing so would make the matrix multiplications of $\\frac{d_L}{d_t} \\cdot \\frac{d_t}{d_{\\text{wanted}}}$ more straightforward left multiplications, but result in column vectors when storing our attributes."
      ]
    },
    {
      "cell_type": "code",
      "metadata": {
        "id": "cwZMfWDUrACB"
      },
      "source": [
        "class Softmax:\n",
        "  # A standard fully-connected layer with softmax activation.\n",
        "\n",
        "  def __init__(self, inputLen, nodes):\n",
        "    # inputLen - number of features m*n*k along m,n,k dimensions\n",
        "    # nodes - number of desired nodes\n",
        "    # weights - weights multiplied by x values\n",
        "    # biases biases added to each tc = sum(xc*wc)\n",
        "    # Note: We divide by inputLen to reduce the variance of our initial values\n",
        "\n",
        "    #Used for testing the method, but not used in practice\n",
        "    #np.random.seed(0)\n",
        "\n",
        "    self.weights = np.random.randn(inputLen, nodes) / inputLen\n",
        "    self.biases = np.zeros(nodes)\n",
        "\n",
        "  def computeSoftmax(self, valArr):\n",
        "    #Encapsulating the formal definition of softmax\n",
        "\n",
        "    expArr = np.exp(valArr)\n",
        "    return expArr / (np.sum(expArr, axis=0))\n",
        "\n",
        "  def forward(self, input):\n",
        "    \"\"\"\n",
        "    Input: Flattening allows for any input\n",
        "    Output: 1d array of respective probability distribution\n",
        "    Functionality: Computes fully connected softmax distribution with input array\n",
        "    \"\"\"\n",
        "\n",
        "    # Stores original shape\n",
        "    self.orginalShape = input.shape\n",
        "\n",
        "    # Flattens the input into 1d array\n",
        "    input = input.flatten()\n",
        "\n",
        "    # Stores flat input\n",
        "    self.flatInput = input\n",
        "\n",
        "    # Calculating values for each class c\n",
        "    totals = np.dot(input, self.weights) + self.biases\n",
        "\n",
        "    # Stores activation sum of (weights*input)+bias_c\n",
        "    self.flatTotals = totals\n",
        "\n",
        "    # Computing and returning probability distribution\n",
        "    return self.computeSoftmax(totals)\n",
        "\n",
        "  def backprop(self, d_L_d_out,learn_rate):\n",
        "    \"\"\"\n",
        "    Input: d_L_d_out; loss gradient at softmax\n",
        "    Output: Updates loss gradient.\n",
        "    Functionality: Backwards propagation for softmax layer\n",
        "    \"\"\"\n",
        "\n",
        "    # Instead of for loop, extracting only nonzero\n",
        "    i = np.nonzero(d_L_d_out)\n",
        "    gradient = d_L_d_out[i]\n",
        "\n",
        "    # Softmax calculations\n",
        "    t_exp = np.exp(self.flatTotals)\n",
        "    S = np.sum(t_exp)\n",
        "\n",
        "    # Gradients of out[i] against totals\n",
        "    d_out_d_t = -t_exp[i] * t_exp / (S ** 2)\n",
        "    d_out_d_t[i] = t_exp[i] * (S - t_exp[i]) / (S ** 2)\n",
        "\n",
        "    # Gradients of loss against totals\n",
        "    d_L_d_t = gradient * d_out_d_t\n",
        "      \n",
        "    # Gradients of totals against weights/biases/input\n",
        "    d_t_d_w = self.flatInput      \n",
        "    d_t_d_b = 1      \n",
        "    d_t_d_inputs = self.weights\n",
        "\n",
        "    # Gradients of loss against totals\n",
        "    d_L_d_t = gradient * d_out_d_t\n",
        "\n",
        "    # Gradients of loss against weights/biases/input \n",
        "    # These are what we are especially interested in    \n",
        "    # Note: @ is simply the matmul function (matrix multiplication)\n",
        "    # It took a bit of playing around to see that these indeed work\n",
        "    #New axis simply increases dimension, so an np.array -> vector/matrix\n",
        "\n",
        "    # Note that matrices are not commutative in multiplication\n",
        "    # Note the pattern of chaining partial derivatives\n",
        "    # Likewise, note dL/dt = dL/dout * dout/dt\n",
        "\n",
        "    # dL/dw = dL/dout*dout/dt*dt/dw= dL/dt * dt/dw = dt/dw*dL/dt \n",
        "    d_L_d_w = d_t_d_w[np.newaxis].T @ d_L_d_t[np.newaxis]    \n",
        "\n",
        "    # dL/db = dL/dt*dout/dt*dt/db = dL/dt*dt/db\n",
        "    d_L_d_b = d_L_d_t * d_t_d_b    \n",
        "\n",
        "    # dL/dinput = dL/dt*dout/dt*dt/dinput = dL/dt*dt/dinputs = dt/dinput * dL/dt\n",
        "    d_L_d_inputs = d_t_d_inputs @ d_L_d_t\n",
        "\n",
        "    # Update weights / biases with learn rate     \n",
        "    self.weights -= learn_rate * d_L_d_w      \n",
        "    self.biases -= learn_rate * d_L_d_b \n",
        "\n",
        "    return d_L_d_inputs.reshape(self.orginalShape)"
      ],
      "execution_count": null,
      "outputs": []
    },
    {
      "cell_type": "code",
      "metadata": {
        "id": "L5LmfTSGU86A"
      },
      "source": [
        "    #Hmmmm I might actually implement a new matrix schema...\n",
        "    \n",
        "    # Because of the shape...we'd have to take the transpose of the whole...\n",
        "    #d_L_d_w2 = d_L_d_t[np.newaxis].T @ d_t_d_w[np.newaxis]\n",
        "    #d_L_d_w2 = d_L_d_w2.T"
      ],
      "execution_count": null,
      "outputs": []
    },
    {
      "cell_type": "markdown",
      "metadata": {
        "id": "M8J_WkjC1oVp"
      },
      "source": [
        "Testing Our Back Propagation"
      ]
    },
    {
      "cell_type": "code",
      "metadata": {
        "id": "Ij8ZzhFz5Zxb"
      },
      "source": [
        "#Instantiation of softmax \n",
        "softmax = Softmax(13 * 13 * 8, 10)"
      ],
      "execution_count": null,
      "outputs": []
    },
    {
      "cell_type": "code",
      "metadata": {
        "colab": {
          "base_uri": "https://localhost:8080/"
        },
        "id": "PepV7msv_RTo",
        "outputId": "b643c95f-f3af-49de-f0a3-402475b8bfdb"
      },
      "source": [
        "# Feedforward\n",
        "out = conv.forward((xTest[0] / 255) - 0.5)\n",
        "out = pool.forward(out)\n",
        "out = softmax.forward(out)\n",
        "out"
      ],
      "execution_count": null,
      "outputs": [
        {
          "output_type": "execute_result",
          "data": {
            "text/plain": [
              "array([0.09956664, 0.10051692, 0.09956403, 0.09976503, 0.0999775 ,\n",
              "       0.09986324, 0.10034217, 0.10006443, 0.10011014, 0.10022991])"
            ]
          },
          "metadata": {
            "tags": []
          },
          "execution_count": 226
        }
      ]
    },
    {
      "cell_type": "code",
      "metadata": {
        "colab": {
          "base_uri": "https://localhost:8080/"
        },
        "id": "BFkcnTx3_RVr",
        "outputId": "504631b7-2ed4-49d6-c35b-f58595f05f21"
      },
      "source": [
        "label = np.argmax(out)\n",
        "\n",
        "#Thus we add the computed derivative at the location of the label, and 0 otherwise\n",
        "gradient = np.zeros(10)\n",
        "gradient[label] = -1 / out[label]\n",
        "gradient"
      ],
      "execution_count": null,
      "outputs": [
        {
          "output_type": "execute_result",
          "data": {
            "text/plain": [
              "array([ 0.        , -9.94857408,  0.        ,  0.        ,  0.        ,\n",
              "        0.        ,  0.        ,  0.        ,  0.        ,  0.        ])"
            ]
          },
          "metadata": {
            "tags": []
          },
          "execution_count": 227
        }
      ]
    },
    {
      "cell_type": "code",
      "metadata": {
        "id": "PCkf2D3R_RYK"
      },
      "source": [
        "softmax.backprop(gradient)"
      ],
      "execution_count": null,
      "outputs": []
    },
    {
      "cell_type": "code",
      "metadata": {
        "colab": {
          "base_uri": "https://localhost:8080/"
        },
        "id": "ohRcA8Gh_RaN",
        "outputId": "4854760f-f888-4e77-d6f0-873c6a7ed93b"
      },
      "source": [
        "#Sugoi\n",
        "d_out_d_t"
      ],
      "execution_count": null,
      "outputs": [
        {
          "output_type": "execute_result",
          "data": {
            "text/plain": [
              "array([-0.01000813,  0.09041327, -0.01000787, -0.01002807, -0.01004943,\n",
              "       -0.01003795, -0.01008609, -0.01005817, -0.01006276, -0.0100748 ])"
            ]
          },
          "metadata": {
            "tags": []
          },
          "execution_count": 182
        }
      ]
    },
    {
      "cell_type": "markdown",
      "metadata": {
        "id": "jltE-RBtLRnD"
      },
      "source": [
        "The following is personal testing for matrix dimensions"
      ]
    },
    {
      "cell_type": "code",
      "metadata": {
        "id": "PNgdYH-HLVzr"
      },
      "source": [
        "#Instantiation of softmax \n",
        "softmax = Softmax(13 * 13 * 8, 10)"
      ],
      "execution_count": null,
      "outputs": []
    },
    {
      "cell_type": "code",
      "metadata": {
        "colab": {
          "base_uri": "https://localhost:8080/"
        },
        "id": "nWrKwGISLV12",
        "outputId": "e0fb7f14-2bc2-421d-b492-07ff25737c27"
      },
      "source": [
        "# Feedforward\n",
        "out = conv.forward((xTest[0] / 255) - 0.5)\n",
        "out = pool.forward(out)\n",
        "out = softmax.forward(out)\n",
        "out"
      ],
      "execution_count": null,
      "outputs": [
        {
          "output_type": "execute_result",
          "data": {
            "text/plain": [
              "array([0.09956664, 0.10051692, 0.09956403, 0.09976503, 0.0999775 ,\n",
              "       0.09986324, 0.10034217, 0.10006443, 0.10011014, 0.10022991])"
            ]
          },
          "metadata": {
            "tags": []
          },
          "execution_count": 241
        }
      ]
    },
    {
      "cell_type": "code",
      "metadata": {
        "colab": {
          "base_uri": "https://localhost:8080/"
        },
        "id": "qftc9ZUVLV4S",
        "outputId": "c579c7bc-f83e-49d6-afe8-3086e5178b3a"
      },
      "source": [
        "label = np.argmax(out)\n",
        "\n",
        "#Thus we add the computed derivative at the location of the label, and 0 otherwise\n",
        "gradient = np.zeros(10)\n",
        "gradient[label] = -1 / out[label]\n",
        "gradient"
      ],
      "execution_count": null,
      "outputs": [
        {
          "output_type": "execute_result",
          "data": {
            "text/plain": [
              "array([ 0.        , -9.94857408,  0.        ,  0.        ,  0.        ,\n",
              "        0.        ,  0.        ,  0.        ,  0.        ,  0.        ])"
            ]
          },
          "metadata": {
            "tags": []
          },
          "execution_count": 242
        }
      ]
    },
    {
      "cell_type": "code",
      "metadata": {
        "id": "a2p47U3BLV6w"
      },
      "source": [
        "nextOut1 = softmax.backprop(gradient,0.05)"
      ],
      "execution_count": null,
      "outputs": []
    },
    {
      "cell_type": "code",
      "metadata": {
        "colab": {
          "base_uri": "https://localhost:8080/"
        },
        "id": "cXWgkbGVLV9O",
        "outputId": "b274af48-dbbe-447f-b401-e32d93b282e1"
      },
      "source": [
        "#Comparing my output with his...\n",
        "nextOut == nextOut1"
      ],
      "execution_count": null,
      "outputs": [
        {
          "output_type": "execute_result",
          "data": {
            "text/plain": [
              "array([[[ True,  True,  True, ...,  True,  True,  True],\n",
              "        [ True,  True,  True, ...,  True,  True,  True],\n",
              "        [ True,  True,  True, ...,  True,  True,  True],\n",
              "        ...,\n",
              "        [ True,  True,  True, ...,  True,  True,  True],\n",
              "        [ True,  True,  True, ...,  True,  True,  True],\n",
              "        [ True,  True,  True, ...,  True,  True,  True]],\n",
              "\n",
              "       [[ True,  True,  True, ...,  True,  True,  True],\n",
              "        [ True,  True,  True, ...,  True,  True,  True],\n",
              "        [ True,  True,  True, ...,  True,  True,  True],\n",
              "        ...,\n",
              "        [ True,  True,  True, ...,  True,  True,  True],\n",
              "        [ True,  True,  True, ...,  True,  True,  True],\n",
              "        [ True,  True,  True, ...,  True,  True,  True]],\n",
              "\n",
              "       [[ True,  True,  True, ...,  True,  True,  True],\n",
              "        [ True,  True,  True, ...,  True,  True,  True],\n",
              "        [ True,  True,  True, ...,  True,  True,  True],\n",
              "        ...,\n",
              "        [ True,  True,  True, ...,  True,  True,  True],\n",
              "        [ True,  True,  True, ...,  True,  True,  True],\n",
              "        [ True,  True,  True, ...,  True,  True,  True]],\n",
              "\n",
              "       ...,\n",
              "\n",
              "       [[ True,  True,  True, ...,  True,  True,  True],\n",
              "        [ True,  True,  True, ...,  True,  True,  True],\n",
              "        [ True,  True,  True, ...,  True,  True,  True],\n",
              "        ...,\n",
              "        [ True,  True,  True, ...,  True,  True,  True],\n",
              "        [ True,  True,  True, ...,  True,  True,  True],\n",
              "        [ True,  True,  True, ...,  True,  True,  True]],\n",
              "\n",
              "       [[ True,  True,  True, ...,  True,  True,  True],\n",
              "        [ True,  True,  True, ...,  True,  True,  True],\n",
              "        [ True,  True,  True, ...,  True,  True,  True],\n",
              "        ...,\n",
              "        [ True,  True,  True, ...,  True,  True,  True],\n",
              "        [ True,  True,  True, ...,  True,  True,  True],\n",
              "        [ True,  True,  True, ...,  True,  True,  True]],\n",
              "\n",
              "       [[ True,  True,  True, ...,  True,  True,  True],\n",
              "        [ True,  True,  True, ...,  True,  True,  True],\n",
              "        [ True,  True,  True, ...,  True,  True,  True],\n",
              "        ...,\n",
              "        [ True,  True,  True, ...,  True,  True,  True],\n",
              "        [ True,  True,  True, ...,  True,  True,  True],\n",
              "        [ True,  True,  True, ...,  True,  True,  True]]])"
            ]
          },
          "metadata": {
            "tags": []
          },
          "execution_count": 244
        }
      ]
    },
    {
      "cell_type": "markdown",
      "metadata": {
        "id": "O0j1vJHGX4ku"
      },
      "source": [
        "Training with only softmax back Propagation"
      ]
    },
    {
      "cell_type": "code",
      "metadata": {
        "id": "Epp5wcvuYcHb"
      },
      "source": [
        "#Instantiation of softmax \n",
        "softmax = Softmax(13 * 13 * 8, 10)"
      ],
      "execution_count": null,
      "outputs": []
    },
    {
      "cell_type": "code",
      "metadata": {
        "colab": {
          "base_uri": "https://localhost:8080/"
        },
        "id": "PUzq1lauU2bA",
        "outputId": "0ecc62dc-e857-425b-baef-2b8cd9f0d52a"
      },
      "source": [
        "def train(im, label, lr=.005):\n",
        "  '''\n",
        "  Completes a full training step on the given image and label.\n",
        "  Returns the cross-entropy loss and accuracy.\n",
        "  - image is a 2d numpy array\n",
        "  - label is a digit\n",
        "  - lr is the learning rate\n",
        "  '''\n",
        "  # Forward\n",
        "  out, loss, acc = feedforwardModify(im, label)\n",
        "\n",
        "  # Calculate initial gradient\n",
        "  gradient = np.zeros(10)\n",
        "  gradient[label] = -1 / out[label]\n",
        "\n",
        "  # Backprop\n",
        "  gradient = softmax.backprop(gradient, lr)\n",
        "  # TODO: backprop MaxPool layer\n",
        "  # TODO: backprop Conv layer\n",
        "\n",
        "  return loss, acc\n",
        "\n",
        "print('MNIST CNN initialized!')\n",
        "\n",
        "# Train!\n",
        "loss = 0\n",
        "num_correct = 0\n",
        "for i, (im, label) in enumerate(zip(xTrain[0:1000], yTrain[0:1000])):\n",
        "  if i % 100 == 99:\n",
        "    print(\n",
        "      '[Step %d] Past 100 steps: Average Loss %.3f | Accuracy: %d%%' %\n",
        "      (i + 1, loss / 100, num_correct)\n",
        "    )\n",
        "    loss = 0\n",
        "    num_correct = 0\n",
        "\n",
        "  l, acc = train(im, label)\n",
        "  loss += l\n",
        "  num_correct += acc"
      ],
      "execution_count": null,
      "outputs": [
        {
          "output_type": "stream",
          "text": [
            "MNIST CNN initialized!\n",
            "[Step 100] Past 100 steps: Average Loss 2.246 | Accuracy: 22%\n",
            "[Step 200] Past 100 steps: Average Loss 2.195 | Accuracy: 38%\n",
            "[Step 300] Past 100 steps: Average Loss 2.116 | Accuracy: 56%\n",
            "[Step 400] Past 100 steps: Average Loss 2.031 | Accuracy: 69%\n",
            "[Step 500] Past 100 steps: Average Loss 1.977 | Accuracy: 67%\n",
            "[Step 600] Past 100 steps: Average Loss 1.987 | Accuracy: 50%\n",
            "[Step 700] Past 100 steps: Average Loss 1.936 | Accuracy: 53%\n",
            "[Step 800] Past 100 steps: Average Loss 1.844 | Accuracy: 71%\n",
            "[Step 900] Past 100 steps: Average Loss 1.785 | Accuracy: 74%\n",
            "[Step 1000] Past 100 steps: Average Loss 1.755 | Accuracy: 70%\n"
          ],
          "name": "stdout"
        }
      ]
    },
    {
      "cell_type": "code",
      "metadata": {
        "id": "n5NSMXVKX8e7"
      },
      "source": [
        ""
      ],
      "execution_count": null,
      "outputs": []
    },
    {
      "cell_type": "code",
      "metadata": {
        "id": "dlt5aboOX8hL"
      },
      "source": [
        ""
      ],
      "execution_count": null,
      "outputs": []
    },
    {
      "cell_type": "code",
      "metadata": {
        "id": "DodYDRvcX8jb"
      },
      "source": [
        ""
      ],
      "execution_count": null,
      "outputs": []
    },
    {
      "cell_type": "code",
      "metadata": {
        "id": "YD9x7kAGX8lv"
      },
      "source": [
        ""
      ],
      "execution_count": null,
      "outputs": []
    },
    {
      "cell_type": "code",
      "metadata": {
        "id": "G8353SexLV_n"
      },
      "source": [
        ""
      ],
      "execution_count": null,
      "outputs": []
    },
    {
      "cell_type": "code",
      "metadata": {
        "id": "XzgODVrvLWB0"
      },
      "source": [
        ""
      ],
      "execution_count": null,
      "outputs": []
    },
    {
      "cell_type": "code",
      "metadata": {
        "id": "KTr6lZL1LWEO"
      },
      "source": [
        ""
      ],
      "execution_count": null,
      "outputs": []
    },
    {
      "cell_type": "markdown",
      "metadata": {
        "id": "tTG_z44dxlPW"
      },
      "source": [
        "### Maxpool Back Propagation <a class=\"anchor\" id=\"three-three-two\" name=\"three-three-two\"></a> ###"
      ]
    },
    {
      "cell_type": "code",
      "metadata": {
        "id": "QPUcN0M3xa0a"
      },
      "source": [
        "class MaxPool:\n",
        "  #Maxpool Class \n",
        "  #NOTE: We are restricted to a 2x2 maxpool for now\n",
        "  def __init__(self, dim):\n",
        "    #dim - length of one side of maxpool filter (e.g. 2x2, dim=2)\n",
        "    #Note: Maxpool does not overlap regions like convolution class\n",
        "\n",
        "    self.dim = dim\n",
        "\n",
        "  def regionGenerator(self,image):\n",
        "    m, n, _ = image.shape\n",
        "    m2 = m // 2\n",
        "    n2 = n // 2\n",
        "\n",
        "    for i in range(m2):\n",
        "      for j in range(n2):\n",
        "        region = image[(i * 2):(i * 2 + 2), (j * 2):(j * 2 + 2)]\n",
        "        yield region, i, j\n",
        "          \n",
        "\n",
        "  def forward(self, input):\n",
        "    \"\"\"\n",
        "    Input: (matrix input)\n",
        "    Output: 3d matrix array of dim(m/2,n/2,filterNum)\n",
        "    Functionality: performs maxpool on input image for each filter\n",
        "    \"\"\"\n",
        "\n",
        "    self.last_input = input\n",
        "\n",
        "    #Shape of matrix for each filter (filters make 3d)\n",
        "    m, n, filterNum = input.shape\n",
        "    #Empty output object for each filter\n",
        "    output = np.zeros((m // 2, n // 2, filterNum))\n",
        "\n",
        "    #Iterating across each region and finding max\n",
        "    for region, i, j in self.regionGenerator(input):\n",
        "      output[i, j] = np.amax(region, axis=(0, 1))\n",
        "        \n",
        "    return output\n",
        "\n",
        "  def backprop(self, d_L_d_out):\n",
        "    '''\n",
        "    Performs a backward pass of the maxpool layer.\n",
        "    Returns the loss gradient for this layer's inputs.\n",
        "    - d_L_d_out is the loss gradient for this layer's outputs.\n",
        "    '''\n",
        "    d_L_d_input = np.zeros(self.last_input.shape)\n",
        "\n",
        "    for region, i, j in self.regionGenerator(self.last_input):\n",
        "      h, w, f = region.shape\n",
        "      amax = np.amax(region, axis=(0, 1))\n",
        "\n",
        "      for i2 in range(h):\n",
        "        for j2 in range(w):\n",
        "          for f2 in range(f):\n",
        "            # If this pixel was the max value, copy the gradient to it.\n",
        "            if region[i2, j2, f2] == amax[f2]:\n",
        "              d_L_d_input[i * 2 + i2, j * 2 + j2, f2] = d_L_d_out[i, j, f2]\n",
        "\n",
        "    return d_L_d_input\n",
        "\n"
      ],
      "execution_count": null,
      "outputs": []
    },
    {
      "cell_type": "code",
      "metadata": {
        "id": "2i1Nodo8u86A"
      },
      "source": [
        ""
      ],
      "execution_count": null,
      "outputs": []
    },
    {
      "cell_type": "code",
      "metadata": {
        "id": "c7yq8S7gu88Z"
      },
      "source": [
        ""
      ],
      "execution_count": null,
      "outputs": []
    },
    {
      "cell_type": "code",
      "metadata": {
        "id": "Tzr-teSvrAES"
      },
      "source": [
        ""
      ],
      "execution_count": null,
      "outputs": []
    },
    {
      "cell_type": "markdown",
      "metadata": {
        "id": "BkkC5WfY3zyN"
      },
      "source": [
        "### Convolution Back Propagation <a class=\"anchor\" id=\"three-three-three\" name=\"three-three-three\"></a> ###"
      ]
    },
    {
      "cell_type": "code",
      "metadata": {
        "id": "WiNDdB0D38DT"
      },
      "source": [
        "class Conv:\n",
        "  #Convolutional Layer Class\n",
        "\n",
        "  def __init__(self, dim, filterNum):\n",
        "    #dim - length of one side of conv filter (e.g. 3x3, dim=3)\n",
        "    #filterNum - determines how many convolution filter layers will be used\n",
        "    #filters - numpy arr of filters initialized with random normal distribution values\n",
        "    #Note: Dividing by 9 implements Xavier initialization\n",
        "\n",
        "    self.dim = dim\n",
        "    self.filterNum = filterNum\n",
        "    self.filters = np.random.randn(filterNum, dim, dim) / 9\n",
        "\n",
        "  def regionGenerator(self, image):\n",
        "    \"\"\"\n",
        "    Input: An image of mxn\n",
        "    Outpuut: 2d numpy arrays with yield\n",
        "    Functionality: Generates all possible dimxdim image regions using valid padding.\n",
        "    Note: Yield works better for the generator than returning a large list at once\n",
        "    \"\"\"\n",
        "    m,n = image.shape\n",
        "\n",
        "    for i in range(m - 2):\n",
        "      for j in range(n - 2):\n",
        "        region = image[i:(i + self.dim), j:(j + self.dim)]\n",
        "        #Yielding (rather than returning) a location with dimxdim, with associated i,j\n",
        "        yield region, i, j\n",
        "\n",
        "  def forward(self,input):\n",
        "    \"\"\"\n",
        "    Input: (image)\n",
        "    Output:(convolution for each layerNumber convolution filter)\n",
        "    Functionality: Performs a forward pass of a convolution layer\n",
        "    \"\"\"\n",
        "    #shape of image\n",
        "    m,n = input.shape\n",
        "    #Blank output object of valid convolution for each filter\n",
        "    output = np.zeros((m - 2, n - 2, self.filterNum))\n",
        "\n",
        "    #Cache input\n",
        "    self.last_input = input\n",
        "\n",
        "    #We use our generator to iterate each region to perform the convolution\n",
        "    #Each region has an i,j associated with it\n",
        "    #np.sum takes the convolutoion for that region vs filters along axis=(1,2)\n",
        "    for currentRegion,i,j in self.regionGenerator(input):\n",
        "      output[i,j] = np.sum(currentRegion * self.filters, axis= (1,2))\n",
        "    return output\n",
        "\n",
        "  def backprop(self, d_L_d_out, learn_rate):\n",
        "    '''\n",
        "    Performs a backward pass of the conv layer.\n",
        "    - d_L_d_out is the loss gradient for this layer's outputs.\n",
        "    - learn_rate is a float.\n",
        "    '''\n",
        "    d_L_d_filters = np.zeros(self.filters.shape)\n",
        "\n",
        "    for region, i, j in self.regionGenerator(self.last_input):\n",
        "      for f in range(self.filterNum):\n",
        "        d_L_d_filters[f] += d_L_d_out[i, j, f] * region\n",
        "\n",
        "    # Update filters\n",
        "    self.filters -= learn_rate * d_L_d_filters\n",
        "\n",
        "    #Not returning anything here since we use Conv as the first layer\n",
        "    #Otherwise, return the loss gradient for this layer inputs like other layers\n",
        "    return None\n"
      ],
      "execution_count": null,
      "outputs": []
    },
    {
      "cell_type": "code",
      "metadata": {
        "id": "Uf2KQARwLZ67"
      },
      "source": [
        ""
      ],
      "execution_count": null,
      "outputs": []
    },
    {
      "cell_type": "markdown",
      "metadata": {
        "id": "PUQ0kRoaddJv"
      },
      "source": [
        "### Training with Epochs <a class=\"anchor\" id=\"three-three-four\" name=\"three-three-four\"></a> ### "
      ]
    },
    {
      "cell_type": "code",
      "metadata": {
        "id": "-kPL7pbTdkOc"
      },
      "source": [
        "#Instantiation of conv and pool\n",
        "conv = Conv(3,8)\n",
        "pool = MaxPool(2)\n",
        "softmax = Softmax(13 * 13 * 8, 10)"
      ],
      "execution_count": null,
      "outputs": []
    },
    {
      "cell_type": "code",
      "metadata": {
        "id": "Jqu3z72QLZ_L"
      },
      "source": [
        "def feedforwardModify(image,label):\n",
        "  \"\"\"\n",
        "  Input: An image and label\n",
        "  Output: probability distribution,loss,accuracy\n",
        "  Functionality: Conducts forward pass predicting an image \n",
        "  \"\"\"\n",
        "\n",
        "  #converts to [-0.5,0.5]\n",
        "  #feedforward through convolution,pool,activation,softmax\n",
        "  output = conv.forward((image / 255) - 0.5)\n",
        "  output = pool.forward(output)\n",
        "  output = softmax.forward(output)\n",
        "\n",
        "  loss = crossEntropyLoss(output[label])\n",
        "\n",
        "  if(np.argmax(output) == label):\n",
        "    acc = 1\n",
        "  else:\n",
        "    acc = 0\n",
        "\n",
        "  return output, loss, acc\n",
        "\n",
        "def train(im, label, lr=.005):\n",
        "  '''\n",
        "  Completes a full training step on the given image and label.\n",
        "  Returns the cross-entropy loss and accuracy.\n",
        "  - image is a 2d numpy array\n",
        "  - label is a digit\n",
        "  - lr is the learning rate\n",
        "  '''\n",
        "  # Forward\n",
        "  out, loss, acc = feedforwardModify(im, label)\n",
        "\n",
        "  # Calculate initial gradient\n",
        "  gradient = np.zeros(10)\n",
        "  gradient[label] = -1 / out[label]\n",
        "\n",
        "  # Backprop\n",
        "  gradient = softmax.backprop(gradient, lr)\n",
        "  gradient = pool.backprop(gradient)\n",
        "  gradient = conv.backprop(gradient, lr)\n",
        "\n",
        "  return loss, acc"
      ],
      "execution_count": null,
      "outputs": []
    },
    {
      "cell_type": "code",
      "metadata": {
        "colab": {
          "base_uri": "https://localhost:8080/"
        },
        "id": "QYn-sd5WLaDp",
        "outputId": "b7a9e9ed-53e4-40be-f577-6c4f7b7f28b1"
      },
      "source": [
        "train_images = xTrain[:1000]\n",
        "train_labels = yTrain[:1000]\n",
        "test_images = xTest[:1000]\n",
        "test_labels = yTest[:1000]\n",
        "\n",
        "print('MNIST CNN initialized!')\n",
        "\n",
        "# Train the CNN for 3 epochs\n",
        "for epoch in range(3):\n",
        "  print('--- Epoch %d ---' % (epoch + 1))\n",
        "\n",
        "  # Shuffle the training data\n",
        "  permutation = np.random.permutation(len(train_images))\n",
        "  train_images = train_images[permutation]\n",
        "  train_labels = train_labels[permutation]\n",
        "\n",
        "  # Train!\n",
        "  loss = 0\n",
        "  num_correct = 0\n",
        "  for i, (im, label) in enumerate(zip(train_images, train_labels)):\n",
        "    if i > 0 and i % 100 == 99:\n",
        "      print(\n",
        "        '[Step %d] Past 100 steps: Average Loss %.3f | Accuracy: %d%%' %\n",
        "        (i + 1, loss / 100, num_correct)\n",
        "      )\n",
        "      loss = 0\n",
        "      num_correct = 0\n",
        "\n",
        "    l, acc = train(im, label)\n",
        "    loss += l\n",
        "    num_correct += acc\n",
        "\n",
        "# Test the CNN\n",
        "print('\\n--- Testing the CNN ---')\n",
        "loss = 0\n",
        "num_correct = 0\n",
        "for im, label in zip(test_images, test_labels):\n",
        "  _, l, acc = forward(im, label)\n",
        "  loss += l\n",
        "  num_correct += acc\n",
        "\n",
        "num_tests = len(test_images)\n",
        "print('Test Loss:', loss / num_tests)\n",
        "print('Test Accuracy:', num_correct / num_tests)"
      ],
      "execution_count": null,
      "outputs": [
        {
          "output_type": "stream",
          "text": [
            "MNIST CNN initialized!\n",
            "--- Epoch 1 ---\n",
            "[Step 100] Past 100 steps: Average Loss 2.215 | Accuracy: 19%\n",
            "[Step 200] Past 100 steps: Average Loss 1.966 | Accuracy: 33%\n",
            "[Step 300] Past 100 steps: Average Loss 1.459 | Accuracy: 64%\n",
            "[Step 400] Past 100 steps: Average Loss 1.087 | Accuracy: 65%\n",
            "[Step 500] Past 100 steps: Average Loss 0.862 | Accuracy: 75%\n",
            "[Step 600] Past 100 steps: Average Loss 0.914 | Accuracy: 72%\n",
            "[Step 700] Past 100 steps: Average Loss 0.688 | Accuracy: 81%\n",
            "[Step 800] Past 100 steps: Average Loss 0.684 | Accuracy: 77%\n",
            "[Step 900] Past 100 steps: Average Loss 0.745 | Accuracy: 77%\n",
            "[Step 1000] Past 100 steps: Average Loss 0.594 | Accuracy: 83%\n",
            "--- Epoch 2 ---\n",
            "[Step 100] Past 100 steps: Average Loss 0.429 | Accuracy: 89%\n",
            "[Step 200] Past 100 steps: Average Loss 0.461 | Accuracy: 85%\n",
            "[Step 300] Past 100 steps: Average Loss 0.582 | Accuracy: 85%\n",
            "[Step 400] Past 100 steps: Average Loss 0.672 | Accuracy: 78%\n",
            "[Step 500] Past 100 steps: Average Loss 0.630 | Accuracy: 80%\n",
            "[Step 600] Past 100 steps: Average Loss 0.531 | Accuracy: 83%\n",
            "[Step 700] Past 100 steps: Average Loss 0.460 | Accuracy: 87%\n",
            "[Step 800] Past 100 steps: Average Loss 0.535 | Accuracy: 82%\n",
            "[Step 900] Past 100 steps: Average Loss 0.473 | Accuracy: 84%\n",
            "[Step 1000] Past 100 steps: Average Loss 0.362 | Accuracy: 88%\n",
            "--- Epoch 3 ---\n",
            "[Step 100] Past 100 steps: Average Loss 0.315 | Accuracy: 90%\n",
            "[Step 200] Past 100 steps: Average Loss 0.420 | Accuracy: 90%\n",
            "[Step 300] Past 100 steps: Average Loss 0.488 | Accuracy: 87%\n",
            "[Step 400] Past 100 steps: Average Loss 0.408 | Accuracy: 85%\n",
            "[Step 500] Past 100 steps: Average Loss 0.404 | Accuracy: 87%\n",
            "[Step 600] Past 100 steps: Average Loss 0.346 | Accuracy: 89%\n",
            "[Step 700] Past 100 steps: Average Loss 0.305 | Accuracy: 89%\n",
            "[Step 800] Past 100 steps: Average Loss 0.488 | Accuracy: 86%\n",
            "[Step 900] Past 100 steps: Average Loss 0.496 | Accuracy: 84%\n",
            "[Step 1000] Past 100 steps: Average Loss 0.422 | Accuracy: 85%\n",
            "\n",
            "--- Testing the CNN ---\n",
            "Test Loss: 0.4905975896017013\n",
            "Test Accuracy: 0.834\n"
          ],
          "name": "stdout"
        }
      ]
    },
    {
      "cell_type": "markdown",
      "metadata": {
        "id": "hLA6kArxl6K3"
      },
      "source": [
        "Observations\n",
        "\n",
        "Following along with Zhou, and working with his implementation has gave me a very solid grasp on these introductory components! This was very exciting.\n",
        "\n",
        "Some things I'd consider coming back to change (not in a particular order):\n",
        "\n",
        "1. Generalize our methods:\n",
        "\\\n",
        "For example, Conv3x3 or Conv5x5 for dim = 3 or 5\n",
        "\\\n",
        "Or perhaps a different maxpooling number\n",
        "2. Modify the matrix multiplication of Softmax and the attributes to be column (IF AND ONLY IF such implementation is not much more computationally taxxing)\n",
        "3. Cleaner and better encapsulation for the training and testing\n",
        "4. Completely train, then completely test. Confusion Matrix too"
      ]
    },
    {
      "cell_type": "markdown",
      "metadata": {
        "id": "FQNcPDwtld_m"
      },
      "source": [
        "## Keras Equivalent of Zhou Implementation <a class=\"anchor\" id=\"three-four\" name=\"three-four\"></a> ##\n",
        "\n",
        "Please note this was done by Zhou himself, and I am simply copying it here. After implementing C-NN from the ground up, he then proceeds to make the same implementation using keras, as is found in his  [keras cnn tutorial](https://victorzhou.com/blog/keras-cnn-tutorial/). \n",
        "\n",
        "\n"
      ]
    },
    {
      "cell_type": "code",
      "metadata": {
        "id": "Updi64eTrNz1"
      },
      "source": [
        "#Importing keras utilities\n",
        "from tensorflow.keras.models import Sequential\n",
        "from tensorflow.keras.layers import Conv2D, MaxPooling2D, Dense, Flatten\n",
        "from tensorflow.keras.utils import to_categorical"
      ],
      "execution_count": null,
      "outputs": []
    },
    {
      "cell_type": "code",
      "metadata": {
        "colab": {
          "base_uri": "https://localhost:8080/"
        },
        "id": "zvfIHlFdldZr",
        "outputId": "415f9a0d-cd21-4678-d2a6-e14dcae6f42f"
      },
      "source": [
        "# Normalize the images.\n",
        "xTrain2 = (xTrain / 255) - 0.5\n",
        "xTest2 = (xTest / 255) - 0.5\n",
        "\n",
        "# Reshape the images.\n",
        "xTrain2 = np.expand_dims(xTrain2, axis=3)\n",
        "xTest2 = np.expand_dims(xTest2, axis=3)\n",
        "\n",
        "num_filters = 8\n",
        "filter_size = 3\n",
        "pool_size = 2\n",
        "\n",
        "# Build the model.\n",
        "model = Sequential([\n",
        "  Conv2D(num_filters, filter_size, input_shape=(28, 28, 1)),\n",
        "  MaxPooling2D(pool_size=pool_size),\n",
        "  Flatten(),\n",
        "  Dense(10, activation='softmax'),\n",
        "])\n",
        "\n",
        "# Compile the model.\n",
        "model.compile(\n",
        "  'adam',\n",
        "  loss='categorical_crossentropy',\n",
        "  metrics=['accuracy'],\n",
        ")\n",
        "\n",
        "# Train the model.\n",
        "model.fit(\n",
        "  xTrain2,\n",
        "  to_categorical(yTrain),\n",
        "  epochs=3,\n",
        "  validation_data=(xTest2, to_categorical(yTest)),\n",
        ")\n",
        "\n",
        "# Save the model to disk.\n",
        "model.save_weights('cnn.h5')\n",
        "\n",
        "# Load the model from disk later using:\n",
        "# model.load_weights('cnn.h5')\n",
        "\n",
        "# Predict on the first 5 test images.\n",
        "predictions = model.predict(xTest2[:5])\n",
        "\n",
        "# Print our model's predictions.\n",
        "print(np.argmax(predictions, axis=1)) # [7, 2, 1, 0, 4]\n",
        "\n",
        "# Check our predictions against the ground truths.\n",
        "print(test_labels[:5]) # [7, 2, 1, 0, 4]"
      ],
      "execution_count": null,
      "outputs": [
        {
          "output_type": "stream",
          "text": [
            "Epoch 1/3\n",
            "1875/1875 [==============================] - 16s 8ms/step - loss: 0.5563 - accuracy: 0.8424 - val_loss: 0.1836 - val_accuracy: 0.9482\n",
            "Epoch 2/3\n",
            "1875/1875 [==============================] - 15s 8ms/step - loss: 0.1844 - accuracy: 0.9476 - val_loss: 0.1357 - val_accuracy: 0.9592\n",
            "Epoch 3/3\n",
            "1875/1875 [==============================] - 16s 9ms/step - loss: 0.1271 - accuracy: 0.9636 - val_loss: 0.1042 - val_accuracy: 0.9682\n",
            "[7 2 1 0 4]\n",
            "[7 2 1 0 4]\n"
          ],
          "name": "stdout"
        }
      ]
    },
    {
      "cell_type": "markdown",
      "metadata": {
        "id": "q2vWAkWVvsww"
      },
      "source": [
        "Awesome! So we implemented CNN from the ground up using numpy, and also using keras, working to an accuracy of roughly 96 to 97 percent. \n",
        "\n",
        "What if we consider more questions regarding our C-NN architecture:\n",
        "\n",
        "We should consider playing around with other conv, maxpool, and softmax sizes/layers, and what if we include more/less layers? \n",
        "\n",
        "What else can we add to the model? What about dropout layers? Fully connected, or no?\n",
        "\n",
        "Lots of questions!"
      ]
    },
    {
      "cell_type": "markdown",
      "metadata": {
        "id": "RPHldywkxeN6"
      },
      "source": [
        "## Official Keras CNN Example <a class=\"anchor\" id=\"three-five\" name=\"three-five\"></a> ##"
      ]
    },
    {
      "cell_type": "markdown",
      "metadata": {
        "id": "oLuir31YzK0d"
      },
      "source": [
        "The [keras documentation](https://keras.io/getting_started/) provides a 99% accurate [example of CNN](https://keras.io/examples/vision/mnist_convnet/) for the MNIST database.\n",
        "\n",
        "The example features mostly the same architecture as prior but with some modification:\n",
        "1. There are two convolutional layers\n",
        "2. Convolutional layers have 32 and 64 filters of (same) size 3x3\n",
        "2. A dropout layer is introduced\n",
        "4. 15 epochs instead of 3\n",
        "5. Batch normalization"
      ]
    },
    {
      "cell_type": "markdown",
      "metadata": {
        "id": "BT6nCllX2y2F"
      },
      "source": [
        "These seem like fairly reasonable additions to our architecture. \n",
        "\n",
        "My primary question is \"why\" this architecture. What inferences about our data lead us to say $k_1$ filters is better than $k_2$ filters? What kind of inferences can we make prior to model construction to give us insight onto the appropriate number of filters, layers, and so forth, regarding neural networks?"
      ]
    },
    {
      "cell_type": "code",
      "metadata": {
        "id": "9M4tN3uB2yW5"
      },
      "source": [
        "#Importing\n",
        "from tensorflow import keras\n",
        "from tensorflow.keras import layers"
      ],
      "execution_count": null,
      "outputs": []
    },
    {
      "cell_type": "code",
      "metadata": {
        "id": "zvMBa8pUl5LM"
      },
      "source": [
        "#Importing MNIST data from keras\n",
        "(x_train, y_train), (x_test, y_test) = keras.datasets.mnist.load_data()"
      ],
      "execution_count": null,
      "outputs": []
    },
    {
      "cell_type": "code",
      "metadata": {
        "id": "DB7ULdA9l91R"
      },
      "source": [
        "#Converting to int32; forcing to 0-255 from uint8 causes error when subtraction leads to a negative value\n",
        "xTrain = x_train.astype(np.int64)\n",
        "yTrain = y_train.astype(np.int64)\n",
        "xTest = x_test.astype(np.int64)\n",
        "yTest = y_test.astype(np.int64)"
      ],
      "execution_count": null,
      "outputs": []
    },
    {
      "cell_type": "code",
      "metadata": {
        "id": "JjFbCbqLkUzB"
      },
      "source": [
        "# Model / data parameters\n",
        "num_classes = 10\n",
        "input_shape = (28, 28, 1)"
      ],
      "execution_count": null,
      "outputs": []
    },
    {
      "cell_type": "code",
      "metadata": {
        "id": "HGS4k3mrkU1X"
      },
      "source": [
        "#Preprocessing the data\n",
        "\n",
        "# Scale images to the [0, 1] range\n",
        "xTrain = xTrain.astype(\"float32\") / 255\n",
        "xTest = xTest.astype(\"float32\") / 255\n",
        "\n",
        "# Make sure images have shape (28, 28, 1)\n",
        "xTrain = np.expand_dims(xTrain, -1)\n",
        "xTest = np.expand_dims(xTest, -1)\n",
        "\n",
        "# convert class vectors to binary class matrices\n",
        "yTrain = keras.utils.to_categorical(yTrain, num_classes)\n",
        "yTest = keras.utils.to_categorical(yTest, num_classes)"
      ],
      "execution_count": null,
      "outputs": []
    },
    {
      "cell_type": "code",
      "metadata": {
        "colab": {
          "base_uri": "https://localhost:8080/"
        },
        "id": "gG_O8udIlP5T",
        "outputId": "4924dff8-e42a-4f0f-d8e8-f7f18f67775d"
      },
      "source": [
        "xTrain.shape"
      ],
      "execution_count": null,
      "outputs": [
        {
          "output_type": "execute_result",
          "data": {
            "text/plain": [
              "(60000, 28, 28, 1)"
            ]
          },
          "metadata": {
            "tags": []
          },
          "execution_count": 59
        }
      ]
    },
    {
      "cell_type": "code",
      "metadata": {
        "id": "85nurDMM38mF"
      },
      "source": [
        "#building the model\n",
        "\n",
        "model = keras.Sequential(\n",
        "    [\n",
        "        keras.Input(shape=input_shape),\n",
        "        layers.Conv2D(32, kernel_size=(3, 3), activation=\"relu\"),\n",
        "        layers.MaxPooling2D(pool_size=(2, 2)),\n",
        "        layers.Conv2D(64, kernel_size=(3, 3), activation=\"relu\"),\n",
        "        layers.MaxPooling2D(pool_size=(2, 2)),\n",
        "        layers.Flatten(),\n",
        "        layers.Dropout(0.5),\n",
        "        layers.Dense(num_classes, activation=\"softmax\"),\n",
        "    ]\n",
        ")"
      ],
      "execution_count": null,
      "outputs": []
    },
    {
      "cell_type": "code",
      "metadata": {
        "id": "XIyRXhaVzKdc",
        "colab": {
          "base_uri": "https://localhost:8080/"
        },
        "outputId": "29349708-3bb2-408b-d86e-e10438dfb4d2"
      },
      "source": [
        "#Defining batch size and number of epochs\n",
        "batch_size = 128\n",
        "epochs = 15\n",
        "\n",
        "#compile the model with corss entorpy loss\n",
        "model.compile(loss=\"categorical_crossentropy\", optimizer=\"adam\", metrics=[\"accuracy\"])\n",
        "#Fit the model with batch normalization and validation splitting\n",
        "model.fit(xTrain, yTrain, batch_size=batch_size, epochs=epochs, validation_split=0.1)"
      ],
      "execution_count": null,
      "outputs": [
        {
          "output_type": "stream",
          "text": [
            "Epoch 1/15\n",
            "422/422 [==============================] - 37s 87ms/step - loss: 0.7529 - accuracy: 0.7622 - val_loss: 0.0817 - val_accuracy: 0.9778\n",
            "Epoch 2/15\n",
            "422/422 [==============================] - 36s 86ms/step - loss: 0.1245 - accuracy: 0.9617 - val_loss: 0.0572 - val_accuracy: 0.9843\n",
            "Epoch 3/15\n",
            "422/422 [==============================] - 36s 86ms/step - loss: 0.0895 - accuracy: 0.9726 - val_loss: 0.0499 - val_accuracy: 0.9878\n",
            "Epoch 4/15\n",
            "422/422 [==============================] - 36s 86ms/step - loss: 0.0763 - accuracy: 0.9763 - val_loss: 0.0436 - val_accuracy: 0.9883\n",
            "Epoch 5/15\n",
            "422/422 [==============================] - 36s 86ms/step - loss: 0.0650 - accuracy: 0.9802 - val_loss: 0.0416 - val_accuracy: 0.9897\n",
            "Epoch 6/15\n",
            "422/422 [==============================] - 36s 86ms/step - loss: 0.0569 - accuracy: 0.9829 - val_loss: 0.0368 - val_accuracy: 0.9907\n",
            "Epoch 7/15\n",
            "422/422 [==============================] - 36s 86ms/step - loss: 0.0542 - accuracy: 0.9830 - val_loss: 0.0364 - val_accuracy: 0.9907\n",
            "Epoch 8/15\n",
            "422/422 [==============================] - 36s 86ms/step - loss: 0.0478 - accuracy: 0.9857 - val_loss: 0.0379 - val_accuracy: 0.9910\n",
            "Epoch 9/15\n",
            "422/422 [==============================] - 37s 86ms/step - loss: 0.0449 - accuracy: 0.9856 - val_loss: 0.0337 - val_accuracy: 0.9912\n",
            "Epoch 10/15\n",
            "422/422 [==============================] - 36s 86ms/step - loss: 0.0424 - accuracy: 0.9868 - val_loss: 0.0325 - val_accuracy: 0.9913\n",
            "Epoch 11/15\n",
            "422/422 [==============================] - 36s 86ms/step - loss: 0.0385 - accuracy: 0.9882 - val_loss: 0.0303 - val_accuracy: 0.9925\n",
            "Epoch 12/15\n",
            "422/422 [==============================] - 36s 86ms/step - loss: 0.0352 - accuracy: 0.9882 - val_loss: 0.0302 - val_accuracy: 0.9913\n",
            "Epoch 13/15\n",
            "422/422 [==============================] - 36s 85ms/step - loss: 0.0345 - accuracy: 0.9888 - val_loss: 0.0314 - val_accuracy: 0.9903\n",
            "Epoch 14/15\n",
            "422/422 [==============================] - 36s 84ms/step - loss: 0.0352 - accuracy: 0.9887 - val_loss: 0.0282 - val_accuracy: 0.9923\n",
            "Epoch 15/15\n",
            "422/422 [==============================] - 35s 84ms/step - loss: 0.0314 - accuracy: 0.9896 - val_loss: 0.0290 - val_accuracy: 0.9922\n"
          ],
          "name": "stdout"
        },
        {
          "output_type": "execute_result",
          "data": {
            "text/plain": [
              "<tensorflow.python.keras.callbacks.History at 0x7fbd44d430d0>"
            ]
          },
          "metadata": {
            "tags": []
          },
          "execution_count": 62
        }
      ]
    },
    {
      "cell_type": "code",
      "metadata": {
        "id": "y0DrEoKfzKf0",
        "colab": {
          "base_uri": "https://localhost:8080/"
        },
        "outputId": "1686d20c-8a9f-42db-e661-c51ebe86e0be"
      },
      "source": [
        "#Evaluating the model against test data\n",
        "score = model.evaluate(xTest, yTest, verbose=0)\n",
        "print(\"Test loss:\", score[0])\n",
        "print(\"Test accuracy:\", score[1])"
      ],
      "execution_count": null,
      "outputs": [
        {
          "output_type": "stream",
          "text": [
            "Test loss: 0.023443134501576424\n",
            "Test accuracy: 0.9916999936103821\n"
          ],
          "name": "stdout"
        }
      ]
    },
    {
      "cell_type": "code",
      "metadata": {
        "colab": {
          "base_uri": "https://localhost:8080/"
        },
        "id": "71-mRSndj83d",
        "outputId": "88543f70-2fe4-415a-8d7c-a4384671a204"
      },
      "source": [
        "# Predict on the first 5 test images.\n",
        "predictions = model.predict(xTest)\n",
        "\n",
        "# Print our model's predictions.\n",
        "print(np.argmax(predictions[:5], axis=1)) \n",
        "\n",
        "# Check our predictions against the ground truths.\n",
        "print(yTest[:5])"
      ],
      "execution_count": null,
      "outputs": [
        {
          "output_type": "stream",
          "text": [
            "[7 2 1 0 4]\n",
            "[[0. 0. 0. 0. 0. 0. 0. 1. 0. 0.]\n",
            " [0. 0. 1. 0. 0. 0. 0. 0. 0. 0.]\n",
            " [0. 1. 0. 0. 0. 0. 0. 0. 0. 0.]\n",
            " [1. 0. 0. 0. 0. 0. 0. 0. 0. 0.]\n",
            " [0. 0. 0. 0. 1. 0. 0. 0. 0. 0.]]\n"
          ],
          "name": "stdout"
        }
      ]
    },
    {
      "cell_type": "code",
      "metadata": {
        "id": "PDJdUK82mwhZ"
      },
      "source": [
        "#Converting back from categorical representation or from probability density\n",
        "predictions2 = (np.argmax(predictions, axis=1))\n",
        "yTest2 = (np.argmax(yTest, axis=1))"
      ],
      "execution_count": null,
      "outputs": []
    },
    {
      "cell_type": "code",
      "metadata": {
        "id": "1YKhmfIqxg7a"
      },
      "source": [
        "#Saving our outcome Y predictions\n",
        "import scipy.io\n",
        "\n",
        "scipy.io.savemat('testCNN.mat', dict(predictions2=predictions2, correct=yTest2))"
      ],
      "execution_count": null,
      "outputs": []
    },
    {
      "cell_type": "code",
      "metadata": {
        "id": "zzKm8LnOxg9r"
      },
      "source": [
        ""
      ],
      "execution_count": null,
      "outputs": []
    },
    {
      "cell_type": "markdown",
      "metadata": {
        "id": "3jPcS2Yko9zu"
      },
      "source": [
        "# Meta Modelling <a class=\"anchor\" id=\"four\" name=\"four\"></a> #"
      ]
    },
    {
      "cell_type": "markdown",
      "metadata": {
        "id": "z6VxusYBpQ33"
      },
      "source": [
        "Text regarding Meta Modelling"
      ]
    },
    {
      "cell_type": "markdown",
      "metadata": {
        "id": "iXj4OjWjpUxU"
      },
      "source": [
        "## Uniform Average Ensemble <a class=\"anchor\" id=\"four-one\" name=\"four-one\"></a> ##"
      ]
    },
    {
      "cell_type": "code",
      "metadata": {
        "id": "yBFPBNYto-Oo"
      },
      "source": [
        "#Importing MNIST data from keras\n",
        "(x_train, y_train), (x_test, y_test) = keras.datasets.mnist.load_data()"
      ],
      "execution_count": 109,
      "outputs": []
    },
    {
      "cell_type": "code",
      "metadata": {
        "id": "VgXxNYWkyFS_"
      },
      "source": [
        "#Converting to int64; forcing to 0-255 from uint8 causes error when subtraction leads to a negative value\n",
        "xTrain = x_train.astype(np.int64)\n",
        "yTrain = y_train.astype(np.int64)\n",
        "xTest = x_test.astype(np.int64)\n",
        "yTest = y_test.astype(np.int64)"
      ],
      "execution_count": 110,
      "outputs": []
    },
    {
      "cell_type": "code",
      "metadata": {
        "colab": {
          "base_uri": "https://localhost:8080/"
        },
        "id": "iVcD2Rqmyeo1",
        "outputId": "848775be-d2bc-4688-ecea-2d3d17f82c6d"
      },
      "source": [
        "# Normalize the images.\n",
        "xTrain = (xTrain / 255) - 0.5\n",
        "xTest = (xTest / 255) - 0.5\n",
        "\n",
        "# Flatten the images.\n",
        "xTrain = xTrain.reshape((-1, 784))\n",
        "xTest = xTest.reshape((-1, 784))\n",
        "#input = input.flatten()\n",
        "\n",
        "#printing shape\n",
        "print(xTrain.shape)\n",
        "print(xTest.shape)"
      ],
      "execution_count": 111,
      "outputs": [
        {
          "output_type": "stream",
          "text": [
            "(60000, 784)\n",
            "(10000, 784)\n"
          ],
          "name": "stdout"
        }
      ]
    },
    {
      "cell_type": "code",
      "metadata": {
        "id": "z_KdckTLyGHF"
      },
      "source": [
        "#Machine Learning libraries\n",
        "from tensorflow import keras\n",
        "from tensorflow.keras import layers"
      ],
      "execution_count": 8,
      "outputs": []
    },
    {
      "cell_type": "code",
      "metadata": {
        "id": "B_zFczMhx9kL"
      },
      "source": [
        "#In case we only want these in our space\n",
        "from tensorflow.keras.models import Sequential\n",
        "from tensorflow.keras.layers import Dense\n",
        "from tensorflow.keras.layers import Dropout\n",
        "#from tensorflow.keras import utils #hmmm so this doesn't work...\n",
        "#from keras import utils #HMMMMM this doesn't work either\n",
        "#why do I need the specific function and not utils package...?\n",
        "from keras.utils import to_categorical"
      ],
      "execution_count": 9,
      "outputs": []
    },
    {
      "cell_type": "code",
      "metadata": {
        "id": "t-EGypXU_GOz"
      },
      "source": [
        "from sklearn.metrics import accuracy_score"
      ],
      "execution_count": 10,
      "outputs": []
    },
    {
      "cell_type": "code",
      "metadata": {
        "id": "k7Qe-ub5x9mJ"
      },
      "source": [
        "#Constructing our layers\n",
        "model = Sequential([\n",
        "  Dense(64, activation='relu'),\n",
        "  Dense(64, activation='relu'),\n",
        "  Dense(10, activation='softmax'),\n",
        "])"
      ],
      "execution_count": 11,
      "outputs": []
    },
    {
      "cell_type": "code",
      "metadata": {
        "id": "EjBXcyVNyTF5"
      },
      "source": [
        "#Comppiling our model with categorical crossentropy loss; adam optimizer\n",
        "model.compile(\n",
        "  optimizer='adam',\n",
        "  loss='categorical_crossentropy',\n",
        "  metrics=['accuracy'],\n",
        ")"
      ],
      "execution_count": 12,
      "outputs": []
    },
    {
      "cell_type": "code",
      "metadata": {
        "colab": {
          "base_uri": "https://localhost:8080/"
        },
        "id": "XB584QVVo-Q1",
        "outputId": "68580f86-394f-4d92-fbdc-d50f16949222"
      },
      "source": [
        "#model fit; now with validation\n",
        "history = model.fit(\n",
        "  xTrain,\n",
        "  to_categorical(yTrain),\n",
        "  epochs=10,\n",
        "  batch_size=32,\n",
        "  validation_data=(xTest, to_categorical(yTest))\n",
        "  )"
      ],
      "execution_count": 13,
      "outputs": [
        {
          "output_type": "stream",
          "text": [
            "Epoch 1/10\n",
            "1875/1875 [==============================] - 6s 3ms/step - loss: 0.5713 - accuracy: 0.8282 - val_loss: 0.2094 - val_accuracy: 0.9342\n",
            "Epoch 2/10\n",
            "1875/1875 [==============================] - 5s 3ms/step - loss: 0.2050 - accuracy: 0.9381 - val_loss: 0.1644 - val_accuracy: 0.9475\n",
            "Epoch 3/10\n",
            "1875/1875 [==============================] - 4s 2ms/step - loss: 0.1469 - accuracy: 0.9542 - val_loss: 0.1347 - val_accuracy: 0.9580\n",
            "Epoch 4/10\n",
            "1875/1875 [==============================] - 5s 3ms/step - loss: 0.1213 - accuracy: 0.9619 - val_loss: 0.1195 - val_accuracy: 0.9623\n",
            "Epoch 5/10\n",
            "1875/1875 [==============================] - 5s 3ms/step - loss: 0.1058 - accuracy: 0.9668 - val_loss: 0.1356 - val_accuracy: 0.9587\n",
            "Epoch 6/10\n",
            "1875/1875 [==============================] - 5s 2ms/step - loss: 0.0958 - accuracy: 0.9707 - val_loss: 0.1105 - val_accuracy: 0.9672\n",
            "Epoch 7/10\n",
            "1875/1875 [==============================] - 5s 2ms/step - loss: 0.0824 - accuracy: 0.9745 - val_loss: 0.0924 - val_accuracy: 0.9706\n",
            "Epoch 8/10\n",
            "1875/1875 [==============================] - 5s 2ms/step - loss: 0.0766 - accuracy: 0.9744 - val_loss: 0.1022 - val_accuracy: 0.9695\n",
            "Epoch 9/10\n",
            "1875/1875 [==============================] - 5s 2ms/step - loss: 0.0706 - accuracy: 0.9772 - val_loss: 0.1036 - val_accuracy: 0.9692\n",
            "Epoch 10/10\n",
            "1875/1875 [==============================] - 4s 2ms/step - loss: 0.0635 - accuracy: 0.9793 - val_loss: 0.0980 - val_accuracy: 0.9716\n"
          ],
          "name": "stdout"
        }
      ]
    },
    {
      "cell_type": "markdown",
      "metadata": {
        "id": "5iW9KnyH94gs"
      },
      "source": [
        "We can plot the training and validation accuracy as stored for a single model.\n",
        "\n",
        "If there is a significant dorp off in validation accuracy, then there is likely overfitting occurring."
      ]
    },
    {
      "cell_type": "code",
      "metadata": {
        "colab": {
          "base_uri": "https://localhost:8080/",
          "height": 265
        },
        "id": "3FeorJR7o-TD",
        "outputId": "aa81757f-9531-43c6-ac43-1822be93ba9c"
      },
      "source": [
        "from matplotlib import pyplot\n",
        "# learning curves of model accuracy\n",
        "pyplot.plot(history.history['accuracy'], label='train')\n",
        "pyplot.plot(history.history['val_accuracy'], label='test')\n",
        "pyplot.legend()\n",
        "pyplot.show()"
      ],
      "execution_count": 14,
      "outputs": [
        {
          "output_type": "display_data",
          "data": {
            "image/png": "[encoded data removed]",
            "text/plain": [
              "<Figure size 432x288 with 1 Axes>"
            ]
          },
          "metadata": {
            "tags": [],
            "needs_background": "light"
          }
        }
      ]
    },
    {
      "cell_type": "code",
      "metadata": {
        "id": "ED3K93TPx802"
      },
      "source": [
        "#encapsulating the construction of a single model into a function\n",
        "\n",
        "def fitModel(xTrain,yTrain):\n",
        "  #Constructing our layers\n",
        "  model = Sequential([\n",
        "  Dense(64, activation='relu'),\n",
        "  Dense(64, activation='relu'),\n",
        "  Dense(10, activation='softmax'),\n",
        "  ])\n",
        "  #compiling the model\n",
        "  model.compile(\n",
        "      optimizer='adam',\n",
        "      loss='categorical_crossentropy',\n",
        "      metrics=['accuracy'],\n",
        "      )\n",
        "  model.fit(\n",
        "      xTrain,\n",
        "      to_categorical(yTrain),\n",
        "      epochs=5,\n",
        "      batch_size=32,\n",
        "      validation_data=(xTest, to_categorical(yTest)),\n",
        "      verbose=0\n",
        "      )\n",
        "  #returning our model\n",
        "  return model"
      ],
      "execution_count": 15,
      "outputs": []
    },
    {
      "cell_type": "markdown",
      "metadata": {
        "id": "ddqij2LC-j7N"
      },
      "source": [
        "Let's try our single model fit equation to fit a single model"
      ]
    },
    {
      "cell_type": "code",
      "metadata": {
        "id": "HiCMZcHax83Q"
      },
      "source": [
        "modelTest = fitModel(xTrain,yTrain)"
      ],
      "execution_count": 17,
      "outputs": []
    },
    {
      "cell_type": "code",
      "metadata": {
        "colab": {
          "base_uri": "https://localhost:8080/"
        },
        "id": "kPbZoEljHBno",
        "outputId": "aaa0ca1f-cb18-40b4-c547-857ea77b6055"
      },
      "source": [
        "modelTest.evaluate(xTest,to_categorical(yTest))"
      ],
      "execution_count": 18,
      "outputs": [
        {
          "output_type": "stream",
          "text": [
            "313/313 [==============================] - 0s 1ms/step - loss: 0.1489 - accuracy: 0.9564\n"
          ],
          "name": "stdout"
        },
        {
          "output_type": "execute_result",
          "data": {
            "text/plain": [
              "[0.14890636503696442, 0.9563999772071838]"
            ]
          },
          "metadata": {
            "tags": []
          },
          "execution_count": 18
        }
      ]
    },
    {
      "cell_type": "markdown",
      "metadata": {
        "id": "NR8sXwUZ-pyu"
      },
      "source": [
        "We can fit several models by passing through for loop (list comprehension format)"
      ]
    },
    {
      "cell_type": "code",
      "metadata": {
        "id": "bJlqA6GQx85Y"
      },
      "source": [
        "# Fit numModels (10,here) models; will take some time\n",
        "numModels = 10\n",
        "members = [fitModel(xTrain, yTrain) for _ in range(numModels)]"
      ],
      "execution_count": 19,
      "outputs": []
    },
    {
      "cell_type": "markdown",
      "metadata": {
        "id": "ekNDNYcP_q-p"
      },
      "source": [
        "We can create a probability distribution for any given test for any given model."
      ]
    },
    {
      "cell_type": "code",
      "metadata": {
        "colab": {
          "base_uri": "https://localhost:8080/"
        },
        "id": "Y6KaFraux89x",
        "outputId": "f4967183-e3c1-4de9-cb63-854d4aa13c0f"
      },
      "source": [
        "#probability distributions for the first model\n",
        "predictions0 = members[0].predict(xTest)\n",
        "# Print our model's predictions.\n",
        "print(np.argmax(predictions0[:5], axis=1))\n",
        "# Check our predictions against the test\n",
        "print(yTest[:5])"
      ],
      "execution_count": null,
      "outputs": [
        {
          "output_type": "stream",
          "text": [
            "[7 2 1 0 4]\n",
            "[7 2 1 0 4]\n"
          ],
          "name": "stdout"
        }
      ]
    },
    {
      "cell_type": "markdown",
      "metadata": {
        "id": "Yhl-nQl8_z7n"
      },
      "source": [
        "So let's sum our probability distributions across the five models"
      ]
    },
    {
      "cell_type": "code",
      "metadata": {
        "id": "GEZziTJyo-VZ"
      },
      "source": [
        "#Now let's sum our predictions for each model\n",
        "\n",
        "def ensemblePredictions(members,xTest):\n",
        "  #make predictions for each model in members\n",
        "  predictionDist = [model.predict(xTest) for model in members]\n",
        "  #cast from list to np array\n",
        "  predictionDist = np.array(predictionDist)\n",
        "\n",
        "  #sum each array element-wise (axis=0); (10000, 10)\n",
        "  summedPredictions = np.sum(predictionDist,axis=0)\n",
        "\n",
        "  #argmax to choose classification (10000,)\n",
        "  result = np.argmax(summedPredictions, axis=1)\n",
        "\n",
        "  #returning our predicted class\n",
        "  return result\n"
      ],
      "execution_count": 20,
      "outputs": []
    },
    {
      "cell_type": "code",
      "metadata": {
        "id": "eu_nzwYGo-YC"
      },
      "source": [
        "results = ensemblePredictions(members,xTest)"
      ],
      "execution_count": 21,
      "outputs": []
    },
    {
      "cell_type": "code",
      "metadata": {
        "colab": {
          "base_uri": "https://localhost:8080/"
        },
        "id": "M-2sq0pE6k_S",
        "outputId": "2016231e-2c31-41eb-b3e5-da5cc2808db7"
      },
      "source": [
        "results.shape"
      ],
      "execution_count": 22,
      "outputs": [
        {
          "output_type": "execute_result",
          "data": {
            "text/plain": [
              "(10000,)"
            ]
          },
          "metadata": {
            "tags": []
          },
          "execution_count": 22
        }
      ]
    },
    {
      "cell_type": "code",
      "metadata": {
        "id": "U5wiKy_V6lBt"
      },
      "source": [
        "#Evaluating first N subset of models\n",
        "\n",
        "def evaluateN(members, N, xTest, yTest):\n",
        "\t# Subset from 0 to N\n",
        "\tsubset = members[:N]\n",
        "\t# Make predictions\n",
        "\tpredictionDist = ensemblePredictions(subset, xTest)\n",
        "\t# calculate accuracy\n",
        "\treturn accuracy_score(predictionDist, yTest)\n"
      ],
      "execution_count": 23,
      "outputs": []
    },
    {
      "cell_type": "code",
      "metadata": {
        "id": "ZLEhdoNE6lEA"
      },
      "source": [
        "acc = evaluateN(members,4,xTest,yTest)"
      ],
      "execution_count": 24,
      "outputs": []
    },
    {
      "cell_type": "markdown",
      "metadata": {
        "id": "yo9FSz7Z_9MA"
      },
      "source": [
        "The following is our accuracy when considering the sum of probability distributions for every model without any weights"
      ]
    },
    {
      "cell_type": "code",
      "metadata": {
        "colab": {
          "base_uri": "https://localhost:8080/"
        },
        "id": "DCSevR7N6lGO",
        "outputId": "cc5e980b-6990-400c-9ae3-2db95bf42438"
      },
      "source": [
        "acc"
      ],
      "execution_count": 25,
      "outputs": [
        {
          "output_type": "execute_result",
          "data": {
            "text/plain": [
              "0.9739"
            ]
          },
          "metadata": {
            "tags": []
          },
          "execution_count": 25
        }
      ]
    },
    {
      "cell_type": "markdown",
      "metadata": {
        "id": "IFS0Ef_lAEFS"
      },
      "source": [
        "The following is the accuracy of model $m_k$ versus the combined accuracy of $m_1$ to $m_k$"
      ]
    },
    {
      "cell_type": "code",
      "metadata": {
        "colab": {
          "base_uri": "https://localhost:8080/"
        },
        "id": "MofH_4LT6lIm",
        "outputId": "124bcda4-306e-4d01-bf3a-5ac7b8281081"
      },
      "source": [
        "#Let's see this accuracy for each subset from 1...len+1\n",
        "#This is because we prior cut [0:N], boolean slice does not include last\n",
        "#i.e. [0:1] is [0]\n",
        "\n",
        "ensembleAccList = []\n",
        "singleModelAccList = []\n",
        "for i in range(1,len(members)+1):\n",
        "  #accuracy for the entire ensemble\n",
        "  ensembleAcc = evaluateN(members,i,xTest,yTest)\n",
        "  #accuracy for only the ith model alone;model scores:[0] is loss, [1] is accuracy\n",
        "  singleModelAcc = members[i-1].evaluate(xTest,to_categorical(yTest),verbose=0)[1]\n",
        "\n",
        "  #printing info\n",
        "  print(i,ensembleAcc,singleModelAcc)\n",
        "\n",
        "  #appending to list for visualization\n",
        "  ensembleAccList.append(ensembleAcc)\n",
        "  singleModelAccList.append(singleModelAcc)"
      ],
      "execution_count": 26,
      "outputs": [
        {
          "output_type": "stream",
          "text": [
            "1 0.961 0.9610000252723694\n",
            "2 0.971 0.96670001745224\n",
            "3 0.9727 0.9645000100135803\n",
            "4 0.9739 0.9664000272750854\n",
            "5 0.9738 0.9628999829292297\n",
            "6 0.9743 0.9648000001907349\n",
            "7 0.9743 0.9614999890327454\n",
            "8 0.9744 0.9577999711036682\n",
            "9 0.9747 0.961899995803833\n",
            "10 0.9755 0.964900016784668\n"
          ],
          "name": "stdout"
        }
      ]
    },
    {
      "cell_type": "markdown",
      "metadata": {
        "id": "2tc8bo_sD32m"
      },
      "source": [
        "These are already insightful results.\n",
        "1. 4 or greater is better for ensemble performance generally\n",
        "2. Each model cannot exceed 97, yet collectively, mostly do"
      ]
    },
    {
      "cell_type": "code",
      "metadata": {
        "id": "yLFWC0eG_wk_",
        "colab": {
          "base_uri": "https://localhost:8080/",
          "height": 265
        },
        "outputId": "ce647383-5627-4542-9a70-009e39a10d2f"
      },
      "source": [
        "#Quick dirty visualization\n",
        "#Could choose random collection of models instead if so desired\n",
        "nModels = list(range(1, len(members)+1))\n",
        "pyplot.plot(nModels, ensembleAccList, marker='o')\n",
        "pyplot.plot(nModels, singleModelAccList, marker='o',linestyle='None')\n",
        "pyplot.show()"
      ],
      "execution_count": 27,
      "outputs": [
        {
          "output_type": "display_data",
          "data": {
            "image/png": "[encoded data removed]",
            "text/plain": [
              "<Figure size 432x288 with 1 Axes>"
            ]
          },
          "metadata": {
            "tags": [],
            "needs_background": "light"
          }
        }
      ]
    },
    {
      "cell_type": "markdown",
      "metadata": {
        "id": "PhIKyQiPPfjk"
      },
      "source": [
        "## Weighted Average Ensemble <a class=\"anchor\" id=\"four-two\" name=\"four-two\"></a> ##"
      ]
    },
    {
      "cell_type": "markdown",
      "metadata": {
        "id": "wtzTLvRcIsLb"
      },
      "source": [
        "Now let's try this again with weights for each model"
      ]
    },
    {
      "cell_type": "code",
      "metadata": {
        "id": "kmvsg--QHRR7"
      },
      "source": [
        "#Now let's sum our predictions for each model WITH WEIGHTS\n",
        "\n",
        "def ensemblePredictionsWeighted(members,weights,xTest):\n",
        "  #make predictions for each model in members\n",
        "  predictionDist = [model.predict(xTest) for model in members]\n",
        "  #cast from list to np array\n",
        "  predictionDist = np.array(predictionDist)\n",
        "\n",
        "  #sum of predictions array per element, and by tensor weight\n",
        "  #be CAREFUL with those axes, son\n",
        "  summedPredictions = np.tensordot(predictionDist,weights,axes=((0),(0)))\n",
        "\n",
        "  #argmax to choose classification (10000,)\n",
        "  result = np.argmax(summedPredictions, axis=1)\n",
        "\n",
        "  #returning our predicted class\n",
        "  return result"
      ],
      "execution_count": 28,
      "outputs": []
    },
    {
      "cell_type": "code",
      "metadata": {
        "id": "mI40gZe8HRUl"
      },
      "source": [
        "#Evaluating first N subset of models WITH WEIGHTS\n",
        "\n",
        "def evaluateNWeights(members, N, weights, xTest, yTest):\n",
        "\t# Subset from 0 to N\n",
        "\tsubset = members[:N]\n",
        "\t# Make predictions\n",
        "\tpredictionDist = ensemblePredictionsWeighted(subset,weights[:N], xTest)\n",
        "\t# calculate accuracy\n",
        "\treturn accuracy_score(predictionDist, yTest)\n"
      ],
      "execution_count": 29,
      "outputs": []
    },
    {
      "cell_type": "code",
      "metadata": {
        "colab": {
          "base_uri": "https://localhost:8080/"
        },
        "id": "MBAS4SKdHRW9",
        "outputId": "54ec535e-f023-4661-9221-6429494ef7ae"
      },
      "source": [
        "#Same as before, but now we must construct weights for each model. Let's assume uniform\n",
        "#numModels defined above\n",
        "\n",
        "weights = np.array([1/numModels for _ in range(numModels)])\n",
        "weights"
      ],
      "execution_count": 30,
      "outputs": [
        {
          "output_type": "execute_result",
          "data": {
            "text/plain": [
              "array([0.1, 0.1, 0.1, 0.1, 0.1, 0.1, 0.1, 0.1, 0.1, 0.1])"
            ]
          },
          "metadata": {
            "tags": []
          },
          "execution_count": 30
        }
      ]
    },
    {
      "cell_type": "markdown",
      "metadata": {
        "id": "-UP9kQUhAqq1"
      },
      "source": [
        "The following evaluates models with a weight given to each model. The results are the same as above because here we choose the weights to be equal."
      ]
    },
    {
      "cell_type": "code",
      "metadata": {
        "colab": {
          "base_uri": "https://localhost:8080/"
        },
        "id": "l1N3Mf5RHRZU",
        "outputId": "a527e904-a2ca-45f5-cf75-30c5356acc99"
      },
      "source": [
        "#Same, but now with weights\n",
        "\n",
        "ensembleAccListW = []\n",
        "singleModelAccListW = []\n",
        "for i in range(1,len(members)+1):\n",
        "  #accuracy for the entire ensemble\n",
        "  ensembleAccW = evaluateNWeights(members,i,weights,xTest,yTest)\n",
        "  #accuracy for only the ith model alone;model scores:[0] is loss, [1] is accuracy\n",
        "  singleModelAccW = members[i-1].evaluate(xTest,to_categorical(yTest),verbose=0)[1]\n",
        "\n",
        "  #printing info\n",
        "  print(i,ensembleAccW,singleModelAccW)\n",
        "\n",
        "  #appending to list for visualization\n",
        "  ensembleAccListW.append(ensembleAccW)\n",
        "  singleModelAccListW.append(singleModelAccW)"
      ],
      "execution_count": 31,
      "outputs": [
        {
          "output_type": "stream",
          "text": [
            "1 0.961 0.9610000252723694\n",
            "2 0.971 0.96670001745224\n",
            "3 0.9727 0.9645000100135803\n",
            "4 0.9739 0.9664000272750854\n",
            "5 0.9738 0.9628999829292297\n",
            "6 0.9743 0.9648000001907349\n",
            "7 0.9743 0.9614999890327454\n",
            "8 0.9744 0.9577999711036682\n",
            "9 0.9747 0.961899995803833\n",
            "10 0.9755 0.964900016784668\n"
          ],
          "name": "stdout"
        }
      ]
    },
    {
      "cell_type": "markdown",
      "metadata": {
        "id": "pl0gGJsHA3yA"
      },
      "source": [
        "Observe that we can change the weights of the models. However, the weights should occupy a unit vector (norm=1)\n",
        "\n",
        "Let's change the weights manually for now. I choose my weights to reduce bad models and improve good models. However, these values may be different due to the randomness of fitting the model."
      ]
    },
    {
      "cell_type": "code",
      "metadata": {
        "id": "5Vhj3owHNF-j"
      },
      "source": [
        "weights[1] = 0.2\n",
        "weights[3] = 0.2\n",
        "weights[6] = 0.05\n",
        "weights[7] = 0\n",
        "weights[8] = 0.05"
      ],
      "execution_count": 32,
      "outputs": []
    },
    {
      "cell_type": "code",
      "metadata": {
        "colab": {
          "base_uri": "https://localhost:8080/"
        },
        "id": "cMAYnDwMNGBF",
        "outputId": "9e81aa4a-c9e0-426a-8520-1d8210029a1d"
      },
      "source": [
        "weights"
      ],
      "execution_count": 35,
      "outputs": [
        {
          "output_type": "execute_result",
          "data": {
            "text/plain": [
              "array([0.1 , 0.2 , 0.1 , 0.2 , 0.1 , 0.1 , 0.05, 0.  , 0.05, 0.1 ])"
            ]
          },
          "metadata": {
            "tags": []
          },
          "execution_count": 35
        }
      ]
    },
    {
      "cell_type": "markdown",
      "metadata": {
        "id": "ru24WWoWBuNN"
      },
      "source": [
        "Turned out not to be much better in this case."
      ]
    },
    {
      "cell_type": "code",
      "metadata": {
        "colab": {
          "base_uri": "https://localhost:8080/"
        },
        "id": "81iAmjZLNGDj",
        "outputId": "f2186100-4977-4ddf-bef5-90fb2e13e593"
      },
      "source": [
        "#Same, but now with adjusted weights\n",
        "\n",
        "ensembleAccListW = []\n",
        "singleModelAccListW = []\n",
        "for i in range(1,len(members)+1):\n",
        "  #accuracy for the entire ensemble\n",
        "  ensembleAccW = evaluateNWeights(members,i,weights,xTest,yTest)\n",
        "  #accuracy for only the ith model alone;model scores:[0] is loss, [1] is accuracy\n",
        "  singleModelAccW = members[i-1].evaluate(xTest,to_categorical(yTest),verbose=0)[1]\n",
        "\n",
        "  #printing info\n",
        "  print(i,ensembleAccW,singleModelAccW)\n",
        "\n",
        "  #appending to list for visualization\n",
        "  ensembleAccListW.append(ensembleAccW)\n",
        "  singleModelAccListW.append(singleModelAccW)"
      ],
      "execution_count": 36,
      "outputs": [
        {
          "output_type": "stream",
          "text": [
            "1 0.961 0.9610000252723694\n",
            "2 0.9694 0.96670001745224\n",
            "3 0.9722 0.9645000100135803\n",
            "4 0.9742 0.9664000272750854\n",
            "5 0.9743 0.9628999829292297\n",
            "6 0.9748 0.9648000001907349\n",
            "7 0.9749 0.9614999890327454\n",
            "8 0.9749 0.9577999711036682\n",
            "9 0.9752 0.961899995803833\n",
            "10 0.9752 0.964900016784668\n"
          ],
          "name": "stdout"
        }
      ]
    },
    {
      "cell_type": "markdown",
      "metadata": {
        "id": "zzy1bamLLi4o"
      },
      "source": [
        "Finding the best weights is an optimization question. Rough grid approach."
      ]
    },
    {
      "cell_type": "code",
      "metadata": {
        "colab": {
          "base_uri": "https://localhost:8080/"
        },
        "id": "Z35y3n6VLiN4",
        "outputId": "73d885d9-1f25-4506-fe25-31afc258b18e"
      },
      "source": [
        "import itertools\n",
        "\n",
        "somelists = np.linspace(0,1,2)\n",
        "for element in itertools.product(somelists,repeat=len(somelists)):\n",
        "    print(element)"
      ],
      "execution_count": 37,
      "outputs": [
        {
          "output_type": "stream",
          "text": [
            "(0.0, 0.0)\n",
            "(0.0, 1.0)\n",
            "(1.0, 0.0)\n",
            "(1.0, 1.0)\n"
          ],
          "name": "stdout"
        }
      ]
    },
    {
      "cell_type": "code",
      "metadata": {
        "id": "CW1hach8Ofd2"
      },
      "source": [
        "# However, each combination is not neccesarily normal; use helper method\n",
        "# so normalize taking v/||v||\n",
        "\n",
        "def unitNorm(weights):\n",
        "  norm = np.linalg.norm(weights,ord=1)\n",
        "  unitVector = weights/norm\n",
        "  if result == 0.0:\n",
        "    return weights\n",
        "  return unitVector\n"
      ],
      "execution_count": 38,
      "outputs": []
    },
    {
      "cell_type": "code",
      "metadata": {
        "id": "9G7-64sxOGkU",
        "colab": {
          "base_uri": "https://localhost:8080/",
          "height": 527
        },
        "outputId": "26f14463-af93-4b8e-c8b8-7b9ba626f129"
      },
      "source": [
        "#best Ensemble Accuracy and weights\n",
        "bestEnsembleAcc = 0\n",
        "bestW = 0\n",
        "\n",
        "#defining weight space \n",
        "w = np.linspace(0,1,5)\n",
        "\n",
        "progressNum = 1\n",
        "#iterating each possible grid weight\n",
        "for weights in itertools.product(w,repeat=len(w)):\n",
        "\n",
        "  #Skipping over grid weights where sit is all the same (set==1)\n",
        "  if len(set(weights)) == 1:\n",
        "\t\t\tcontinue\n",
        "  #normalizing the current vector\n",
        "  weights = unitNorm(weights)\n",
        "\n",
        "  #Ensemble evaluation\n",
        "  ensembleAccW2 = evaluateNWeights(members,5,weights,xTest,yTest)\n",
        "\n",
        "  if(ensembleAccW2 > bestEnsembleAcc):\n",
        "    bestEnsembleAcc = ensembleAccW2\n",
        "    bestW = weights\n",
        "    print(progressNum)\n",
        "\n",
        "  progressNum = progressNum + 1"
      ],
      "execution_count": null,
      "outputs": [
        {
          "output_type": "stream",
          "text": [
            "1\n",
            "5\n",
            "6\n",
            "31\n",
            "63\n",
            "68\n",
            "94\n"
          ],
          "name": "stdout"
        },
        {
          "output_type": "error",
          "ename": "KeyboardInterrupt",
          "evalue": "ignored",
          "traceback": [
            "\u001b[0;31m---------------------------------------------------------------------------\u001b[0m",
            "\u001b[0;31mKeyboardInterrupt\u001b[0m                         Traceback (most recent call last)",
            "\u001b[0;32m<ipython-input-206-00f54c29c7c9>\u001b[0m in \u001b[0;36m<module>\u001b[0;34m()\u001b[0m\n\u001b[1;32m     18\u001b[0m \u001b[0;34m\u001b[0m\u001b[0m\n\u001b[1;32m     19\u001b[0m   \u001b[0;31m#Ensemble evaluation\u001b[0m\u001b[0;34m\u001b[0m\u001b[0;34m\u001b[0m\u001b[0;34m\u001b[0m\u001b[0m\n\u001b[0;32m---> 20\u001b[0;31m   \u001b[0mensembleAccW2\u001b[0m \u001b[0;34m=\u001b[0m \u001b[0mevaluateNWeights\u001b[0m\u001b[0;34m(\u001b[0m\u001b[0mmembers\u001b[0m\u001b[0;34m,\u001b[0m\u001b[0;36m5\u001b[0m\u001b[0;34m,\u001b[0m\u001b[0mweights\u001b[0m\u001b[0;34m,\u001b[0m\u001b[0mxTest\u001b[0m\u001b[0;34m,\u001b[0m\u001b[0myTest\u001b[0m\u001b[0;34m)\u001b[0m\u001b[0;34m\u001b[0m\u001b[0;34m\u001b[0m\u001b[0m\n\u001b[0m\u001b[1;32m     21\u001b[0m \u001b[0;34m\u001b[0m\u001b[0m\n\u001b[1;32m     22\u001b[0m   \u001b[0;32mif\u001b[0m\u001b[0;34m(\u001b[0m\u001b[0mensembleAccW2\u001b[0m \u001b[0;34m>\u001b[0m \u001b[0mbestEnsembleAcc\u001b[0m\u001b[0;34m)\u001b[0m\u001b[0;34m:\u001b[0m\u001b[0;34m\u001b[0m\u001b[0;34m\u001b[0m\u001b[0m\n",
            "\u001b[0;32m<ipython-input-28-a5df601b4d60>\u001b[0m in \u001b[0;36mevaluateNWeights\u001b[0;34m(members, N, weights, xTest, yTest)\u001b[0m\n\u001b[1;32m      5\u001b[0m         \u001b[0msubset\u001b[0m \u001b[0;34m=\u001b[0m \u001b[0mmembers\u001b[0m\u001b[0;34m[\u001b[0m\u001b[0;34m:\u001b[0m\u001b[0mN\u001b[0m\u001b[0;34m]\u001b[0m\u001b[0;34m\u001b[0m\u001b[0;34m\u001b[0m\u001b[0m\n\u001b[1;32m      6\u001b[0m         \u001b[0;31m# Make predictions\u001b[0m\u001b[0;34m\u001b[0m\u001b[0;34m\u001b[0m\u001b[0;34m\u001b[0m\u001b[0m\n\u001b[0;32m----> 7\u001b[0;31m         \u001b[0mpredictionDist\u001b[0m \u001b[0;34m=\u001b[0m \u001b[0mensemblePredictionsWeighted\u001b[0m\u001b[0;34m(\u001b[0m\u001b[0msubset\u001b[0m\u001b[0;34m,\u001b[0m\u001b[0mweights\u001b[0m\u001b[0;34m[\u001b[0m\u001b[0;34m:\u001b[0m\u001b[0mN\u001b[0m\u001b[0;34m]\u001b[0m\u001b[0;34m,\u001b[0m \u001b[0mxTest\u001b[0m\u001b[0;34m)\u001b[0m\u001b[0;34m\u001b[0m\u001b[0;34m\u001b[0m\u001b[0m\n\u001b[0m\u001b[1;32m      8\u001b[0m         \u001b[0;31m# calculate accuracy\u001b[0m\u001b[0;34m\u001b[0m\u001b[0;34m\u001b[0m\u001b[0;34m\u001b[0m\u001b[0m\n\u001b[1;32m      9\u001b[0m         \u001b[0;32mreturn\u001b[0m \u001b[0maccuracy_score\u001b[0m\u001b[0;34m(\u001b[0m\u001b[0mpredictionDist\u001b[0m\u001b[0;34m,\u001b[0m \u001b[0myTest\u001b[0m\u001b[0;34m)\u001b[0m\u001b[0;34m\u001b[0m\u001b[0;34m\u001b[0m\u001b[0m\n",
            "\u001b[0;32m<ipython-input-27-2b90f805501b>\u001b[0m in \u001b[0;36mensemblePredictionsWeighted\u001b[0;34m(members, weights, xTest)\u001b[0m\n\u001b[1;32m      3\u001b[0m \u001b[0;32mdef\u001b[0m \u001b[0mensemblePredictionsWeighted\u001b[0m\u001b[0;34m(\u001b[0m\u001b[0mmembers\u001b[0m\u001b[0;34m,\u001b[0m\u001b[0mweights\u001b[0m\u001b[0;34m,\u001b[0m\u001b[0mxTest\u001b[0m\u001b[0;34m)\u001b[0m\u001b[0;34m:\u001b[0m\u001b[0;34m\u001b[0m\u001b[0;34m\u001b[0m\u001b[0m\n\u001b[1;32m      4\u001b[0m   \u001b[0;31m#make predictions for each model in members\u001b[0m\u001b[0;34m\u001b[0m\u001b[0;34m\u001b[0m\u001b[0;34m\u001b[0m\u001b[0m\n\u001b[0;32m----> 5\u001b[0;31m   \u001b[0mpredictionDist\u001b[0m \u001b[0;34m=\u001b[0m \u001b[0;34m[\u001b[0m\u001b[0mmodel\u001b[0m\u001b[0;34m.\u001b[0m\u001b[0mpredict\u001b[0m\u001b[0;34m(\u001b[0m\u001b[0mxTest\u001b[0m\u001b[0;34m)\u001b[0m \u001b[0;32mfor\u001b[0m \u001b[0mmodel\u001b[0m \u001b[0;32min\u001b[0m \u001b[0mmembers\u001b[0m\u001b[0;34m]\u001b[0m\u001b[0;34m\u001b[0m\u001b[0;34m\u001b[0m\u001b[0m\n\u001b[0m\u001b[1;32m      6\u001b[0m   \u001b[0;31m#cast from list to np array\u001b[0m\u001b[0;34m\u001b[0m\u001b[0;34m\u001b[0m\u001b[0;34m\u001b[0m\u001b[0m\n\u001b[1;32m      7\u001b[0m   \u001b[0mpredictionDist\u001b[0m \u001b[0;34m=\u001b[0m \u001b[0mnp\u001b[0m\u001b[0;34m.\u001b[0m\u001b[0marray\u001b[0m\u001b[0;34m(\u001b[0m\u001b[0mpredictionDist\u001b[0m\u001b[0;34m)\u001b[0m\u001b[0;34m\u001b[0m\u001b[0;34m\u001b[0m\u001b[0m\n",
            "\u001b[0;32m<ipython-input-27-2b90f805501b>\u001b[0m in \u001b[0;36m<listcomp>\u001b[0;34m(.0)\u001b[0m\n\u001b[1;32m      3\u001b[0m \u001b[0;32mdef\u001b[0m \u001b[0mensemblePredictionsWeighted\u001b[0m\u001b[0;34m(\u001b[0m\u001b[0mmembers\u001b[0m\u001b[0;34m,\u001b[0m\u001b[0mweights\u001b[0m\u001b[0;34m,\u001b[0m\u001b[0mxTest\u001b[0m\u001b[0;34m)\u001b[0m\u001b[0;34m:\u001b[0m\u001b[0;34m\u001b[0m\u001b[0;34m\u001b[0m\u001b[0m\n\u001b[1;32m      4\u001b[0m   \u001b[0;31m#make predictions for each model in members\u001b[0m\u001b[0;34m\u001b[0m\u001b[0;34m\u001b[0m\u001b[0;34m\u001b[0m\u001b[0m\n\u001b[0;32m----> 5\u001b[0;31m   \u001b[0mpredictionDist\u001b[0m \u001b[0;34m=\u001b[0m \u001b[0;34m[\u001b[0m\u001b[0mmodel\u001b[0m\u001b[0;34m.\u001b[0m\u001b[0mpredict\u001b[0m\u001b[0;34m(\u001b[0m\u001b[0mxTest\u001b[0m\u001b[0;34m)\u001b[0m \u001b[0;32mfor\u001b[0m \u001b[0mmodel\u001b[0m \u001b[0;32min\u001b[0m \u001b[0mmembers\u001b[0m\u001b[0;34m]\u001b[0m\u001b[0;34m\u001b[0m\u001b[0;34m\u001b[0m\u001b[0m\n\u001b[0m\u001b[1;32m      6\u001b[0m   \u001b[0;31m#cast from list to np array\u001b[0m\u001b[0;34m\u001b[0m\u001b[0;34m\u001b[0m\u001b[0;34m\u001b[0m\u001b[0m\n\u001b[1;32m      7\u001b[0m   \u001b[0mpredictionDist\u001b[0m \u001b[0;34m=\u001b[0m \u001b[0mnp\u001b[0m\u001b[0;34m.\u001b[0m\u001b[0marray\u001b[0m\u001b[0;34m(\u001b[0m\u001b[0mpredictionDist\u001b[0m\u001b[0;34m)\u001b[0m\u001b[0;34m\u001b[0m\u001b[0;34m\u001b[0m\u001b[0m\n",
            "\u001b[0;32m/usr/local/lib/python3.7/dist-packages/tensorflow/python/keras/engine/training.py\u001b[0m in \u001b[0;36mpredict\u001b[0;34m(self, x, batch_size, verbose, steps, callbacks, max_queue_size, workers, use_multiprocessing)\u001b[0m\n\u001b[1;32m   1627\u001b[0m           \u001b[0;32mfor\u001b[0m \u001b[0mstep\u001b[0m \u001b[0;32min\u001b[0m \u001b[0mdata_handler\u001b[0m\u001b[0;34m.\u001b[0m\u001b[0msteps\u001b[0m\u001b[0;34m(\u001b[0m\u001b[0;34m)\u001b[0m\u001b[0;34m:\u001b[0m\u001b[0;34m\u001b[0m\u001b[0;34m\u001b[0m\u001b[0m\n\u001b[1;32m   1628\u001b[0m             \u001b[0mcallbacks\u001b[0m\u001b[0;34m.\u001b[0m\u001b[0mon_predict_batch_begin\u001b[0m\u001b[0;34m(\u001b[0m\u001b[0mstep\u001b[0m\u001b[0;34m)\u001b[0m\u001b[0;34m\u001b[0m\u001b[0;34m\u001b[0m\u001b[0m\n\u001b[0;32m-> 1629\u001b[0;31m             \u001b[0mtmp_batch_outputs\u001b[0m \u001b[0;34m=\u001b[0m \u001b[0mself\u001b[0m\u001b[0;34m.\u001b[0m\u001b[0mpredict_function\u001b[0m\u001b[0;34m(\u001b[0m\u001b[0miterator\u001b[0m\u001b[0;34m)\u001b[0m\u001b[0;34m\u001b[0m\u001b[0;34m\u001b[0m\u001b[0m\n\u001b[0m\u001b[1;32m   1630\u001b[0m             \u001b[0;32mif\u001b[0m \u001b[0mdata_handler\u001b[0m\u001b[0;34m.\u001b[0m\u001b[0mshould_sync\u001b[0m\u001b[0;34m:\u001b[0m\u001b[0;34m\u001b[0m\u001b[0;34m\u001b[0m\u001b[0m\n\u001b[1;32m   1631\u001b[0m               \u001b[0mcontext\u001b[0m\u001b[0;34m.\u001b[0m\u001b[0masync_wait\u001b[0m\u001b[0;34m(\u001b[0m\u001b[0;34m)\u001b[0m\u001b[0;34m\u001b[0m\u001b[0;34m\u001b[0m\u001b[0m\n",
            "\u001b[0;32m/usr/local/lib/python3.7/dist-packages/tensorflow/python/eager/def_function.py\u001b[0m in \u001b[0;36m__call__\u001b[0;34m(self, *args, **kwds)\u001b[0m\n\u001b[1;32m    826\u001b[0m     \u001b[0mtracing_count\u001b[0m \u001b[0;34m=\u001b[0m \u001b[0mself\u001b[0m\u001b[0;34m.\u001b[0m\u001b[0mexperimental_get_tracing_count\u001b[0m\u001b[0;34m(\u001b[0m\u001b[0;34m)\u001b[0m\u001b[0;34m\u001b[0m\u001b[0;34m\u001b[0m\u001b[0m\n\u001b[1;32m    827\u001b[0m     \u001b[0;32mwith\u001b[0m \u001b[0mtrace\u001b[0m\u001b[0;34m.\u001b[0m\u001b[0mTrace\u001b[0m\u001b[0;34m(\u001b[0m\u001b[0mself\u001b[0m\u001b[0;34m.\u001b[0m\u001b[0m_name\u001b[0m\u001b[0;34m)\u001b[0m \u001b[0;32mas\u001b[0m \u001b[0mtm\u001b[0m\u001b[0;34m:\u001b[0m\u001b[0;34m\u001b[0m\u001b[0;34m\u001b[0m\u001b[0m\n\u001b[0;32m--> 828\u001b[0;31m       \u001b[0mresult\u001b[0m \u001b[0;34m=\u001b[0m \u001b[0mself\u001b[0m\u001b[0;34m.\u001b[0m\u001b[0m_call\u001b[0m\u001b[0;34m(\u001b[0m\u001b[0;34m*\u001b[0m\u001b[0margs\u001b[0m\u001b[0;34m,\u001b[0m \u001b[0;34m**\u001b[0m\u001b[0mkwds\u001b[0m\u001b[0;34m)\u001b[0m\u001b[0;34m\u001b[0m\u001b[0;34m\u001b[0m\u001b[0m\n\u001b[0m\u001b[1;32m    829\u001b[0m       \u001b[0mcompiler\u001b[0m \u001b[0;34m=\u001b[0m \u001b[0;34m\"xla\"\u001b[0m \u001b[0;32mif\u001b[0m \u001b[0mself\u001b[0m\u001b[0;34m.\u001b[0m\u001b[0m_experimental_compile\u001b[0m \u001b[0;32melse\u001b[0m \u001b[0;34m\"nonXla\"\u001b[0m\u001b[0;34m\u001b[0m\u001b[0;34m\u001b[0m\u001b[0m\n\u001b[1;32m    830\u001b[0m       \u001b[0mnew_tracing_count\u001b[0m \u001b[0;34m=\u001b[0m \u001b[0mself\u001b[0m\u001b[0;34m.\u001b[0m\u001b[0mexperimental_get_tracing_count\u001b[0m\u001b[0;34m(\u001b[0m\u001b[0;34m)\u001b[0m\u001b[0;34m\u001b[0m\u001b[0;34m\u001b[0m\u001b[0m\n",
            "\u001b[0;32m/usr/local/lib/python3.7/dist-packages/tensorflow/python/eager/def_function.py\u001b[0m in \u001b[0;36m_call\u001b[0;34m(self, *args, **kwds)\u001b[0m\n\u001b[1;32m    860\u001b[0m       \u001b[0;31m# In this case we have not created variables on the first call. So we can\u001b[0m\u001b[0;34m\u001b[0m\u001b[0;34m\u001b[0m\u001b[0;34m\u001b[0m\u001b[0m\n\u001b[1;32m    861\u001b[0m       \u001b[0;31m# run the first trace but we should fail if variables are created.\u001b[0m\u001b[0;34m\u001b[0m\u001b[0;34m\u001b[0m\u001b[0;34m\u001b[0m\u001b[0m\n\u001b[0;32m--> 862\u001b[0;31m       \u001b[0mresults\u001b[0m \u001b[0;34m=\u001b[0m \u001b[0mself\u001b[0m\u001b[0;34m.\u001b[0m\u001b[0m_stateful_fn\u001b[0m\u001b[0;34m(\u001b[0m\u001b[0;34m*\u001b[0m\u001b[0margs\u001b[0m\u001b[0;34m,\u001b[0m \u001b[0;34m**\u001b[0m\u001b[0mkwds\u001b[0m\u001b[0;34m)\u001b[0m\u001b[0;34m\u001b[0m\u001b[0;34m\u001b[0m\u001b[0m\n\u001b[0m\u001b[1;32m    863\u001b[0m       \u001b[0;32mif\u001b[0m \u001b[0mself\u001b[0m\u001b[0;34m.\u001b[0m\u001b[0m_created_variables\u001b[0m\u001b[0;34m:\u001b[0m\u001b[0;34m\u001b[0m\u001b[0;34m\u001b[0m\u001b[0m\n\u001b[1;32m    864\u001b[0m         raise ValueError(\"Creating variables on a non-first call to a function\"\n",
            "\u001b[0;32m/usr/local/lib/python3.7/dist-packages/tensorflow/python/eager/function.py\u001b[0m in \u001b[0;36m__call__\u001b[0;34m(self, *args, **kwargs)\u001b[0m\n\u001b[1;32m   2941\u001b[0m        filtered_flat_args) = self._maybe_define_function(args, kwargs)\n\u001b[1;32m   2942\u001b[0m     return graph_function._call_flat(\n\u001b[0;32m-> 2943\u001b[0;31m         filtered_flat_args, captured_inputs=graph_function.captured_inputs)  # pylint: disable=protected-access\n\u001b[0m\u001b[1;32m   2944\u001b[0m \u001b[0;34m\u001b[0m\u001b[0m\n\u001b[1;32m   2945\u001b[0m   \u001b[0;34m@\u001b[0m\u001b[0mproperty\u001b[0m\u001b[0;34m\u001b[0m\u001b[0;34m\u001b[0m\u001b[0m\n",
            "\u001b[0;32m/usr/local/lib/python3.7/dist-packages/tensorflow/python/eager/function.py\u001b[0m in \u001b[0;36m_call_flat\u001b[0;34m(self, args, captured_inputs, cancellation_manager)\u001b[0m\n\u001b[1;32m   1917\u001b[0m       \u001b[0;31m# No tape is watching; skip to running the function.\u001b[0m\u001b[0;34m\u001b[0m\u001b[0;34m\u001b[0m\u001b[0;34m\u001b[0m\u001b[0m\n\u001b[1;32m   1918\u001b[0m       return self._build_call_outputs(self._inference_function.call(\n\u001b[0;32m-> 1919\u001b[0;31m           ctx, args, cancellation_manager=cancellation_manager))\n\u001b[0m\u001b[1;32m   1920\u001b[0m     forward_backward = self._select_forward_and_backward_functions(\n\u001b[1;32m   1921\u001b[0m         \u001b[0margs\u001b[0m\u001b[0;34m,\u001b[0m\u001b[0;34m\u001b[0m\u001b[0;34m\u001b[0m\u001b[0m\n",
            "\u001b[0;32m/usr/local/lib/python3.7/dist-packages/tensorflow/python/eager/function.py\u001b[0m in \u001b[0;36mcall\u001b[0;34m(self, ctx, args, cancellation_manager)\u001b[0m\n\u001b[1;32m    558\u001b[0m               \u001b[0minputs\u001b[0m\u001b[0;34m=\u001b[0m\u001b[0margs\u001b[0m\u001b[0;34m,\u001b[0m\u001b[0;34m\u001b[0m\u001b[0;34m\u001b[0m\u001b[0m\n\u001b[1;32m    559\u001b[0m               \u001b[0mattrs\u001b[0m\u001b[0;34m=\u001b[0m\u001b[0mattrs\u001b[0m\u001b[0;34m,\u001b[0m\u001b[0;34m\u001b[0m\u001b[0;34m\u001b[0m\u001b[0m\n\u001b[0;32m--> 560\u001b[0;31m               ctx=ctx)\n\u001b[0m\u001b[1;32m    561\u001b[0m         \u001b[0;32melse\u001b[0m\u001b[0;34m:\u001b[0m\u001b[0;34m\u001b[0m\u001b[0;34m\u001b[0m\u001b[0m\n\u001b[1;32m    562\u001b[0m           outputs = execute.execute_with_cancellation(\n",
            "\u001b[0;32m/usr/local/lib/python3.7/dist-packages/tensorflow/python/eager/execute.py\u001b[0m in \u001b[0;36mquick_execute\u001b[0;34m(op_name, num_outputs, inputs, attrs, ctx, name)\u001b[0m\n\u001b[1;32m     58\u001b[0m     \u001b[0mctx\u001b[0m\u001b[0;34m.\u001b[0m\u001b[0mensure_initialized\u001b[0m\u001b[0;34m(\u001b[0m\u001b[0;34m)\u001b[0m\u001b[0;34m\u001b[0m\u001b[0;34m\u001b[0m\u001b[0m\n\u001b[1;32m     59\u001b[0m     tensors = pywrap_tfe.TFE_Py_Execute(ctx._handle, device_name, op_name,\n\u001b[0;32m---> 60\u001b[0;31m                                         inputs, attrs, num_outputs)\n\u001b[0m\u001b[1;32m     61\u001b[0m   \u001b[0;32mexcept\u001b[0m \u001b[0mcore\u001b[0m\u001b[0;34m.\u001b[0m\u001b[0m_NotOkStatusException\u001b[0m \u001b[0;32mas\u001b[0m \u001b[0me\u001b[0m\u001b[0;34m:\u001b[0m\u001b[0;34m\u001b[0m\u001b[0;34m\u001b[0m\u001b[0m\n\u001b[1;32m     62\u001b[0m     \u001b[0;32mif\u001b[0m \u001b[0mname\u001b[0m \u001b[0;32mis\u001b[0m \u001b[0;32mnot\u001b[0m \u001b[0;32mNone\u001b[0m\u001b[0;34m:\u001b[0m\u001b[0;34m\u001b[0m\u001b[0;34m\u001b[0m\u001b[0m\n",
            "\u001b[0;31mKeyboardInterrupt\u001b[0m: "
          ]
        }
      ]
    },
    {
      "cell_type": "code",
      "metadata": {
        "colab": {
          "base_uri": "https://localhost:8080/"
        },
        "id": "4fOvn5ByN2Z1",
        "outputId": "b67a68a5-7bbb-4e39-8e09-9e8086cfdfc1"
      },
      "source": [
        "bestEnsembleAcc"
      ],
      "execution_count": null,
      "outputs": [
        {
          "output_type": "execute_result",
          "data": {
            "text/plain": [
              "0.9754"
            ]
          },
          "metadata": {
            "tags": []
          },
          "execution_count": 68
        }
      ]
    },
    {
      "cell_type": "code",
      "metadata": {
        "colab": {
          "base_uri": "https://localhost:8080/"
        },
        "id": "yQdyTMA8N2Xe",
        "outputId": "d62c875a-1e88-431a-f41c-db5ea5618785"
      },
      "source": [
        "bestW"
      ],
      "execution_count": null,
      "outputs": [
        {
          "output_type": "execute_result",
          "data": {
            "text/plain": [
              "array([0.25, 0.  , 0.25, 0.25, 0.25])"
            ]
          },
          "metadata": {
            "tags": []
          },
          "execution_count": 67
        }
      ]
    },
    {
      "cell_type": "markdown",
      "metadata": {
        "id": "CC0-mchJW0o-"
      },
      "source": [
        "Attempting an optimization solution"
      ]
    },
    {
      "cell_type": "code",
      "metadata": {
        "id": "6hahxHEKd00c"
      },
      "source": [
        "from scipy.optimize import differential_evolution"
      ],
      "execution_count": null,
      "outputs": []
    },
    {
      "cell_type": "code",
      "metadata": {
        "id": "d1yUu3pJc-0e"
      },
      "source": [
        "#Now let's sum our predictions for each model WITH WEIGHTS\n",
        "\n",
        "def ensemblePredictionsWeightedSpecific(members,weights,xTest):\n",
        "  #make predictions for each model in members\n",
        "  predictionDist = [model.predict(xTest) for model in members]\n",
        "  #cast from list to np array\n",
        "  predictionDist = np.array(predictionDist)\n",
        "\n",
        "  #sum of predictions array per element, and by tensor weight\n",
        "  #be CAREFUL with those axes, son\n",
        "  summedPredictions = np.tensordot(predictionDist,weights,axes=((0),(0)))\n",
        "\n",
        "  #argmax to choose classification (10000,)\n",
        "  result = np.argmax(summedPredictions, axis=1)\n",
        "\n",
        "  #returning our predicted class\n",
        "  return result"
      ],
      "execution_count": null,
      "outputs": []
    },
    {
      "cell_type": "code",
      "metadata": {
        "id": "NUxUPv6sc-27"
      },
      "source": [
        "def evaluateWeightsSpecific(members, weights, xTest, yTest):\n",
        "\t# Make predictions\n",
        "\tpredictionDist = ensemblePredictionsWeightedSpecific(members,weights, xTest)\n",
        "\t# calculate accuracy\n",
        "\treturn accuracy_score(predictionDist, yTest)"
      ],
      "execution_count": null,
      "outputs": []
    },
    {
      "cell_type": "code",
      "metadata": {
        "colab": {
          "base_uri": "https://localhost:8080/"
        },
        "id": "QZE0WvkJe0d-",
        "outputId": "dc4732e9-d8c8-4cdd-e5ed-a3840cf3853e"
      },
      "source": [
        "evaluateWeightsSpecific(members,weights,xTest,yTest)"
      ],
      "execution_count": null,
      "outputs": [
        {
          "output_type": "execute_result",
          "data": {
            "text/plain": [
              "0.9737"
            ]
          },
          "metadata": {
            "tags": []
          },
          "execution_count": 197
        }
      ]
    },
    {
      "cell_type": "code",
      "metadata": {
        "colab": {
          "base_uri": "https://localhost:8080/"
        },
        "id": "13eKSXIqfJc8",
        "outputId": "0a47e50c-4eb6-43f9-92df-57d609631904"
      },
      "source": [
        "members"
      ],
      "execution_count": null,
      "outputs": [
        {
          "output_type": "execute_result",
          "data": {
            "text/plain": [
              "[<tensorflow.python.keras.engine.sequential.Sequential at 0x7fd01e55fe90>,\n",
              " <tensorflow.python.keras.engine.sequential.Sequential at 0x7fd01d31e950>,\n",
              " <tensorflow.python.keras.engine.sequential.Sequential at 0x7fd021409f10>,\n",
              " <tensorflow.python.keras.engine.sequential.Sequential at 0x7fd01c873a50>,\n",
              " <tensorflow.python.keras.engine.sequential.Sequential at 0x7fd01c9a37d0>]"
            ]
          },
          "metadata": {
            "tags": []
          },
          "execution_count": 199
        }
      ]
    },
    {
      "cell_type": "code",
      "metadata": {
        "id": "RY9j7NS6N2cJ"
      },
      "source": [
        "def weightsLoss(weights,members,xTest,yTest):\n",
        "  # Unit Vector weights\n",
        "  normalized = unitNorm(weights)\n",
        "  # calculate error rate\n",
        "  loss = (1.0 - evaluateWeightsSpecific(members,normalized, xTest, yTest))\n",
        "  print(loss)\n",
        "  return loss"
      ],
      "execution_count": null,
      "outputs": []
    },
    {
      "cell_type": "code",
      "metadata": {
        "id": "KT2KWz-pN2ef"
      },
      "source": [
        "#Each weight can only range from 0 to 1, so we need to specify that domain\n",
        "optimizationDomains = [(0.0, 1.0) for _ in range(5)]"
      ],
      "execution_count": null,
      "outputs": []
    },
    {
      "cell_type": "code",
      "metadata": {
        "colab": {
          "base_uri": "https://localhost:8080/",
          "height": 490
        },
        "id": "ZSrRuEe8ntDL",
        "outputId": "cc0f8ead-4d99-4a1f-e056-643dc41ee0a7"
      },
      "source": [
        "# arguments to the loss function\n",
        "search_arg = (members, xTest, yTest)\n",
        "\n",
        "result = [0,0,0,0,0]\n",
        "\n",
        "result = differential_evolution(weightsLoss, optimizationDomains, search_arg, maxiter=5, tol=1e-7,)"
      ],
      "execution_count": null,
      "outputs": [
        {
          "output_type": "stream",
          "text": [
            "0.024399999999999977\n",
            "0.025399999999999978\n",
            "0.024499999999999966\n",
            "0.024800000000000044\n",
            "0.026000000000000023\n",
            "0.024399999999999977\n",
            "0.024499999999999966\n"
          ],
          "name": "stdout"
        },
        {
          "output_type": "error",
          "ename": "KeyboardInterrupt",
          "evalue": "ignored",
          "traceback": [
            "\u001b[0;31m---------------------------------------------------------------------------\u001b[0m",
            "\u001b[0;31mKeyboardInterrupt\u001b[0m                         Traceback (most recent call last)",
            "\u001b[0;32m<ipython-input-204-9a16026508e9>\u001b[0m in \u001b[0;36m<module>\u001b[0;34m()\u001b[0m\n\u001b[1;32m      4\u001b[0m \u001b[0mresult\u001b[0m \u001b[0;34m=\u001b[0m \u001b[0;34m[\u001b[0m\u001b[0;36m0\u001b[0m\u001b[0;34m,\u001b[0m\u001b[0;36m0\u001b[0m\u001b[0;34m,\u001b[0m\u001b[0;36m0\u001b[0m\u001b[0;34m,\u001b[0m\u001b[0;36m0\u001b[0m\u001b[0;34m,\u001b[0m\u001b[0;36m0\u001b[0m\u001b[0;34m]\u001b[0m\u001b[0;34m\u001b[0m\u001b[0;34m\u001b[0m\u001b[0m\n\u001b[1;32m      5\u001b[0m \u001b[0;34m\u001b[0m\u001b[0m\n\u001b[0;32m----> 6\u001b[0;31m \u001b[0mresult\u001b[0m \u001b[0;34m=\u001b[0m \u001b[0mdifferential_evolution\u001b[0m\u001b[0;34m(\u001b[0m\u001b[0mweightsLoss\u001b[0m\u001b[0;34m,\u001b[0m \u001b[0moptimizationDomains\u001b[0m\u001b[0;34m,\u001b[0m \u001b[0msearch_arg\u001b[0m\u001b[0;34m,\u001b[0m \u001b[0mmaxiter\u001b[0m\u001b[0;34m=\u001b[0m\u001b[0;36m5\u001b[0m\u001b[0;34m,\u001b[0m \u001b[0mtol\u001b[0m\u001b[0;34m=\u001b[0m\u001b[0;36m1e-7\u001b[0m\u001b[0;34m,\u001b[0m\u001b[0;34m)\u001b[0m\u001b[0;34m\u001b[0m\u001b[0;34m\u001b[0m\u001b[0m\n\u001b[0m",
            "\u001b[0;32m/usr/local/lib/python3.7/dist-packages/scipy/optimize/_differentialevolution.py\u001b[0m in \u001b[0;36mdifferential_evolution\u001b[0;34m(func, bounds, args, strategy, maxiter, popsize, tol, mutation, recombination, seed, callback, disp, polish, init, atol, updating, workers, constraints)\u001b[0m\n\u001b[1;32m    304\u001b[0m                                      \u001b[0mworkers\u001b[0m\u001b[0;34m=\u001b[0m\u001b[0mworkers\u001b[0m\u001b[0;34m,\u001b[0m\u001b[0;34m\u001b[0m\u001b[0;34m\u001b[0m\u001b[0m\n\u001b[1;32m    305\u001b[0m                                      constraints=constraints) as solver:\n\u001b[0;32m--> 306\u001b[0;31m         \u001b[0mret\u001b[0m \u001b[0;34m=\u001b[0m \u001b[0msolver\u001b[0m\u001b[0;34m.\u001b[0m\u001b[0msolve\u001b[0m\u001b[0;34m(\u001b[0m\u001b[0;34m)\u001b[0m\u001b[0;34m\u001b[0m\u001b[0;34m\u001b[0m\u001b[0m\n\u001b[0m\u001b[1;32m    307\u001b[0m \u001b[0;34m\u001b[0m\u001b[0m\n\u001b[1;32m    308\u001b[0m     \u001b[0;32mreturn\u001b[0m \u001b[0mret\u001b[0m\u001b[0;34m\u001b[0m\u001b[0;34m\u001b[0m\u001b[0m\n",
            "\u001b[0;32m/usr/local/lib/python3.7/dist-packages/scipy/optimize/_differentialevolution.py\u001b[0m in \u001b[0;36msolve\u001b[0;34m(self)\u001b[0m\n\u001b[1;32m    743\u001b[0m             self.population_energies[self.feasible] = (\n\u001b[1;32m    744\u001b[0m                 self._calculate_population_energies(\n\u001b[0;32m--> 745\u001b[0;31m                     self.population[self.feasible]))\n\u001b[0m\u001b[1;32m    746\u001b[0m \u001b[0;34m\u001b[0m\u001b[0m\n\u001b[1;32m    747\u001b[0m             \u001b[0mself\u001b[0m\u001b[0;34m.\u001b[0m\u001b[0m_promote_lowest_energy\u001b[0m\u001b[0;34m(\u001b[0m\u001b[0;34m)\u001b[0m\u001b[0;34m\u001b[0m\u001b[0;34m\u001b[0m\u001b[0m\n",
            "\u001b[0;32m/usr/local/lib/python3.7/dist-packages/scipy/optimize/_differentialevolution.py\u001b[0m in \u001b[0;36m_calculate_population_energies\u001b[0;34m(self, population)\u001b[0m\n\u001b[1;32m    876\u001b[0m         \u001b[0;32mtry\u001b[0m\u001b[0;34m:\u001b[0m\u001b[0;34m\u001b[0m\u001b[0;34m\u001b[0m\u001b[0m\n\u001b[1;32m    877\u001b[0m             calc_energies = list(self._mapwrapper(self.func,\n\u001b[0;32m--> 878\u001b[0;31m                                                   parameters_pop[0:nfevs]))\n\u001b[0m\u001b[1;32m    879\u001b[0m             \u001b[0menergies\u001b[0m\u001b[0;34m[\u001b[0m\u001b[0;36m0\u001b[0m\u001b[0;34m:\u001b[0m\u001b[0mnfevs\u001b[0m\u001b[0;34m]\u001b[0m \u001b[0;34m=\u001b[0m \u001b[0mcalc_energies\u001b[0m\u001b[0;34m\u001b[0m\u001b[0;34m\u001b[0m\u001b[0m\n\u001b[1;32m    880\u001b[0m         \u001b[0;32mexcept\u001b[0m \u001b[0;34m(\u001b[0m\u001b[0mTypeError\u001b[0m\u001b[0;34m,\u001b[0m \u001b[0mValueError\u001b[0m\u001b[0;34m)\u001b[0m\u001b[0;34m:\u001b[0m\u001b[0;34m\u001b[0m\u001b[0;34m\u001b[0m\u001b[0m\n",
            "\u001b[0;32m/usr/local/lib/python3.7/dist-packages/scipy/optimize/_differentialevolution.py\u001b[0m in \u001b[0;36m__call__\u001b[0;34m(self, x)\u001b[0m\n\u001b[1;32m   1263\u001b[0m \u001b[0;34m\u001b[0m\u001b[0m\n\u001b[1;32m   1264\u001b[0m     \u001b[0;32mdef\u001b[0m \u001b[0m__call__\u001b[0m\u001b[0;34m(\u001b[0m\u001b[0mself\u001b[0m\u001b[0;34m,\u001b[0m \u001b[0mx\u001b[0m\u001b[0;34m)\u001b[0m\u001b[0;34m:\u001b[0m\u001b[0;34m\u001b[0m\u001b[0;34m\u001b[0m\u001b[0m\n\u001b[0;32m-> 1265\u001b[0;31m         \u001b[0;32mreturn\u001b[0m \u001b[0mself\u001b[0m\u001b[0;34m.\u001b[0m\u001b[0mf\u001b[0m\u001b[0;34m(\u001b[0m\u001b[0mx\u001b[0m\u001b[0;34m,\u001b[0m \u001b[0;34m*\u001b[0m\u001b[0mself\u001b[0m\u001b[0;34m.\u001b[0m\u001b[0margs\u001b[0m\u001b[0;34m)\u001b[0m\u001b[0;34m\u001b[0m\u001b[0;34m\u001b[0m\u001b[0m\n\u001b[0m\u001b[1;32m   1266\u001b[0m \u001b[0;34m\u001b[0m\u001b[0m\n\u001b[1;32m   1267\u001b[0m \u001b[0;34m\u001b[0m\u001b[0m\n",
            "\u001b[0;32m<ipython-input-200-ca3d79d64144>\u001b[0m in \u001b[0;36mweightsLoss\u001b[0;34m(weights, members, xTest, yTest)\u001b[0m\n\u001b[1;32m      3\u001b[0m   \u001b[0mnormalized\u001b[0m \u001b[0;34m=\u001b[0m \u001b[0munitNorm\u001b[0m\u001b[0;34m(\u001b[0m\u001b[0mweights\u001b[0m\u001b[0;34m)\u001b[0m\u001b[0;34m\u001b[0m\u001b[0;34m\u001b[0m\u001b[0m\n\u001b[1;32m      4\u001b[0m   \u001b[0;31m# calculate error rate\u001b[0m\u001b[0;34m\u001b[0m\u001b[0;34m\u001b[0m\u001b[0;34m\u001b[0m\u001b[0m\n\u001b[0;32m----> 5\u001b[0;31m   \u001b[0mloss\u001b[0m \u001b[0;34m=\u001b[0m \u001b[0;34m(\u001b[0m\u001b[0;36m1.0\u001b[0m \u001b[0;34m-\u001b[0m \u001b[0mevaluateWeightsSpecific\u001b[0m\u001b[0;34m(\u001b[0m\u001b[0mmembers\u001b[0m\u001b[0;34m,\u001b[0m\u001b[0mnormalized\u001b[0m\u001b[0;34m,\u001b[0m \u001b[0mxTest\u001b[0m\u001b[0;34m,\u001b[0m \u001b[0myTest\u001b[0m\u001b[0;34m)\u001b[0m\u001b[0;34m)\u001b[0m\u001b[0;34m\u001b[0m\u001b[0;34m\u001b[0m\u001b[0m\n\u001b[0m\u001b[1;32m      6\u001b[0m   \u001b[0mprint\u001b[0m\u001b[0;34m(\u001b[0m\u001b[0mloss\u001b[0m\u001b[0;34m)\u001b[0m\u001b[0;34m\u001b[0m\u001b[0;34m\u001b[0m\u001b[0m\n\u001b[1;32m      7\u001b[0m   \u001b[0;32mreturn\u001b[0m \u001b[0mloss\u001b[0m\u001b[0;34m\u001b[0m\u001b[0;34m\u001b[0m\u001b[0m\n",
            "\u001b[0;32m<ipython-input-196-aad54d75c33b>\u001b[0m in \u001b[0;36mevaluateWeightsSpecific\u001b[0;34m(members, weights, xTest, yTest)\u001b[0m\n\u001b[1;32m      1\u001b[0m \u001b[0;32mdef\u001b[0m \u001b[0mevaluateWeightsSpecific\u001b[0m\u001b[0;34m(\u001b[0m\u001b[0mmembers\u001b[0m\u001b[0;34m,\u001b[0m \u001b[0mweights\u001b[0m\u001b[0;34m,\u001b[0m \u001b[0mxTest\u001b[0m\u001b[0;34m,\u001b[0m \u001b[0myTest\u001b[0m\u001b[0;34m)\u001b[0m\u001b[0;34m:\u001b[0m\u001b[0;34m\u001b[0m\u001b[0;34m\u001b[0m\u001b[0m\n\u001b[1;32m      2\u001b[0m         \u001b[0;31m# Make predictions\u001b[0m\u001b[0;34m\u001b[0m\u001b[0;34m\u001b[0m\u001b[0;34m\u001b[0m\u001b[0m\n\u001b[0;32m----> 3\u001b[0;31m         \u001b[0mpredictionDist\u001b[0m \u001b[0;34m=\u001b[0m \u001b[0mensemblePredictionsWeightedSpecific\u001b[0m\u001b[0;34m(\u001b[0m\u001b[0mmembers\u001b[0m\u001b[0;34m,\u001b[0m\u001b[0mweights\u001b[0m\u001b[0;34m,\u001b[0m \u001b[0mxTest\u001b[0m\u001b[0;34m)\u001b[0m\u001b[0;34m\u001b[0m\u001b[0;34m\u001b[0m\u001b[0m\n\u001b[0m\u001b[1;32m      4\u001b[0m         \u001b[0;31m# calculate accuracy\u001b[0m\u001b[0;34m\u001b[0m\u001b[0;34m\u001b[0m\u001b[0;34m\u001b[0m\u001b[0m\n\u001b[1;32m      5\u001b[0m         \u001b[0;32mreturn\u001b[0m \u001b[0maccuracy_score\u001b[0m\u001b[0;34m(\u001b[0m\u001b[0mpredictionDist\u001b[0m\u001b[0;34m,\u001b[0m \u001b[0myTest\u001b[0m\u001b[0;34m)\u001b[0m\u001b[0;34m\u001b[0m\u001b[0;34m\u001b[0m\u001b[0m\n",
            "\u001b[0;32m<ipython-input-195-5f3203295aa9>\u001b[0m in \u001b[0;36mensemblePredictionsWeightedSpecific\u001b[0;34m(members, weights, xTest)\u001b[0m\n\u001b[1;32m      3\u001b[0m \u001b[0;32mdef\u001b[0m \u001b[0mensemblePredictionsWeightedSpecific\u001b[0m\u001b[0;34m(\u001b[0m\u001b[0mmembers\u001b[0m\u001b[0;34m,\u001b[0m\u001b[0mweights\u001b[0m\u001b[0;34m,\u001b[0m\u001b[0mxTest\u001b[0m\u001b[0;34m)\u001b[0m\u001b[0;34m:\u001b[0m\u001b[0;34m\u001b[0m\u001b[0;34m\u001b[0m\u001b[0m\n\u001b[1;32m      4\u001b[0m   \u001b[0;31m#make predictions for each model in members\u001b[0m\u001b[0;34m\u001b[0m\u001b[0;34m\u001b[0m\u001b[0;34m\u001b[0m\u001b[0m\n\u001b[0;32m----> 5\u001b[0;31m   \u001b[0mpredictionDist\u001b[0m \u001b[0;34m=\u001b[0m \u001b[0;34m[\u001b[0m\u001b[0mmodel\u001b[0m\u001b[0;34m.\u001b[0m\u001b[0mpredict\u001b[0m\u001b[0;34m(\u001b[0m\u001b[0mxTest\u001b[0m\u001b[0;34m)\u001b[0m \u001b[0;32mfor\u001b[0m \u001b[0mmodel\u001b[0m \u001b[0;32min\u001b[0m \u001b[0mmembers\u001b[0m\u001b[0;34m]\u001b[0m\u001b[0;34m\u001b[0m\u001b[0;34m\u001b[0m\u001b[0m\n\u001b[0m\u001b[1;32m      6\u001b[0m   \u001b[0;31m#cast from list to np array\u001b[0m\u001b[0;34m\u001b[0m\u001b[0;34m\u001b[0m\u001b[0;34m\u001b[0m\u001b[0m\n\u001b[1;32m      7\u001b[0m   \u001b[0mpredictionDist\u001b[0m \u001b[0;34m=\u001b[0m \u001b[0mnp\u001b[0m\u001b[0;34m.\u001b[0m\u001b[0marray\u001b[0m\u001b[0;34m(\u001b[0m\u001b[0mpredictionDist\u001b[0m\u001b[0;34m)\u001b[0m\u001b[0;34m\u001b[0m\u001b[0;34m\u001b[0m\u001b[0m\n",
            "\u001b[0;32m<ipython-input-195-5f3203295aa9>\u001b[0m in \u001b[0;36m<listcomp>\u001b[0;34m(.0)\u001b[0m\n\u001b[1;32m      3\u001b[0m \u001b[0;32mdef\u001b[0m \u001b[0mensemblePredictionsWeightedSpecific\u001b[0m\u001b[0;34m(\u001b[0m\u001b[0mmembers\u001b[0m\u001b[0;34m,\u001b[0m\u001b[0mweights\u001b[0m\u001b[0;34m,\u001b[0m\u001b[0mxTest\u001b[0m\u001b[0;34m)\u001b[0m\u001b[0;34m:\u001b[0m\u001b[0;34m\u001b[0m\u001b[0;34m\u001b[0m\u001b[0m\n\u001b[1;32m      4\u001b[0m   \u001b[0;31m#make predictions for each model in members\u001b[0m\u001b[0;34m\u001b[0m\u001b[0;34m\u001b[0m\u001b[0;34m\u001b[0m\u001b[0m\n\u001b[0;32m----> 5\u001b[0;31m   \u001b[0mpredictionDist\u001b[0m \u001b[0;34m=\u001b[0m \u001b[0;34m[\u001b[0m\u001b[0mmodel\u001b[0m\u001b[0;34m.\u001b[0m\u001b[0mpredict\u001b[0m\u001b[0;34m(\u001b[0m\u001b[0mxTest\u001b[0m\u001b[0;34m)\u001b[0m \u001b[0;32mfor\u001b[0m \u001b[0mmodel\u001b[0m \u001b[0;32min\u001b[0m \u001b[0mmembers\u001b[0m\u001b[0;34m]\u001b[0m\u001b[0;34m\u001b[0m\u001b[0;34m\u001b[0m\u001b[0m\n\u001b[0m\u001b[1;32m      6\u001b[0m   \u001b[0;31m#cast from list to np array\u001b[0m\u001b[0;34m\u001b[0m\u001b[0;34m\u001b[0m\u001b[0;34m\u001b[0m\u001b[0m\n\u001b[1;32m      7\u001b[0m   \u001b[0mpredictionDist\u001b[0m \u001b[0;34m=\u001b[0m \u001b[0mnp\u001b[0m\u001b[0;34m.\u001b[0m\u001b[0marray\u001b[0m\u001b[0;34m(\u001b[0m\u001b[0mpredictionDist\u001b[0m\u001b[0;34m)\u001b[0m\u001b[0;34m\u001b[0m\u001b[0;34m\u001b[0m\u001b[0m\n",
            "\u001b[0;32m/usr/local/lib/python3.7/dist-packages/tensorflow/python/keras/engine/training.py\u001b[0m in \u001b[0;36mpredict\u001b[0;34m(self, x, batch_size, verbose, steps, callbacks, max_queue_size, workers, use_multiprocessing)\u001b[0m\n\u001b[1;32m   1627\u001b[0m           \u001b[0;32mfor\u001b[0m \u001b[0mstep\u001b[0m \u001b[0;32min\u001b[0m \u001b[0mdata_handler\u001b[0m\u001b[0;34m.\u001b[0m\u001b[0msteps\u001b[0m\u001b[0;34m(\u001b[0m\u001b[0;34m)\u001b[0m\u001b[0;34m:\u001b[0m\u001b[0;34m\u001b[0m\u001b[0;34m\u001b[0m\u001b[0m\n\u001b[1;32m   1628\u001b[0m             \u001b[0mcallbacks\u001b[0m\u001b[0;34m.\u001b[0m\u001b[0mon_predict_batch_begin\u001b[0m\u001b[0;34m(\u001b[0m\u001b[0mstep\u001b[0m\u001b[0;34m)\u001b[0m\u001b[0;34m\u001b[0m\u001b[0;34m\u001b[0m\u001b[0m\n\u001b[0;32m-> 1629\u001b[0;31m             \u001b[0mtmp_batch_outputs\u001b[0m \u001b[0;34m=\u001b[0m \u001b[0mself\u001b[0m\u001b[0;34m.\u001b[0m\u001b[0mpredict_function\u001b[0m\u001b[0;34m(\u001b[0m\u001b[0miterator\u001b[0m\u001b[0;34m)\u001b[0m\u001b[0;34m\u001b[0m\u001b[0;34m\u001b[0m\u001b[0m\n\u001b[0m\u001b[1;32m   1630\u001b[0m             \u001b[0;32mif\u001b[0m \u001b[0mdata_handler\u001b[0m\u001b[0;34m.\u001b[0m\u001b[0mshould_sync\u001b[0m\u001b[0;34m:\u001b[0m\u001b[0;34m\u001b[0m\u001b[0;34m\u001b[0m\u001b[0m\n\u001b[1;32m   1631\u001b[0m               \u001b[0mcontext\u001b[0m\u001b[0;34m.\u001b[0m\u001b[0masync_wait\u001b[0m\u001b[0;34m(\u001b[0m\u001b[0;34m)\u001b[0m\u001b[0;34m\u001b[0m\u001b[0;34m\u001b[0m\u001b[0m\n",
            "\u001b[0;32m/usr/local/lib/python3.7/dist-packages/tensorflow/python/eager/def_function.py\u001b[0m in \u001b[0;36m__call__\u001b[0;34m(self, *args, **kwds)\u001b[0m\n\u001b[1;32m    826\u001b[0m     \u001b[0mtracing_count\u001b[0m \u001b[0;34m=\u001b[0m \u001b[0mself\u001b[0m\u001b[0;34m.\u001b[0m\u001b[0mexperimental_get_tracing_count\u001b[0m\u001b[0;34m(\u001b[0m\u001b[0;34m)\u001b[0m\u001b[0;34m\u001b[0m\u001b[0;34m\u001b[0m\u001b[0m\n\u001b[1;32m    827\u001b[0m     \u001b[0;32mwith\u001b[0m \u001b[0mtrace\u001b[0m\u001b[0;34m.\u001b[0m\u001b[0mTrace\u001b[0m\u001b[0;34m(\u001b[0m\u001b[0mself\u001b[0m\u001b[0;34m.\u001b[0m\u001b[0m_name\u001b[0m\u001b[0;34m)\u001b[0m \u001b[0;32mas\u001b[0m \u001b[0mtm\u001b[0m\u001b[0;34m:\u001b[0m\u001b[0;34m\u001b[0m\u001b[0;34m\u001b[0m\u001b[0m\n\u001b[0;32m--> 828\u001b[0;31m       \u001b[0mresult\u001b[0m \u001b[0;34m=\u001b[0m \u001b[0mself\u001b[0m\u001b[0;34m.\u001b[0m\u001b[0m_call\u001b[0m\u001b[0;34m(\u001b[0m\u001b[0;34m*\u001b[0m\u001b[0margs\u001b[0m\u001b[0;34m,\u001b[0m \u001b[0;34m**\u001b[0m\u001b[0mkwds\u001b[0m\u001b[0;34m)\u001b[0m\u001b[0;34m\u001b[0m\u001b[0;34m\u001b[0m\u001b[0m\n\u001b[0m\u001b[1;32m    829\u001b[0m       \u001b[0mcompiler\u001b[0m \u001b[0;34m=\u001b[0m \u001b[0;34m\"xla\"\u001b[0m \u001b[0;32mif\u001b[0m \u001b[0mself\u001b[0m\u001b[0;34m.\u001b[0m\u001b[0m_experimental_compile\u001b[0m \u001b[0;32melse\u001b[0m \u001b[0;34m\"nonXla\"\u001b[0m\u001b[0;34m\u001b[0m\u001b[0;34m\u001b[0m\u001b[0m\n\u001b[1;32m    830\u001b[0m       \u001b[0mnew_tracing_count\u001b[0m \u001b[0;34m=\u001b[0m \u001b[0mself\u001b[0m\u001b[0;34m.\u001b[0m\u001b[0mexperimental_get_tracing_count\u001b[0m\u001b[0;34m(\u001b[0m\u001b[0;34m)\u001b[0m\u001b[0;34m\u001b[0m\u001b[0;34m\u001b[0m\u001b[0m\n",
            "\u001b[0;32m/usr/local/lib/python3.7/dist-packages/tensorflow/python/eager/def_function.py\u001b[0m in \u001b[0;36m_call\u001b[0;34m(self, *args, **kwds)\u001b[0m\n\u001b[1;32m    860\u001b[0m       \u001b[0;31m# In this case we have not created variables on the first call. So we can\u001b[0m\u001b[0;34m\u001b[0m\u001b[0;34m\u001b[0m\u001b[0;34m\u001b[0m\u001b[0m\n\u001b[1;32m    861\u001b[0m       \u001b[0;31m# run the first trace but we should fail if variables are created.\u001b[0m\u001b[0;34m\u001b[0m\u001b[0;34m\u001b[0m\u001b[0;34m\u001b[0m\u001b[0m\n\u001b[0;32m--> 862\u001b[0;31m       \u001b[0mresults\u001b[0m \u001b[0;34m=\u001b[0m \u001b[0mself\u001b[0m\u001b[0;34m.\u001b[0m\u001b[0m_stateful_fn\u001b[0m\u001b[0;34m(\u001b[0m\u001b[0;34m*\u001b[0m\u001b[0margs\u001b[0m\u001b[0;34m,\u001b[0m \u001b[0;34m**\u001b[0m\u001b[0mkwds\u001b[0m\u001b[0;34m)\u001b[0m\u001b[0;34m\u001b[0m\u001b[0;34m\u001b[0m\u001b[0m\n\u001b[0m\u001b[1;32m    863\u001b[0m       \u001b[0;32mif\u001b[0m \u001b[0mself\u001b[0m\u001b[0;34m.\u001b[0m\u001b[0m_created_variables\u001b[0m\u001b[0;34m:\u001b[0m\u001b[0;34m\u001b[0m\u001b[0;34m\u001b[0m\u001b[0m\n\u001b[1;32m    864\u001b[0m         raise ValueError(\"Creating variables on a non-first call to a function\"\n",
            "\u001b[0;32m/usr/local/lib/python3.7/dist-packages/tensorflow/python/eager/function.py\u001b[0m in \u001b[0;36m__call__\u001b[0;34m(self, *args, **kwargs)\u001b[0m\n\u001b[1;32m   2941\u001b[0m        filtered_flat_args) = self._maybe_define_function(args, kwargs)\n\u001b[1;32m   2942\u001b[0m     return graph_function._call_flat(\n\u001b[0;32m-> 2943\u001b[0;31m         filtered_flat_args, captured_inputs=graph_function.captured_inputs)  # pylint: disable=protected-access\n\u001b[0m\u001b[1;32m   2944\u001b[0m \u001b[0;34m\u001b[0m\u001b[0m\n\u001b[1;32m   2945\u001b[0m   \u001b[0;34m@\u001b[0m\u001b[0mproperty\u001b[0m\u001b[0;34m\u001b[0m\u001b[0;34m\u001b[0m\u001b[0m\n",
            "\u001b[0;32m/usr/local/lib/python3.7/dist-packages/tensorflow/python/eager/function.py\u001b[0m in \u001b[0;36m_call_flat\u001b[0;34m(self, args, captured_inputs, cancellation_manager)\u001b[0m\n\u001b[1;32m   1917\u001b[0m       \u001b[0;31m# No tape is watching; skip to running the function.\u001b[0m\u001b[0;34m\u001b[0m\u001b[0;34m\u001b[0m\u001b[0;34m\u001b[0m\u001b[0m\n\u001b[1;32m   1918\u001b[0m       return self._build_call_outputs(self._inference_function.call(\n\u001b[0;32m-> 1919\u001b[0;31m           ctx, args, cancellation_manager=cancellation_manager))\n\u001b[0m\u001b[1;32m   1920\u001b[0m     forward_backward = self._select_forward_and_backward_functions(\n\u001b[1;32m   1921\u001b[0m         \u001b[0margs\u001b[0m\u001b[0;34m,\u001b[0m\u001b[0;34m\u001b[0m\u001b[0;34m\u001b[0m\u001b[0m\n",
            "\u001b[0;32m/usr/local/lib/python3.7/dist-packages/tensorflow/python/eager/function.py\u001b[0m in \u001b[0;36mcall\u001b[0;34m(self, ctx, args, cancellation_manager)\u001b[0m\n\u001b[1;32m    558\u001b[0m               \u001b[0minputs\u001b[0m\u001b[0;34m=\u001b[0m\u001b[0margs\u001b[0m\u001b[0;34m,\u001b[0m\u001b[0;34m\u001b[0m\u001b[0;34m\u001b[0m\u001b[0m\n\u001b[1;32m    559\u001b[0m               \u001b[0mattrs\u001b[0m\u001b[0;34m=\u001b[0m\u001b[0mattrs\u001b[0m\u001b[0;34m,\u001b[0m\u001b[0;34m\u001b[0m\u001b[0;34m\u001b[0m\u001b[0m\n\u001b[0;32m--> 560\u001b[0;31m               ctx=ctx)\n\u001b[0m\u001b[1;32m    561\u001b[0m         \u001b[0;32melse\u001b[0m\u001b[0;34m:\u001b[0m\u001b[0;34m\u001b[0m\u001b[0;34m\u001b[0m\u001b[0m\n\u001b[1;32m    562\u001b[0m           outputs = execute.execute_with_cancellation(\n",
            "\u001b[0;32m/usr/local/lib/python3.7/dist-packages/tensorflow/python/eager/execute.py\u001b[0m in \u001b[0;36mquick_execute\u001b[0;34m(op_name, num_outputs, inputs, attrs, ctx, name)\u001b[0m\n\u001b[1;32m     58\u001b[0m     \u001b[0mctx\u001b[0m\u001b[0;34m.\u001b[0m\u001b[0mensure_initialized\u001b[0m\u001b[0;34m(\u001b[0m\u001b[0;34m)\u001b[0m\u001b[0;34m\u001b[0m\u001b[0;34m\u001b[0m\u001b[0m\n\u001b[1;32m     59\u001b[0m     tensors = pywrap_tfe.TFE_Py_Execute(ctx._handle, device_name, op_name,\n\u001b[0;32m---> 60\u001b[0;31m                                         inputs, attrs, num_outputs)\n\u001b[0m\u001b[1;32m     61\u001b[0m   \u001b[0;32mexcept\u001b[0m \u001b[0mcore\u001b[0m\u001b[0;34m.\u001b[0m\u001b[0m_NotOkStatusException\u001b[0m \u001b[0;32mas\u001b[0m \u001b[0me\u001b[0m\u001b[0;34m:\u001b[0m\u001b[0;34m\u001b[0m\u001b[0;34m\u001b[0m\u001b[0m\n\u001b[1;32m     62\u001b[0m     \u001b[0;32mif\u001b[0m \u001b[0mname\u001b[0m \u001b[0;32mis\u001b[0m \u001b[0;32mnot\u001b[0m \u001b[0;32mNone\u001b[0m\u001b[0;34m:\u001b[0m\u001b[0;34m\u001b[0m\u001b[0;34m\u001b[0m\u001b[0m\n",
            "\u001b[0;31mKeyboardInterrupt\u001b[0m: "
          ]
        }
      ]
    },
    {
      "cell_type": "markdown",
      "metadata": {
        "id": "Kd-e2cQFXzpE"
      },
      "source": [
        "## Trying the optimized weights again <a class=\"anchor\" id=\"four-three\" name=\"four-three\"></a>##"
      ]
    },
    {
      "cell_type": "markdown",
      "metadata": {
        "id": "kcaNRwHxCLwm"
      },
      "source": [
        "Since we could not solve the weight optimization problem, I dedicate this section to exploring why that may be. \n",
        "\n",
        "In summary, optimization of weights in relation to the entire model can be fruitful if certain models are better than other models. However, since we looped our for loop on fitting the same model, we produce different instances or 'realizations' of the same model. Thus, as it relates to CLT, it's possible we're simply producing mostly similar models, and thus, the range in k dimensions of $m_k$ models  for weights $w_k$ generates to being mostly flat. In three dimensions, with three weights, this means the loss as a measure of some form of accuracy directly (e.g. 1-accuracy) will produce a discretization of a manifold in 3 dimensions ($w_1,w_2,w_3$). Such a manifold will degenerate to be mostly flat if the models are. You may be able to converge to a local minimum, but and any change on this plane directly leads to improved accuracy as a definition of the loss, but this should be very small if the models are mostly the same.\n",
        "\n",
        "In the case of many of the same model, global convergence is difficult, and local convergence can be achieved, yet since the the models predict similarly, the improvement will be very small."
      ]
    },
    {
      "cell_type": "markdown",
      "metadata": {
        "id": "8tUqXeMeLn6d"
      },
      "source": [
        "Note in regards to preprocessing for NN: If you have to have make changes, do not accidentily normalize more than once"
      ]
    },
    {
      "cell_type": "code",
      "metadata": {
        "id": "sMWEHZ6eLk_z"
      },
      "source": [
        "# Normalize the images.\n",
        "xTrain = (xTrain / 255) - 0.5\n",
        "xTest = (xTest / 255) - 0.5"
      ],
      "execution_count": 108,
      "outputs": []
    },
    {
      "cell_type": "code",
      "metadata": {
        "id": "DjcwD2GHLlxH"
      },
      "source": [
        "# Flatten the images.\n",
        "xTrain = xTrain.reshape((-1, 784))\n",
        "xTest = xTest.reshape((-1, 784))\n",
        "#input = input.flatten()\n",
        "\n",
        "#printing shape\n",
        "print(xTrain.shape)\n",
        "print(xTest.shape)"
      ],
      "execution_count": null,
      "outputs": []
    },
    {
      "cell_type": "code",
      "metadata": {
        "id": "t9ByqTzbXzK4"
      },
      "source": [
        "#importing \n",
        "from sklearn.metrics import accuracy_score\n",
        "from keras.utils import to_categorical\n",
        "from keras.models import Sequential\n",
        "from keras.layers import Dense\n",
        "from matplotlib import pyplot\n",
        "import numpy as np\n",
        "from numpy import tensordot\n",
        "from numpy.linalg import norm\n",
        "from scipy.optimize import differential_evolution\n",
        "from scipy.optimize import minimize"
      ],
      "execution_count": 39,
      "outputs": []
    },
    {
      "cell_type": "code",
      "metadata": {
        "id": "k2GqJhTnXzNJ"
      },
      "source": [
        "#fit model method: defines model structure, compiles, fits, and returns\n",
        "\n",
        "def fitModel(xTrain,yTrain):\n",
        "  #Constructing our layers\n",
        "  model = Sequential([\n",
        "  Dense(64, activation='relu'),\n",
        "  Dense(64, activation='relu'),\n",
        "  Dense(10, activation='softmax'),\n",
        "  ])\n",
        "  #compiling the model\n",
        "  model.compile(\n",
        "      optimizer='adam',\n",
        "      loss='categorical_crossentropy',\n",
        "      metrics=['accuracy'],\n",
        "      )\n",
        "  model.fit(\n",
        "      xTrain,\n",
        "      to_categorical(yTrain),\n",
        "      epochs=5,\n",
        "      batch_size=32,\n",
        "      validation_data=(xTest, to_categorical(yTest)),\n",
        "      verbose=0\n",
        "      )\n",
        "  #returning our model\n",
        "  return model"
      ],
      "execution_count": 40,
      "outputs": []
    },
    {
      "cell_type": "code",
      "metadata": {
        "id": "omGDEc6XXzPd"
      },
      "source": [
        "#Make prediction from models,weights, and xTest. Uses tensordot.\n",
        "\n",
        "def ensemblePredictionsWeighted(members,weights,xTest):\n",
        "  #make predictions for each model in members\n",
        "  predictionDist = [model.predict(xTest) for model in members]\n",
        "  #cast from list to np array\n",
        "  predictionDist = np.array(predictionDist)\n",
        "\n",
        "  #sum of predictions array per element, and by tensor weight\n",
        "  #be CAREFUL with those axes, son\n",
        "  summedPredictions = np.tensordot(predictionDist,weights,axes=((0),(0)))\n",
        "\n",
        "  #argmax to choose classification (10000,)\n",
        "  result = np.argmax(summedPredictions, axis=1)\n",
        "\n",
        "  #returning our predicted class\n",
        "  return result"
      ],
      "execution_count": 41,
      "outputs": []
    },
    {
      "cell_type": "code",
      "metadata": {
        "id": "bObyH_H7XzRz"
      },
      "source": [
        "def evaluateEnsemble(members, weights, xTest, yTest):\n",
        "\t# Make predictions\n",
        "\tpredictions = ensemblePredictionsWeighted(members,weights, xTest)\n",
        "\t# calculate accuracy\n",
        "\treturn accuracy_score(predictions, yTest)"
      ],
      "execution_count": 42,
      "outputs": []
    },
    {
      "cell_type": "code",
      "metadata": {
        "id": "PVhnuC_CXzUB"
      },
      "source": [
        "# Fit numModels (10,here) models\n",
        "numModels = 3\n",
        "members = [fitModel(xTrain, yTrain) for _ in range(numModels)]"
      ],
      "execution_count": 104,
      "outputs": []
    },
    {
      "cell_type": "code",
      "metadata": {
        "colab": {
          "base_uri": "https://localhost:8080/"
        },
        "id": "YNTFX-kgLrsX",
        "outputId": "f620d5af-256d-4661-dd5b-59c191d3d199"
      },
      "source": [
        "members"
      ],
      "execution_count": 105,
      "outputs": [
        {
          "output_type": "execute_result",
          "data": {
            "text/plain": [
              "[<tensorflow.python.keras.engine.sequential.Sequential at 0x7fe0bf2b2250>,\n",
              " <tensorflow.python.keras.engine.sequential.Sequential at 0x7fe0dc166f50>,\n",
              " <tensorflow.python.keras.engine.sequential.Sequential at 0x7fe0d6fa4210>]"
            ]
          },
          "metadata": {
            "tags": []
          },
          "execution_count": 105
        }
      ]
    },
    {
      "cell_type": "code",
      "metadata": {
        "colab": {
          "base_uri": "https://localhost:8080/"
        },
        "id": "laC9YUtUj12E",
        "outputId": "827ddd8b-f675-4ed8-e646-dd717c954c7f"
      },
      "source": [
        "weights = np.array([1/numModels for _ in range(numModels)])\n",
        "weights"
      ],
      "execution_count": 106,
      "outputs": [
        {
          "output_type": "execute_result",
          "data": {
            "text/plain": [
              "array([0.33333333, 0.33333333, 0.33333333])"
            ]
          },
          "metadata": {
            "tags": []
          },
          "execution_count": 106
        }
      ]
    },
    {
      "cell_type": "code",
      "metadata": {
        "colab": {
          "base_uri": "https://localhost:8080/"
        },
        "id": "MeL6W-n-iPTY",
        "outputId": "4608b9f8-174a-46dc-c36e-a6d8e30e3ecb"
      },
      "source": [
        "evaluateEnsemble(members,weights,xTest,yTest)"
      ],
      "execution_count": 107,
      "outputs": [
        {
          "output_type": "execute_result",
          "data": {
            "text/plain": [
              "0.1135"
            ]
          },
          "metadata": {
            "tags": []
          },
          "execution_count": 107
        }
      ]
    },
    {
      "cell_type": "code",
      "metadata": {
        "id": "YbiVIOmCiPVn"
      },
      "source": [
        "# normalize a vector to have unit norm\n",
        "def normalize(weights):\n",
        "\t# calculate l1 vector norm\n",
        "\tresult = norm(weights, 1)\n",
        "\t# check for a vector of all zeros\n",
        "\tif result == 0.0:\n",
        "\t\treturn weights\n",
        "\t# return normalized vector (unit norm)\n",
        "\treturn weights / result\n",
        "\n",
        "# loss function for optimization process, designed to be minimized\n",
        "def loss_function(weights, members, xTest, yTest):\n",
        "  # normalize weights\n",
        "  normalized = normalize(weights)\n",
        "  # calculate error rate\n",
        "  loss = (1.0 - evaluateEnsemble(members, normalized, xTest, yTest))\n",
        "  #ideas to consider:\n",
        "  #Try other ideas for loss/error\n",
        "  #cross entropy loss instead...maybe average among the models!\n",
        "  #use neural network to accept model -> optimize neuron (50 fully, to 10)\n",
        "  #regularization term ~ add norm of weights  (add to loss) #expected ~ 0.027^1/2\n",
        "  print(loss)\n",
        "  print(normalized)\n",
        "  return loss"
      ],
      "execution_count": 47,
      "outputs": []
    },
    {
      "cell_type": "code",
      "metadata": {
        "id": "Lg8svOq5iPXr"
      },
      "source": [
        "#bounds for evolution\n",
        "bound_w = [(0.0, 1.0)  for _ in range(numModels)]\n",
        "# arguments to the loss function\n",
        "search_arg = (members, xTest, yTest)"
      ],
      "execution_count": 48,
      "outputs": []
    },
    {
      "cell_type": "code",
      "metadata": {
        "colab": {
          "base_uri": "https://localhost:8080/",
          "height": 1000
        },
        "id": "kp0ioYK2iPaM",
        "outputId": "f1873b04-1085-4456-d1b9-1fd8df551bbe"
      },
      "source": [
        "# GLOBAL optimization of weights\n",
        "#We can observe regardless of loss function in relation to accuracy...\n",
        "#that the solution plane is too similar to distinctly converge\n",
        "result = differential_evolution(loss_function, bound_w, search_arg, maxiter=1000, tol=1e-7)"
      ],
      "execution_count": 49,
      "outputs": [
        {
          "output_type": "stream",
          "text": [
            "0.025900000000000034\n",
            "[0.33983753 0.37168161 0.28848086]\n",
            "0.028699999999999948\n",
            "[0.01544346 0.66117262 0.32338392]\n",
            "0.02639999999999998\n",
            "[0.34513837 0.4266492  0.22821243]\n",
            "0.027699999999999947\n",
            "[0.5018372  0.49229059 0.00587221]\n",
            "0.025699999999999945\n",
            "[0.42870417 0.14830937 0.42298646]\n",
            "0.028200000000000003\n",
            "[5.96803735e-01 1.37924292e-04 4.03058340e-01]\n",
            "0.028200000000000003\n",
            "[0.62092014 0.08556484 0.29351502]\n",
            "0.027699999999999947\n",
            "[0.09500367 0.57130574 0.33369059]\n",
            "0.025699999999999945\n",
            "[0.36550168 0.35149008 0.28300824]\n",
            "0.031399999999999983\n",
            "[0.20031518 0.06058935 0.73909547]\n",
            "0.026100000000000012\n",
            "[0.24025657 0.4837189  0.27602452]\n",
            "0.026699999999999946\n",
            "[0.27214045 0.4104906  0.31736895]\n",
            "0.02739999999999998\n",
            "[0.29433248 0.18033927 0.52532826]\n",
            "0.03190000000000004\n",
            "[0.06849021 0.17750513 0.75400466]\n",
            "0.02939999999999998\n",
            "[0.05836555 0.3244971  0.61713735]\n",
            "0.028200000000000003\n",
            "[0.64833176 0.22004901 0.13161923]\n",
            "0.027900000000000036\n",
            "[0.60396048 0.07648873 0.31955079]\n",
            "0.0262\n",
            "[0.3710589  0.41020228 0.21873882]\n",
            "0.028299999999999992\n",
            "[0.15808949 0.60553377 0.23637674]\n"
          ],
          "name": "stdout"
        },
        {
          "output_type": "error",
          "ename": "KeyboardInterrupt",
          "evalue": "ignored",
          "traceback": [
            "\u001b[0;31m---------------------------------------------------------------------------\u001b[0m",
            "\u001b[0;31mKeyboardInterrupt\u001b[0m                         Traceback (most recent call last)",
            "\u001b[0;32m<ipython-input-49-4fc05336d0c7>\u001b[0m in \u001b[0;36m<module>\u001b[0;34m()\u001b[0m\n\u001b[1;32m      2\u001b[0m \u001b[0;31m#We can observe regardless of loss function in relation to accuracy...\u001b[0m\u001b[0;34m\u001b[0m\u001b[0;34m\u001b[0m\u001b[0;34m\u001b[0m\u001b[0m\n\u001b[1;32m      3\u001b[0m \u001b[0;31m#that the solution plane is too similar to distinctly converge\u001b[0m\u001b[0;34m\u001b[0m\u001b[0;34m\u001b[0m\u001b[0;34m\u001b[0m\u001b[0m\n\u001b[0;32m----> 4\u001b[0;31m \u001b[0mresult\u001b[0m \u001b[0;34m=\u001b[0m \u001b[0mdifferential_evolution\u001b[0m\u001b[0;34m(\u001b[0m\u001b[0mloss_function\u001b[0m\u001b[0;34m,\u001b[0m \u001b[0mbound_w\u001b[0m\u001b[0;34m,\u001b[0m \u001b[0msearch_arg\u001b[0m\u001b[0;34m,\u001b[0m \u001b[0mmaxiter\u001b[0m\u001b[0;34m=\u001b[0m\u001b[0;36m1000\u001b[0m\u001b[0;34m,\u001b[0m \u001b[0mtol\u001b[0m\u001b[0;34m=\u001b[0m\u001b[0;36m1e-7\u001b[0m\u001b[0;34m)\u001b[0m\u001b[0;34m\u001b[0m\u001b[0;34m\u001b[0m\u001b[0m\n\u001b[0m",
            "\u001b[0;32m/usr/local/lib/python3.7/dist-packages/scipy/optimize/_differentialevolution.py\u001b[0m in \u001b[0;36mdifferential_evolution\u001b[0;34m(func, bounds, args, strategy, maxiter, popsize, tol, mutation, recombination, seed, callback, disp, polish, init, atol, updating, workers, constraints)\u001b[0m\n\u001b[1;32m    304\u001b[0m                                      \u001b[0mworkers\u001b[0m\u001b[0;34m=\u001b[0m\u001b[0mworkers\u001b[0m\u001b[0;34m,\u001b[0m\u001b[0;34m\u001b[0m\u001b[0;34m\u001b[0m\u001b[0m\n\u001b[1;32m    305\u001b[0m                                      constraints=constraints) as solver:\n\u001b[0;32m--> 306\u001b[0;31m         \u001b[0mret\u001b[0m \u001b[0;34m=\u001b[0m \u001b[0msolver\u001b[0m\u001b[0;34m.\u001b[0m\u001b[0msolve\u001b[0m\u001b[0;34m(\u001b[0m\u001b[0;34m)\u001b[0m\u001b[0;34m\u001b[0m\u001b[0;34m\u001b[0m\u001b[0m\n\u001b[0m\u001b[1;32m    307\u001b[0m \u001b[0;34m\u001b[0m\u001b[0m\n\u001b[1;32m    308\u001b[0m     \u001b[0;32mreturn\u001b[0m \u001b[0mret\u001b[0m\u001b[0;34m\u001b[0m\u001b[0;34m\u001b[0m\u001b[0m\n",
            "\u001b[0;32m/usr/local/lib/python3.7/dist-packages/scipy/optimize/_differentialevolution.py\u001b[0m in \u001b[0;36msolve\u001b[0;34m(self)\u001b[0m\n\u001b[1;32m    743\u001b[0m             self.population_energies[self.feasible] = (\n\u001b[1;32m    744\u001b[0m                 self._calculate_population_energies(\n\u001b[0;32m--> 745\u001b[0;31m                     self.population[self.feasible]))\n\u001b[0m\u001b[1;32m    746\u001b[0m \u001b[0;34m\u001b[0m\u001b[0m\n\u001b[1;32m    747\u001b[0m             \u001b[0mself\u001b[0m\u001b[0;34m.\u001b[0m\u001b[0m_promote_lowest_energy\u001b[0m\u001b[0;34m(\u001b[0m\u001b[0;34m)\u001b[0m\u001b[0;34m\u001b[0m\u001b[0;34m\u001b[0m\u001b[0m\n",
            "\u001b[0;32m/usr/local/lib/python3.7/dist-packages/scipy/optimize/_differentialevolution.py\u001b[0m in \u001b[0;36m_calculate_population_energies\u001b[0;34m(self, population)\u001b[0m\n\u001b[1;32m    876\u001b[0m         \u001b[0;32mtry\u001b[0m\u001b[0;34m:\u001b[0m\u001b[0;34m\u001b[0m\u001b[0;34m\u001b[0m\u001b[0m\n\u001b[1;32m    877\u001b[0m             calc_energies = list(self._mapwrapper(self.func,\n\u001b[0;32m--> 878\u001b[0;31m                                                   parameters_pop[0:nfevs]))\n\u001b[0m\u001b[1;32m    879\u001b[0m             \u001b[0menergies\u001b[0m\u001b[0;34m[\u001b[0m\u001b[0;36m0\u001b[0m\u001b[0;34m:\u001b[0m\u001b[0mnfevs\u001b[0m\u001b[0;34m]\u001b[0m \u001b[0;34m=\u001b[0m \u001b[0mcalc_energies\u001b[0m\u001b[0;34m\u001b[0m\u001b[0;34m\u001b[0m\u001b[0m\n\u001b[1;32m    880\u001b[0m         \u001b[0;32mexcept\u001b[0m \u001b[0;34m(\u001b[0m\u001b[0mTypeError\u001b[0m\u001b[0;34m,\u001b[0m \u001b[0mValueError\u001b[0m\u001b[0;34m)\u001b[0m\u001b[0;34m:\u001b[0m\u001b[0;34m\u001b[0m\u001b[0;34m\u001b[0m\u001b[0m\n",
            "\u001b[0;32m/usr/local/lib/python3.7/dist-packages/scipy/optimize/_differentialevolution.py\u001b[0m in \u001b[0;36m__call__\u001b[0;34m(self, x)\u001b[0m\n\u001b[1;32m   1263\u001b[0m \u001b[0;34m\u001b[0m\u001b[0m\n\u001b[1;32m   1264\u001b[0m     \u001b[0;32mdef\u001b[0m \u001b[0m__call__\u001b[0m\u001b[0;34m(\u001b[0m\u001b[0mself\u001b[0m\u001b[0;34m,\u001b[0m \u001b[0mx\u001b[0m\u001b[0;34m)\u001b[0m\u001b[0;34m:\u001b[0m\u001b[0;34m\u001b[0m\u001b[0;34m\u001b[0m\u001b[0m\n\u001b[0;32m-> 1265\u001b[0;31m         \u001b[0;32mreturn\u001b[0m \u001b[0mself\u001b[0m\u001b[0;34m.\u001b[0m\u001b[0mf\u001b[0m\u001b[0;34m(\u001b[0m\u001b[0mx\u001b[0m\u001b[0;34m,\u001b[0m \u001b[0;34m*\u001b[0m\u001b[0mself\u001b[0m\u001b[0;34m.\u001b[0m\u001b[0margs\u001b[0m\u001b[0;34m)\u001b[0m\u001b[0;34m\u001b[0m\u001b[0;34m\u001b[0m\u001b[0m\n\u001b[0m\u001b[1;32m   1266\u001b[0m \u001b[0;34m\u001b[0m\u001b[0m\n\u001b[1;32m   1267\u001b[0m \u001b[0;34m\u001b[0m\u001b[0m\n",
            "\u001b[0;32m<ipython-input-47-d685502aa0ca>\u001b[0m in \u001b[0;36mloss_function\u001b[0;34m(weights, members, xTest, yTest)\u001b[0m\n\u001b[1;32m     14\u001b[0m   \u001b[0mnormalized\u001b[0m \u001b[0;34m=\u001b[0m \u001b[0mnormalize\u001b[0m\u001b[0;34m(\u001b[0m\u001b[0mweights\u001b[0m\u001b[0;34m)\u001b[0m\u001b[0;34m\u001b[0m\u001b[0;34m\u001b[0m\u001b[0m\n\u001b[1;32m     15\u001b[0m   \u001b[0;31m# calculate error rate\u001b[0m\u001b[0;34m\u001b[0m\u001b[0;34m\u001b[0m\u001b[0;34m\u001b[0m\u001b[0m\n\u001b[0;32m---> 16\u001b[0;31m   \u001b[0mloss\u001b[0m \u001b[0;34m=\u001b[0m \u001b[0;34m(\u001b[0m\u001b[0;36m1.0\u001b[0m \u001b[0;34m-\u001b[0m \u001b[0mevaluateEnsemble\u001b[0m\u001b[0;34m(\u001b[0m\u001b[0mmembers\u001b[0m\u001b[0;34m,\u001b[0m \u001b[0mnormalized\u001b[0m\u001b[0;34m,\u001b[0m \u001b[0mxTest\u001b[0m\u001b[0;34m,\u001b[0m \u001b[0myTest\u001b[0m\u001b[0;34m)\u001b[0m\u001b[0;34m)\u001b[0m\u001b[0;34m\u001b[0m\u001b[0;34m\u001b[0m\u001b[0m\n\u001b[0m\u001b[1;32m     17\u001b[0m   \u001b[0;31m#ideas to consider:\u001b[0m\u001b[0;34m\u001b[0m\u001b[0;34m\u001b[0m\u001b[0;34m\u001b[0m\u001b[0m\n\u001b[1;32m     18\u001b[0m   \u001b[0;31m#Try other ideas for loss/error\u001b[0m\u001b[0;34m\u001b[0m\u001b[0;34m\u001b[0m\u001b[0;34m\u001b[0m\u001b[0m\n",
            "\u001b[0;32m<ipython-input-42-6f6cebde27c0>\u001b[0m in \u001b[0;36mevaluateEnsemble\u001b[0;34m(members, weights, xTest, yTest)\u001b[0m\n\u001b[1;32m      1\u001b[0m \u001b[0;32mdef\u001b[0m \u001b[0mevaluateEnsemble\u001b[0m\u001b[0;34m(\u001b[0m\u001b[0mmembers\u001b[0m\u001b[0;34m,\u001b[0m \u001b[0mweights\u001b[0m\u001b[0;34m,\u001b[0m \u001b[0mxTest\u001b[0m\u001b[0;34m,\u001b[0m \u001b[0myTest\u001b[0m\u001b[0;34m)\u001b[0m\u001b[0;34m:\u001b[0m\u001b[0;34m\u001b[0m\u001b[0;34m\u001b[0m\u001b[0m\n\u001b[1;32m      2\u001b[0m         \u001b[0;31m# Make predictions\u001b[0m\u001b[0;34m\u001b[0m\u001b[0;34m\u001b[0m\u001b[0;34m\u001b[0m\u001b[0m\n\u001b[0;32m----> 3\u001b[0;31m         \u001b[0mpredictions\u001b[0m \u001b[0;34m=\u001b[0m \u001b[0mensemblePredictionsWeighted\u001b[0m\u001b[0;34m(\u001b[0m\u001b[0mmembers\u001b[0m\u001b[0;34m,\u001b[0m\u001b[0mweights\u001b[0m\u001b[0;34m,\u001b[0m \u001b[0mxTest\u001b[0m\u001b[0;34m)\u001b[0m\u001b[0;34m\u001b[0m\u001b[0;34m\u001b[0m\u001b[0m\n\u001b[0m\u001b[1;32m      4\u001b[0m         \u001b[0;31m# calculate accuracy\u001b[0m\u001b[0;34m\u001b[0m\u001b[0;34m\u001b[0m\u001b[0;34m\u001b[0m\u001b[0m\n\u001b[1;32m      5\u001b[0m         \u001b[0;32mreturn\u001b[0m \u001b[0maccuracy_score\u001b[0m\u001b[0;34m(\u001b[0m\u001b[0mpredictions\u001b[0m\u001b[0;34m,\u001b[0m \u001b[0myTest\u001b[0m\u001b[0;34m)\u001b[0m\u001b[0;34m\u001b[0m\u001b[0;34m\u001b[0m\u001b[0m\n",
            "\u001b[0;32m<ipython-input-41-c03706d2f85d>\u001b[0m in \u001b[0;36mensemblePredictionsWeighted\u001b[0;34m(members, weights, xTest)\u001b[0m\n\u001b[1;32m      3\u001b[0m \u001b[0;32mdef\u001b[0m \u001b[0mensemblePredictionsWeighted\u001b[0m\u001b[0;34m(\u001b[0m\u001b[0mmembers\u001b[0m\u001b[0;34m,\u001b[0m\u001b[0mweights\u001b[0m\u001b[0;34m,\u001b[0m\u001b[0mxTest\u001b[0m\u001b[0;34m)\u001b[0m\u001b[0;34m:\u001b[0m\u001b[0;34m\u001b[0m\u001b[0;34m\u001b[0m\u001b[0m\n\u001b[1;32m      4\u001b[0m   \u001b[0;31m#make predictions for each model in members\u001b[0m\u001b[0;34m\u001b[0m\u001b[0;34m\u001b[0m\u001b[0;34m\u001b[0m\u001b[0m\n\u001b[0;32m----> 5\u001b[0;31m   \u001b[0mpredictionDist\u001b[0m \u001b[0;34m=\u001b[0m \u001b[0;34m[\u001b[0m\u001b[0mmodel\u001b[0m\u001b[0;34m.\u001b[0m\u001b[0mpredict\u001b[0m\u001b[0;34m(\u001b[0m\u001b[0mxTest\u001b[0m\u001b[0;34m)\u001b[0m \u001b[0;32mfor\u001b[0m \u001b[0mmodel\u001b[0m \u001b[0;32min\u001b[0m \u001b[0mmembers\u001b[0m\u001b[0;34m]\u001b[0m\u001b[0;34m\u001b[0m\u001b[0;34m\u001b[0m\u001b[0m\n\u001b[0m\u001b[1;32m      6\u001b[0m   \u001b[0;31m#cast from list to np array\u001b[0m\u001b[0;34m\u001b[0m\u001b[0;34m\u001b[0m\u001b[0;34m\u001b[0m\u001b[0m\n\u001b[1;32m      7\u001b[0m   \u001b[0mpredictionDist\u001b[0m \u001b[0;34m=\u001b[0m \u001b[0mnp\u001b[0m\u001b[0;34m.\u001b[0m\u001b[0marray\u001b[0m\u001b[0;34m(\u001b[0m\u001b[0mpredictionDist\u001b[0m\u001b[0;34m)\u001b[0m\u001b[0;34m\u001b[0m\u001b[0;34m\u001b[0m\u001b[0m\n",
            "\u001b[0;32m<ipython-input-41-c03706d2f85d>\u001b[0m in \u001b[0;36m<listcomp>\u001b[0;34m(.0)\u001b[0m\n\u001b[1;32m      3\u001b[0m \u001b[0;32mdef\u001b[0m \u001b[0mensemblePredictionsWeighted\u001b[0m\u001b[0;34m(\u001b[0m\u001b[0mmembers\u001b[0m\u001b[0;34m,\u001b[0m\u001b[0mweights\u001b[0m\u001b[0;34m,\u001b[0m\u001b[0mxTest\u001b[0m\u001b[0;34m)\u001b[0m\u001b[0;34m:\u001b[0m\u001b[0;34m\u001b[0m\u001b[0;34m\u001b[0m\u001b[0m\n\u001b[1;32m      4\u001b[0m   \u001b[0;31m#make predictions for each model in members\u001b[0m\u001b[0;34m\u001b[0m\u001b[0;34m\u001b[0m\u001b[0;34m\u001b[0m\u001b[0m\n\u001b[0;32m----> 5\u001b[0;31m   \u001b[0mpredictionDist\u001b[0m \u001b[0;34m=\u001b[0m \u001b[0;34m[\u001b[0m\u001b[0mmodel\u001b[0m\u001b[0;34m.\u001b[0m\u001b[0mpredict\u001b[0m\u001b[0;34m(\u001b[0m\u001b[0mxTest\u001b[0m\u001b[0;34m)\u001b[0m \u001b[0;32mfor\u001b[0m \u001b[0mmodel\u001b[0m \u001b[0;32min\u001b[0m \u001b[0mmembers\u001b[0m\u001b[0;34m]\u001b[0m\u001b[0;34m\u001b[0m\u001b[0;34m\u001b[0m\u001b[0m\n\u001b[0m\u001b[1;32m      6\u001b[0m   \u001b[0;31m#cast from list to np array\u001b[0m\u001b[0;34m\u001b[0m\u001b[0;34m\u001b[0m\u001b[0;34m\u001b[0m\u001b[0m\n\u001b[1;32m      7\u001b[0m   \u001b[0mpredictionDist\u001b[0m \u001b[0;34m=\u001b[0m \u001b[0mnp\u001b[0m\u001b[0;34m.\u001b[0m\u001b[0marray\u001b[0m\u001b[0;34m(\u001b[0m\u001b[0mpredictionDist\u001b[0m\u001b[0;34m)\u001b[0m\u001b[0;34m\u001b[0m\u001b[0;34m\u001b[0m\u001b[0m\n",
            "\u001b[0;32m/usr/local/lib/python3.7/dist-packages/tensorflow/python/keras/engine/training.py\u001b[0m in \u001b[0;36mpredict\u001b[0;34m(self, x, batch_size, verbose, steps, callbacks, max_queue_size, workers, use_multiprocessing)\u001b[0m\n\u001b[1;32m   1627\u001b[0m           \u001b[0;32mfor\u001b[0m \u001b[0mstep\u001b[0m \u001b[0;32min\u001b[0m \u001b[0mdata_handler\u001b[0m\u001b[0;34m.\u001b[0m\u001b[0msteps\u001b[0m\u001b[0;34m(\u001b[0m\u001b[0;34m)\u001b[0m\u001b[0;34m:\u001b[0m\u001b[0;34m\u001b[0m\u001b[0;34m\u001b[0m\u001b[0m\n\u001b[1;32m   1628\u001b[0m             \u001b[0mcallbacks\u001b[0m\u001b[0;34m.\u001b[0m\u001b[0mon_predict_batch_begin\u001b[0m\u001b[0;34m(\u001b[0m\u001b[0mstep\u001b[0m\u001b[0;34m)\u001b[0m\u001b[0;34m\u001b[0m\u001b[0;34m\u001b[0m\u001b[0m\n\u001b[0;32m-> 1629\u001b[0;31m             \u001b[0mtmp_batch_outputs\u001b[0m \u001b[0;34m=\u001b[0m \u001b[0mself\u001b[0m\u001b[0;34m.\u001b[0m\u001b[0mpredict_function\u001b[0m\u001b[0;34m(\u001b[0m\u001b[0miterator\u001b[0m\u001b[0;34m)\u001b[0m\u001b[0;34m\u001b[0m\u001b[0;34m\u001b[0m\u001b[0m\n\u001b[0m\u001b[1;32m   1630\u001b[0m             \u001b[0;32mif\u001b[0m \u001b[0mdata_handler\u001b[0m\u001b[0;34m.\u001b[0m\u001b[0mshould_sync\u001b[0m\u001b[0;34m:\u001b[0m\u001b[0;34m\u001b[0m\u001b[0;34m\u001b[0m\u001b[0m\n\u001b[1;32m   1631\u001b[0m               \u001b[0mcontext\u001b[0m\u001b[0;34m.\u001b[0m\u001b[0masync_wait\u001b[0m\u001b[0;34m(\u001b[0m\u001b[0;34m)\u001b[0m\u001b[0;34m\u001b[0m\u001b[0;34m\u001b[0m\u001b[0m\n",
            "\u001b[0;32m/usr/local/lib/python3.7/dist-packages/tensorflow/python/eager/def_function.py\u001b[0m in \u001b[0;36m__call__\u001b[0;34m(self, *args, **kwds)\u001b[0m\n\u001b[1;32m    826\u001b[0m     \u001b[0mtracing_count\u001b[0m \u001b[0;34m=\u001b[0m \u001b[0mself\u001b[0m\u001b[0;34m.\u001b[0m\u001b[0mexperimental_get_tracing_count\u001b[0m\u001b[0;34m(\u001b[0m\u001b[0;34m)\u001b[0m\u001b[0;34m\u001b[0m\u001b[0;34m\u001b[0m\u001b[0m\n\u001b[1;32m    827\u001b[0m     \u001b[0;32mwith\u001b[0m \u001b[0mtrace\u001b[0m\u001b[0;34m.\u001b[0m\u001b[0mTrace\u001b[0m\u001b[0;34m(\u001b[0m\u001b[0mself\u001b[0m\u001b[0;34m.\u001b[0m\u001b[0m_name\u001b[0m\u001b[0;34m)\u001b[0m \u001b[0;32mas\u001b[0m \u001b[0mtm\u001b[0m\u001b[0;34m:\u001b[0m\u001b[0;34m\u001b[0m\u001b[0;34m\u001b[0m\u001b[0m\n\u001b[0;32m--> 828\u001b[0;31m       \u001b[0mresult\u001b[0m \u001b[0;34m=\u001b[0m \u001b[0mself\u001b[0m\u001b[0;34m.\u001b[0m\u001b[0m_call\u001b[0m\u001b[0;34m(\u001b[0m\u001b[0;34m*\u001b[0m\u001b[0margs\u001b[0m\u001b[0;34m,\u001b[0m \u001b[0;34m**\u001b[0m\u001b[0mkwds\u001b[0m\u001b[0;34m)\u001b[0m\u001b[0;34m\u001b[0m\u001b[0;34m\u001b[0m\u001b[0m\n\u001b[0m\u001b[1;32m    829\u001b[0m       \u001b[0mcompiler\u001b[0m \u001b[0;34m=\u001b[0m \u001b[0;34m\"xla\"\u001b[0m \u001b[0;32mif\u001b[0m \u001b[0mself\u001b[0m\u001b[0;34m.\u001b[0m\u001b[0m_experimental_compile\u001b[0m \u001b[0;32melse\u001b[0m \u001b[0;34m\"nonXla\"\u001b[0m\u001b[0;34m\u001b[0m\u001b[0;34m\u001b[0m\u001b[0m\n\u001b[1;32m    830\u001b[0m       \u001b[0mnew_tracing_count\u001b[0m \u001b[0;34m=\u001b[0m \u001b[0mself\u001b[0m\u001b[0;34m.\u001b[0m\u001b[0mexperimental_get_tracing_count\u001b[0m\u001b[0;34m(\u001b[0m\u001b[0;34m)\u001b[0m\u001b[0;34m\u001b[0m\u001b[0;34m\u001b[0m\u001b[0m\n",
            "\u001b[0;32m/usr/local/lib/python3.7/dist-packages/tensorflow/python/eager/def_function.py\u001b[0m in \u001b[0;36m_call\u001b[0;34m(self, *args, **kwds)\u001b[0m\n\u001b[1;32m    860\u001b[0m       \u001b[0;31m# In this case we have not created variables on the first call. So we can\u001b[0m\u001b[0;34m\u001b[0m\u001b[0;34m\u001b[0m\u001b[0;34m\u001b[0m\u001b[0m\n\u001b[1;32m    861\u001b[0m       \u001b[0;31m# run the first trace but we should fail if variables are created.\u001b[0m\u001b[0;34m\u001b[0m\u001b[0;34m\u001b[0m\u001b[0;34m\u001b[0m\u001b[0m\n\u001b[0;32m--> 862\u001b[0;31m       \u001b[0mresults\u001b[0m \u001b[0;34m=\u001b[0m \u001b[0mself\u001b[0m\u001b[0;34m.\u001b[0m\u001b[0m_stateful_fn\u001b[0m\u001b[0;34m(\u001b[0m\u001b[0;34m*\u001b[0m\u001b[0margs\u001b[0m\u001b[0;34m,\u001b[0m \u001b[0;34m**\u001b[0m\u001b[0mkwds\u001b[0m\u001b[0;34m)\u001b[0m\u001b[0;34m\u001b[0m\u001b[0;34m\u001b[0m\u001b[0m\n\u001b[0m\u001b[1;32m    863\u001b[0m       \u001b[0;32mif\u001b[0m \u001b[0mself\u001b[0m\u001b[0;34m.\u001b[0m\u001b[0m_created_variables\u001b[0m\u001b[0;34m:\u001b[0m\u001b[0;34m\u001b[0m\u001b[0;34m\u001b[0m\u001b[0m\n\u001b[1;32m    864\u001b[0m         raise ValueError(\"Creating variables on a non-first call to a function\"\n",
            "\u001b[0;32m/usr/local/lib/python3.7/dist-packages/tensorflow/python/eager/function.py\u001b[0m in \u001b[0;36m__call__\u001b[0;34m(self, *args, **kwargs)\u001b[0m\n\u001b[1;32m   2941\u001b[0m        filtered_flat_args) = self._maybe_define_function(args, kwargs)\n\u001b[1;32m   2942\u001b[0m     return graph_function._call_flat(\n\u001b[0;32m-> 2943\u001b[0;31m         filtered_flat_args, captured_inputs=graph_function.captured_inputs)  # pylint: disable=protected-access\n\u001b[0m\u001b[1;32m   2944\u001b[0m \u001b[0;34m\u001b[0m\u001b[0m\n\u001b[1;32m   2945\u001b[0m   \u001b[0;34m@\u001b[0m\u001b[0mproperty\u001b[0m\u001b[0;34m\u001b[0m\u001b[0;34m\u001b[0m\u001b[0m\n",
            "\u001b[0;32m/usr/local/lib/python3.7/dist-packages/tensorflow/python/eager/function.py\u001b[0m in \u001b[0;36m_call_flat\u001b[0;34m(self, args, captured_inputs, cancellation_manager)\u001b[0m\n\u001b[1;32m   1917\u001b[0m       \u001b[0;31m# No tape is watching; skip to running the function.\u001b[0m\u001b[0;34m\u001b[0m\u001b[0;34m\u001b[0m\u001b[0;34m\u001b[0m\u001b[0m\n\u001b[1;32m   1918\u001b[0m       return self._build_call_outputs(self._inference_function.call(\n\u001b[0;32m-> 1919\u001b[0;31m           ctx, args, cancellation_manager=cancellation_manager))\n\u001b[0m\u001b[1;32m   1920\u001b[0m     forward_backward = self._select_forward_and_backward_functions(\n\u001b[1;32m   1921\u001b[0m         \u001b[0margs\u001b[0m\u001b[0;34m,\u001b[0m\u001b[0;34m\u001b[0m\u001b[0;34m\u001b[0m\u001b[0m\n",
            "\u001b[0;32m/usr/local/lib/python3.7/dist-packages/tensorflow/python/eager/function.py\u001b[0m in \u001b[0;36mcall\u001b[0;34m(self, ctx, args, cancellation_manager)\u001b[0m\n\u001b[1;32m    558\u001b[0m               \u001b[0minputs\u001b[0m\u001b[0;34m=\u001b[0m\u001b[0margs\u001b[0m\u001b[0;34m,\u001b[0m\u001b[0;34m\u001b[0m\u001b[0;34m\u001b[0m\u001b[0m\n\u001b[1;32m    559\u001b[0m               \u001b[0mattrs\u001b[0m\u001b[0;34m=\u001b[0m\u001b[0mattrs\u001b[0m\u001b[0;34m,\u001b[0m\u001b[0;34m\u001b[0m\u001b[0;34m\u001b[0m\u001b[0m\n\u001b[0;32m--> 560\u001b[0;31m               ctx=ctx)\n\u001b[0m\u001b[1;32m    561\u001b[0m         \u001b[0;32melse\u001b[0m\u001b[0;34m:\u001b[0m\u001b[0;34m\u001b[0m\u001b[0;34m\u001b[0m\u001b[0m\n\u001b[1;32m    562\u001b[0m           outputs = execute.execute_with_cancellation(\n",
            "\u001b[0;32m/usr/local/lib/python3.7/dist-packages/tensorflow/python/eager/execute.py\u001b[0m in \u001b[0;36mquick_execute\u001b[0;34m(op_name, num_outputs, inputs, attrs, ctx, name)\u001b[0m\n\u001b[1;32m     58\u001b[0m     \u001b[0mctx\u001b[0m\u001b[0;34m.\u001b[0m\u001b[0mensure_initialized\u001b[0m\u001b[0;34m(\u001b[0m\u001b[0;34m)\u001b[0m\u001b[0;34m\u001b[0m\u001b[0;34m\u001b[0m\u001b[0m\n\u001b[1;32m     59\u001b[0m     tensors = pywrap_tfe.TFE_Py_Execute(ctx._handle, device_name, op_name,\n\u001b[0;32m---> 60\u001b[0;31m                                         inputs, attrs, num_outputs)\n\u001b[0m\u001b[1;32m     61\u001b[0m   \u001b[0;32mexcept\u001b[0m \u001b[0mcore\u001b[0m\u001b[0;34m.\u001b[0m\u001b[0m_NotOkStatusException\u001b[0m \u001b[0;32mas\u001b[0m \u001b[0me\u001b[0m\u001b[0;34m:\u001b[0m\u001b[0;34m\u001b[0m\u001b[0;34m\u001b[0m\u001b[0m\n\u001b[1;32m     62\u001b[0m     \u001b[0;32mif\u001b[0m \u001b[0mname\u001b[0m \u001b[0;32mis\u001b[0m \u001b[0;32mnot\u001b[0m \u001b[0;32mNone\u001b[0m\u001b[0;34m:\u001b[0m\u001b[0;34m\u001b[0m\u001b[0;34m\u001b[0m\u001b[0m\n",
            "\u001b[0;31mKeyboardInterrupt\u001b[0m: "
          ]
        }
      ]
    },
    {
      "cell_type": "code",
      "metadata": {
        "colab": {
          "base_uri": "https://localhost:8080/",
          "height": 1000
        },
        "id": "ZWpB_0DVE1Jv",
        "outputId": "531128bd-646c-4816-920b-e29accda768c"
      },
      "source": [
        "#So a local minimum sometimes converges; yet in some cases these do not converge...Let's visualize and come back to this\n",
        "#Perhaps picking a better w0 will allow us local convergence\n",
        "#That being, equal weights does not always give us optimum local convergence \n",
        "#(Unless equal weights is indeed the local min)\n",
        "#scipy minimize instead...\n",
        "result = minimize(loss_function, weights,bounds= bound_w, args=(search_arg),method='Nelder-Mead')"
      ],
      "execution_count": 52,
      "outputs": [
        {
          "output_type": "stream",
          "text": [
            "/usr/local/lib/python3.7/dist-packages/scipy/optimize/_minimize.py:522: RuntimeWarning: Method Nelder-Mead cannot handle constraints nor bounds.\n",
            "  RuntimeWarning)\n"
          ],
          "name": "stderr"
        },
        {
          "output_type": "stream",
          "text": [
            "0.025399999999999978\n",
            "[0.33333333 0.33333333 0.33333333]\n",
            "0.02510000000000001\n",
            "[0.3442623  0.32786885 0.32786885]\n",
            "0.025499999999999967\n",
            "[0.32786885 0.3442623  0.32786885]\n",
            "0.0252\n",
            "[0.32786885 0.32786885 0.3442623 ]\n",
            "0.02510000000000001\n",
            "[0.34254144 0.31491713 0.34254144]\n",
            "0.025000000000000022\n",
            "[0.34296029 0.31407942 0.34296029]\n",
            "0.0252\n",
            "[0.34759358 0.30481283 0.34759358]\n",
            "0.025399999999999978\n",
            "[0.35866261 0.3100304  0.33130699]\n",
            "0.0252\n",
            "[0.33556028 0.3234133  0.34102642]\n",
            "0.025000000000000022\n",
            "[0.34360834 0.32094288 0.33544878]\n",
            "0.025000000000000022\n",
            "[0.34275296 0.31449407 0.34275296]\n",
            "0.024900000000000033\n",
            "[0.33544878 0.32094288 0.34360834]\n",
            "0.025000000000000022\n",
            "[0.33862751 0.32274498 0.33862751]\n",
            "0.0252\n",
            "[0.34171083 0.31657835 0.34171083]\n",
            "0.02510000000000001\n",
            "[0.33921303 0.31750339 0.34328358]\n",
            "0.024900000000000033\n",
            "[0.33952856 0.32094288 0.33952856]\n",
            "0.02510000000000001\n",
            "[0.33909091 0.31772727 0.34318182]\n",
            "0.02510000000000001\n",
            "[0.33704484 0.32184773 0.34110743]\n",
            "0.02510000000000001\n",
            "[0.33857672 0.31876276 0.34266052]\n",
            "0.025000000000000022\n",
            "[0.33748867 0.32094288 0.34156845]\n",
            "0.025000000000000022\n",
            "[0.33733303 0.31922119 0.34344578]\n",
            "0.025000000000000022\n",
            "[0.33726736 0.31933727 0.34339537]\n",
            "0.02510000000000001\n",
            "[0.33624849 0.32139626 0.34235525]\n",
            "0.02510000000000001\n",
            "[0.33701198 0.31985336 0.34313466]\n",
            "0.025000000000000022\n",
            "[0.33646872 0.32094288 0.3425884 ]\n",
            "0.025000000000000022\n",
            "[0.33639144 0.32008155 0.34352701]\n",
            "0.025000000000000022\n",
            "[0.33635745 0.32014062 0.34350193]\n",
            "0.025000000000000022\n",
            "[0.33584906 0.32116981 0.34298113]\n",
            "0.025000000000000022\n",
            "[0.33623019 0.32039825 0.34337156]\n",
            "0.025000000000000022\n",
            "[0.33595875 0.32094288 0.34309837]\n",
            "0.025000000000000022\n",
            "[0.33592024 0.32051209 0.34356767]\n"
          ],
          "name": "stdout"
        },
        {
          "output_type": "error",
          "ename": "KeyboardInterrupt",
          "evalue": "ignored",
          "traceback": [
            "\u001b[0;31m---------------------------------------------------------------------------\u001b[0m",
            "\u001b[0;31mKeyboardInterrupt\u001b[0m                         Traceback (most recent call last)",
            "\u001b[0;32m<ipython-input-52-8c00bb57ad76>\u001b[0m in \u001b[0;36m<module>\u001b[0;34m()\u001b[0m\n\u001b[0;32m----> 1\u001b[0;31m \u001b[0mresult\u001b[0m \u001b[0;34m=\u001b[0m \u001b[0mminimize\u001b[0m\u001b[0;34m(\u001b[0m\u001b[0mloss_function\u001b[0m\u001b[0;34m,\u001b[0m \u001b[0mweights\u001b[0m\u001b[0;34m,\u001b[0m\u001b[0mbounds\u001b[0m\u001b[0;34m=\u001b[0m \u001b[0mbound_w\u001b[0m\u001b[0;34m,\u001b[0m \u001b[0margs\u001b[0m\u001b[0;34m=\u001b[0m\u001b[0;34m(\u001b[0m\u001b[0msearch_arg\u001b[0m\u001b[0;34m)\u001b[0m\u001b[0;34m,\u001b[0m\u001b[0mmethod\u001b[0m\u001b[0;34m=\u001b[0m\u001b[0;34m'Nelder-Mead'\u001b[0m\u001b[0;34m)\u001b[0m\u001b[0;34m\u001b[0m\u001b[0;34m\u001b[0m\u001b[0m\n\u001b[0m",
            "\u001b[0;32m/usr/local/lib/python3.7/dist-packages/scipy/optimize/_minimize.py\u001b[0m in \u001b[0;36mminimize\u001b[0;34m(fun, x0, args, method, jac, hess, hessp, bounds, constraints, tol, callback, options)\u001b[0m\n\u001b[1;32m    596\u001b[0m \u001b[0;34m\u001b[0m\u001b[0m\n\u001b[1;32m    597\u001b[0m     \u001b[0;32mif\u001b[0m \u001b[0mmeth\u001b[0m \u001b[0;34m==\u001b[0m \u001b[0;34m'nelder-mead'\u001b[0m\u001b[0;34m:\u001b[0m\u001b[0;34m\u001b[0m\u001b[0;34m\u001b[0m\u001b[0m\n\u001b[0;32m--> 598\u001b[0;31m         \u001b[0;32mreturn\u001b[0m \u001b[0m_minimize_neldermead\u001b[0m\u001b[0;34m(\u001b[0m\u001b[0mfun\u001b[0m\u001b[0;34m,\u001b[0m \u001b[0mx0\u001b[0m\u001b[0;34m,\u001b[0m \u001b[0margs\u001b[0m\u001b[0;34m,\u001b[0m \u001b[0mcallback\u001b[0m\u001b[0;34m,\u001b[0m \u001b[0;34m**\u001b[0m\u001b[0moptions\u001b[0m\u001b[0;34m)\u001b[0m\u001b[0;34m\u001b[0m\u001b[0;34m\u001b[0m\u001b[0m\n\u001b[0m\u001b[1;32m    599\u001b[0m     \u001b[0;32melif\u001b[0m \u001b[0mmeth\u001b[0m \u001b[0;34m==\u001b[0m \u001b[0;34m'powell'\u001b[0m\u001b[0;34m:\u001b[0m\u001b[0;34m\u001b[0m\u001b[0;34m\u001b[0m\u001b[0m\n\u001b[1;32m    600\u001b[0m         \u001b[0;32mreturn\u001b[0m \u001b[0m_minimize_powell\u001b[0m\u001b[0;34m(\u001b[0m\u001b[0mfun\u001b[0m\u001b[0;34m,\u001b[0m \u001b[0mx0\u001b[0m\u001b[0;34m,\u001b[0m \u001b[0margs\u001b[0m\u001b[0;34m,\u001b[0m \u001b[0mcallback\u001b[0m\u001b[0;34m,\u001b[0m \u001b[0;34m**\u001b[0m\u001b[0moptions\u001b[0m\u001b[0;34m)\u001b[0m\u001b[0;34m\u001b[0m\u001b[0;34m\u001b[0m\u001b[0m\n",
            "\u001b[0;32m/usr/local/lib/python3.7/dist-packages/scipy/optimize/optimize.py\u001b[0m in \u001b[0;36m_minimize_neldermead\u001b[0;34m(func, x0, args, callback, maxiter, maxfev, disp, return_all, initial_simplex, xatol, fatol, adaptive, **unknown_options)\u001b[0m\n\u001b[1;32m    642\u001b[0m                     \u001b[0;32mfor\u001b[0m \u001b[0mj\u001b[0m \u001b[0;32min\u001b[0m \u001b[0mone2np1\u001b[0m\u001b[0;34m:\u001b[0m\u001b[0;34m\u001b[0m\u001b[0;34m\u001b[0m\u001b[0m\n\u001b[1;32m    643\u001b[0m                         \u001b[0msim\u001b[0m\u001b[0;34m[\u001b[0m\u001b[0mj\u001b[0m\u001b[0;34m]\u001b[0m \u001b[0;34m=\u001b[0m \u001b[0msim\u001b[0m\u001b[0;34m[\u001b[0m\u001b[0;36m0\u001b[0m\u001b[0;34m]\u001b[0m \u001b[0;34m+\u001b[0m \u001b[0msigma\u001b[0m \u001b[0;34m*\u001b[0m \u001b[0;34m(\u001b[0m\u001b[0msim\u001b[0m\u001b[0;34m[\u001b[0m\u001b[0mj\u001b[0m\u001b[0;34m]\u001b[0m \u001b[0;34m-\u001b[0m \u001b[0msim\u001b[0m\u001b[0;34m[\u001b[0m\u001b[0;36m0\u001b[0m\u001b[0;34m]\u001b[0m\u001b[0;34m)\u001b[0m\u001b[0;34m\u001b[0m\u001b[0;34m\u001b[0m\u001b[0m\n\u001b[0;32m--> 644\u001b[0;31m                         \u001b[0mfsim\u001b[0m\u001b[0;34m[\u001b[0m\u001b[0mj\u001b[0m\u001b[0;34m]\u001b[0m \u001b[0;34m=\u001b[0m \u001b[0mfunc\u001b[0m\u001b[0;34m(\u001b[0m\u001b[0msim\u001b[0m\u001b[0;34m[\u001b[0m\u001b[0mj\u001b[0m\u001b[0;34m]\u001b[0m\u001b[0;34m)\u001b[0m\u001b[0;34m\u001b[0m\u001b[0;34m\u001b[0m\u001b[0m\n\u001b[0m\u001b[1;32m    645\u001b[0m \u001b[0;34m\u001b[0m\u001b[0m\n\u001b[1;32m    646\u001b[0m         \u001b[0mind\u001b[0m \u001b[0;34m=\u001b[0m \u001b[0mnumpy\u001b[0m\u001b[0;34m.\u001b[0m\u001b[0margsort\u001b[0m\u001b[0;34m(\u001b[0m\u001b[0mfsim\u001b[0m\u001b[0;34m)\u001b[0m\u001b[0;34m\u001b[0m\u001b[0;34m\u001b[0m\u001b[0m\n",
            "\u001b[0;32m/usr/local/lib/python3.7/dist-packages/scipy/optimize/optimize.py\u001b[0m in \u001b[0;36mfunction_wrapper\u001b[0;34m(*wrapper_args)\u001b[0m\n\u001b[1;32m    325\u001b[0m     \u001b[0;32mdef\u001b[0m \u001b[0mfunction_wrapper\u001b[0m\u001b[0;34m(\u001b[0m\u001b[0;34m*\u001b[0m\u001b[0mwrapper_args\u001b[0m\u001b[0;34m)\u001b[0m\u001b[0;34m:\u001b[0m\u001b[0;34m\u001b[0m\u001b[0;34m\u001b[0m\u001b[0m\n\u001b[1;32m    326\u001b[0m         \u001b[0mncalls\u001b[0m\u001b[0;34m[\u001b[0m\u001b[0;36m0\u001b[0m\u001b[0;34m]\u001b[0m \u001b[0;34m+=\u001b[0m \u001b[0;36m1\u001b[0m\u001b[0;34m\u001b[0m\u001b[0;34m\u001b[0m\u001b[0m\n\u001b[0;32m--> 327\u001b[0;31m         \u001b[0;32mreturn\u001b[0m \u001b[0mfunction\u001b[0m\u001b[0;34m(\u001b[0m\u001b[0;34m*\u001b[0m\u001b[0;34m(\u001b[0m\u001b[0mwrapper_args\u001b[0m \u001b[0;34m+\u001b[0m \u001b[0margs\u001b[0m\u001b[0;34m)\u001b[0m\u001b[0;34m)\u001b[0m\u001b[0;34m\u001b[0m\u001b[0;34m\u001b[0m\u001b[0m\n\u001b[0m\u001b[1;32m    328\u001b[0m \u001b[0;34m\u001b[0m\u001b[0m\n\u001b[1;32m    329\u001b[0m     \u001b[0;32mreturn\u001b[0m \u001b[0mncalls\u001b[0m\u001b[0;34m,\u001b[0m \u001b[0mfunction_wrapper\u001b[0m\u001b[0;34m\u001b[0m\u001b[0;34m\u001b[0m\u001b[0m\n",
            "\u001b[0;32m<ipython-input-47-d685502aa0ca>\u001b[0m in \u001b[0;36mloss_function\u001b[0;34m(weights, members, xTest, yTest)\u001b[0m\n\u001b[1;32m     14\u001b[0m   \u001b[0mnormalized\u001b[0m \u001b[0;34m=\u001b[0m \u001b[0mnormalize\u001b[0m\u001b[0;34m(\u001b[0m\u001b[0mweights\u001b[0m\u001b[0;34m)\u001b[0m\u001b[0;34m\u001b[0m\u001b[0;34m\u001b[0m\u001b[0m\n\u001b[1;32m     15\u001b[0m   \u001b[0;31m# calculate error rate\u001b[0m\u001b[0;34m\u001b[0m\u001b[0;34m\u001b[0m\u001b[0;34m\u001b[0m\u001b[0m\n\u001b[0;32m---> 16\u001b[0;31m   \u001b[0mloss\u001b[0m \u001b[0;34m=\u001b[0m \u001b[0;34m(\u001b[0m\u001b[0;36m1.0\u001b[0m \u001b[0;34m-\u001b[0m \u001b[0mevaluateEnsemble\u001b[0m\u001b[0;34m(\u001b[0m\u001b[0mmembers\u001b[0m\u001b[0;34m,\u001b[0m \u001b[0mnormalized\u001b[0m\u001b[0;34m,\u001b[0m \u001b[0mxTest\u001b[0m\u001b[0;34m,\u001b[0m \u001b[0myTest\u001b[0m\u001b[0;34m)\u001b[0m\u001b[0;34m)\u001b[0m\u001b[0;34m\u001b[0m\u001b[0;34m\u001b[0m\u001b[0m\n\u001b[0m\u001b[1;32m     17\u001b[0m   \u001b[0;31m#ideas to consider:\u001b[0m\u001b[0;34m\u001b[0m\u001b[0;34m\u001b[0m\u001b[0;34m\u001b[0m\u001b[0m\n\u001b[1;32m     18\u001b[0m   \u001b[0;31m#Try other ideas for loss/error\u001b[0m\u001b[0;34m\u001b[0m\u001b[0;34m\u001b[0m\u001b[0;34m\u001b[0m\u001b[0m\n",
            "\u001b[0;32m<ipython-input-42-6f6cebde27c0>\u001b[0m in \u001b[0;36mevaluateEnsemble\u001b[0;34m(members, weights, xTest, yTest)\u001b[0m\n\u001b[1;32m      1\u001b[0m \u001b[0;32mdef\u001b[0m \u001b[0mevaluateEnsemble\u001b[0m\u001b[0;34m(\u001b[0m\u001b[0mmembers\u001b[0m\u001b[0;34m,\u001b[0m \u001b[0mweights\u001b[0m\u001b[0;34m,\u001b[0m \u001b[0mxTest\u001b[0m\u001b[0;34m,\u001b[0m \u001b[0myTest\u001b[0m\u001b[0;34m)\u001b[0m\u001b[0;34m:\u001b[0m\u001b[0;34m\u001b[0m\u001b[0;34m\u001b[0m\u001b[0m\n\u001b[1;32m      2\u001b[0m         \u001b[0;31m# Make predictions\u001b[0m\u001b[0;34m\u001b[0m\u001b[0;34m\u001b[0m\u001b[0;34m\u001b[0m\u001b[0m\n\u001b[0;32m----> 3\u001b[0;31m         \u001b[0mpredictions\u001b[0m \u001b[0;34m=\u001b[0m \u001b[0mensemblePredictionsWeighted\u001b[0m\u001b[0;34m(\u001b[0m\u001b[0mmembers\u001b[0m\u001b[0;34m,\u001b[0m\u001b[0mweights\u001b[0m\u001b[0;34m,\u001b[0m \u001b[0mxTest\u001b[0m\u001b[0;34m)\u001b[0m\u001b[0;34m\u001b[0m\u001b[0;34m\u001b[0m\u001b[0m\n\u001b[0m\u001b[1;32m      4\u001b[0m         \u001b[0;31m# calculate accuracy\u001b[0m\u001b[0;34m\u001b[0m\u001b[0;34m\u001b[0m\u001b[0;34m\u001b[0m\u001b[0m\n\u001b[1;32m      5\u001b[0m         \u001b[0;32mreturn\u001b[0m \u001b[0maccuracy_score\u001b[0m\u001b[0;34m(\u001b[0m\u001b[0mpredictions\u001b[0m\u001b[0;34m,\u001b[0m \u001b[0myTest\u001b[0m\u001b[0;34m)\u001b[0m\u001b[0;34m\u001b[0m\u001b[0;34m\u001b[0m\u001b[0m\n",
            "\u001b[0;32m<ipython-input-41-c03706d2f85d>\u001b[0m in \u001b[0;36mensemblePredictionsWeighted\u001b[0;34m(members, weights, xTest)\u001b[0m\n\u001b[1;32m      3\u001b[0m \u001b[0;32mdef\u001b[0m \u001b[0mensemblePredictionsWeighted\u001b[0m\u001b[0;34m(\u001b[0m\u001b[0mmembers\u001b[0m\u001b[0;34m,\u001b[0m\u001b[0mweights\u001b[0m\u001b[0;34m,\u001b[0m\u001b[0mxTest\u001b[0m\u001b[0;34m)\u001b[0m\u001b[0;34m:\u001b[0m\u001b[0;34m\u001b[0m\u001b[0;34m\u001b[0m\u001b[0m\n\u001b[1;32m      4\u001b[0m   \u001b[0;31m#make predictions for each model in members\u001b[0m\u001b[0;34m\u001b[0m\u001b[0;34m\u001b[0m\u001b[0;34m\u001b[0m\u001b[0m\n\u001b[0;32m----> 5\u001b[0;31m   \u001b[0mpredictionDist\u001b[0m \u001b[0;34m=\u001b[0m \u001b[0;34m[\u001b[0m\u001b[0mmodel\u001b[0m\u001b[0;34m.\u001b[0m\u001b[0mpredict\u001b[0m\u001b[0;34m(\u001b[0m\u001b[0mxTest\u001b[0m\u001b[0;34m)\u001b[0m \u001b[0;32mfor\u001b[0m \u001b[0mmodel\u001b[0m \u001b[0;32min\u001b[0m \u001b[0mmembers\u001b[0m\u001b[0;34m]\u001b[0m\u001b[0;34m\u001b[0m\u001b[0;34m\u001b[0m\u001b[0m\n\u001b[0m\u001b[1;32m      6\u001b[0m   \u001b[0;31m#cast from list to np array\u001b[0m\u001b[0;34m\u001b[0m\u001b[0;34m\u001b[0m\u001b[0;34m\u001b[0m\u001b[0m\n\u001b[1;32m      7\u001b[0m   \u001b[0mpredictionDist\u001b[0m \u001b[0;34m=\u001b[0m \u001b[0mnp\u001b[0m\u001b[0;34m.\u001b[0m\u001b[0marray\u001b[0m\u001b[0;34m(\u001b[0m\u001b[0mpredictionDist\u001b[0m\u001b[0;34m)\u001b[0m\u001b[0;34m\u001b[0m\u001b[0;34m\u001b[0m\u001b[0m\n",
            "\u001b[0;32m<ipython-input-41-c03706d2f85d>\u001b[0m in \u001b[0;36m<listcomp>\u001b[0;34m(.0)\u001b[0m\n\u001b[1;32m      3\u001b[0m \u001b[0;32mdef\u001b[0m \u001b[0mensemblePredictionsWeighted\u001b[0m\u001b[0;34m(\u001b[0m\u001b[0mmembers\u001b[0m\u001b[0;34m,\u001b[0m\u001b[0mweights\u001b[0m\u001b[0;34m,\u001b[0m\u001b[0mxTest\u001b[0m\u001b[0;34m)\u001b[0m\u001b[0;34m:\u001b[0m\u001b[0;34m\u001b[0m\u001b[0;34m\u001b[0m\u001b[0m\n\u001b[1;32m      4\u001b[0m   \u001b[0;31m#make predictions for each model in members\u001b[0m\u001b[0;34m\u001b[0m\u001b[0;34m\u001b[0m\u001b[0;34m\u001b[0m\u001b[0m\n\u001b[0;32m----> 5\u001b[0;31m   \u001b[0mpredictionDist\u001b[0m \u001b[0;34m=\u001b[0m \u001b[0;34m[\u001b[0m\u001b[0mmodel\u001b[0m\u001b[0;34m.\u001b[0m\u001b[0mpredict\u001b[0m\u001b[0;34m(\u001b[0m\u001b[0mxTest\u001b[0m\u001b[0;34m)\u001b[0m \u001b[0;32mfor\u001b[0m \u001b[0mmodel\u001b[0m \u001b[0;32min\u001b[0m \u001b[0mmembers\u001b[0m\u001b[0;34m]\u001b[0m\u001b[0;34m\u001b[0m\u001b[0;34m\u001b[0m\u001b[0m\n\u001b[0m\u001b[1;32m      6\u001b[0m   \u001b[0;31m#cast from list to np array\u001b[0m\u001b[0;34m\u001b[0m\u001b[0;34m\u001b[0m\u001b[0;34m\u001b[0m\u001b[0m\n\u001b[1;32m      7\u001b[0m   \u001b[0mpredictionDist\u001b[0m \u001b[0;34m=\u001b[0m \u001b[0mnp\u001b[0m\u001b[0;34m.\u001b[0m\u001b[0marray\u001b[0m\u001b[0;34m(\u001b[0m\u001b[0mpredictionDist\u001b[0m\u001b[0;34m)\u001b[0m\u001b[0;34m\u001b[0m\u001b[0;34m\u001b[0m\u001b[0m\n",
            "\u001b[0;32m/usr/local/lib/python3.7/dist-packages/tensorflow/python/keras/engine/training.py\u001b[0m in \u001b[0;36mpredict\u001b[0;34m(self, x, batch_size, verbose, steps, callbacks, max_queue_size, workers, use_multiprocessing)\u001b[0m\n\u001b[1;32m   1627\u001b[0m           \u001b[0;32mfor\u001b[0m \u001b[0mstep\u001b[0m \u001b[0;32min\u001b[0m \u001b[0mdata_handler\u001b[0m\u001b[0;34m.\u001b[0m\u001b[0msteps\u001b[0m\u001b[0;34m(\u001b[0m\u001b[0;34m)\u001b[0m\u001b[0;34m:\u001b[0m\u001b[0;34m\u001b[0m\u001b[0;34m\u001b[0m\u001b[0m\n\u001b[1;32m   1628\u001b[0m             \u001b[0mcallbacks\u001b[0m\u001b[0;34m.\u001b[0m\u001b[0mon_predict_batch_begin\u001b[0m\u001b[0;34m(\u001b[0m\u001b[0mstep\u001b[0m\u001b[0;34m)\u001b[0m\u001b[0;34m\u001b[0m\u001b[0;34m\u001b[0m\u001b[0m\n\u001b[0;32m-> 1629\u001b[0;31m             \u001b[0mtmp_batch_outputs\u001b[0m \u001b[0;34m=\u001b[0m \u001b[0mself\u001b[0m\u001b[0;34m.\u001b[0m\u001b[0mpredict_function\u001b[0m\u001b[0;34m(\u001b[0m\u001b[0miterator\u001b[0m\u001b[0;34m)\u001b[0m\u001b[0;34m\u001b[0m\u001b[0;34m\u001b[0m\u001b[0m\n\u001b[0m\u001b[1;32m   1630\u001b[0m             \u001b[0;32mif\u001b[0m \u001b[0mdata_handler\u001b[0m\u001b[0;34m.\u001b[0m\u001b[0mshould_sync\u001b[0m\u001b[0;34m:\u001b[0m\u001b[0;34m\u001b[0m\u001b[0;34m\u001b[0m\u001b[0m\n\u001b[1;32m   1631\u001b[0m               \u001b[0mcontext\u001b[0m\u001b[0;34m.\u001b[0m\u001b[0masync_wait\u001b[0m\u001b[0;34m(\u001b[0m\u001b[0;34m)\u001b[0m\u001b[0;34m\u001b[0m\u001b[0;34m\u001b[0m\u001b[0m\n",
            "\u001b[0;32m/usr/local/lib/python3.7/dist-packages/tensorflow/python/eager/def_function.py\u001b[0m in \u001b[0;36m__call__\u001b[0;34m(self, *args, **kwds)\u001b[0m\n\u001b[1;32m    826\u001b[0m     \u001b[0mtracing_count\u001b[0m \u001b[0;34m=\u001b[0m \u001b[0mself\u001b[0m\u001b[0;34m.\u001b[0m\u001b[0mexperimental_get_tracing_count\u001b[0m\u001b[0;34m(\u001b[0m\u001b[0;34m)\u001b[0m\u001b[0;34m\u001b[0m\u001b[0;34m\u001b[0m\u001b[0m\n\u001b[1;32m    827\u001b[0m     \u001b[0;32mwith\u001b[0m \u001b[0mtrace\u001b[0m\u001b[0;34m.\u001b[0m\u001b[0mTrace\u001b[0m\u001b[0;34m(\u001b[0m\u001b[0mself\u001b[0m\u001b[0;34m.\u001b[0m\u001b[0m_name\u001b[0m\u001b[0;34m)\u001b[0m \u001b[0;32mas\u001b[0m \u001b[0mtm\u001b[0m\u001b[0;34m:\u001b[0m\u001b[0;34m\u001b[0m\u001b[0;34m\u001b[0m\u001b[0m\n\u001b[0;32m--> 828\u001b[0;31m       \u001b[0mresult\u001b[0m \u001b[0;34m=\u001b[0m \u001b[0mself\u001b[0m\u001b[0;34m.\u001b[0m\u001b[0m_call\u001b[0m\u001b[0;34m(\u001b[0m\u001b[0;34m*\u001b[0m\u001b[0margs\u001b[0m\u001b[0;34m,\u001b[0m \u001b[0;34m**\u001b[0m\u001b[0mkwds\u001b[0m\u001b[0;34m)\u001b[0m\u001b[0;34m\u001b[0m\u001b[0;34m\u001b[0m\u001b[0m\n\u001b[0m\u001b[1;32m    829\u001b[0m       \u001b[0mcompiler\u001b[0m \u001b[0;34m=\u001b[0m \u001b[0;34m\"xla\"\u001b[0m \u001b[0;32mif\u001b[0m \u001b[0mself\u001b[0m\u001b[0;34m.\u001b[0m\u001b[0m_experimental_compile\u001b[0m \u001b[0;32melse\u001b[0m \u001b[0;34m\"nonXla\"\u001b[0m\u001b[0;34m\u001b[0m\u001b[0;34m\u001b[0m\u001b[0m\n\u001b[1;32m    830\u001b[0m       \u001b[0mnew_tracing_count\u001b[0m \u001b[0;34m=\u001b[0m \u001b[0mself\u001b[0m\u001b[0;34m.\u001b[0m\u001b[0mexperimental_get_tracing_count\u001b[0m\u001b[0;34m(\u001b[0m\u001b[0;34m)\u001b[0m\u001b[0;34m\u001b[0m\u001b[0;34m\u001b[0m\u001b[0m\n",
            "\u001b[0;32m/usr/local/lib/python3.7/dist-packages/tensorflow/python/eager/def_function.py\u001b[0m in \u001b[0;36m_call\u001b[0;34m(self, *args, **kwds)\u001b[0m\n\u001b[1;32m    860\u001b[0m       \u001b[0;31m# In this case we have not created variables on the first call. So we can\u001b[0m\u001b[0;34m\u001b[0m\u001b[0;34m\u001b[0m\u001b[0;34m\u001b[0m\u001b[0m\n\u001b[1;32m    861\u001b[0m       \u001b[0;31m# run the first trace but we should fail if variables are created.\u001b[0m\u001b[0;34m\u001b[0m\u001b[0;34m\u001b[0m\u001b[0;34m\u001b[0m\u001b[0m\n\u001b[0;32m--> 862\u001b[0;31m       \u001b[0mresults\u001b[0m \u001b[0;34m=\u001b[0m \u001b[0mself\u001b[0m\u001b[0;34m.\u001b[0m\u001b[0m_stateful_fn\u001b[0m\u001b[0;34m(\u001b[0m\u001b[0;34m*\u001b[0m\u001b[0margs\u001b[0m\u001b[0;34m,\u001b[0m \u001b[0;34m**\u001b[0m\u001b[0mkwds\u001b[0m\u001b[0;34m)\u001b[0m\u001b[0;34m\u001b[0m\u001b[0;34m\u001b[0m\u001b[0m\n\u001b[0m\u001b[1;32m    863\u001b[0m       \u001b[0;32mif\u001b[0m \u001b[0mself\u001b[0m\u001b[0;34m.\u001b[0m\u001b[0m_created_variables\u001b[0m\u001b[0;34m:\u001b[0m\u001b[0;34m\u001b[0m\u001b[0;34m\u001b[0m\u001b[0m\n\u001b[1;32m    864\u001b[0m         raise ValueError(\"Creating variables on a non-first call to a function\"\n",
            "\u001b[0;32m/usr/local/lib/python3.7/dist-packages/tensorflow/python/eager/function.py\u001b[0m in \u001b[0;36m__call__\u001b[0;34m(self, *args, **kwargs)\u001b[0m\n\u001b[1;32m   2941\u001b[0m        filtered_flat_args) = self._maybe_define_function(args, kwargs)\n\u001b[1;32m   2942\u001b[0m     return graph_function._call_flat(\n\u001b[0;32m-> 2943\u001b[0;31m         filtered_flat_args, captured_inputs=graph_function.captured_inputs)  # pylint: disable=protected-access\n\u001b[0m\u001b[1;32m   2944\u001b[0m \u001b[0;34m\u001b[0m\u001b[0m\n\u001b[1;32m   2945\u001b[0m   \u001b[0;34m@\u001b[0m\u001b[0mproperty\u001b[0m\u001b[0;34m\u001b[0m\u001b[0;34m\u001b[0m\u001b[0m\n",
            "\u001b[0;32m/usr/local/lib/python3.7/dist-packages/tensorflow/python/eager/function.py\u001b[0m in \u001b[0;36m_call_flat\u001b[0;34m(self, args, captured_inputs, cancellation_manager)\u001b[0m\n\u001b[1;32m   1917\u001b[0m       \u001b[0;31m# No tape is watching; skip to running the function.\u001b[0m\u001b[0;34m\u001b[0m\u001b[0;34m\u001b[0m\u001b[0;34m\u001b[0m\u001b[0m\n\u001b[1;32m   1918\u001b[0m       return self._build_call_outputs(self._inference_function.call(\n\u001b[0;32m-> 1919\u001b[0;31m           ctx, args, cancellation_manager=cancellation_manager))\n\u001b[0m\u001b[1;32m   1920\u001b[0m     forward_backward = self._select_forward_and_backward_functions(\n\u001b[1;32m   1921\u001b[0m         \u001b[0margs\u001b[0m\u001b[0;34m,\u001b[0m\u001b[0;34m\u001b[0m\u001b[0;34m\u001b[0m\u001b[0m\n",
            "\u001b[0;32m/usr/local/lib/python3.7/dist-packages/tensorflow/python/eager/function.py\u001b[0m in \u001b[0;36mcall\u001b[0;34m(self, ctx, args, cancellation_manager)\u001b[0m\n\u001b[1;32m    558\u001b[0m               \u001b[0minputs\u001b[0m\u001b[0;34m=\u001b[0m\u001b[0margs\u001b[0m\u001b[0;34m,\u001b[0m\u001b[0;34m\u001b[0m\u001b[0;34m\u001b[0m\u001b[0m\n\u001b[1;32m    559\u001b[0m               \u001b[0mattrs\u001b[0m\u001b[0;34m=\u001b[0m\u001b[0mattrs\u001b[0m\u001b[0;34m,\u001b[0m\u001b[0;34m\u001b[0m\u001b[0;34m\u001b[0m\u001b[0m\n\u001b[0;32m--> 560\u001b[0;31m               ctx=ctx)\n\u001b[0m\u001b[1;32m    561\u001b[0m         \u001b[0;32melse\u001b[0m\u001b[0;34m:\u001b[0m\u001b[0;34m\u001b[0m\u001b[0;34m\u001b[0m\u001b[0m\n\u001b[1;32m    562\u001b[0m           outputs = execute.execute_with_cancellation(\n",
            "\u001b[0;32m/usr/local/lib/python3.7/dist-packages/tensorflow/python/eager/execute.py\u001b[0m in \u001b[0;36mquick_execute\u001b[0;34m(op_name, num_outputs, inputs, attrs, ctx, name)\u001b[0m\n\u001b[1;32m     58\u001b[0m     \u001b[0mctx\u001b[0m\u001b[0;34m.\u001b[0m\u001b[0mensure_initialized\u001b[0m\u001b[0;34m(\u001b[0m\u001b[0;34m)\u001b[0m\u001b[0;34m\u001b[0m\u001b[0;34m\u001b[0m\u001b[0m\n\u001b[1;32m     59\u001b[0m     tensors = pywrap_tfe.TFE_Py_Execute(ctx._handle, device_name, op_name,\n\u001b[0;32m---> 60\u001b[0;31m                                         inputs, attrs, num_outputs)\n\u001b[0m\u001b[1;32m     61\u001b[0m   \u001b[0;32mexcept\u001b[0m \u001b[0mcore\u001b[0m\u001b[0;34m.\u001b[0m\u001b[0m_NotOkStatusException\u001b[0m \u001b[0;32mas\u001b[0m \u001b[0me\u001b[0m\u001b[0;34m:\u001b[0m\u001b[0;34m\u001b[0m\u001b[0;34m\u001b[0m\u001b[0m\n\u001b[1;32m     62\u001b[0m     \u001b[0;32mif\u001b[0m \u001b[0mname\u001b[0m \u001b[0;32mis\u001b[0m \u001b[0;32mnot\u001b[0m \u001b[0;32mNone\u001b[0m\u001b[0;34m:\u001b[0m\u001b[0;34m\u001b[0m\u001b[0;34m\u001b[0m\u001b[0m\n",
            "\u001b[0;31mKeyboardInterrupt\u001b[0m: "
          ]
        }
      ]
    },
    {
      "cell_type": "markdown",
      "metadata": {
        "id": "rDR-F5vHKEW_"
      },
      "source": [
        "Let's visualize a type of two dimensional discretization of loss manifold for 2 models on a grid of weights (uniform grid (non-staggered grid))."
      ]
    },
    {
      "cell_type": "code",
      "metadata": {
        "colab": {
          "base_uri": "https://localhost:8080/"
        },
        "id": "F_jvNcx6F6ko",
        "outputId": "7ee19be0-76e2-45a2-9cd8-4f6c457b4a6f"
      },
      "source": [
        "n = 10\n",
        "weightsTest = np.linspace(0,1,n+1)\n",
        "weightsTest"
      ],
      "execution_count": 54,
      "outputs": [
        {
          "output_type": "execute_result",
          "data": {
            "text/plain": [
              "array([0. , 0.1, 0.2, 0.3, 0.4, 0.5, 0.6, 0.7, 0.8, 0.9, 1. ])"
            ]
          },
          "metadata": {
            "tags": []
          },
          "execution_count": 54
        }
      ]
    },
    {
      "cell_type": "code",
      "metadata": {
        "colab": {
          "base_uri": "https://localhost:8080/"
        },
        "id": "QNv8KjMcM5Sf",
        "outputId": "b656cab1-f61b-45a9-e990-c8f153b5369e"
      },
      "source": [
        "X, Y = np.meshgrid(weightsTest, weightsTest)\n",
        "Y"
      ],
      "execution_count": 55,
      "outputs": [
        {
          "output_type": "execute_result",
          "data": {
            "text/plain": [
              "array([[0. , 0. , 0. , 0. , 0. , 0. , 0. , 0. , 0. , 0. , 0. ],\n",
              "       [0.1, 0.1, 0.1, 0.1, 0.1, 0.1, 0.1, 0.1, 0.1, 0.1, 0.1],\n",
              "       [0.2, 0.2, 0.2, 0.2, 0.2, 0.2, 0.2, 0.2, 0.2, 0.2, 0.2],\n",
              "       [0.3, 0.3, 0.3, 0.3, 0.3, 0.3, 0.3, 0.3, 0.3, 0.3, 0.3],\n",
              "       [0.4, 0.4, 0.4, 0.4, 0.4, 0.4, 0.4, 0.4, 0.4, 0.4, 0.4],\n",
              "       [0.5, 0.5, 0.5, 0.5, 0.5, 0.5, 0.5, 0.5, 0.5, 0.5, 0.5],\n",
              "       [0.6, 0.6, 0.6, 0.6, 0.6, 0.6, 0.6, 0.6, 0.6, 0.6, 0.6],\n",
              "       [0.7, 0.7, 0.7, 0.7, 0.7, 0.7, 0.7, 0.7, 0.7, 0.7, 0.7],\n",
              "       [0.8, 0.8, 0.8, 0.8, 0.8, 0.8, 0.8, 0.8, 0.8, 0.8, 0.8],\n",
              "       [0.9, 0.9, 0.9, 0.9, 0.9, 0.9, 0.9, 0.9, 0.9, 0.9, 0.9],\n",
              "       [1. , 1. , 1. , 1. , 1. , 1. , 1. , 1. , 1. , 1. , 1. ]])"
            ]
          },
          "metadata": {
            "tags": []
          },
          "execution_count": 55
        }
      ]
    },
    {
      "cell_type": "code",
      "metadata": {
        "colab": {
          "base_uri": "https://localhost:8080/"
        },
        "id": "7D8Nq7kUNK7y",
        "outputId": "699c1688-cc4f-4013-ee3f-2b1abbb80556"
      },
      "source": [
        "Y.size"
      ],
      "execution_count": 56,
      "outputs": [
        {
          "output_type": "execute_result",
          "data": {
            "text/plain": [
              "121"
            ]
          },
          "metadata": {
            "tags": []
          },
          "execution_count": 56
        }
      ]
    },
    {
      "cell_type": "code",
      "metadata": {
        "id": "qQnz__V7F6mm"
      },
      "source": [
        "#What I would've liked to do, less expensive but plotting becomes trickier\n",
        "#Could come back to this\n",
        "for w1 in weightsTest:\n",
        "  for w2 in weightsTest:\n",
        "    #This is imperative to not include values that exceed a sum of 1 \n",
        "    #(weights are unit vector)\n",
        "    if(w1+w2 > 1):\n",
        "      #could do something here maybe as well\n",
        "      continue\n",
        "    weightsTemp = np.array([w1,w2])\n",
        "    loss = loss_function(weightsTemp,members[:2],xTest,yTest)"
      ],
      "execution_count": null,
      "outputs": []
    },
    {
      "cell_type": "code",
      "metadata": {
        "id": "7DvlIhONF9Pz"
      },
      "source": [
        "#This time I don't want the loss function to print as I calcluate a loss manifold\n",
        "\n",
        "# loss function for optimization process, designed to be minimized\n",
        "def loss_function(weights, members, xTest, yTest):\n",
        "  # normalize weights\n",
        "  normalized = normalize(weights)\n",
        "  # calculate error rate\n",
        "  loss = (1.0 - evaluateEnsemble(members, normalized, xTest, yTest))\n",
        "  #ideas to consider:\n",
        "  #Try other ideas for loss/error\n",
        "  #cross entropy loss instead...maybe average among the models!\n",
        "  #use neural network to accept model -> optimize neuron (50 fully, to 10)\n",
        "  #regularization term ~ add norm of weights  (add to loss) #expected ~ 0.027^1/2\n",
        "  #print(loss)\n",
        "  #print(normalized)\n",
        "  return loss"
      ],
      "execution_count": 58,
      "outputs": []
    },
    {
      "cell_type": "code",
      "metadata": {
        "colab": {
          "base_uri": "https://localhost:8080/"
        },
        "id": "g_hc995dP5Gn",
        "outputId": "804b033a-b987-4441-8d57-f7bf2de09aa0"
      },
      "source": [
        "#Instead...I'll go over the entire meshgrid eoof\n",
        "\n",
        "#There's got to be a better way than meshgridding everything hmmm, like above\n",
        "#but this is simple but expensive for now\n",
        "\n",
        "l = np.zeros(shape=(X.shape))\n",
        "print(l.shape)\n",
        "for i in range(len(weightsTest)):\n",
        "  for j in range(len(weightsTest)):\n",
        "\n",
        "    w1 = weightsTest[i]\n",
        "    w2 = weightsTest[j]\n",
        "    weightsTemp = np.array([w1,w2])\n",
        "    loss = loss_function(weightsTemp,members[:2],xTest,yTest)\n",
        "    l[i][j] = loss\n",
        "    if(j == 10):\n",
        "      print(i)"
      ],
      "execution_count": 59,
      "outputs": [
        {
          "output_type": "stream",
          "text": [
            "(11, 11)\n",
            "0\n",
            "1\n",
            "2\n",
            "3\n",
            "4\n",
            "5\n",
            "6\n",
            "7\n",
            "8\n",
            "9\n",
            "10\n"
          ],
          "name": "stdout"
        }
      ]
    },
    {
      "cell_type": "code",
      "metadata": {
        "id": "zkPmJrHSKDAF"
      },
      "source": [
        "from mpl_toolkits.mplot3d import Axes3D  \n",
        "# Axes3D import has side effects, it enables using projection='3d' in add_subplot\n",
        "import matplotlib.pyplot as plt"
      ],
      "execution_count": 60,
      "outputs": []
    },
    {
      "cell_type": "code",
      "metadata": {
        "colab": {
          "base_uri": "https://localhost:8080/"
        },
        "id": "2A2K5rEOR8Y-",
        "outputId": "07988c3b-acbc-4ef0-bf3e-220493c2e87e"
      },
      "source": [
        "#Verifying shapes\n",
        "X.shape,Y.shape,l.shape"
      ],
      "execution_count": 61,
      "outputs": [
        {
          "output_type": "execute_result",
          "data": {
            "text/plain": [
              "((11, 11), (11, 11), (11, 11))"
            ]
          },
          "metadata": {
            "tags": []
          },
          "execution_count": 61
        }
      ]
    },
    {
      "cell_type": "code",
      "metadata": {
        "id": "WPsrOK3tU6d1"
      },
      "source": [
        "#I adjust 00 to be its nearest neighbor, since zeroing out the models is illogical\n",
        "l[0][0] = l[0][1]"
      ],
      "execution_count": 62,
      "outputs": []
    },
    {
      "cell_type": "code",
      "metadata": {
        "colab": {
          "base_uri": "https://localhost:8080/"
        },
        "id": "1W4TBrBdXpRH",
        "outputId": "572b3cc0-af99-45dc-c93f-03a612944eda"
      },
      "source": [
        "l"
      ],
      "execution_count": 63,
      "outputs": [
        {
          "output_type": "execute_result",
          "data": {
            "text/plain": [
              "array([[0.0331, 0.0331, 0.0331, 0.0331, 0.0331, 0.0331, 0.0331, 0.0331,\n",
              "        0.0331, 0.0331, 0.0331],\n",
              "       [0.0346, 0.0274, 0.0286, 0.0297, 0.0307, 0.031 , 0.0312, 0.0313,\n",
              "        0.0314, 0.0318, 0.032 ],\n",
              "       [0.0346, 0.0284, 0.0274, 0.0289, 0.0286, 0.0294, 0.0297, 0.0301,\n",
              "        0.0307, 0.0308, 0.031 ],\n",
              "       [0.0346, 0.0301, 0.028 , 0.0274, 0.028 , 0.0284, 0.0286, 0.0294,\n",
              "        0.0295, 0.0297, 0.0299],\n",
              "       [0.0346, 0.0311, 0.0284, 0.0283, 0.0274, 0.0283, 0.0289, 0.0284,\n",
              "        0.0286, 0.0293, 0.0294],\n",
              "       [0.0346, 0.0314, 0.0295, 0.028 , 0.0281, 0.0274, 0.0281, 0.0282,\n",
              "        0.0286, 0.0284, 0.0286],\n",
              "       [0.0346, 0.0324, 0.0301, 0.0284, 0.028 , 0.028 , 0.0274, 0.028 ,\n",
              "        0.028 , 0.0289, 0.0284],\n",
              "       [0.0346, 0.0327, 0.0304, 0.0291, 0.0282, 0.0285, 0.028 , 0.0274,\n",
              "        0.028 , 0.0281, 0.0284],\n",
              "       [0.0346, 0.0329, 0.0311, 0.0296, 0.0284, 0.028 , 0.0283, 0.028 ,\n",
              "        0.0274, 0.0277, 0.0283],\n",
              "       [0.0346, 0.0331, 0.031 , 0.0301, 0.0289, 0.0283, 0.028 , 0.0283,\n",
              "        0.0281, 0.0274, 0.0279],\n",
              "       [0.0346, 0.0333, 0.0314, 0.0303, 0.0295, 0.0284, 0.028 , 0.0284,\n",
              "        0.0281, 0.0282, 0.0274]])"
            ]
          },
          "metadata": {
            "tags": []
          },
          "execution_count": 63
        }
      ]
    },
    {
      "cell_type": "markdown",
      "metadata": {
        "id": "KZUHEhDHfhRW"
      },
      "source": [
        "These visualizations are assuming w3 to be 0, and different weights for w1 and w2"
      ]
    },
    {
      "cell_type": "code",
      "metadata": {
        "id": "GI-4strGGh-x"
      },
      "source": [
        "#Importning; these may already be in our workspace\n",
        "import matplotlib.pyplot as plt\n",
        "import pandas as pd\n",
        "from mpl_toolkits.mplot3d import Axes3D\n",
        "import seaborn as sns"
      ],
      "execution_count": null,
      "outputs": []
    },
    {
      "cell_type": "code",
      "metadata": {
        "colab": {
          "base_uri": "https://localhost:8080/",
          "height": 248
        },
        "id": "fuR4f9aAGiBP",
        "outputId": "17c9efe1-84eb-4faa-8faa-aa946b6db504"
      },
      "source": [
        "import matplotlib.pyplot as plt\n",
        "import pandas as pd\n",
        "import seaborn as sns\n",
        "from mpl_toolkits.mplot3d import Axes3D\n",
        "\n",
        "\n",
        "sns.set(style = \"darkgrid\")\n",
        "\n",
        "fig = plt.figure()\n",
        "ax = fig.add_subplot(111, projection = '3d')\n",
        "\n",
        "ax.set_xlabel(\"x\")\n",
        "ax.set_ylabel(\"y\")\n",
        "ax.set_zlabel(\"z\")\n",
        "\n",
        "ax.scatter(X, Y, l)\n",
        "\n",
        "plt.show()"
      ],
      "execution_count": 64,
      "outputs": [
        {
          "output_type": "display_data",
          "data": {
            "image/png": "[encoded data removed]",
            "text/plain": [
              "<Figure size 432x288 with 1 Axes>"
            ]
          },
          "metadata": {
            "tags": []
          }
        }
      ]
    },
    {
      "cell_type": "code",
      "metadata": {
        "colab": {
          "base_uri": "https://localhost:8080/",
          "height": 248
        },
        "id": "KHdKlfSzGiDd",
        "outputId": "39a1de2c-a595-45dd-f1aa-9640db3563ef"
      },
      "source": [
        "fig = plt.figure()\n",
        "ax = fig.add_subplot(projection='3d')\n",
        "ax.plot_surface(X, Y, l)\n",
        "\n",
        "ax.set_xlabel('w1 weight')\n",
        "ax.set_ylabel('w2 weight')\n",
        "ax.set_zlabel('loss')\n",
        "ax.scatter(X, Y, l,color=\"red\")\n",
        "plt.show()"
      ],
      "execution_count": 65,
      "outputs": [
        {
          "output_type": "display_data",
          "data": {
            "image/png": "[encoded data removed]",
            "text/plain": [
              "<Figure size 432x288 with 1 Axes>"
            ]
          },
          "metadata": {
            "tags": []
          }
        }
      ]
    },
    {
      "cell_type": "markdown",
      "metadata": {
        "id": "FG-qJSu4G8Cz"
      },
      "source": [
        "The following are the same visualizations for another ensemble of models"
      ]
    },
    {
      "cell_type": "code",
      "metadata": {
        "colab": {
          "base_uri": "https://localhost:8080/",
          "height": 248
        },
        "id": "C_rgYW20Yg35",
        "outputId": "5c4f225c-34d8-4d53-eb71-40d0ae7c5c3e"
      },
      "source": [
        "import matplotlib.pyplot as plt\n",
        "import pandas as pd\n",
        "import seaborn as sns\n",
        "from mpl_toolkits.mplot3d import Axes3D\n",
        "\n",
        "\n",
        "sns.set(style = \"darkgrid\")\n",
        "\n",
        "fig = plt.figure()\n",
        "ax = fig.add_subplot(111, projection = '3d')\n",
        "\n",
        "ax.set_xlabel(\"x\")\n",
        "ax.set_ylabel(\"y\")\n",
        "ax.set_zlabel(\"z\")\n",
        "\n",
        "ax.scatter(X, Y, l)\n",
        "\n",
        "plt.show()"
      ],
      "execution_count": null,
      "outputs": [
        {
          "output_type": "display_data",
          "data": {
            "image/png": "[encoded data removed]",
            "text/plain": [
              "<Figure size 432x288 with 1 Axes>"
            ]
          },
          "metadata": {
            "tags": []
          }
        }
      ]
    },
    {
      "cell_type": "code",
      "metadata": {
        "colab": {
          "base_uri": "https://localhost:8080/",
          "height": 248
        },
        "id": "HhwzvncSbkjn",
        "outputId": "6f3f2786-f11e-4613-8cbf-064141231626"
      },
      "source": [
        "\n",
        "fig = plt.figure()\n",
        "ax = fig.add_subplot(projection='3d')\n",
        "ax.plot_surface(X, Y, l)\n",
        "\n",
        "ax.set_xlabel('w1 weight')\n",
        "ax.set_ylabel('w2 weight')\n",
        "ax.set_zlabel('loss')\n",
        "ax.scatter(X, Y, l,color=\"red\")\n",
        "plt.show()"
      ],
      "execution_count": null,
      "outputs": [
        {
          "output_type": "display_data",
          "data": {
            "image/png": "[encoded data removed]",
            "text/plain": [
              "<Figure size 432x288 with 1 Axes>"
            ]
          },
          "metadata": {
            "tags": []
          }
        }
      ]
    },
    {
      "cell_type": "markdown",
      "metadata": {
        "id": "UMizSAXPHEmz"
      },
      "source": [
        "This is the same calulation for loss along w1 and w2 (defined as 1-EnsembleAccuracy). However, w3 takes the remainder of the weight, rather than simply being fixed to 0."
      ]
    },
    {
      "cell_type": "code",
      "metadata": {
        "colab": {
          "base_uri": "https://localhost:8080/"
        },
        "id": "DpfJnp_bXIHF",
        "outputId": "1db9c27f-4e21-4ced-c1f2-6e122d684138"
      },
      "source": [
        "#Now I will try without fixing w3 to be 0\n",
        "#Instead,w3 will fill whatever the other two do not\n",
        "\n",
        "#There's got to be a better way than meshgridding everything hmmm, like above\n",
        "#but this is simple but expensive for now\n",
        "\n",
        "\n",
        "l2 = np.zeros(shape=(X.shape))\n",
        "print(l.shape)\n",
        "for i in range(len(weightsTest)):\n",
        "  for j in range(len(weightsTest)):\n",
        "    w1 = weightsTest[i]\n",
        "    w2 = weightsTest[j]\n",
        "    #Now w3 will adjust to take what is below 1\n",
        "    w3 = 0\n",
        "    if(w1+w2 < 1):\n",
        "      w3 = 1-(w1+w2)\n",
        "    weightsTemp = np.array([w1,w2,w3])\n",
        "    loss = loss_function(weightsTemp,members,xTest,yTest)\n",
        "    l2[i][j] = loss\n",
        "    if(j == 10):\n",
        "      print(i)"
      ],
      "execution_count": 66,
      "outputs": [
        {
          "output_type": "stream",
          "text": [
            "(11, 11)\n",
            "0\n",
            "1\n",
            "2\n",
            "3\n",
            "4\n",
            "5\n",
            "6\n",
            "7\n",
            "8\n",
            "9\n",
            "10\n"
          ],
          "name": "stdout"
        }
      ]
    },
    {
      "cell_type": "markdown",
      "metadata": {
        "id": "0hQPZvu5fnFs"
      },
      "source": [
        "This visualization no longer holds w3 fixed. Rather, it fills the vector norm. \n",
        "\n",
        "In example, this means w1=0.4, w2=0.4 $\\implies$ w3 =0.2, not fixed to a value k."
      ]
    },
    {
      "cell_type": "code",
      "metadata": {
        "colab": {
          "base_uri": "https://localhost:8080/",
          "height": 248
        },
        "id": "cdsH8I9KH5Ds",
        "outputId": "3af2827c-a22b-46c6-c293-06963ad16678"
      },
      "source": [
        "fig = plt.figure()\n",
        "ax = fig.add_subplot(projection='3d')\n",
        "ax.plot_surface(X, Y, l2)\n",
        "ax.scatter(X, Y, l2,color=\"red\")\n",
        "\n",
        "ax.set_xlabel('w1 weight')\n",
        "ax.set_ylabel('w2 weight')\n",
        "ax.set_zlabel('w3 weight')\n",
        "plt.show()"
      ],
      "execution_count": 67,
      "outputs": [
        {
          "output_type": "display_data",
          "data": {
            "image/png": "[encoded data removed]",
            "text/plain": [
              "<Figure size 432x288 with 1 Axes>"
            ]
          },
          "metadata": {
            "tags": []
          }
        }
      ]
    },
    {
      "cell_type": "code",
      "metadata": {
        "colab": {
          "base_uri": "https://localhost:8080/",
          "height": 248
        },
        "id": "6QeZfaaBH7cf",
        "outputId": "95b4a38d-7994-4178-ebfb-9a322813e5e5"
      },
      "source": [
        "#Lazily zooming in on the manifold\n",
        "fig = plt.figure()\n",
        "ax = fig.add_subplot(projection='3d')\n",
        "ax.plot_surface(X, Y, l2)\n",
        "\n",
        "ax.set_ylim(.1,.5)\n",
        "ax.set_xlim(.1,.5)\n",
        "ax.set_xlabel('w1 weight')\n",
        "ax.set_ylabel('w2 weight')\n",
        "ax.set_zlabel('w3 weight')\n",
        "plt.show()"
      ],
      "execution_count": 68,
      "outputs": [
        {
          "output_type": "display_data",
          "data": {
            "image/png": "[encoded data removed]",
            "text/plain": [
              "<Figure size 432x288 with 1 Axes>"
            ]
          },
          "metadata": {
            "tags": []
          }
        }
      ]
    },
    {
      "cell_type": "markdown",
      "metadata": {
        "id": "JgKt-DRNH_7L"
      },
      "source": [
        "The following is an old plot of another model"
      ]
    },
    {
      "cell_type": "code",
      "metadata": {
        "colab": {
          "base_uri": "https://localhost:8080/",
          "height": 248
        },
        "id": "-kr-82PElEv9",
        "outputId": "c295c576-683a-49fe-eb74-9bcff3489828"
      },
      "source": [
        "fig = plt.figure()\n",
        "ax = fig.add_subplot(projection='3d')\n",
        "ax.plot_surface(X, Y, l2)\n",
        "ax.scatter(X, Y, l2,color=\"red\")\n",
        "\n",
        "ax.set_xlabel('w1 weight')\n",
        "ax.set_ylabel('w2 weight')\n",
        "ax.set_zlabel('w3 weight')\n",
        "plt.show()"
      ],
      "execution_count": null,
      "outputs": [
        {
          "output_type": "display_data",
          "data": {
            "image/png": "[encoded data removed]",
            "text/plain": [
              "<Figure size 432x288 with 1 Axes>"
            ]
          },
          "metadata": {
            "tags": []
          }
        }
      ]
    },
    {
      "cell_type": "code",
      "metadata": {
        "colab": {
          "base_uri": "https://localhost:8080/",
          "height": 248
        },
        "id": "fb9ynQ7Ua6pD",
        "outputId": "9beb2d85-42c6-4cd4-9272-3e78d7a86dd6"
      },
      "source": [
        "fig = plt.figure()\n",
        "ax = fig.add_subplot(projection='3d')\n",
        "ax.plot_surface(X, Y, l2)\n",
        "\n",
        "ax.set_ylim(.1,.5)\n",
        "ax.set_xlim(.1,.5)\n",
        "ax.set_xlabel('w1 weight')\n",
        "ax.set_ylabel('w2 weight')\n",
        "ax.set_zlabel('w3 weight')\n",
        "plt.show()"
      ],
      "execution_count": null,
      "outputs": [
        {
          "output_type": "display_data",
          "data": {
            "image/png": "[encoded data removed]",
            "text/plain": [
              "<Figure size 432x288 with 1 Axes>"
            ]
          },
          "metadata": {
            "tags": []
          }
        }
      ]
    },
    {
      "cell_type": "markdown",
      "metadata": {
        "id": "2LJo_97sIIfd"
      },
      "source": [
        "Now that we know an approximate area, can we try local convergence again?"
      ]
    },
    {
      "cell_type": "code",
      "metadata": {
        "colab": {
          "base_uri": "https://localhost:8080/"
        },
        "id": "l9PxzwMya6tx",
        "outputId": "f6b3a71e-eb2f-45cd-ca57-2150aea23d0c"
      },
      "source": [
        "#There seemed to be a minimum in the middle there....hmmm let's try a new w0 for local min\n",
        "np.min(l2)"
      ],
      "execution_count": 69,
      "outputs": [
        {
          "output_type": "execute_result",
          "data": {
            "text/plain": [
              "0.025599999999999956"
            ]
          },
          "metadata": {
            "tags": []
          },
          "execution_count": 69
        }
      ]
    },
    {
      "cell_type": "code",
      "metadata": {
        "colab": {
          "base_uri": "https://localhost:8080/"
        },
        "id": "z8_gCFC3d9Cs",
        "outputId": "80f2ebff-9e74-40b3-ea1d-f6cea1d605d0"
      },
      "source": [
        "np.argmin(l2)"
      ],
      "execution_count": 70,
      "outputs": [
        {
          "output_type": "execute_result",
          "data": {
            "text/plain": [
              "46"
            ]
          },
          "metadata": {
            "tags": []
          },
          "execution_count": 70
        }
      ]
    },
    {
      "cell_type": "code",
      "metadata": {
        "colab": {
          "base_uri": "https://localhost:8080/"
        },
        "id": "Bt3LMr3ja6v2",
        "outputId": "fa071f68-e8c5-4f1a-ab35-438c69d3f196"
      },
      "source": [
        "l2[4,2]"
      ],
      "execution_count": 71,
      "outputs": [
        {
          "output_type": "execute_result",
          "data": {
            "text/plain": [
              "0.025599999999999956"
            ]
          },
          "metadata": {
            "tags": []
          },
          "execution_count": 71
        }
      ]
    },
    {
      "cell_type": "code",
      "metadata": {
        "colab": {
          "base_uri": "https://localhost:8080/"
        },
        "id": "nhEHtp3EXILw",
        "outputId": "fa83945e-22e6-408d-be1d-c34292e1bc17"
      },
      "source": [
        "weightsTest[2]"
      ],
      "execution_count": 73,
      "outputs": [
        {
          "output_type": "execute_result",
          "data": {
            "text/plain": [
              "0.2"
            ]
          },
          "metadata": {
            "tags": []
          },
          "execution_count": 73
        }
      ]
    },
    {
      "cell_type": "code",
      "metadata": {
        "id": "r0WdhUzZeDgF"
      },
      "source": [
        "w0 = [0.4,0.26,0.34]"
      ],
      "execution_count": 74,
      "outputs": []
    },
    {
      "cell_type": "code",
      "metadata": {
        "id": "5W_6ZYxjImf4"
      },
      "source": [
        "# loss function for optimization process, designed to be minimized\n",
        "def loss_function(weights, members, xTest, yTest):\n",
        "  # normalize weights\n",
        "  normalized = normalize(weights)\n",
        "  # calculate error rate\n",
        "  loss = (1.0 - evaluateEnsemble(members, normalized, xTest, yTest))\n",
        "  #ideas to consider:\n",
        "  #Try other ideas for loss/error\n",
        "  #cross entropy loss instead...maybe average among the models!\n",
        "  #use neural network to accept model -> optimize neuron (50 fully, to 10)\n",
        "  #regularization term ~ add norm of weights  (add to loss) #expected ~ 0.027^1/2\n",
        "  print(loss)\n",
        "  print(normalized)\n",
        "  return loss"
      ],
      "execution_count": 76,
      "outputs": []
    },
    {
      "cell_type": "code",
      "metadata": {
        "id": "1pVvPVy-xr4S",
        "colab": {
          "base_uri": "https://localhost:8080/"
        },
        "outputId": "851b3b19-b4c4-4630-8135-6fb6ccccf93f"
      },
      "source": [
        "result = minimize(loss_function, w0,bounds= bound_w, args=(search_arg),method='Nelder-Mead')"
      ],
      "execution_count": 77,
      "outputs": [
        {
          "output_type": "stream",
          "text": [
            "/usr/local/lib/python3.7/dist-packages/scipy/optimize/_minimize.py:522: RuntimeWarning: Method Nelder-Mead cannot handle constraints nor bounds.\n",
            "  RuntimeWarning)\n"
          ],
          "name": "stderr"
        },
        {
          "output_type": "stream",
          "text": [
            "0.025599999999999956\n",
            "[0.4  0.26 0.34]\n",
            "0.025800000000000045\n",
            "[0.41176471 0.25490196 0.33333333]\n",
            "0.025800000000000045\n",
            "[0.39486673 0.26949654 0.33563672]\n",
            "0.025499999999999967\n",
            "[0.39331367 0.25565388 0.35103245]\n",
            "0.025499999999999967\n",
            "[0.40856672 0.24415157 0.34728171]\n",
            "0.025699999999999945\n",
            "[0.38923488 0.25155694 0.35920819]\n",
            "0.025499999999999967\n",
            "[0.39495519 0.25240624 0.35263857]\n",
            "0.025599999999999956\n",
            "[0.39791259 0.24168297 0.36040444]\n",
            "0.025599999999999956\n",
            "[0.39946958 0.2553456  0.34518482]\n",
            "0.025499999999999967\n",
            "[0.40092014 0.24991784 0.34916201]\n",
            "0.025499999999999967\n",
            "[0.39412929 0.25404024 0.35183047]\n",
            "0.025599999999999956\n",
            "[0.39662866 0.25780863 0.34556272]\n",
            "0.025599999999999956\n",
            "[0.39561877 0.2486513  0.35572993]\n",
            "0.025599999999999956\n",
            "[0.39637412 0.25550062 0.34812526]\n",
            "0.025499999999999967\n",
            "[0.39711191 0.25278963 0.35009846]\n",
            "0.025499999999999967\n",
            "[0.3937202  0.25484958 0.35143022]\n",
            "0.025599999999999956\n",
            "[0.39496421 0.25672673 0.34830906]\n",
            "0.025499999999999967\n",
            "[0.39446763 0.25214829 0.35338407]\n",
            "0.025499999999999967\n",
            "[0.39459127 0.25328826 0.35212047]\n",
            "0.025499999999999967\n",
            "[0.39483956 0.25557747 0.34958297]\n",
            "0.025499999999999967\n",
            "[0.39465322 0.2538594  0.35148738]\n",
            "0.025499999999999967\n",
            "[0.39521154 0.2542227  0.35056576]\n",
            "0.025499999999999967\n",
            "[0.39351662 0.25525236 0.35123102]\n",
            "0.025499999999999967\n",
            "[0.39395243 0.25447114 0.35157642]\n",
            "0.025499999999999967\n",
            "[0.39407553 0.25561573 0.35030874]\n",
            "0.025499999999999967\n",
            "[0.39398318 0.254757   0.35125982]\n",
            "0.025499999999999967\n",
            "[0.3942623  0.25493852 0.35079918]\n",
            "0.025499999999999967\n",
            "[0.39341506 0.25545328 0.35113166]\n",
            "0.025499999999999967\n",
            "[0.39363304 0.25506253 0.35130443]\n",
            "0.025499999999999967\n",
            "[0.39369433 0.25563482 0.35067085]\n",
            "0.025499999999999967\n",
            "[0.39364835 0.25520553 0.35114611]\n",
            "0.025499999999999967\n",
            "[0.3937879  0.25529626 0.35091583]\n",
            "0.025499999999999967\n",
            "[0.39336435 0.25555362 0.35108203]\n",
            "0.025499999999999967\n",
            "[0.39347335 0.25535821 0.35116844]\n",
            "0.025499999999999967\n",
            "[0.39350393 0.25564436 0.35085171]\n",
            "0.025499999999999967\n",
            "[0.39348099 0.25542973 0.35108928]\n",
            "0.025499999999999967\n",
            "[0.39355077 0.25547509 0.35097415]\n",
            "0.025499999999999967\n",
            "[0.393339   0.25560376 0.35105724]\n",
            "0.025499999999999967\n",
            "[0.39339351 0.25550605 0.35110044]\n",
            "0.025499999999999967\n",
            "[0.39340878 0.25564912 0.3509421 ]\n",
            "0.025499999999999967\n",
            "[0.39339733 0.25554181 0.35106086]\n",
            "0.025499999999999967\n",
            "[0.39343221 0.25556449 0.3510033 ]\n",
            "0.025499999999999967\n",
            "[0.39332633 0.25562883 0.35104484]\n",
            "0.025499999999999967\n",
            "[0.39335359 0.25557997 0.35106644]\n",
            "0.025499999999999967\n",
            "[0.39336122 0.2556515  0.35098728]\n",
            "0.025499999999999967\n",
            "[0.3933555  0.25559785 0.35104665]\n",
            "0.025499999999999967\n",
            "[0.39337294 0.25560919 0.35101787]\n",
            "0.025499999999999967\n",
            "[0.39332    0.25564136 0.35103864]\n",
            "0.025499999999999967\n",
            "[0.39333363 0.25561693 0.35104945]\n"
          ],
          "name": "stdout"
        }
      ]
    },
    {
      "cell_type": "code",
      "metadata": {
        "colab": {
          "base_uri": "https://localhost:8080/"
        },
        "id": "TSttFfnngWrE",
        "outputId": "a652db13-69d8-45b6-a634-24791891caf0"
      },
      "source": [
        "result"
      ],
      "execution_count": 78,
      "outputs": [
        {
          "output_type": "execute_result",
          "data": {
            "text/plain": [
              " final_simplex: (array([[0.4       , 0.26      , 0.357     ],\n",
              "       [0.40005208, 0.25994922, 0.35697786],\n",
              "       [0.39998698, 0.25997461, 0.35698893],\n",
              "       [0.40001953, 0.25996191, 0.3570166 ]]), array([0.0255, 0.0255, 0.0255, 0.0255]))\n",
              "           fun: 0.025499999999999967\n",
              "       message: 'Optimization terminated successfully.'\n",
              "          nfev: 49\n",
              "           nit: 12\n",
              "        status: 0\n",
              "       success: True\n",
              "             x: array([0.4  , 0.26 , 0.357])"
            ]
          },
          "metadata": {
            "tags": []
          },
          "execution_count": 78
        }
      ]
    },
    {
      "cell_type": "code",
      "metadata": {
        "colab": {
          "base_uri": "https://localhost:8080/"
        },
        "id": "0XjhbzwHgWtX",
        "outputId": "d8c710c4-d15d-42f0-9ccb-b22c19316ec0"
      },
      "source": [
        "bestWeights = result.x\n",
        "bestWeights"
      ],
      "execution_count": 79,
      "outputs": [
        {
          "output_type": "execute_result",
          "data": {
            "text/plain": [
              "array([0.4  , 0.26 , 0.357])"
            ]
          },
          "metadata": {
            "tags": []
          },
          "execution_count": 79
        }
      ]
    },
    {
      "cell_type": "code",
      "metadata": {
        "colab": {
          "base_uri": "https://localhost:8080/"
        },
        "id": "HlLM5UttI57G",
        "outputId": "14adf188-6e3e-4200-c5a1-247f4896c49d"
      },
      "source": [
        "sum(normalize(bestWeights))\n"
      ],
      "execution_count": 81,
      "outputs": [
        {
          "output_type": "execute_result",
          "data": {
            "text/plain": [
              "1.0"
            ]
          },
          "metadata": {
            "tags": []
          },
          "execution_count": 81
        }
      ]
    },
    {
      "cell_type": "code",
      "metadata": {
        "colab": {
          "base_uri": "https://localhost:8080/"
        },
        "id": "2_x8GG4ugWvy",
        "outputId": "28dfaa0d-cee6-4b4c-dd06-c85f5fa9b23f"
      },
      "source": [
        "weights"
      ],
      "execution_count": 82,
      "outputs": [
        {
          "output_type": "execute_result",
          "data": {
            "text/plain": [
              "array([0.33333333, 0.33333333, 0.33333333])"
            ]
          },
          "metadata": {
            "tags": []
          },
          "execution_count": 82
        }
      ]
    },
    {
      "cell_type": "code",
      "metadata": {
        "id": "mRIcTDFxggr6"
      },
      "source": [
        "#Now let's compare the evaluation between equal weights, which are fine, and local optimum weights"
      ],
      "execution_count": null,
      "outputs": []
    },
    {
      "cell_type": "code",
      "metadata": {
        "colab": {
          "base_uri": "https://localhost:8080/"
        },
        "id": "gY1e5kLmggua",
        "outputId": "fe3c192a-6647-42f0-bb24-bd6f51787935"
      },
      "source": [
        "evaluateEnsemble(members,weights,xTest,yTest)"
      ],
      "execution_count": 83,
      "outputs": [
        {
          "output_type": "execute_result",
          "data": {
            "text/plain": [
              "0.9746"
            ]
          },
          "metadata": {
            "tags": []
          },
          "execution_count": 83
        }
      ]
    },
    {
      "cell_type": "code",
      "metadata": {
        "colab": {
          "base_uri": "https://localhost:8080/"
        },
        "id": "Up7YgLn6ggw6",
        "outputId": "f525b52c-fa5e-4c03-fe8d-b4bf20b3189c"
      },
      "source": [
        "evaluateEnsemble(members,bestWeights,xTest,yTest)"
      ],
      "execution_count": 84,
      "outputs": [
        {
          "output_type": "execute_result",
          "data": {
            "text/plain": [
              "0.9745"
            ]
          },
          "metadata": {
            "tags": []
          },
          "execution_count": 84
        }
      ]
    },
    {
      "cell_type": "code",
      "metadata": {
        "colab": {
          "base_uri": "https://localhost:8080/",
          "height": 248
        },
        "id": "fmA56sv8KDEu",
        "outputId": "ffee091a-c45f-4e46-ce12-bbfca8484b71"
      },
      "source": [
        "#This was an old grid ...hmmm yet this one converged\n",
        "\n",
        "fig = plt.figure()\n",
        "ax = fig.add_subplot(projection='3d')\n",
        "ax.plot_surface(X, Y, l)\n",
        "\n",
        "ax.set_xlabel('w1 weight')\n",
        "ax.set_ylabel('w2 weight')\n",
        "ax.set_zlabel('w3 weight')\n",
        "ax.scatter(X, Y, l,color=\"red\")\n",
        "plt.show()"
      ],
      "execution_count": null,
      "outputs": [
        {
          "output_type": "display_data",
          "data": {
            "image/png": "[encoded data removed]",
            "text/plain": [
              "<Figure size 432x288 with 1 Axes>"
            ]
          },
          "metadata": {
            "tags": [],
            "needs_background": "light"
          }
        }
      ]
    },
    {
      "cell_type": "markdown",
      "metadata": {
        "id": "wlxN7-2nOHGG"
      },
      "source": [
        "## Stacked Ensemble <a class=\"anchor\" id=\"four-four\" name=\"four-four\"></a> ##"
      ]
    },
    {
      "cell_type": "markdown",
      "metadata": {
        "id": "PgMawaE9JQV5"
      },
      "source": [
        "The following is an alternative method of constructing an ensemble. This is mostly adapted from Jason Brownlee's post regarding ensembling on [Machine Learning Mastery](https://machinelearningmastery.com/weighted-average-ensemble-for-deep-learning-neural-networks/\n",
        ")."
      ]
    },
    {
      "cell_type": "code",
      "metadata": {
        "colab": {
          "base_uri": "https://localhost:8080/"
        },
        "id": "xQxGMLq5K_zx",
        "outputId": "ac022acb-3a81-459b-c230-5e5689035f9b"
      },
      "source": [
        "# Normalize the images.\n",
        "xTrain = (xTrain / 255) - 0.5\n",
        "xTest = (xTest / 255) - 0.5"
      ],
      "execution_count": 99,
      "outputs": [
        {
          "output_type": "stream",
          "text": [
            "(60000, 784)\n",
            "(10000, 784)\n"
          ],
          "name": "stdout"
        }
      ]
    },
    {
      "cell_type": "code",
      "metadata": {
        "id": "xE8KXAR0MINe"
      },
      "source": [
        "# Flatten the images.\n",
        "xTrain = xTrain.reshape((-1, 784))\n",
        "xTest = xTest.reshape((-1, 784))\n",
        "#input = input.flatten()\n",
        "\n",
        "#printing shape\n",
        "print(xTrain.shape)\n",
        "print(xTest.shape)"
      ],
      "execution_count": null,
      "outputs": []
    },
    {
      "cell_type": "code",
      "metadata": {
        "id": "Hxko0peBo890",
        "colab": {
          "base_uri": "https://localhost:8080/"
        },
        "outputId": "7ed804db-ce61-495e-aec4-138f9be0b61e"
      },
      "source": [
        "members"
      ],
      "execution_count": 118,
      "outputs": [
        {
          "output_type": "execute_result",
          "data": {
            "text/plain": [
              "[<tensorflow.python.keras.engine.sequential.Sequential at 0x7fe0d7485c10>,\n",
              " <tensorflow.python.keras.engine.sequential.Sequential at 0x7fe0d7669bd0>,\n",
              " <tensorflow.python.keras.engine.sequential.Sequential at 0x7fe0dcaf5810>,\n",
              " <tensorflow.python.keras.engine.sequential.Sequential at 0x7fe0bf4d9350>,\n",
              " <tensorflow.python.keras.engine.sequential.Sequential at 0x7fe0dc031990>]"
            ]
          },
          "metadata": {
            "tags": []
          },
          "execution_count": 118
        }
      ]
    },
    {
      "cell_type": "code",
      "metadata": {
        "colab": {
          "base_uri": "https://localhost:8080/"
        },
        "id": "-d6riDnhr7aV",
        "outputId": "16fa492b-9be5-42b0-de98-5cb84d6144b4"
      },
      "source": [
        "weights"
      ],
      "execution_count": 119,
      "outputs": [
        {
          "output_type": "execute_result",
          "data": {
            "text/plain": [
              "array([0.2, 0.2, 0.2, 0.2, 0.2])"
            ]
          },
          "metadata": {
            "tags": []
          },
          "execution_count": 119
        }
      ]
    },
    {
      "cell_type": "code",
      "metadata": {
        "id": "H4vAIFhkPp8t",
        "colab": {
          "base_uri": "https://localhost:8080/"
        },
        "outputId": "41e74307-672d-4864-a54a-389731200f2d"
      },
      "source": [
        "#No weights, acc for each model\n",
        "\n",
        "for model in members:\n",
        "  acc = model.evaluate(xTest,to_categorical(yTest),verbose=0)[1]\n",
        "  print(acc)"
      ],
      "execution_count": 120,
      "outputs": [
        {
          "output_type": "stream",
          "text": [
            "0.9617999792098999\n",
            "0.9681000113487244\n",
            "0.9664999842643738\n",
            "0.9679999947547913\n",
            "0.9649999737739563\n"
          ],
          "name": "stdout"
        }
      ]
    },
    {
      "cell_type": "code",
      "metadata": {
        "id": "mZKNH2ljPp_V"
      },
      "source": [
        "# create stacked model input dataset as outputs from the ensemble\n",
        "def stacked_dataset(members, inputX):\n",
        "\tstackX = None\n",
        "\tfor model in members:\n",
        "\t\t# make prediction\n",
        "\t\tyhat = model.predict(inputX, verbose=0)\n",
        "\t\t# stack predictions into [rows, members, probabilities]\n",
        "\t\tif stackX is None:\n",
        "\t\t\tstackX = yhat\n",
        "\t\telse:\n",
        "\t\t\tstackX = np.dstack((stackX, yhat))\n",
        "\t# flatten predictions to [rows, members x probabilities]\n",
        "\tstackX = stackX.reshape((stackX.shape[0], stackX.shape[1]*stackX.shape[2]))\n",
        "\treturn stackX"
      ],
      "execution_count": 121,
      "outputs": []
    },
    {
      "cell_type": "code",
      "metadata": {
        "id": "FSi5aFGZtvie"
      },
      "source": [
        "from sklearn.linear_model import LogisticRegression"
      ],
      "execution_count": 122,
      "outputs": []
    },
    {
      "cell_type": "code",
      "metadata": {
        "id": "SgXjCcE_PqB5"
      },
      "source": [
        "def fit_stacked_model(members, inputX, inputy):\n",
        "\t# create dataset using ensemble\n",
        "\tstackedX = stacked_dataset(members, inputX)\n",
        "\t# fit standalone model\n",
        "\tmodel = LogisticRegression()\n",
        "\tmodel.fit(stackedX, inputy)\n",
        "\treturn model"
      ],
      "execution_count": 123,
      "outputs": []
    },
    {
      "cell_type": "code",
      "metadata": {
        "id": "3PcOSMJ9PqER"
      },
      "source": [
        "# fit stacked model using the ensemble\n",
        "model = fit_stacked_model(members, xTest, yTest)"
      ],
      "execution_count": 124,
      "outputs": []
    },
    {
      "cell_type": "code",
      "metadata": {
        "id": "GSHJPp9IPqG0",
        "colab": {
          "base_uri": "https://localhost:8080/"
        },
        "outputId": "70cd4396-b0ab-488f-ee39-e36b7c35bf6e"
      },
      "source": [
        "model"
      ],
      "execution_count": 125,
      "outputs": [
        {
          "output_type": "execute_result",
          "data": {
            "text/plain": [
              "LogisticRegression(C=1.0, class_weight=None, dual=False, fit_intercept=True,\n",
              "                   intercept_scaling=1, l1_ratio=None, max_iter=100,\n",
              "                   multi_class='auto', n_jobs=None, penalty='l2',\n",
              "                   random_state=None, solver='lbfgs', tol=0.0001, verbose=0,\n",
              "                   warm_start=False)"
            ]
          },
          "metadata": {
            "tags": []
          },
          "execution_count": 125
        }
      ]
    },
    {
      "cell_type": "code",
      "metadata": {
        "id": "_gPXmprDo9AL"
      },
      "source": [
        "# make a prediction with the stacked model\n",
        "def stacked_prediction(members, model, inputX):\n",
        "\t# create dataset using ensemble\n",
        "\tstackedX = stacked_dataset(members, inputX)\n",
        "\t# make a prediction\n",
        "\tyhat = model.predict(stackedX)\n",
        "\treturn yhat"
      ],
      "execution_count": 126,
      "outputs": []
    },
    {
      "cell_type": "markdown",
      "metadata": {
        "id": "6OwStziIKIrv"
      },
      "source": [
        "## Comparing Ensemble Outcomes <a class=\"anchor\" id=\"four-five\" name=\"four-five\"></a>##"
      ]
    },
    {
      "cell_type": "markdown",
      "metadata": {
        "id": "rIwzJUQHKPWD"
      },
      "source": [
        "The following is a result from a particular carying out of ensemble methods. Due to the stochastic nature of the training process, you may and likely will gain different results.\n",
        "\n",
        "However, it should be observed that even for similarly accuracte models, each model independently performs worse than as an equal weight ensemble, and worse than a stacked ensemble. "
      ]
    },
    {
      "cell_type": "markdown",
      "metadata": {
        "id": "QpY9Q95oNUm9"
      },
      "source": [
        "Creating five models, with neccesary functions ran"
      ]
    },
    {
      "cell_type": "code",
      "metadata": {
        "id": "YvFAagfZMUrr"
      },
      "source": [
        "# Fit numModels (5,here) models\n",
        "numModels = 5\n",
        "members = [fitModel(xTrain, yTrain) for _ in range(numModels)]"
      ],
      "execution_count": 114,
      "outputs": []
    },
    {
      "cell_type": "code",
      "metadata": {
        "colab": {
          "base_uri": "https://localhost:8080/"
        },
        "id": "fPqeBVw6MUuU",
        "outputId": "9bbe0a48-9442-4006-be34-54f57da81f87"
      },
      "source": [
        "weights = np.array([1/numModels for _ in range(numModels)])\n",
        "weights"
      ],
      "execution_count": 117,
      "outputs": [
        {
          "output_type": "execute_result",
          "data": {
            "text/plain": [
              "array([0.2, 0.2, 0.2, 0.2, 0.2])"
            ]
          },
          "metadata": {
            "tags": []
          },
          "execution_count": 117
        }
      ]
    },
    {
      "cell_type": "markdown",
      "metadata": {
        "id": "I-Q2ZiQrNTDX"
      },
      "source": [
        "Stacked Ensenmble Accuracy"
      ]
    },
    {
      "cell_type": "code",
      "metadata": {
        "colab": {
          "base_uri": "https://localhost:8080/"
        },
        "id": "hucYn6lXtz_D",
        "outputId": "8f131d83-7f4d-475e-9b32-986544564d55"
      },
      "source": [
        "# evaluate model on test set\n",
        "yhat = stacked_prediction(members, model, xTest)\n",
        "acc = accuracy_score(yTest, yhat)\n",
        "print('Stacked Test Accuracy: %.3f' % acc)"
      ],
      "execution_count": 127,
      "outputs": [
        {
          "output_type": "stream",
          "text": [
            "Stacked Test Accuracy: 0.980\n"
          ],
          "name": "stdout"
        }
      ]
    },
    {
      "cell_type": "markdown",
      "metadata": {
        "id": "isDZ5gd-Nbjn"
      },
      "source": [
        "Uniform Average Weight Ensemble"
      ]
    },
    {
      "cell_type": "code",
      "metadata": {
        "colab": {
          "base_uri": "https://localhost:8080/"
        },
        "id": "O96wQxtVw4Kj",
        "outputId": "a3668eee-204f-4216-fba0-57ff312d7892"
      },
      "source": [
        "# Equally weighted Ensemble for all models\n",
        "evaluateNWeights(members,numModels,weights,xTest,yTest)"
      ],
      "execution_count": 131,
      "outputs": [
        {
          "output_type": "execute_result",
          "data": {
            "text/plain": [
              "0.9762"
            ]
          },
          "metadata": {
            "tags": []
          },
          "execution_count": 131
        }
      ]
    },
    {
      "cell_type": "markdown",
      "metadata": {
        "id": "Bal0FaBeN3vR"
      },
      "source": [
        "Independent Models"
      ]
    },
    {
      "cell_type": "code",
      "metadata": {
        "colab": {
          "base_uri": "https://localhost:8080/"
        },
        "id": "haLBUJIet0BE",
        "outputId": "bf130edf-6de8-40de-da72-01a30dd3a393"
      },
      "source": [
        "#No weights, acc for each model\n",
        "\n",
        "for model in members:\n",
        "  acc = model.evaluate(xTest,to_categorical(yTest),verbose=0)[1]\n",
        "  print(acc)"
      ],
      "execution_count": 128,
      "outputs": [
        {
          "output_type": "stream",
          "text": [
            "0.9617999792098999\n",
            "0.9681000113487244\n",
            "0.9664999842643738\n",
            "0.9679999947547913\n",
            "0.9649999737739563\n"
          ],
          "name": "stdout"
        }
      ]
    }
  ]
}