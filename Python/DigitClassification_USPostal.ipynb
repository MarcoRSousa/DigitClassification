{
  "nbformat": 4,
  "nbformat_minor": 0,
  "metadata": {
    "colab": {
      "name": "DigitClassification_USPostal.ipynb",
      "provenance": [],
      "collapsed_sections": [],
      "toc_visible": true
    },
    "kernelspec": {
      "name": "python3",
      "display_name": "Python 3"
    },
    "language_info": {
      "name": "python"
    }
  },
  "cells": [
    {
      "cell_type": "markdown",
      "metadata": {
        "id": "vg2qAUQnKQhW"
      },
      "source": [
        "# US Post Office Zip Code Data Classification\n",
        "\n",
        "Author: Marco Sousa \n",
        "\n",
        "Last Updated Date: 5/4/2021\n",
        "\n",
        "The following runs a neural network, convolutional neural network, and K-NN to classify handwritten digits in a quick and concise manner.\n",
        "\n",
        "If you want more explanatory code that walks your through the process, visit [my digit classification github repository](https://github.com/MarcoRSousa/DigitClassification). Such repository contains a pdf document which details several classification algorithms, along with another jupyter notebook which explains the code more in depth along the way (for the MNIST data similarly)."
      ]
    },
    {
      "cell_type": "markdown",
      "metadata": {
        "id": "N9Kh6GAXaYD0"
      },
      "source": [
        "## Postal Data"
      ]
    },
    {
      "cell_type": "markdown",
      "metadata": {
        "id": "MK9Gj8xAM9y5"
      },
      "source": [
        "### Importing"
      ]
    },
    {
      "cell_type": "code",
      "metadata": {
        "id": "yiY3NIJvGh7P"
      },
      "source": [
        "#Importing libraries\n",
        "import numpy as np \n",
        "import pandas as pd\n",
        "\n",
        "#Machine Learning libraries\n",
        "from tensorflow import keras\n",
        "from tensorflow.keras import layers\n",
        "\n",
        "#Visualization libraries\n",
        "import matplotlib.pyplot as plt\n",
        "#import altair as alt\n",
        "#import seaborn as sns\n",
        "\n",
        "#Counter dict class\n",
        "from collections import Counter\n",
        "\n",
        "#Machine Learning libraries\n",
        "from tensorflow import keras\n",
        "from tensorflow.keras import layers\n",
        "\n",
        "#In case we only want these in our space\n",
        "from tensorflow.keras.models import Sequential\n",
        "from tensorflow.keras.layers import Dense\n",
        "from tensorflow.keras.layers import Dropout\n",
        "from keras.utils import to_categorical"
      ],
      "execution_count": 1,
      "outputs": []
    },
    {
      "cell_type": "markdown",
      "metadata": {
        "id": "8Fw5UYbYKDSD"
      },
      "source": [
        "### Loading in US Postal Digit Database"
      ]
    },
    {
      "cell_type": "code",
      "metadata": {
        "id": "uO4C8d6XGieY"
      },
      "source": [
        "train = np.loadtxt('zip.train')\n",
        "test = np.loadtxt('zip.test')"
      ],
      "execution_count": 3,
      "outputs": []
    },
    {
      "cell_type": "markdown",
      "metadata": {
        "id": "NuID54jRKKFQ"
      },
      "source": [
        "### Checking shape and data type"
      ]
    },
    {
      "cell_type": "code",
      "metadata": {
        "colab": {
          "base_uri": "https://localhost:8080/"
        },
        "id": "aS5vTLziJWiQ",
        "outputId": "0bb2222c-ed3f-484b-9ae0-84d619b5b3b3"
      },
      "source": [
        "train.shape"
      ],
      "execution_count": 4,
      "outputs": [
        {
          "output_type": "execute_result",
          "data": {
            "text/plain": [
              "(7291, 257)"
            ]
          },
          "metadata": {
            "tags": []
          },
          "execution_count": 4
        }
      ]
    },
    {
      "cell_type": "code",
      "metadata": {
        "colab": {
          "base_uri": "https://localhost:8080/"
        },
        "id": "NCaLBSC4I9Wz",
        "outputId": "5d1bc78d-1623-4fe8-e1e8-075084901ac8"
      },
      "source": [
        "test.shape"
      ],
      "execution_count": 5,
      "outputs": [
        {
          "output_type": "execute_result",
          "data": {
            "text/plain": [
              "(2007, 257)"
            ]
          },
          "metadata": {
            "tags": []
          },
          "execution_count": 5
        }
      ]
    },
    {
      "cell_type": "code",
      "metadata": {
        "colab": {
          "base_uri": "https://localhost:8080/"
        },
        "id": "zdqsYkZaKAIp",
        "outputId": "8521b739-9b19-4ad9-ab2f-5714350d9344"
      },
      "source": [
        "test.dtype"
      ],
      "execution_count": 6,
      "outputs": [
        {
          "output_type": "execute_result",
          "data": {
            "text/plain": [
              "dtype('float64')"
            ]
          },
          "metadata": {
            "tags": []
          },
          "execution_count": 6
        }
      ]
    },
    {
      "cell_type": "code",
      "metadata": {
        "colab": {
          "base_uri": "https://localhost:8080/"
        },
        "id": "6BGPftpzKBgr",
        "outputId": "a292a126-4317-4a32-8d1c-7bce519f82d0"
      },
      "source": [
        "train.dtype"
      ],
      "execution_count": 7,
      "outputs": [
        {
          "output_type": "execute_result",
          "data": {
            "text/plain": [
              "dtype('float64')"
            ]
          },
          "metadata": {
            "tags": []
          },
          "execution_count": 7
        }
      ]
    },
    {
      "cell_type": "markdown",
      "metadata": {
        "id": "qSqC3c_CMpOh"
      },
      "source": [
        "### Formatting"
      ]
    },
    {
      "cell_type": "markdown",
      "metadata": {
        "id": "2FIKM4vrOt90"
      },
      "source": [
        "Removing the Y labels from the X data; also formatting X to be matrices rather than vectors"
      ]
    },
    {
      "cell_type": "code",
      "metadata": {
        "id": "KzMeidosGigV"
      },
      "source": [
        "#Separating out the Y labels\n",
        "yTest = test[:,0]\n",
        "yTrain = train[:,0]"
      ],
      "execution_count": 8,
      "outputs": []
    },
    {
      "cell_type": "code",
      "metadata": {
        "colab": {
          "base_uri": "https://localhost:8080/"
        },
        "id": "nqV7CpCFGiit",
        "outputId": "c6a5ae87-93dc-4fe8-c48b-2c7ab584efb9"
      },
      "source": [
        "print('yTrain: ' + str(yTrain.shape))\n",
        "print('yTest: ' + str(yTest.shape))"
      ],
      "execution_count": 9,
      "outputs": [
        {
          "output_type": "stream",
          "text": [
            "yTrain: (7291,)\n",
            "yTest: (2007,)\n"
          ],
          "name": "stdout"
        }
      ]
    },
    {
      "cell_type": "code",
      "metadata": {
        "id": "tc-uLCnzGilA"
      },
      "source": [
        "#Cutting off the labels from front\n",
        "xTestCut = test[:,1:257]\n",
        "xTrainCut = train[:,1:257]"
      ],
      "execution_count": 10,
      "outputs": []
    },
    {
      "cell_type": "code",
      "metadata": {
        "colab": {
          "base_uri": "https://localhost:8080/"
        },
        "id": "hEnxC326NGV8",
        "outputId": "4b02b6f7-d946-4ae1-c8ee-0a9060285dca"
      },
      "source": [
        "print('xTestCut: ' + str(xTestCut.shape))\n",
        "print('xTrainCut: ' + str(xTrainCut.shape))"
      ],
      "execution_count": 11,
      "outputs": [
        {
          "output_type": "stream",
          "text": [
            "xTestCut: (2007, 256)\n",
            "xTrainCut: (7291, 256)\n"
          ],
          "name": "stdout"
        }
      ]
    },
    {
      "cell_type": "markdown",
      "metadata": {
        "id": "xJOscEHuOZBM"
      },
      "source": [
        "Reshaping a single image"
      ]
    },
    {
      "cell_type": "code",
      "metadata": {
        "colab": {
          "base_uri": "https://localhost:8080/"
        },
        "id": "Q-jMeku_NGYM",
        "outputId": "7ec4f217-609d-4b05-8cb0-384cddb07633"
      },
      "source": [
        "testImg = xTestCut[0].reshape(16,16)\n",
        "testImg.shape"
      ],
      "execution_count": 12,
      "outputs": [
        {
          "output_type": "execute_result",
          "data": {
            "text/plain": [
              "(16, 16)"
            ]
          },
          "metadata": {
            "tags": []
          },
          "execution_count": 12
        }
      ]
    },
    {
      "cell_type": "code",
      "metadata": {
        "colab": {
          "base_uri": "https://localhost:8080/",
          "height": 283
        },
        "id": "l9Lk1VCmNGap",
        "outputId": "f23312f4-f05b-4d98-d22e-149389ee8b5b"
      },
      "source": [
        "plt.imshow(testImg, cmap=plt.get_cmap('gray'))"
      ],
      "execution_count": 13,
      "outputs": [
        {
          "output_type": "execute_result",
          "data": {
            "text/plain": [
              "<matplotlib.image.AxesImage at 0x7f67cbe10a50>"
            ]
          },
          "metadata": {
            "tags": []
          },
          "execution_count": 13
        },
        {
          "output_type": "display_data",
          "data": {
            "image/png": "[encoded data removed]",
            "text/plain": [
              "<Figure size 432x288 with 1 Axes>"
            ]
          },
          "metadata": {
            "tags": [],
            "needs_background": "light"
          }
        }
      ]
    },
    {
      "cell_type": "markdown",
      "metadata": {
        "id": "4nbv0dWvOvzG"
      },
      "source": [
        "Reshaping entire dataset; constructing X data matrices"
      ]
    },
    {
      "cell_type": "code",
      "metadata": {
        "id": "7-qSzYzjNGc_"
      },
      "source": [
        "#Empty zeros in shape (len(data),16,16), will look like [[],[],...,[]] when filled\n",
        "xTrain = np.zeros((len(xTrainCut),16,16))\n",
        "xTest = np.zeros((len(xTestCut),16,16))\n",
        "\n",
        "#Reshaping and storing into numpy array\n",
        "for i in range(0,len(xTrainCut)):\n",
        "  xTrain[i] = xTrainCut[i].reshape(16,16)\n",
        "\n",
        "for i in range(0,len(xTestCut)):\n",
        "  xTest[i] = xTestCut[i].reshape(16,16)"
      ],
      "execution_count": 14,
      "outputs": []
    },
    {
      "cell_type": "code",
      "metadata": {
        "colab": {
          "base_uri": "https://localhost:8080/"
        },
        "id": "mIzB3zvvO2CJ",
        "outputId": "8bc9d379-6b67-4df2-b689-4d987f35a1fe"
      },
      "source": [
        "#Printing finished shapes\n",
        "print('xTrain: ' + str(xTrain.shape))\n",
        "print('yTrain: ' + str(yTrain.shape))\n",
        "print('xTest: ' + str(xTest.shape))\n",
        "print('yTest: ' + str(yTest.shape))"
      ],
      "execution_count": 15,
      "outputs": [
        {
          "output_type": "stream",
          "text": [
            "xTrain: (7291, 16, 16)\n",
            "yTrain: (7291,)\n",
            "xTest: (2007, 16, 16)\n",
            "yTest: (2007,)\n"
          ],
          "name": "stdout"
        }
      ]
    },
    {
      "cell_type": "code",
      "metadata": {
        "colab": {
          "base_uri": "https://localhost:8080/",
          "height": 268
        },
        "id": "ddY9eGQDUFQ6",
        "outputId": "70bcf25e-db10-4c3d-fbc4-914c394d1a18"
      },
      "source": [
        "#Visualizing the first 16 xTrain digits in a 4 by 4 grid.\n",
        "for i in range(1,17):\n",
        "  plt.subplot(4,4,i)\n",
        "  plt.imshow(xTrain[i-1], cmap=plt.get_cmap('gray'))"
      ],
      "execution_count": 16,
      "outputs": [
        {
          "output_type": "display_data",
          "data": {
            "image/png": "[encoded data removed]",
            "text/plain": [
              "<Figure size 432x288 with 16 Axes>"
            ]
          },
          "metadata": {
            "tags": [],
            "needs_background": "light"
          }
        }
      ]
    },
    {
      "cell_type": "markdown",
      "metadata": {
        "id": "PWP2ZXFBVAq7"
      },
      "source": [
        "## Neural Network"
      ]
    },
    {
      "cell_type": "markdown",
      "metadata": {
        "id": "-QutUWjNWScX"
      },
      "source": [
        "Preparing the data"
      ]
    },
    {
      "cell_type": "code",
      "metadata": {
        "id": "-yIjcKV4VTWo"
      },
      "source": [
        "# The images exist from [-1,1]. Better to have normalized to [-.5,.5]\n",
        "xTrain = (xTrain/2)\n",
        "xTest = (xTest/2)"
      ],
      "execution_count": 17,
      "outputs": []
    },
    {
      "cell_type": "code",
      "metadata": {
        "colab": {
          "base_uri": "https://localhost:8080/"
        },
        "id": "yI5QCp9EVTZg",
        "outputId": "f9542275-2723-486f-b481-a0c940c23395"
      },
      "source": [
        "# Flatten the images. \n",
        "# We reversed what we did but NOT for CNN\n",
        "xTrainFlat = xTrain.reshape((-1, 16*16))\n",
        "xTestFlat = xTest.reshape((-1, 16*16))\n",
        "#input = input.flatten()\n",
        "\n",
        "#printing shape\n",
        "print(xTrainFlat.shape)\n",
        "print(xTestFlat.shape)"
      ],
      "execution_count": 18,
      "outputs": [
        {
          "output_type": "stream",
          "text": [
            "(7291, 256)\n",
            "(2007, 256)\n"
          ],
          "name": "stdout"
        }
      ]
    },
    {
      "cell_type": "markdown",
      "metadata": {
        "id": "NmT5r_WfWUSS"
      },
      "source": [
        "Constructing a simple model"
      ]
    },
    {
      "cell_type": "code",
      "metadata": {
        "id": "XsD1T2BdVTbm"
      },
      "source": [
        "#Constructing our layers\n",
        "model = Sequential([\n",
        "  Dense(64, activation='relu'),\n",
        "  Dense(64, activation='relu'),\n",
        "  Dense(10, activation='softmax'),\n",
        "])"
      ],
      "execution_count": 19,
      "outputs": []
    },
    {
      "cell_type": "code",
      "metadata": {
        "id": "x00m3TdUU9ar"
      },
      "source": [
        "#Compiling our model with categorical crossentropy loss; adam optimizer\n",
        "model.compile(\n",
        "  optimizer='adam',\n",
        "  loss='categorical_crossentropy',\n",
        "  metrics=['accuracy'],\n",
        ")"
      ],
      "execution_count": 20,
      "outputs": []
    },
    {
      "cell_type": "code",
      "metadata": {
        "colab": {
          "base_uri": "https://localhost:8080/"
        },
        "id": "0WGRIGW_U9dF",
        "outputId": "49ce2466-e41c-4c5f-fcdb-8198d87d9457"
      },
      "source": [
        "#Training the model with 5 epochs and batching\n",
        "#to_categorical is important in relation to our last softmax layer.\n",
        "#In particular, we're feeding an array of integers, when we want an array of VECTORS\n",
        "#...containing each integer classification\n",
        "#i.e, [5] will become ~[0 0 0 0 0 1 0 0 0 0]\n",
        "history = model.fit(\n",
        "  xTrainFlat, # training data\n",
        "  to_categorical(yTrain), # training labels\n",
        "  epochs=15,\n",
        "  batch_size=8,\n",
        "  validation_data=(xTestFlat, to_categorical(yTest))\n",
        ")"
      ],
      "execution_count": 21,
      "outputs": [
        {
          "output_type": "stream",
          "text": [
            "Epoch 1/15\n",
            "912/912 [==============================] - 3s 2ms/step - loss: 0.7434 - accuracy: 0.7782 - val_loss: 0.3258 - val_accuracy: 0.9133\n",
            "Epoch 2/15\n",
            "912/912 [==============================] - 2s 2ms/step - loss: 0.1559 - accuracy: 0.9534 - val_loss: 0.2969 - val_accuracy: 0.9233\n",
            "Epoch 3/15\n",
            "912/912 [==============================] - 2s 2ms/step - loss: 0.1017 - accuracy: 0.9696 - val_loss: 0.3802 - val_accuracy: 0.9028\n",
            "Epoch 4/15\n",
            "912/912 [==============================] - 2s 2ms/step - loss: 0.0923 - accuracy: 0.9699 - val_loss: 0.3070 - val_accuracy: 0.9253\n",
            "Epoch 5/15\n",
            "912/912 [==============================] - 2s 2ms/step - loss: 0.0578 - accuracy: 0.9833 - val_loss: 0.2893 - val_accuracy: 0.9352\n",
            "Epoch 6/15\n",
            "912/912 [==============================] - 2s 2ms/step - loss: 0.0510 - accuracy: 0.9829 - val_loss: 0.3094 - val_accuracy: 0.9283\n",
            "Epoch 7/15\n",
            "912/912 [==============================] - 2s 2ms/step - loss: 0.0334 - accuracy: 0.9901 - val_loss: 0.3356 - val_accuracy: 0.9312\n",
            "Epoch 8/15\n",
            "912/912 [==============================] - 2s 2ms/step - loss: 0.0235 - accuracy: 0.9926 - val_loss: 0.3528 - val_accuracy: 0.9258\n",
            "Epoch 9/15\n",
            "912/912 [==============================] - 2s 2ms/step - loss: 0.0206 - accuracy: 0.9942 - val_loss: 0.3456 - val_accuracy: 0.9332\n",
            "Epoch 10/15\n",
            "912/912 [==============================] - 2s 2ms/step - loss: 0.0242 - accuracy: 0.9923 - val_loss: 0.3819 - val_accuracy: 0.9297\n",
            "Epoch 11/15\n",
            "912/912 [==============================] - 2s 2ms/step - loss: 0.0196 - accuracy: 0.9927 - val_loss: 0.4079 - val_accuracy: 0.9337\n",
            "Epoch 12/15\n",
            "912/912 [==============================] - 2s 2ms/step - loss: 0.0243 - accuracy: 0.9933 - val_loss: 0.4031 - val_accuracy: 0.9332\n",
            "Epoch 13/15\n",
            "912/912 [==============================] - 2s 2ms/step - loss: 0.0165 - accuracy: 0.9950 - val_loss: 0.4590 - val_accuracy: 0.9268\n",
            "Epoch 14/15\n",
            "912/912 [==============================] - 2s 2ms/step - loss: 0.0177 - accuracy: 0.9948 - val_loss: 0.3811 - val_accuracy: 0.9397\n",
            "Epoch 15/15\n",
            "912/912 [==============================] - 2s 2ms/step - loss: 0.0072 - accuracy: 0.9977 - val_loss: 0.3958 - val_accuracy: 0.9317\n"
          ],
          "name": "stdout"
        }
      ]
    },
    {
      "cell_type": "code",
      "metadata": {
        "colab": {
          "base_uri": "https://localhost:8080/"
        },
        "id": "z58061ItU9f1",
        "outputId": "71009523-c161-4493-85cd-8625e9a69247"
      },
      "source": [
        "#Evaluating the model on the test data (can be seen in validation)\n",
        "model.evaluate(xTestFlat,to_categorical(yTest))"
      ],
      "execution_count": 22,
      "outputs": [
        {
          "output_type": "stream",
          "text": [
            "63/63 [==============================] - 0s 1ms/step - loss: 0.3958 - accuracy: 0.9317\n"
          ],
          "name": "stdout"
        },
        {
          "output_type": "execute_result",
          "data": {
            "text/plain": [
              "[0.3958055078983307, 0.9317389130592346]"
            ]
          },
          "metadata": {
            "tags": []
          },
          "execution_count": 22
        }
      ]
    },
    {
      "cell_type": "code",
      "metadata": {
        "colab": {
          "base_uri": "https://localhost:8080/",
          "height": 265
        },
        "id": "pOfMtqj2UFWF",
        "outputId": "a8a4754e-1a06-4e3d-8a38-8029a9e9143c"
      },
      "source": [
        "# learning curves of model accuracy\n",
        "plt.plot(history.history['accuracy'], label='train')\n",
        "plt.plot(history.history['val_accuracy'], label='test')\n",
        "plt.legend()\n",
        "plt.show()"
      ],
      "execution_count": 23,
      "outputs": [
        {
          "output_type": "display_data",
          "data": {
            "image/png": "[encoded data removed]",
            "text/plain": [
              "<Figure size 432x288 with 1 Axes>"
            ]
          },
          "metadata": {
            "tags": [],
            "needs_background": "light"
          }
        }
      ]
    },
    {
      "cell_type": "markdown",
      "metadata": {
        "id": "HXHCNgIfXoV9"
      },
      "source": [
        "## Convolutional Neural Network"
      ]
    },
    {
      "cell_type": "markdown",
      "metadata": {
        "id": "cn0cavLPX2M8"
      },
      "source": [
        "Preparing the data"
      ]
    },
    {
      "cell_type": "code",
      "metadata": {
        "id": "BkfUOTF-YEf7"
      },
      "source": [
        "# Model / data parameters\n",
        "num_classes = 10\n",
        "input_shape = (16, 16, 1)"
      ],
      "execution_count": 24,
      "outputs": []
    },
    {
      "cell_type": "code",
      "metadata": {
        "id": "oKxuuiOIUFYh"
      },
      "source": [
        "# Make sure images have shape (16, 16, 1)\n",
        "xTrain = np.expand_dims(xTrain, -1)\n",
        "xTest = np.expand_dims(xTest, -1)\n",
        "\n",
        "# convert class vectors to binary class matrices\n",
        "yTrain = keras.utils.to_categorical(yTrain, num_classes)\n",
        "yTest = keras.utils.to_categorical(yTest, num_classes)"
      ],
      "execution_count": 25,
      "outputs": []
    },
    {
      "cell_type": "code",
      "metadata": {
        "id": "T_33RlF6UFa2"
      },
      "source": [
        "#Building the model\n",
        "model = keras.Sequential(\n",
        "    [\n",
        "        keras.Input(shape=input_shape),\n",
        "        layers.Conv2D(32, kernel_size=(3, 3), activation=\"relu\"),\n",
        "        layers.MaxPooling2D(pool_size=(2, 2)),\n",
        "        layers.Dropout(0.2),\n",
        "        layers.Conv2D(64, kernel_size=(3, 3), activation=\"relu\"),\n",
        "        layers.MaxPooling2D(pool_size=(2, 2)),\n",
        "        layers.Flatten(),\n",
        "        layers.Dropout(0.5),\n",
        "        layers.Dense(num_classes, activation=\"softmax\"),\n",
        "    ]\n",
        ")"
      ],
      "execution_count": 26,
      "outputs": []
    },
    {
      "cell_type": "code",
      "metadata": {
        "colab": {
          "base_uri": "https://localhost:8080/"
        },
        "id": "b0DjdiCJNGfE",
        "outputId": "c5e09399-3d30-49e1-d51e-97b126356fa8"
      },
      "source": [
        "#Defining batch size and number of epochs\n",
        "batch_size = 32\n",
        "epochs = 25\n",
        "\n",
        "#compile the model with corss entorpy loss\n",
        "model.compile(loss=\"categorical_crossentropy\", optimizer=\"adam\", metrics=[\"accuracy\"])\n",
        "#Fit the model with batch normalization and validation splitting\n",
        "history = model.fit(xTrain, yTrain, batch_size=batch_size, epochs=epochs, validation_data=(xTest,yTest))"
      ],
      "execution_count": 27,
      "outputs": [
        {
          "output_type": "stream",
          "text": [
            "Epoch 1/25\n",
            "228/228 [==============================] - 4s 13ms/step - loss: 1.5616 - accuracy: 0.4983 - val_loss: 0.3920 - val_accuracy: 0.8904\n",
            "Epoch 2/25\n",
            "228/228 [==============================] - 3s 12ms/step - loss: 0.3835 - accuracy: 0.8872 - val_loss: 0.2945 - val_accuracy: 0.9148\n",
            "Epoch 3/25\n",
            "228/228 [==============================] - 3s 12ms/step - loss: 0.2852 - accuracy: 0.9117 - val_loss: 0.2478 - val_accuracy: 0.9317\n",
            "Epoch 4/25\n",
            "228/228 [==============================] - 3s 12ms/step - loss: 0.2123 - accuracy: 0.9354 - val_loss: 0.2239 - val_accuracy: 0.9362\n",
            "Epoch 5/25\n",
            "228/228 [==============================] - 3s 12ms/step - loss: 0.1792 - accuracy: 0.9471 - val_loss: 0.2059 - val_accuracy: 0.9407\n",
            "Epoch 6/25\n",
            "228/228 [==============================] - 3s 12ms/step - loss: 0.1640 - accuracy: 0.9491 - val_loss: 0.1899 - val_accuracy: 0.9452\n",
            "Epoch 7/25\n",
            "228/228 [==============================] - 3s 12ms/step - loss: 0.1352 - accuracy: 0.9627 - val_loss: 0.1935 - val_accuracy: 0.9402\n",
            "Epoch 8/25\n",
            "228/228 [==============================] - 3s 12ms/step - loss: 0.1303 - accuracy: 0.9614 - val_loss: 0.1797 - val_accuracy: 0.9462\n",
            "Epoch 9/25\n",
            "228/228 [==============================] - 3s 12ms/step - loss: 0.1284 - accuracy: 0.9618 - val_loss: 0.1750 - val_accuracy: 0.9512\n",
            "Epoch 10/25\n",
            "228/228 [==============================] - 3s 12ms/step - loss: 0.1131 - accuracy: 0.9637 - val_loss: 0.1802 - val_accuracy: 0.9482\n",
            "Epoch 11/25\n",
            "228/228 [==============================] - 3s 12ms/step - loss: 0.1086 - accuracy: 0.9686 - val_loss: 0.1685 - val_accuracy: 0.9547\n",
            "Epoch 12/25\n",
            "228/228 [==============================] - 3s 12ms/step - loss: 0.1041 - accuracy: 0.9705 - val_loss: 0.1596 - val_accuracy: 0.9532\n",
            "Epoch 13/25\n",
            "228/228 [==============================] - 3s 13ms/step - loss: 0.0924 - accuracy: 0.9695 - val_loss: 0.1642 - val_accuracy: 0.9547\n",
            "Epoch 14/25\n",
            "228/228 [==============================] - 3s 13ms/step - loss: 0.0979 - accuracy: 0.9684 - val_loss: 0.1656 - val_accuracy: 0.9581\n",
            "Epoch 15/25\n",
            "228/228 [==============================] - 3s 13ms/step - loss: 0.0777 - accuracy: 0.9742 - val_loss: 0.1575 - val_accuracy: 0.9557\n",
            "Epoch 16/25\n",
            "228/228 [==============================] - 3s 12ms/step - loss: 0.0811 - accuracy: 0.9760 - val_loss: 0.1617 - val_accuracy: 0.9557\n",
            "Epoch 17/25\n",
            "228/228 [==============================] - 3s 13ms/step - loss: 0.0811 - accuracy: 0.9752 - val_loss: 0.1619 - val_accuracy: 0.9571\n",
            "Epoch 18/25\n",
            "228/228 [==============================] - 3s 13ms/step - loss: 0.0783 - accuracy: 0.9757 - val_loss: 0.1602 - val_accuracy: 0.9552\n",
            "Epoch 19/25\n",
            "228/228 [==============================] - 3s 12ms/step - loss: 0.0768 - accuracy: 0.9763 - val_loss: 0.1616 - val_accuracy: 0.9552\n",
            "Epoch 20/25\n",
            "228/228 [==============================] - 3s 12ms/step - loss: 0.0672 - accuracy: 0.9801 - val_loss: 0.1536 - val_accuracy: 0.9646\n",
            "Epoch 21/25\n",
            "228/228 [==============================] - 3s 12ms/step - loss: 0.0763 - accuracy: 0.9772 - val_loss: 0.1558 - val_accuracy: 0.9586\n",
            "Epoch 22/25\n",
            "228/228 [==============================] - 3s 12ms/step - loss: 0.0542 - accuracy: 0.9841 - val_loss: 0.1670 - val_accuracy: 0.9567\n",
            "Epoch 23/25\n",
            "228/228 [==============================] - 3s 13ms/step - loss: 0.0691 - accuracy: 0.9780 - val_loss: 0.1439 - val_accuracy: 0.9616\n",
            "Epoch 24/25\n",
            "228/228 [==============================] - 3s 12ms/step - loss: 0.0600 - accuracy: 0.9803 - val_loss: 0.1579 - val_accuracy: 0.9552\n",
            "Epoch 25/25\n",
            "228/228 [==============================] - 3s 13ms/step - loss: 0.0604 - accuracy: 0.9816 - val_loss: 0.1448 - val_accuracy: 0.9631\n"
          ],
          "name": "stdout"
        }
      ]
    },
    {
      "cell_type": "code",
      "metadata": {
        "colab": {
          "base_uri": "https://localhost:8080/",
          "height": 265
        },
        "id": "b9wjjcYaZP9U",
        "outputId": "69db6a9f-6c7b-44be-efee-f62181961dba"
      },
      "source": [
        "# learning curves of model accuracy\n",
        "plt.plot(history.history['accuracy'], label='train')\n",
        "plt.plot(history.history['val_accuracy'], label='test')\n",
        "plt.legend()\n",
        "plt.show()"
      ],
      "execution_count": 28,
      "outputs": [
        {
          "output_type": "display_data",
          "data": {
            "image/png": "[encoded data removed]",
            "text/plain": [
              "<Figure size 432x288 with 1 Axes>"
            ]
          },
          "metadata": {
            "tags": [],
            "needs_background": "light"
          }
        }
      ]
    },
    {
      "cell_type": "code",
      "metadata": {
        "id": "loiD7bnLZP_6"
      },
      "source": [
        "#Building the model\n",
        "model = keras.Sequential(\n",
        "    [\n",
        "        keras.Input(shape=input_shape),\n",
        "        layers.Conv2D(32, kernel_size=(3, 3), activation=\"relu\"),\n",
        "        layers.MaxPooling2D(pool_size=(2, 2)),\n",
        "        layers.Dropout(0.5),\n",
        "        layers.Conv2D(64, kernel_size=(3, 3), activation=\"relu\"),\n",
        "        layers.MaxPooling2D(pool_size=(2, 2)),\n",
        "        layers.Flatten(),\n",
        "        layers.Dropout(0.5),\n",
        "        layers.Dense(num_classes, activation=\"softmax\"),\n",
        "    ]\n",
        ")"
      ],
      "execution_count": null,
      "outputs": []
    },
    {
      "cell_type": "code",
      "metadata": {
        "colab": {
          "base_uri": "https://localhost:8080/"
        },
        "id": "Te_WJptsZQCN",
        "outputId": "989cd9b9-2c9d-46b6-de4f-bfbf7e8f1640"
      },
      "source": [
        "#Defining stochastic batch size and number of epochs\n",
        "batch_size = 1\n",
        "epochs = 20\n",
        "\n",
        "#compile the model with corss entorpy loss\n",
        "model.compile(loss=\"categorical_crossentropy\", optimizer=\"adam\", metrics=[\"accuracy\"])\n",
        "#Fit the model with batch normalization and validation splitting\n",
        "history = model.fit(xTrain, yTrain, batch_size=batch_size, epochs=epochs, validation_data=(xTest,yTest))"
      ],
      "execution_count": null,
      "outputs": [
        {
          "output_type": "stream",
          "text": [
            "Epoch 1/20\n",
            "7291/7291 [==============================] - 15s 2ms/step - loss: 0.9398 - accuracy: 0.6890 - val_loss: 0.2525 - val_accuracy: 0.9278\n",
            "Epoch 2/20\n",
            "7291/7291 [==============================] - 15s 2ms/step - loss: 0.2413 - accuracy: 0.9247 - val_loss: 0.2124 - val_accuracy: 0.9362\n",
            "Epoch 3/20\n",
            "7291/7291 [==============================] - 15s 2ms/step - loss: 0.2022 - accuracy: 0.9386 - val_loss: 0.1853 - val_accuracy: 0.9437\n",
            "Epoch 4/20\n",
            "7291/7291 [==============================] - 15s 2ms/step - loss: 0.1830 - accuracy: 0.9432 - val_loss: 0.1694 - val_accuracy: 0.9517\n",
            "Epoch 5/20\n",
            "7291/7291 [==============================] - 15s 2ms/step - loss: 0.1553 - accuracy: 0.9547 - val_loss: 0.1547 - val_accuracy: 0.9547\n",
            "Epoch 6/20\n",
            "7291/7291 [==============================] - 15s 2ms/step - loss: 0.1573 - accuracy: 0.9545 - val_loss: 0.1822 - val_accuracy: 0.9502\n",
            "Epoch 7/20\n",
            "7291/7291 [==============================] - 15s 2ms/step - loss: 0.1475 - accuracy: 0.9564 - val_loss: 0.1550 - val_accuracy: 0.9581\n",
            "Epoch 8/20\n",
            "7291/7291 [==============================] - 15s 2ms/step - loss: 0.1369 - accuracy: 0.9581 - val_loss: 0.1378 - val_accuracy: 0.9631\n",
            "Epoch 9/20\n",
            "7291/7291 [==============================] - 15s 2ms/step - loss: 0.1534 - accuracy: 0.9554 - val_loss: 0.1446 - val_accuracy: 0.9606\n",
            "Epoch 10/20\n",
            "7291/7291 [==============================] - 15s 2ms/step - loss: 0.1383 - accuracy: 0.9561 - val_loss: 0.1474 - val_accuracy: 0.9601\n",
            "Epoch 11/20\n",
            "7291/7291 [==============================] - 15s 2ms/step - loss: 0.1322 - accuracy: 0.9608 - val_loss: 0.1342 - val_accuracy: 0.9651\n",
            "Epoch 12/20\n",
            "7291/7291 [==============================] - 15s 2ms/step - loss: 0.1383 - accuracy: 0.9580 - val_loss: 0.1410 - val_accuracy: 0.9591\n",
            "Epoch 13/20\n",
            "7291/7291 [==============================] - 15s 2ms/step - loss: 0.1134 - accuracy: 0.9678 - val_loss: 0.1760 - val_accuracy: 0.9562\n",
            "Epoch 14/20\n",
            "7291/7291 [==============================] - 15s 2ms/step - loss: 0.1512 - accuracy: 0.9583 - val_loss: 0.1540 - val_accuracy: 0.9646\n",
            "Epoch 15/20\n",
            "7291/7291 [==============================] - 15s 2ms/step - loss: 0.1499 - accuracy: 0.9553 - val_loss: 0.1367 - val_accuracy: 0.9626\n",
            "Epoch 16/20\n",
            "7291/7291 [==============================] - 15s 2ms/step - loss: 0.1418 - accuracy: 0.9578 - val_loss: 0.1390 - val_accuracy: 0.9606\n",
            "Epoch 17/20\n",
            "7291/7291 [==============================] - 15s 2ms/step - loss: 0.1175 - accuracy: 0.9656 - val_loss: 0.1467 - val_accuracy: 0.9621\n",
            "Epoch 18/20\n",
            "7291/7291 [==============================] - 15s 2ms/step - loss: 0.1241 - accuracy: 0.9653 - val_loss: 0.1272 - val_accuracy: 0.9681\n",
            "Epoch 19/20\n",
            "7291/7291 [==============================] - 15s 2ms/step - loss: 0.1417 - accuracy: 0.9611 - val_loss: 0.1383 - val_accuracy: 0.9586\n",
            "Epoch 20/20\n",
            "7291/7291 [==============================] - 15s 2ms/step - loss: 0.1454 - accuracy: 0.9594 - val_loss: 0.1358 - val_accuracy: 0.9626\n"
          ],
          "name": "stdout"
        }
      ]
    },
    {
      "cell_type": "code",
      "metadata": {
        "colab": {
          "base_uri": "https://localhost:8080/",
          "height": 265
        },
        "id": "YPohWhweZQFB",
        "outputId": "3f00fcc2-6dc7-4ea3-dfb0-9edafe90e9ea"
      },
      "source": [
        "# learning curves of model accuracy\n",
        "plt.plot(history.history['accuracy'], label='train')\n",
        "plt.plot(history.history['val_accuracy'], label='test')\n",
        "plt.legend()\n",
        "plt.show()"
      ],
      "execution_count": null,
      "outputs": [
        {
          "output_type": "display_data",
          "data": {
            "image/png": "[encoded data removed]",
            "text/plain": [
              "<Figure size 432x288 with 1 Axes>"
            ]
          },
          "metadata": {
            "tags": [],
            "needs_background": "light"
          }
        }
      ]
    },
    {
      "cell_type": "code",
      "metadata": {
        "id": "LWRhpwe_hwiV"
      },
      "source": [
        "import cv2"
      ],
      "execution_count": null,
      "outputs": []
    },
    {
      "cell_type": "code",
      "metadata": {
        "colab": {
          "base_uri": "https://localhost:8080/"
        },
        "id": "cwzhk0AjhABG",
        "outputId": "c8da4de0-e061-4089-e9d1-cabeb534e5c5"
      },
      "source": [
        "xTrain2 = xTrain[:, :, :,0]\n",
        "xTrain2.shape"
      ],
      "execution_count": null,
      "outputs": [
        {
          "output_type": "execute_result",
          "data": {
            "text/plain": [
              "(7291, 16, 16)"
            ]
          },
          "metadata": {
            "tags": []
          },
          "execution_count": 280
        }
      ]
    },
    {
      "cell_type": "code",
      "metadata": {
        "colab": {
          "base_uri": "https://localhost:8080/"
        },
        "id": "7z45mrGSdtZu",
        "outputId": "ec13f222-7dfd-47ec-8584-56cdc42370d6"
      },
      "source": [
        "xTest2 = xTest[:,:,:,0]\n",
        "xTest2.shape"
      ],
      "execution_count": null,
      "outputs": [
        {
          "output_type": "execute_result",
          "data": {
            "text/plain": [
              "(2007, 16, 16)"
            ]
          },
          "metadata": {
            "tags": []
          },
          "execution_count": 281
        }
      ]
    },
    {
      "cell_type": "code",
      "metadata": {
        "colab": {
          "base_uri": "https://localhost:8080/",
          "height": 283
        },
        "id": "Ekwjia36h3pi",
        "outputId": "31339594-d215-4d25-c3c2-b5163fc4e13a"
      },
      "source": [
        " blurTest = cv2.GaussianBlur(xTest2[0],(3,3),0)\n",
        " plt.imshow(blurTest, cmap=plt.get_cmap('gray'))"
      ],
      "execution_count": null,
      "outputs": [
        {
          "output_type": "execute_result",
          "data": {
            "text/plain": [
              "<matplotlib.image.AxesImage at 0x7f2990d37c90>"
            ]
          },
          "metadata": {
            "tags": []
          },
          "execution_count": 290
        },
        {
          "output_type": "display_data",
          "data": {
            "image/png": "[encoded data removed]",
            "text/plain": [
              "<Figure size 432x288 with 1 Axes>"
            ]
          },
          "metadata": {
            "tags": [],
            "needs_background": "light"
          }
        }
      ]
    },
    {
      "cell_type": "code",
      "metadata": {
        "id": "hcfgX6rIhpez"
      },
      "source": [
        "for i in range(len(xTest2)):\n",
        "  blur = cv2.GaussianBlur(xTest2[i],(3,3),0)\n",
        "  xTest2[i] = blur\n",
        "\n",
        "for i in range(len(xTrain2)):\n",
        "  blur = cv2.GaussianBlur(xTrain2[i],(3,3),0)\n",
        "  xTrain2[i] = blur"
      ],
      "execution_count": null,
      "outputs": []
    },
    {
      "cell_type": "code",
      "metadata": {
        "id": "SqJx5SQjilcg"
      },
      "source": [
        "# Make sure images have shape (16, 16, 1)\n",
        "xTrain2 = np.expand_dims(xTrain2, -1)\n",
        "xTest2 = np.expand_dims(xTest2, -1)"
      ],
      "execution_count": null,
      "outputs": []
    },
    {
      "cell_type": "code",
      "metadata": {
        "id": "6KGu-eamdtcE"
      },
      "source": [
        "#Building the model; now we input gaussian smoothed data\n",
        "model = keras.Sequential(\n",
        "    [\n",
        "        keras.Input(shape=input_shape),\n",
        "        layers.Conv2D(32, kernel_size=(3, 3), activation=\"relu\"),\n",
        "        layers.MaxPooling2D(pool_size=(2, 2)),\n",
        "        layers.Dropout(0.2),\n",
        "        layers.Conv2D(64, kernel_size=(3, 3), activation=\"relu\"),\n",
        "        layers.MaxPooling2D(pool_size=(2, 2)),\n",
        "        layers.Flatten(),\n",
        "        layers.Dropout(0.5),\n",
        "        layers.Dense(num_classes, activation=\"softmax\"),\n",
        "    ]\n",
        ")"
      ],
      "execution_count": null,
      "outputs": []
    },
    {
      "cell_type": "code",
      "metadata": {
        "colab": {
          "base_uri": "https://localhost:8080/"
        },
        "id": "7yYLty6Bdted",
        "outputId": "5cbfa092-dbc1-47a7-995a-2d047494cc76"
      },
      "source": [
        "#Defining stochastic batch size and number of epochs\n",
        "batch_size = 1\n",
        "epochs = 20\n",
        "\n",
        "#compile the model with corss entorpy loss\n",
        "model.compile(loss=\"categorical_crossentropy\", optimizer=\"adam\", metrics=[\"accuracy\"])\n",
        "#Fit the model with batch normalization and validation splitting\n",
        "history = model.fit(xTrain2, yTrain, batch_size=batch_size, epochs=epochs, validation_data=(xTest,yTest))"
      ],
      "execution_count": null,
      "outputs": [
        {
          "output_type": "stream",
          "text": [
            "Epoch 1/20\n",
            "7291/7291 [==============================] - 16s 2ms/step - loss: 0.8596 - accuracy: 0.7206 - val_loss: 0.2733 - val_accuracy: 0.9223\n",
            "Epoch 2/20\n",
            "7291/7291 [==============================] - 15s 2ms/step - loss: 0.2485 - accuracy: 0.9249 - val_loss: 0.2076 - val_accuracy: 0.9452\n",
            "Epoch 3/20\n",
            "7291/7291 [==============================] - 15s 2ms/step - loss: 0.1787 - accuracy: 0.9470 - val_loss: 0.1747 - val_accuracy: 0.9507\n",
            "Epoch 4/20\n",
            "7291/7291 [==============================] - 15s 2ms/step - loss: 0.1313 - accuracy: 0.9595 - val_loss: 0.1900 - val_accuracy: 0.9462\n",
            "Epoch 5/20\n",
            "7291/7291 [==============================] - 15s 2ms/step - loss: 0.1358 - accuracy: 0.9582 - val_loss: 0.1771 - val_accuracy: 0.9522\n",
            "Epoch 6/20\n",
            "7291/7291 [==============================] - 15s 2ms/step - loss: 0.1299 - accuracy: 0.9624 - val_loss: 0.1430 - val_accuracy: 0.9611\n",
            "Epoch 7/20\n",
            "7291/7291 [==============================] - 15s 2ms/step - loss: 0.1158 - accuracy: 0.9659 - val_loss: 0.1919 - val_accuracy: 0.9532\n",
            "Epoch 8/20\n",
            "7291/7291 [==============================] - 15s 2ms/step - loss: 0.1270 - accuracy: 0.9619 - val_loss: 0.1750 - val_accuracy: 0.9527\n",
            "Epoch 9/20\n",
            "7291/7291 [==============================] - 15s 2ms/step - loss: 0.1076 - accuracy: 0.9648 - val_loss: 0.1802 - val_accuracy: 0.9621\n",
            "Epoch 10/20\n",
            "7291/7291 [==============================] - 15s 2ms/step - loss: 0.1230 - accuracy: 0.9648 - val_loss: 0.1774 - val_accuracy: 0.9537\n",
            "Epoch 11/20\n",
            "7291/7291 [==============================] - 16s 2ms/step - loss: 0.0938 - accuracy: 0.9689 - val_loss: 0.1691 - val_accuracy: 0.9581\n",
            "Epoch 12/20\n",
            "7291/7291 [==============================] - 15s 2ms/step - loss: 0.0986 - accuracy: 0.9708 - val_loss: 0.1985 - val_accuracy: 0.9532\n",
            "Epoch 13/20\n",
            "7291/7291 [==============================] - 15s 2ms/step - loss: 0.0881 - accuracy: 0.9760 - val_loss: 0.1608 - val_accuracy: 0.9606\n",
            "Epoch 14/20\n",
            "7291/7291 [==============================] - 15s 2ms/step - loss: 0.0817 - accuracy: 0.9748 - val_loss: 0.1572 - val_accuracy: 0.9616\n",
            "Epoch 15/20\n",
            "7291/7291 [==============================] - 15s 2ms/step - loss: 0.0843 - accuracy: 0.9727 - val_loss: 0.1941 - val_accuracy: 0.9606\n",
            "Epoch 16/20\n",
            "7291/7291 [==============================] - 15s 2ms/step - loss: 0.0805 - accuracy: 0.9774 - val_loss: 0.1863 - val_accuracy: 0.9611\n",
            "Epoch 17/20\n",
            "7291/7291 [==============================] - 15s 2ms/step - loss: 0.0875 - accuracy: 0.9735 - val_loss: 0.1726 - val_accuracy: 0.9596\n",
            "Epoch 18/20\n",
            "7291/7291 [==============================] - 15s 2ms/step - loss: 0.0821 - accuracy: 0.9766 - val_loss: 0.1768 - val_accuracy: 0.9591\n",
            "Epoch 19/20\n",
            "7291/7291 [==============================] - 15s 2ms/step - loss: 0.0834 - accuracy: 0.9765 - val_loss: 0.1956 - val_accuracy: 0.9571\n",
            "Epoch 20/20\n",
            "7291/7291 [==============================] - 15s 2ms/step - loss: 0.0903 - accuracy: 0.9715 - val_loss: 0.1870 - val_accuracy: 0.9631\n"
          ],
          "name": "stdout"
        }
      ]
    },
    {
      "cell_type": "markdown",
      "metadata": {
        "id": "wJSt1MCOcFc-"
      },
      "source": [
        "## K-Nearest Neighbors"
      ]
    },
    {
      "cell_type": "code",
      "metadata": {
        "id": "EqvrwETbcFJC"
      },
      "source": [
        "#Euclidean distance method between images p and q\n",
        "\n",
        "def euclidean_distance(p, q):\n",
        "    \"\"\"\n",
        "    INPUT: Matrix images p,q\n",
        "    OUTPUT: Euclidian distance sum ((p-q)**2)\n",
        "    Note: Be wary of uint8-uint8 due to overflow at negative.\n",
        "    \"\"\"\n",
        "    # element-wise computations are automatically handled by numpy\n",
        "    return ( np.sqrt(np.sum((p-q)**2)) )"
      ],
      "execution_count": null,
      "outputs": []
    },
    {
      "cell_type": "code",
      "metadata": {
        "id": "Zlz8sGUScFLS"
      },
      "source": [
        "#Majority K Voting\n",
        "\n",
        "def findMajority(labels):\n",
        "    \"\"\"\n",
        "    INPUT: list of k labels most similar to that particular image p.\n",
        "    OUTPUT: The value of the greatest count.\n",
        "    Dependancy: Requires Counter from collections.\n",
        "    Note: If there is a tie, it takes the first max value along the dictionary.\n",
        "    Method Usage: Method for Majority K Voting.\n",
        "    \"\"\"\n",
        "    #Counter to create dictionary and count\n",
        "    labelDict = Counter(labels)\n",
        "    \n",
        "    #Max of the dictionary\n",
        "    labelMax = max(labelDict.values())\n",
        "    \n",
        "    #Iterate through to find key (and majority class)\n",
        "    for key, value in labelDict.items():\n",
        "        if value == labelMax:\n",
        "            return key"
      ],
      "execution_count": null,
      "outputs": []
    },
    {
      "cell_type": "code",
      "metadata": {
        "id": "C7384Jt5cFNt"
      },
      "source": [
        "def predictOneDigit(k, trainSet, trainLabels, testDigit):\n",
        "    \"\"\"\n",
        "    INPUT: k nearest neighbors, training set, training labels, test set.\n",
        "    OUTPUT: Returns a classification based on euclidean distance for a test digit.\n",
        "    Dependencies: Counter (in majority vote)\n",
        "    \"\"\"\n",
        "    \n",
        "    #For a single testDigit, compute its euclidean distance versus entire train set\n",
        "    distances = [euclidean_distance(testDigit,trainSet[i]) for i in range(len(trainSet))]\n",
        "    \n",
        "    #Tuple distances array with labels\n",
        "    tupledDistances = np.array(list(zip(trainLabels,distances)))\n",
        "    \n",
        "    #Sort the (this is more expensive than needed)\n",
        "    sortedDistances = sorted(tupledDistances, key=lambda tup: tup[1])\n",
        "    \n",
        "    #Extract out k labels\n",
        "    kLabels = [label for (label,_) in sortedDistances[:k]]\n",
        "    \n",
        "    #Return the classified label by maority vote (size k)\n",
        "    return (findMajority(kLabels))"
      ],
      "execution_count": null,
      "outputs": []
    },
    {
      "cell_type": "markdown",
      "metadata": {
        "id": "VfchA9-sgRg_"
      },
      "source": [
        "Predicting a single digit"
      ]
    },
    {
      "cell_type": "code",
      "metadata": {
        "id": "q-Kvtpdpdtlt",
        "colab": {
          "base_uri": "https://localhost:8080/"
        },
        "outputId": "2b8d9bac-08f4-4325-8847-60a80a354286"
      },
      "source": [
        "predictOneDigit(5,xTrain,yTrain,xTest[0])"
      ],
      "execution_count": null,
      "outputs": [
        {
          "output_type": "execute_result",
          "data": {
            "text/plain": [
              "9.0"
            ]
          },
          "metadata": {
            "tags": []
          },
          "execution_count": 25
        }
      ]
    },
    {
      "cell_type": "markdown",
      "metadata": {
        "id": "kKzCo9C9gT-W"
      },
      "source": [
        "Predicting for the entire test/train. May take a little time"
      ]
    },
    {
      "cell_type": "code",
      "metadata": {
        "id": "qNY44EZacUgu"
      },
      "source": [
        "predictions = [predictOneDigit(10,xTrain,yTrain,xTest[i]) for i in range(len(xTest))]"
      ],
      "execution_count": null,
      "outputs": []
    },
    {
      "cell_type": "markdown",
      "metadata": {
        "id": "eBtoco_TgaHJ"
      },
      "source": [
        "Accuracy"
      ]
    },
    {
      "cell_type": "code",
      "metadata": {
        "id": "b8d6_xcwcUi8"
      },
      "source": [
        "def countBool(lst): \n",
        "    return sum(bool(x) for x in lst)"
      ],
      "execution_count": null,
      "outputs": []
    },
    {
      "cell_type": "code",
      "metadata": {
        "id": "llxSlP02cUlD"
      },
      "source": [
        "boolArr = (yTest == predictions)"
      ],
      "execution_count": null,
      "outputs": []
    },
    {
      "cell_type": "code",
      "metadata": {
        "id": "X0Uok2ZFdtoY",
        "colab": {
          "base_uri": "https://localhost:8080/"
        },
        "outputId": "2a4013cb-9c52-4dbe-b052-08236bfb66f5"
      },
      "source": [
        "accuracy = countBool(boolArr)/ len(boolArr)\n",
        "accuracy"
      ],
      "execution_count": null,
      "outputs": [
        {
          "output_type": "execute_result",
          "data": {
            "text/plain": [
              "0.9397110114598903"
            ]
          },
          "metadata": {
            "tags": []
          },
          "execution_count": 30
        }
      ]
    },
    {
      "cell_type": "code",
      "metadata": {
        "id": "wQ7GB5UMgiD9"
      },
      "source": [
        ""
      ],
      "execution_count": null,
      "outputs": []
    }
  ]
}