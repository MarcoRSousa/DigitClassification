{
  "nbformat": 4,
  "nbformat_minor": 0,
  "metadata": {
    "kernelspec": {
      "display_name": "Python 3",
      "language": "python",
      "name": "python3"
    },
    "language_info": {
      "codemirror_mode": {
        "name": "ipython",
        "version": 3
      },
      "file_extension": ".py",
      "mimetype": "text/x-python",
      "name": "python",
      "nbconvert_exporter": "python",
      "pygments_lexer": "ipython3",
      "version": "3.6.9"
    },
    "colab": {
      "name": "KNNMNIST.ipynb",
      "provenance": []
    }
  },
  "cells": [
    {
      "cell_type": "markdown",
      "metadata": {
        "id": "ZxgN_gHQohJJ"
      },
      "source": [
        "# MNIST - KNN"
      ]
    },
    {
      "cell_type": "code",
      "metadata": {
        "id": "WWRGBA2sohJT"
      },
      "source": [
        "#Importing:\n",
        "import numpy as np\n",
        "import pandas as pd\n",
        "\n",
        "import idx2numpy #For loading data; idx-ubyte to nparray\n",
        "\n",
        "import matplotlib.pyplot as plt #Visualizing data \n",
        "from collections import Counter #Dependancy for my majority vote method\n",
        "\n",
        "from tensorflow import keras #If you wish to import MNIST via keras"
      ],
      "execution_count": 5,
      "outputs": []
    },
    {
      "cell_type": "markdown",
      "metadata": {
        "id": "6Qat_UHUohJY"
      },
      "source": [
        "## Loading and Observing MNIST Data ##"
      ]
    },
    {
      "cell_type": "markdown",
      "metadata": {
        "id": "fS0VJBuHohJV"
      },
      "source": [
        "If your data is not publicly accessible, then you may wish to import via the directory:"
      ]
    },
    {
      "cell_type": "code",
      "metadata": {
        "id": "zjLIwfuEohJW",
        "outputId": "597f7e6b-cedb-40e4-fe7e-df1e42d6c32d"
      },
      "source": [
        "pwd"
      ],
      "execution_count": null,
      "outputs": [
        {
          "output_type": "execute_result",
          "data": {
            "text/plain": [
              "'/home/marco/Desktop/godBless/samples2'"
            ]
          },
          "metadata": {
            "tags": []
          },
          "execution_count": 2
        }
      ]
    },
    {
      "cell_type": "code",
      "metadata": {
        "id": "84TCt-usohJZ"
      },
      "source": [
        "#I manually choose each path like a madlad\n",
        "fileTrainX = '/home/marco/Desktop/godBless/samples2/train-images-idx3-ubyte'\n",
        "fileTrainY = '/home/marco/Desktop/godBless/samples2/train-labels-idx1-ubyte'\n",
        "fileTestX = '/home/marco/Desktop/godBless/samples2/t10k-images-idx3-ubyte'\n",
        "fileTestY = '/home/marco/Desktop/godBless/samples2/t10k-labels-idx1-ubyte'\n"
      ],
      "execution_count": null,
      "outputs": []
    },
    {
      "cell_type": "code",
      "metadata": {
        "id": "KUtZF-77ohJa"
      },
      "source": [
        "#Loading in the data through numpy \n",
        "# trainX - 60k 28x28 grayscale images  (60000, 28, 28)\n",
        "# trainY - 60k digit labels (60000,)\n",
        "# trainX - 10k grayscale 28x28 images (10000, 28, 28)\n",
        "# trainY - 10k digit labels (10000,)\n",
        "\n",
        "trainX = idx2numpy.convert_from_file(fileTrainX)\n",
        "trainY = idx2numpy.convert_from_file(fileTrainY)\n",
        "testX = idx2numpy.convert_from_file(fileTestX)\n",
        "testY = idx2numpy.convert_from_file(fileTestY)"
      ],
      "execution_count": null,
      "outputs": []
    },
    {
      "cell_type": "code",
      "metadata": {
        "id": "aTltRS5LohJb",
        "outputId": "d59662a8-c3e1-4c10-eb41-3b1b7b3dd5e1"
      },
      "source": [
        "#Verifying basic correctness\n",
        "print('X_train: ' + str(trainX.shape))\n",
        "print('Y_train: ' + str(trainY.shape))\n",
        "print('X_test:  '  + str(testX.shape))\n",
        "print('Y_test:  '  + str(testY.shape))"
      ],
      "execution_count": null,
      "outputs": [
        {
          "output_type": "stream",
          "text": [
            "X_train: (60000, 28, 28)\n",
            "Y_train: (60000,)\n",
            "X_test:  (10000, 28, 28)\n",
            "Y_test:  (10000,)\n"
          ],
          "name": "stdout"
        }
      ]
    },
    {
      "cell_type": "markdown",
      "metadata": {
        "id": "notfJVYfpDh3"
      },
      "source": [
        "For MNIST, you may import it via keras instead:"
      ]
    },
    {
      "cell_type": "code",
      "metadata": {
        "id": "hBWp9psBpWNP"
      },
      "source": [
        "#Importing MNIST data from keras\n",
        "(x_train, y_train), (x_test, y_test) = keras.datasets.mnist.load_data()"
      ],
      "execution_count": 7,
      "outputs": []
    },
    {
      "cell_type": "code",
      "metadata": {
        "id": "cUqmv2LUphYb"
      },
      "source": [
        "#Converting to int64; forcing to 0-255 from uint8 causes error when subtraction leads to a negative value\n",
        "xTrain = x_train.astype(np.int64)\n",
        "yTrain = y_train.astype(np.int64)\n",
        "xTest = x_test.astype(np.int64)\n",
        "yTest = y_test.astype(np.int64)"
      ],
      "execution_count": 8,
      "outputs": []
    },
    {
      "cell_type": "markdown",
      "metadata": {
        "id": "0P16NvrlqLMU"
      },
      "source": [
        "### Basic Visualization and Formatting ###"
      ]
    },
    {
      "cell_type": "code",
      "metadata": {
        "colab": {
          "base_uri": "https://localhost:8080/"
        },
        "id": "-h9GmKhXohJc",
        "outputId": "24a7cef1-3f0f-4de9-fefe-bd9fac95c553"
      },
      "source": [
        "#Alright, looks like we got it!\n",
        "xTrain"
      ],
      "execution_count": 9,
      "outputs": [
        {
          "output_type": "execute_result",
          "data": {
            "text/plain": [
              "array([[[0, 0, 0, ..., 0, 0, 0],\n",
              "        [0, 0, 0, ..., 0, 0, 0],\n",
              "        [0, 0, 0, ..., 0, 0, 0],\n",
              "        ...,\n",
              "        [0, 0, 0, ..., 0, 0, 0],\n",
              "        [0, 0, 0, ..., 0, 0, 0],\n",
              "        [0, 0, 0, ..., 0, 0, 0]],\n",
              "\n",
              "       [[0, 0, 0, ..., 0, 0, 0],\n",
              "        [0, 0, 0, ..., 0, 0, 0],\n",
              "        [0, 0, 0, ..., 0, 0, 0],\n",
              "        ...,\n",
              "        [0, 0, 0, ..., 0, 0, 0],\n",
              "        [0, 0, 0, ..., 0, 0, 0],\n",
              "        [0, 0, 0, ..., 0, 0, 0]],\n",
              "\n",
              "       [[0, 0, 0, ..., 0, 0, 0],\n",
              "        [0, 0, 0, ..., 0, 0, 0],\n",
              "        [0, 0, 0, ..., 0, 0, 0],\n",
              "        ...,\n",
              "        [0, 0, 0, ..., 0, 0, 0],\n",
              "        [0, 0, 0, ..., 0, 0, 0],\n",
              "        [0, 0, 0, ..., 0, 0, 0]],\n",
              "\n",
              "       ...,\n",
              "\n",
              "       [[0, 0, 0, ..., 0, 0, 0],\n",
              "        [0, 0, 0, ..., 0, 0, 0],\n",
              "        [0, 0, 0, ..., 0, 0, 0],\n",
              "        ...,\n",
              "        [0, 0, 0, ..., 0, 0, 0],\n",
              "        [0, 0, 0, ..., 0, 0, 0],\n",
              "        [0, 0, 0, ..., 0, 0, 0]],\n",
              "\n",
              "       [[0, 0, 0, ..., 0, 0, 0],\n",
              "        [0, 0, 0, ..., 0, 0, 0],\n",
              "        [0, 0, 0, ..., 0, 0, 0],\n",
              "        ...,\n",
              "        [0, 0, 0, ..., 0, 0, 0],\n",
              "        [0, 0, 0, ..., 0, 0, 0],\n",
              "        [0, 0, 0, ..., 0, 0, 0]],\n",
              "\n",
              "       [[0, 0, 0, ..., 0, 0, 0],\n",
              "        [0, 0, 0, ..., 0, 0, 0],\n",
              "        [0, 0, 0, ..., 0, 0, 0],\n",
              "        ...,\n",
              "        [0, 0, 0, ..., 0, 0, 0],\n",
              "        [0, 0, 0, ..., 0, 0, 0],\n",
              "        [0, 0, 0, ..., 0, 0, 0]]])"
            ]
          },
          "metadata": {
            "tags": []
          },
          "execution_count": 9
        }
      ]
    },
    {
      "cell_type": "code",
      "metadata": {
        "colab": {
          "base_uri": "https://localhost:8080/",
          "height": 268
        },
        "id": "3R8easH2ohJd",
        "outputId": "cf810550-923a-41d3-fb84-8e43981bc9e2"
      },
      "source": [
        "#Visualizing the first 16 xTrain digits in a 4 by 4 grid.\n",
        "for i in range(1,17):\n",
        "  plt.subplot(4,4,i)\n",
        "  plt.imshow(xTrain[i-1], cmap=plt.get_cmap('gray'))"
      ],
      "execution_count": 11,
      "outputs": [
        {
          "output_type": "display_data",
          "data": {
            "image/png": "[encoded data removed]",
            "text/plain": [
              "<Figure size 432x288 with 16 Axes>"
            ]
          },
          "metadata": {
            "tags": [],
            "needs_background": "light"
          }
        }
      ]
    },
    {
      "cell_type": "code",
      "metadata": {
        "colab": {
          "base_uri": "https://localhost:8080/"
        },
        "id": "n1kQIlo5qq-G",
        "outputId": "836b6240-7565-4a81-939c-cf73fae766ff"
      },
      "source": [
        "#This of course reflects our yTrain labels on our 28x28 matrix of xTrain\n",
        "yTrain[0:16]"
      ],
      "execution_count": 15,
      "outputs": [
        {
          "output_type": "execute_result",
          "data": {
            "text/plain": [
              "array([5, 0, 4, 1, 9, 2, 1, 3, 1, 4, 3, 5, 3, 6, 1, 7])"
            ]
          },
          "metadata": {
            "tags": []
          },
          "execution_count": 15
        }
      ]
    },
    {
      "cell_type": "code",
      "metadata": {
        "colab": {
          "base_uri": "https://localhost:8080/",
          "height": 283
        },
        "id": "kP7Z2KO7ohJe",
        "outputId": "97d9da25-31ea-46e2-a3f2-bd5baa742dd5"
      },
      "source": [
        "#If we want to inspect a specific image at index k:\n",
        "digit = xTrain[0]\n",
        "plt.imshow(digit, cmap=plt.get_cmap('gray'))"
      ],
      "execution_count": 12,
      "outputs": [
        {
          "output_type": "execute_result",
          "data": {
            "text/plain": [
              "<matplotlib.image.AxesImage at 0x7f0a4db56c10>"
            ]
          },
          "metadata": {
            "tags": []
          },
          "execution_count": 12
        },
        {
          "output_type": "display_data",
          "data": {
            "image/png": "[encoded data removed]",
            "text/plain": [
              "<Figure size 432x288 with 1 Axes>"
            ]
          },
          "metadata": {
            "tags": [],
            "needs_background": "light"
          }
        }
      ]
    },
    {
      "cell_type": "code",
      "metadata": {
        "colab": {
          "base_uri": "https://localhost:8080/"
        },
        "id": "X7SSXO4nohJh",
        "outputId": "ae58bc5b-7674-4c75-aece-8c8bd913dee5"
      },
      "source": [
        "#It's value will relate with the same index : YEUP it's a five!\n",
        "yTrain[0]"
      ],
      "execution_count": 14,
      "outputs": [
        {
          "output_type": "execute_result",
          "data": {
            "text/plain": [
              "5"
            ]
          },
          "metadata": {
            "tags": []
          },
          "execution_count": 14
        }
      ]
    },
    {
      "cell_type": "code",
      "metadata": {
        "id": "ITNKa1wVohJh",
        "outputId": "5e47ca21-5f53-40d4-9066-14fe724ea1f3"
      },
      "source": [
        "trainLabelDict = Counter(trainY)\n",
        "trainLabelDict"
      ],
      "execution_count": null,
      "outputs": [
        {
          "output_type": "execute_result",
          "data": {
            "text/plain": [
              "Counter({5: 5421,\n",
              "         0: 5923,\n",
              "         4: 5842,\n",
              "         1: 6742,\n",
              "         9: 5949,\n",
              "         2: 5958,\n",
              "         3: 6131,\n",
              "         6: 5918,\n",
              "         7: 6265,\n",
              "         8: 5851})"
            ]
          },
          "metadata": {
            "tags": []
          },
          "execution_count": 10
        }
      ]
    },
    {
      "cell_type": "code",
      "metadata": {
        "id": "w6LJ84jxohJh",
        "outputId": "14475e20-6989-478e-89a7-1d4fb45753f6"
      },
      "source": [
        "#Just to show that it seems the digits are roughly uniformly distributed\n",
        "plt.bar(range(len(trainLabelDict)), list(trainLabelDict.values()), align='center')"
      ],
      "execution_count": null,
      "outputs": [
        {
          "output_type": "execute_result",
          "data": {
            "text/plain": [
              "<BarContainer object of 10 artists>"
            ]
          },
          "metadata": {
            "tags": []
          },
          "execution_count": 11
        },
        {
          "output_type": "display_data",
          "data": {
            "image/png": "[encoded data removed]",
            "text/plain": [
              "<Figure size 432x288 with 1 Axes>"
            ]
          },
          "metadata": {
            "tags": [],
            "needs_background": "light"
          }
        }
      ]
    },
    {
      "cell_type": "markdown",
      "metadata": {
        "id": "FsA5bCD4ohJi"
      },
      "source": [
        "### Preprocess the test digits to be in the form of int32 (rather than uint8)\n",
        "\n",
        "\n",
        "\n"
      ]
    },
    {
      "cell_type": "code",
      "metadata": {
        "id": "bE-YlVddr7JM"
      },
      "source": [
        "#You may,depending on IDE, have to set your view to see better results\n",
        "np.set_printoptions(edgeitems=1, linewidth=500, \n",
        "    formatter=dict(float=lambda x: \"%.3g\" % x))"
      ],
      "execution_count": 27,
      "outputs": []
    },
    {
      "cell_type": "code",
      "metadata": {
        "colab": {
          "base_uri": "https://localhost:8080/"
        },
        "id": "uuBl5ruGohJm",
        "outputId": "9f247d96-dd23-4ae2-928b-54a0f4bbe330"
      },
      "source": [
        "xTest[0]"
      ],
      "execution_count": 28,
      "outputs": [
        {
          "output_type": "execute_result",
          "data": {
            "text/plain": [
              "array([[  0,   0,   0,   0,   0,   0,   0,   0,   0,   0,   0,   0,   0,   0,   0,   0,   0,   0,   0,   0,   0,   0,   0,   0,   0,   0,   0,   0],\n",
              "       [  0,   0,   0,   0,   0,   0,   0,   0,   0,   0,   0,   0,   0,   0,   0,   0,   0,   0,   0,   0,   0,   0,   0,   0,   0,   0,   0,   0],\n",
              "       [  0,   0,   0,   0,   0,   0,   0,   0,   0,   0,   0,   0,   0,   0,   0,   0,   0,   0,   0,   0,   0,   0,   0,   0,   0,   0,   0,   0],\n",
              "       [  0,   0,   0,   0,   0,   0,   0,   0,   0,   0,   0,   0,   0,   0,   0,   0,   0,   0,   0,   0,   0,   0,   0,   0,   0,   0,   0,   0],\n",
              "       [  0,   0,   0,   0,   0,   0,   0,   0,   0,   0,   0,   0,   0,   0,   0,   0,   0,   0,   0,   0,   0,   0,   0,   0,   0,   0,   0,   0],\n",
              "       [  0,   0,   0,   0,   0,   0,   0,   0,   0,   0,   0,   0,   0,   0,   0,   0,   0,   0,   0,   0,   0,   0,   0,   0,   0,   0,   0,   0],\n",
              "       [  0,   0,   0,   0,   0,   0,   0,   0,   0,   0,   0,   0,   0,   0,   0,   0,   0,   0,   0,   0,   0,   0,   0,   0,   0,   0,   0,   0],\n",
              "       [  0,   0,   0,   0,   0,   0,  84, 185, 159, 151,  60,  36,   0,   0,   0,   0,   0,   0,   0,   0,   0,   0,   0,   0,   0,   0,   0,   0],\n",
              "       [  0,   0,   0,   0,   0,   0, 222, 254, 254, 254, 254, 241, 198, 198, 198, 198, 198, 198, 198, 198, 170,  52,   0,   0,   0,   0,   0,   0],\n",
              "       [  0,   0,   0,   0,   0,   0,  67, 114,  72, 114, 163, 227, 254, 225, 254, 254, 254, 250, 229, 254, 254, 140,   0,   0,   0,   0,   0,   0],\n",
              "       [  0,   0,   0,   0,   0,   0,   0,   0,   0,   0,   0,  17,  66,  14,  67,  67,  67,  59,  21, 236, 254, 106,   0,   0,   0,   0,   0,   0],\n",
              "       [  0,   0,   0,   0,   0,   0,   0,   0,   0,   0,   0,   0,   0,   0,   0,   0,   0,   0,  83, 253, 209,  18,   0,   0,   0,   0,   0,   0],\n",
              "       [  0,   0,   0,   0,   0,   0,   0,   0,   0,   0,   0,   0,   0,   0,   0,   0,   0,  22, 233, 255,  83,   0,   0,   0,   0,   0,   0,   0],\n",
              "       [  0,   0,   0,   0,   0,   0,   0,   0,   0,   0,   0,   0,   0,   0,   0,   0,   0, 129, 254, 238,  44,   0,   0,   0,   0,   0,   0,   0],\n",
              "       [  0,   0,   0,   0,   0,   0,   0,   0,   0,   0,   0,   0,   0,   0,   0,   0,  59, 249, 254,  62,   0,   0,   0,   0,   0,   0,   0,   0],\n",
              "       [  0,   0,   0,   0,   0,   0,   0,   0,   0,   0,   0,   0,   0,   0,   0,   0, 133, 254, 187,   5,   0,   0,   0,   0,   0,   0,   0,   0],\n",
              "       [  0,   0,   0,   0,   0,   0,   0,   0,   0,   0,   0,   0,   0,   0,   0,   9, 205, 248,  58,   0,   0,   0,   0,   0,   0,   0,   0,   0],\n",
              "       [  0,   0,   0,   0,   0,   0,   0,   0,   0,   0,   0,   0,   0,   0,   0, 126, 254, 182,   0,   0,   0,   0,   0,   0,   0,   0,   0,   0],\n",
              "       [  0,   0,   0,   0,   0,   0,   0,   0,   0,   0,   0,   0,   0,   0,  75, 251, 240,  57,   0,   0,   0,   0,   0,   0,   0,   0,   0,   0],\n",
              "       [  0,   0,   0,   0,   0,   0,   0,   0,   0,   0,   0,   0,   0,  19, 221, 254, 166,   0,   0,   0,   0,   0,   0,   0,   0,   0,   0,   0],\n",
              "       [  0,   0,   0,   0,   0,   0,   0,   0,   0,   0,   0,   0,   3, 203, 254, 219,  35,   0,   0,   0,   0,   0,   0,   0,   0,   0,   0,   0],\n",
              "       [  0,   0,   0,   0,   0,   0,   0,   0,   0,   0,   0,   0,  38, 254, 254,  77,   0,   0,   0,   0,   0,   0,   0,   0,   0,   0,   0,   0],\n",
              "       [  0,   0,   0,   0,   0,   0,   0,   0,   0,   0,   0,  31, 224, 254, 115,   1,   0,   0,   0,   0,   0,   0,   0,   0,   0,   0,   0,   0],\n",
              "       [  0,   0,   0,   0,   0,   0,   0,   0,   0,   0,   0, 133, 254, 254,  52,   0,   0,   0,   0,   0,   0,   0,   0,   0,   0,   0,   0,   0],\n",
              "       [  0,   0,   0,   0,   0,   0,   0,   0,   0,   0,  61, 242, 254, 254,  52,   0,   0,   0,   0,   0,   0,   0,   0,   0,   0,   0,   0,   0],\n",
              "       [  0,   0,   0,   0,   0,   0,   0,   0,   0,   0, 121, 254, 254, 219,  40,   0,   0,   0,   0,   0,   0,   0,   0,   0,   0,   0,   0,   0],\n",
              "       [  0,   0,   0,   0,   0,   0,   0,   0,   0,   0, 121, 254, 207,  18,   0,   0,   0,   0,   0,   0,   0,   0,   0,   0,   0,   0,   0,   0],\n",
              "       [  0,   0,   0,   0,   0,   0,   0,   0,   0,   0,   0,   0,   0,   0,   0,   0,   0,   0,   0,   0,   0,   0,   0,   0,   0,   0,   0,   0]])"
            ]
          },
          "metadata": {
            "tags": []
          },
          "execution_count": 28
        }
      ]
    },
    {
      "cell_type": "markdown",
      "metadata": {
        "id": "wAH7jwGfohJo"
      },
      "source": [
        "## K-NN Application"
      ]
    },
    {
      "cell_type": "code",
      "metadata": {
        "id": "_xUcUTYyohJo"
      },
      "source": [
        "#Euclidean distance method between images p and q\n",
        "\n",
        "def euclidean_distance(p, q):\n",
        "    \"\"\"\n",
        "    INPUT: Matrix images p,q\n",
        "    OUTPUT: Euclidian distance sum ((p-q)**2)\n",
        "    Note: Be wary of uint8-uint8 due to overflow at negative.\n",
        "    \"\"\"\n",
        "    # element-wise computations are automatically handled by numpy\n",
        "    return ( np.sqrt(np.sum((p-q)**2)) )\n"
      ],
      "execution_count": 17,
      "outputs": []
    },
    {
      "cell_type": "code",
      "metadata": {
        "id": "KGLgmX3HohJp"
      },
      "source": [
        "#Majority K Voting\n",
        "\n",
        "def findMajority(labels):\n",
        "    \"\"\"\n",
        "    INPUT: list of k labels most similar to that particular image p.\n",
        "    OUTPUT: The value of the greatest count.\n",
        "    Dependancy: Requires Counter from collections.\n",
        "    Note: If there is a tie, it takes the first max value along the dictionary.\n",
        "    Method Usage: Method for Majority K Voting.\n",
        "    \"\"\"\n",
        "    #Counter to create dictionary and count\n",
        "    labelDict = Counter(labels)\n",
        "    \n",
        "    #Max of the dictionary\n",
        "    labelMax = max(labelDict.values())\n",
        "    \n",
        "    #Iterate through to find key (and majority class)\n",
        "    for key, value in labelDict.items():\n",
        "        if value == labelMax:\n",
        "            return key"
      ],
      "execution_count": 18,
      "outputs": []
    },
    {
      "cell_type": "code",
      "metadata": {
        "id": "ZLJQhe3FohJp"
      },
      "source": [
        "#Predict for a single digit of k nearest neighbors\n",
        "\n",
        "def predictOneDigit(k, trainSet, trainLabels, testDigit):\n",
        "    \"\"\"\n",
        "    INPUT: k nearest neighbors, training set, training labels, test set.\n",
        "    OUTPUT: Returns a classification based on euclidean distance for a test digit.\n",
        "    Dependencies: Counter (in majority vote)\n",
        "    \"\"\"\n",
        "    \n",
        "    #For a single testDigit, compute its euclidean distance versus entire train set\n",
        "    distances = [euclidean_distance(testDigit,trainSet[i]) for i in range(len(trainSet))]\n",
        "    \n",
        "    #Tuple distances array with labels\n",
        "    tupledDistances = np.array(list(zip(trainLabels,distances)))\n",
        "    \n",
        "    #Sort the (this is more expensive than needed)\n",
        "    sortedDistances = sorted(tupledDistances, key=lambda tup: tup[1])\n",
        "    \n",
        "    #Extract out k labels\n",
        "    kLabels = [label for (label,_) in sortedDistances[:k]]\n",
        "    \n",
        "    #Return the classified label by maority vote (size k)\n",
        "    return (findMajority(kLabels))\n",
        "    "
      ],
      "execution_count": 21,
      "outputs": []
    },
    {
      "cell_type": "code",
      "metadata": {
        "colab": {
          "base_uri": "https://localhost:8080/"
        },
        "id": "5Z7iWfMOvv5X",
        "outputId": "71811e97-bd3f-4834-ac27-7e78e7c4abe6"
      },
      "source": [
        "euclidean_distance(xTest[0],xTrain[15])"
      ],
      "execution_count": 57,
      "outputs": [
        {
          "output_type": "execute_result",
          "data": {
            "text/plain": [
              "2002.4150418931636"
            ]
          },
          "metadata": {
            "tags": []
          },
          "execution_count": 57
        }
      ]
    },
    {
      "cell_type": "code",
      "metadata": {
        "colab": {
          "base_uri": "https://localhost:8080/"
        },
        "id": "E7B08lLyohJp",
        "outputId": "eab9bb77-7b92-4d66-e50a-0cf360742145"
      },
      "source": [
        "predictOneDigit(10,xTrain,yTrain,xTest[0])"
      ],
      "execution_count": 60,
      "outputs": [
        {
          "output_type": "execute_result",
          "data": {
            "text/plain": [
              "7.0"
            ]
          },
          "metadata": {
            "tags": []
          },
          "execution_count": 60
        }
      ]
    },
    {
      "cell_type": "code",
      "metadata": {
        "colab": {
          "base_uri": "https://localhost:8080/"
        },
        "id": "pyR52T2oohJq",
        "outputId": "b2a98453-3cc8-4618-dd19-1bbd1a024abf"
      },
      "source": [
        "#Correct\n",
        "yTest[0]"
      ],
      "execution_count": 61,
      "outputs": [
        {
          "output_type": "execute_result",
          "data": {
            "text/plain": [
              "7"
            ]
          },
          "metadata": {
            "tags": []
          },
          "execution_count": 61
        }
      ]
    },
    {
      "cell_type": "markdown",
      "metadata": {
        "id": "yYlsqOparY9M"
      },
      "source": [
        "We can loop this for the entire dataset if we wish; let's consider the first 50"
      ]
    },
    {
      "cell_type": "code",
      "metadata": {
        "id": "zXYelQMKohJq"
      },
      "source": [
        "predictions1 = [predictOneDigit(10,xTrain,yTrain,xTest[i]) for i in range(50)]\n",
        "predictions1 = np.array(predictions1)"
      ],
      "execution_count": 25,
      "outputs": []
    },
    {
      "cell_type": "code",
      "metadata": {
        "colab": {
          "base_uri": "https://localhost:8080/"
        },
        "id": "szIFEhnPohJq",
        "outputId": "4debe9e1-eb65-4d1c-b4ed-c557b662f28a"
      },
      "source": [
        "predictions1"
      ],
      "execution_count": 29,
      "outputs": [
        {
          "output_type": "execute_result",
          "data": {
            "text/plain": [
              "array([7, 2, 1, 0, 4, 1, 4, 9, 5, 9, 0, 6, 9, 0, 1, 5, 9, 7, 3, 4, 9, 6, 6, 5, 4, 0, 7, 4, 0, 1, 3, 1, 3, 4, 7, 2, 7, 1, 2, 1, 1, 7, 4, 1, 3, 5, 1, 2, 4, 4])"
            ]
          },
          "metadata": {
            "tags": []
          },
          "execution_count": 29
        }
      ]
    },
    {
      "cell_type": "code",
      "metadata": {
        "colab": {
          "base_uri": "https://localhost:8080/"
        },
        "id": "_vdXsVMHohJr",
        "outputId": "0b873755-f324-432e-e78b-69d196b2f44b"
      },
      "source": [
        "yTest[0:50]"
      ],
      "execution_count": 30,
      "outputs": [
        {
          "output_type": "execute_result",
          "data": {
            "text/plain": [
              "array([7, 2, 1, 0, 4, 1, 4, 9, 5, 9, 0, 6, 9, 0, 1, 5, 9, 7, 3, 4, 9, 6, 6, 5, 4, 0, 7, 4, 0, 1, 3, 1, 3, 4, 7, 2, 7, 1, 2, 1, 1, 7, 4, 2, 3, 5, 1, 2, 4, 4])"
            ]
          },
          "metadata": {
            "tags": []
          },
          "execution_count": 30
        }
      ]
    },
    {
      "cell_type": "code",
      "metadata": {
        "colab": {
          "base_uri": "https://localhost:8080/"
        },
        "id": "-jM7ejbuohJr",
        "outputId": "9b7e2231-491c-4ae6-e252-f5b297481ba6"
      },
      "source": [
        "boolArr = yTest[0:50] == predictions1\n",
        "boolArr"
      ],
      "execution_count": 32,
      "outputs": [
        {
          "output_type": "execute_result",
          "data": {
            "text/plain": [
              "array([ True,  True,  True,  True,  True,  True,  True,  True,  True,  True,  True,  True,  True,  True,  True,  True,  True,  True,  True,  True,  True,  True,  True,  True,  True,  True,  True,  True,  True,  True,  True,  True,  True,  True,  True,  True,  True,  True,  True,  True,  True,  True,  True, False,  True,  True,  True,  True,  True,  True])"
            ]
          },
          "metadata": {
            "tags": []
          },
          "execution_count": 32
        }
      ]
    },
    {
      "cell_type": "code",
      "metadata": {
        "id": "mAEN2IHwohJr"
      },
      "source": [
        "def countBool(lst): \n",
        "    return sum(bool(x) for x in lst)"
      ],
      "execution_count": 33,
      "outputs": []
    },
    {
      "cell_type": "code",
      "metadata": {
        "colab": {
          "base_uri": "https://localhost:8080/"
        },
        "id": "lSaujboeohJs",
        "outputId": "8cc70017-d3c6-422c-d578-0d2524f3a444"
      },
      "source": [
        "accuracy = countBool(boolArr)/ len(boolArr)\n",
        "accuracy"
      ],
      "execution_count": 34,
      "outputs": [
        {
          "output_type": "execute_result",
          "data": {
            "text/plain": [
              "0.98"
            ]
          },
          "metadata": {
            "tags": []
          },
          "execution_count": 34
        }
      ]
    },
    {
      "cell_type": "markdown",
      "metadata": {
        "id": "WQZ15fhIsdai"
      },
      "source": [
        "K-Flod Cross Validation manually carried out with K-NN"
      ]
    },
    {
      "cell_type": "code",
      "metadata": {
        "colab": {
          "base_uri": "https://localhost:8080/",
          "height": 398
        },
        "id": "wvGN8ZcOohJx",
        "outputId": "a436997c-2bd1-43e9-dc1d-7e68f5132183"
      },
      "source": [
        "#k folds for first half of data (just to save time; I just wanted to demonstrate technique of )\n",
        "addition = 6000\n",
        "start = 0\n",
        "end = addition\n",
        "kFolds = 5\n",
        "\n",
        "errors = np.zeros(kFolds)\n",
        "\n",
        "for k in range(kFolds):\n",
        "    \n",
        "    #deleting out other portion\n",
        "    trainingX = np.delete(xTrain, range(start,end),axis=0)\n",
        "    trainingY = np.delete(yTrain, range(start,end),axis=0)\n",
        "    \n",
        "    #keeping validation portion\n",
        "    validationX = xTrain[start:end]\n",
        "    validationY = yTrain[start:end]\n",
        "    #predictions for each fold\n",
        "    predictions = [predictOneDigit(1,trainingX,trainingY,validationX[i]) for i in range(len(validationX))]\n",
        "    predictions = np.array(predictions)\n",
        "    \n",
        "    #Testing accuracy\n",
        "    boolArr = validationY == predictions\n",
        "    accuracy = countBool(boolArr)/ len(boolArr)\n",
        "    \n",
        "    #iterating fold\n",
        "    print(start,end)\n",
        "    start = start + addition\n",
        "    end = end + addition\n",
        "    \n",
        "    print(\"Accuracy Score for %d : %.4f\"%(k, accuracy) )\n",
        "    errors[k] = accuracy\n",
        "    \n",
        "print(errors)"
      ],
      "execution_count": 36,
      "outputs": [
        {
          "output_type": "error",
          "ename": "KeyboardInterrupt",
          "evalue": "ignored",
          "traceback": [
            "\u001b[0;31m---------------------------------------------------------------------------\u001b[0m",
            "\u001b[0;31mKeyboardInterrupt\u001b[0m                         Traceback (most recent call last)",
            "\u001b[0;32m<ipython-input-36-1c72e66503ea>\u001b[0m in \u001b[0;36m<module>\u001b[0;34m()\u001b[0m\n\u001b[1;32m     17\u001b[0m     \u001b[0mvalidationY\u001b[0m \u001b[0;34m=\u001b[0m \u001b[0myTrain\u001b[0m\u001b[0;34m[\u001b[0m\u001b[0mstart\u001b[0m\u001b[0;34m:\u001b[0m\u001b[0mend\u001b[0m\u001b[0;34m]\u001b[0m\u001b[0;34m\u001b[0m\u001b[0;34m\u001b[0m\u001b[0m\n\u001b[1;32m     18\u001b[0m     \u001b[0;31m#predictions for each fold\u001b[0m\u001b[0;34m\u001b[0m\u001b[0;34m\u001b[0m\u001b[0;34m\u001b[0m\u001b[0m\n\u001b[0;32m---> 19\u001b[0;31m     \u001b[0mpredictions\u001b[0m \u001b[0;34m=\u001b[0m \u001b[0;34m[\u001b[0m\u001b[0mpredictOneDigit\u001b[0m\u001b[0;34m(\u001b[0m\u001b[0;36m1\u001b[0m\u001b[0;34m,\u001b[0m\u001b[0mtrainingX\u001b[0m\u001b[0;34m,\u001b[0m\u001b[0mtrainingY\u001b[0m\u001b[0;34m,\u001b[0m\u001b[0mvalidationX\u001b[0m\u001b[0;34m[\u001b[0m\u001b[0mi\u001b[0m\u001b[0;34m]\u001b[0m\u001b[0;34m)\u001b[0m \u001b[0;32mfor\u001b[0m \u001b[0mi\u001b[0m \u001b[0;32min\u001b[0m \u001b[0mrange\u001b[0m\u001b[0;34m(\u001b[0m\u001b[0mlen\u001b[0m\u001b[0;34m(\u001b[0m\u001b[0mvalidationX\u001b[0m\u001b[0;34m)\u001b[0m\u001b[0;34m)\u001b[0m\u001b[0;34m]\u001b[0m\u001b[0;34m\u001b[0m\u001b[0;34m\u001b[0m\u001b[0m\n\u001b[0m\u001b[1;32m     20\u001b[0m     \u001b[0mpredictions\u001b[0m \u001b[0;34m=\u001b[0m \u001b[0mnp\u001b[0m\u001b[0;34m.\u001b[0m\u001b[0marray\u001b[0m\u001b[0;34m(\u001b[0m\u001b[0mpredictions\u001b[0m\u001b[0;34m)\u001b[0m\u001b[0;34m\u001b[0m\u001b[0;34m\u001b[0m\u001b[0m\n\u001b[1;32m     21\u001b[0m \u001b[0;34m\u001b[0m\u001b[0m\n",
            "\u001b[0;32m<ipython-input-36-1c72e66503ea>\u001b[0m in \u001b[0;36m<listcomp>\u001b[0;34m(.0)\u001b[0m\n\u001b[1;32m     17\u001b[0m     \u001b[0mvalidationY\u001b[0m \u001b[0;34m=\u001b[0m \u001b[0myTrain\u001b[0m\u001b[0;34m[\u001b[0m\u001b[0mstart\u001b[0m\u001b[0;34m:\u001b[0m\u001b[0mend\u001b[0m\u001b[0;34m]\u001b[0m\u001b[0;34m\u001b[0m\u001b[0;34m\u001b[0m\u001b[0m\n\u001b[1;32m     18\u001b[0m     \u001b[0;31m#predictions for each fold\u001b[0m\u001b[0;34m\u001b[0m\u001b[0;34m\u001b[0m\u001b[0;34m\u001b[0m\u001b[0m\n\u001b[0;32m---> 19\u001b[0;31m     \u001b[0mpredictions\u001b[0m \u001b[0;34m=\u001b[0m \u001b[0;34m[\u001b[0m\u001b[0mpredictOneDigit\u001b[0m\u001b[0;34m(\u001b[0m\u001b[0;36m1\u001b[0m\u001b[0;34m,\u001b[0m\u001b[0mtrainingX\u001b[0m\u001b[0;34m,\u001b[0m\u001b[0mtrainingY\u001b[0m\u001b[0;34m,\u001b[0m\u001b[0mvalidationX\u001b[0m\u001b[0;34m[\u001b[0m\u001b[0mi\u001b[0m\u001b[0;34m]\u001b[0m\u001b[0;34m)\u001b[0m \u001b[0;32mfor\u001b[0m \u001b[0mi\u001b[0m \u001b[0;32min\u001b[0m \u001b[0mrange\u001b[0m\u001b[0;34m(\u001b[0m\u001b[0mlen\u001b[0m\u001b[0;34m(\u001b[0m\u001b[0mvalidationX\u001b[0m\u001b[0;34m)\u001b[0m\u001b[0;34m)\u001b[0m\u001b[0;34m]\u001b[0m\u001b[0;34m\u001b[0m\u001b[0;34m\u001b[0m\u001b[0m\n\u001b[0m\u001b[1;32m     20\u001b[0m     \u001b[0mpredictions\u001b[0m \u001b[0;34m=\u001b[0m \u001b[0mnp\u001b[0m\u001b[0;34m.\u001b[0m\u001b[0marray\u001b[0m\u001b[0;34m(\u001b[0m\u001b[0mpredictions\u001b[0m\u001b[0;34m)\u001b[0m\u001b[0;34m\u001b[0m\u001b[0;34m\u001b[0m\u001b[0m\n\u001b[1;32m     21\u001b[0m \u001b[0;34m\u001b[0m\u001b[0m\n",
            "\u001b[0;32m<ipython-input-21-adc1624c8fd9>\u001b[0m in \u001b[0;36mpredictOneDigit\u001b[0;34m(k, trainSet, trainLabels, testDigit)\u001b[0m\n\u001b[1;32m     12\u001b[0m \u001b[0;34m\u001b[0m\u001b[0m\n\u001b[1;32m     13\u001b[0m     \u001b[0;31m#Tuple distances array with labels\u001b[0m\u001b[0;34m\u001b[0m\u001b[0;34m\u001b[0m\u001b[0;34m\u001b[0m\u001b[0m\n\u001b[0;32m---> 14\u001b[0;31m     \u001b[0mtupledDistances\u001b[0m \u001b[0;34m=\u001b[0m \u001b[0mnp\u001b[0m\u001b[0;34m.\u001b[0m\u001b[0marray\u001b[0m\u001b[0;34m(\u001b[0m\u001b[0mlist\u001b[0m\u001b[0;34m(\u001b[0m\u001b[0mzip\u001b[0m\u001b[0;34m(\u001b[0m\u001b[0mtrainLabels\u001b[0m\u001b[0;34m,\u001b[0m\u001b[0mdistances\u001b[0m\u001b[0;34m)\u001b[0m\u001b[0;34m)\u001b[0m\u001b[0;34m)\u001b[0m\u001b[0;34m\u001b[0m\u001b[0;34m\u001b[0m\u001b[0m\n\u001b[0m\u001b[1;32m     15\u001b[0m \u001b[0;34m\u001b[0m\u001b[0m\n\u001b[1;32m     16\u001b[0m     \u001b[0;31m#Sort the (this is more expensive than needed)\u001b[0m\u001b[0;34m\u001b[0m\u001b[0;34m\u001b[0m\u001b[0;34m\u001b[0m\u001b[0m\n",
            "\u001b[0;31mKeyboardInterrupt\u001b[0m: "
          ]
        }
      ]
    },
    {
      "cell_type": "code",
      "metadata": {
        "id": "D9L6WM2nohJ0",
        "outputId": "2c505450-d75f-4062-da44-369759e13682"
      },
      "source": [
        "#Hyperparamaterization based on first 2000 test results for each k from 1 to 9\n",
        "for k in range(1,10):\n",
        "    #Performing KNN for K\n",
        "    predictions1 = [predictOneDigit(k,trainX,trainY,testXArr[i]) for i in range(1000)]\n",
        "    predictions1 = np.array(predictions1)\n",
        "    \n",
        "    boolArr = testYArr[0:1000] == predictions1\n",
        "    \n",
        "    accuracy = countBool(boolArr)/ len(boolArr)\n",
        "    \n",
        "    print(\"Accuracy for %d : %.4f\"%(k, accuracy) )"
      ],
      "execution_count": null,
      "outputs": [
        {
          "output_type": "stream",
          "text": [
            "Accuracy for 1 : 0.9620\n",
            "Accuracy for 2 : 0.9620\n",
            "Accuracy for 3 : 0.9650\n",
            "Accuracy for 4 : 0.9640\n",
            "Accuracy for 5 : 0.9630\n",
            "Accuracy for 6 : 0.9640\n",
            "Accuracy for 7 : 0.9630\n",
            "Accuracy for 8 : 0.9620\n",
            "Accuracy for 9 : 0.9540\n"
          ],
          "name": "stdout"
        }
      ]
    },
    {
      "cell_type": "markdown",
      "metadata": {
        "id": "w939Lc_yuaFk"
      },
      "source": [
        "Here I attempted a quicker solution by not sorting the entire euclidean distance set. However, this method was only slightly faster, yet in some cases reduced accuracy. If I have more time, I may return to this implementation."
      ]
    },
    {
      "cell_type": "code",
      "metadata": {
        "id": "vxkLE9EZohJ1"
      },
      "source": [
        "\n",
        "def predictOneDigitQuick(k, trainSet, trainLabels, testDigit):\n",
        "    \"\"\"\n",
        "    INPUT: k nearest neighbors, training set, training labels, test set.\n",
        "    OUTPUT: Returns a classification based on euclidean distance for a test digit.\n",
        "    Dependencies: Counter (in majority vote)\n",
        "    \"\"\"\n",
        "    \n",
        "    #For a single testDigit, compute its euclidean distance versus entire train set\n",
        "    distances = [euclidean_distance(testDigit,trainSet[i]) for i in range(len(trainX))]\n",
        "    \n",
        "    #Tuple distances array with labels\n",
        "    tupledDistances = np.array(list(zip(trainLabels,distances)))\n",
        "    \n",
        "    #Sort the (this is more expensive than needed)\n",
        "    #sortedDistances = sorted(tupledDistances, key=lambda tup: tup[1])\n",
        "    \n",
        "    sortedDistances = smallestKInTuple(tupledDistances,k)\n",
        "    \n",
        "    #Extract out k labels\n",
        "    kLabels = [label for (label,_) in sortedDistances[:k]]\n",
        "    \n",
        "    #Return the classified label by maority vote (size k)\n",
        "    return (findMajority(kLabels))\n",
        "\n"
      ],
      "execution_count": null,
      "outputs": []
    },
    {
      "cell_type": "code",
      "metadata": {
        "id": "zzIC9bHWohJ2",
        "outputId": "f2404eaf-d3d8-4b02-df07-917d21962638"
      },
      "source": [
        "#I attempt my version with only finding minimum k\n",
        "import time\n",
        "start_time = time.time()\n",
        "\n",
        "#predictions = np.zeros(len(testYArr))\n",
        "predictions1 = np.zeros(100)\n",
        "for i in range(100):\n",
        "    predictions1[i] = predictOneDigitQuick(10,trainX,trainY,testXArr[i])\n",
        "    if(i % 10 == 0):\n",
        "        print(\"locally at:\",i)\n",
        "\n",
        "print(\"--- %s seconds ---\" % (time.time() - start_time))\n"
      ],
      "execution_count": null,
      "outputs": [
        {
          "output_type": "stream",
          "text": [
            "locally at: 0\n",
            "locally at: 10\n",
            "locally at: 20\n",
            "locally at: 30\n",
            "locally at: 40\n",
            "locally at: 50\n",
            "locally at: 60\n",
            "locally at: 70\n",
            "locally at: 80\n",
            "locally at: 90\n",
            "--- 64.744877576828 seconds ---\n"
          ],
          "name": "stdout"
        }
      ]
    },
    {
      "cell_type": "code",
      "metadata": {
        "id": "y_WB1SiBohJ2",
        "outputId": "df5bd391-32ba-40b5-8559-eca1adf05116"
      },
      "source": [
        "#Instead of list comprehension, I use an explicit for loop to show progress/user feedback as classification takes place\n",
        "predictions = np.zeros(len(testYArr))\n",
        "for i in range(len(testYArr)):\n",
        "    predictions[i] = predictOneDigit(10,trainX,trainY,testXArr[i])\n",
        "    if(i % 10 == 0):\n",
        "        print(\"locally at:\",i)"
      ],
      "execution_count": null,
      "outputs": [
        {
          "output_type": "stream",
          "text": [
            "locally at: 0\n",
            "locally at: 10\n",
            "locally at: 20\n",
            "locally at: 30\n",
            "locally at: 40\n",
            "locally at: 50\n",
            "locally at: 60\n",
            "locally at: 70\n",
            "locally at: 80\n",
            "locally at: 90\n",
            "locally at: 100\n",
            "locally at: 110\n",
            "locally at: 120\n",
            "locally at: 130\n",
            "locally at: 140\n",
            "locally at: 150\n",
            "locally at: 160\n",
            "locally at: 170\n",
            "locally at: 180\n",
            "locally at: 190\n",
            "locally at: 200\n",
            "locally at: 210\n",
            "locally at: 220\n",
            "locally at: 230\n",
            "locally at: 240\n",
            "locally at: 250\n",
            "locally at: 260\n",
            "locally at: 270\n",
            "locally at: 280\n",
            "locally at: 290\n",
            "locally at: 300\n",
            "locally at: 310\n",
            "locally at: 320\n",
            "locally at: 330\n",
            "locally at: 340\n",
            "locally at: 350\n",
            "locally at: 360\n",
            "locally at: 370\n",
            "locally at: 380\n",
            "locally at: 390\n",
            "locally at: 400\n",
            "locally at: 410\n",
            "locally at: 420\n",
            "locally at: 430\n",
            "locally at: 440\n",
            "locally at: 450\n",
            "locally at: 460\n",
            "locally at: 470\n",
            "locally at: 480\n",
            "locally at: 490\n",
            "locally at: 500\n",
            "locally at: 510\n",
            "locally at: 520\n",
            "locally at: 530\n",
            "locally at: 540\n",
            "locally at: 550\n",
            "locally at: 560\n",
            "locally at: 570\n",
            "locally at: 580\n",
            "locally at: 590\n",
            "locally at: 600\n",
            "locally at: 610\n",
            "locally at: 620\n",
            "locally at: 630\n",
            "locally at: 640\n",
            "locally at: 650\n",
            "locally at: 660\n",
            "locally at: 670\n",
            "locally at: 680\n",
            "locally at: 690\n",
            "locally at: 700\n",
            "locally at: 710\n",
            "locally at: 720\n",
            "locally at: 730\n",
            "locally at: 740\n",
            "locally at: 750\n",
            "locally at: 760\n",
            "locally at: 770\n",
            "locally at: 780\n",
            "locally at: 790\n",
            "locally at: 800\n",
            "locally at: 810\n",
            "locally at: 820\n",
            "locally at: 830\n",
            "locally at: 840\n",
            "locally at: 850\n",
            "locally at: 860\n",
            "locally at: 870\n",
            "locally at: 880\n",
            "locally at: 890\n",
            "locally at: 900\n",
            "locally at: 910\n",
            "locally at: 920\n",
            "locally at: 930\n",
            "locally at: 940\n",
            "locally at: 950\n",
            "locally at: 960\n",
            "locally at: 970\n",
            "locally at: 980\n",
            "locally at: 990\n",
            "locally at: 1000\n",
            "locally at: 1010\n",
            "locally at: 1020\n",
            "locally at: 1030\n",
            "locally at: 1040\n",
            "locally at: 1050\n",
            "locally at: 1060\n",
            "locally at: 1070\n",
            "locally at: 1080\n",
            "locally at: 1090\n",
            "locally at: 1100\n",
            "locally at: 1110\n",
            "locally at: 1120\n",
            "locally at: 1130\n",
            "locally at: 1140\n",
            "locally at: 1150\n",
            "locally at: 1160\n",
            "locally at: 1170\n",
            "locally at: 1180\n",
            "locally at: 1190\n",
            "locally at: 1200\n",
            "locally at: 1210\n",
            "locally at: 1220\n",
            "locally at: 1230\n",
            "locally at: 1240\n",
            "locally at: 1250\n",
            "locally at: 1260\n",
            "locally at: 1270\n",
            "locally at: 1280\n",
            "locally at: 1290\n",
            "locally at: 1300\n",
            "locally at: 1310\n",
            "locally at: 1320\n",
            "locally at: 1330\n",
            "locally at: 1340\n",
            "locally at: 1350\n",
            "locally at: 1360\n",
            "locally at: 1370\n",
            "locally at: 1380\n",
            "locally at: 1390\n",
            "locally at: 1400\n",
            "locally at: 1410\n",
            "locally at: 1420\n",
            "locally at: 1430\n",
            "locally at: 1440\n",
            "locally at: 1450\n",
            "locally at: 1460\n",
            "locally at: 1470\n",
            "locally at: 1480\n",
            "locally at: 1490\n",
            "locally at: 1500\n",
            "locally at: 1510\n",
            "locally at: 1520\n",
            "locally at: 1530\n",
            "locally at: 1540\n",
            "locally at: 1550\n",
            "locally at: 1560\n",
            "locally at: 1570\n",
            "locally at: 1580\n",
            "locally at: 1590\n",
            "locally at: 1600\n",
            "locally at: 1610\n",
            "locally at: 1620\n",
            "locally at: 1630\n",
            "locally at: 1640\n",
            "locally at: 1650\n",
            "locally at: 1660\n",
            "locally at: 1670\n",
            "locally at: 1680\n",
            "locally at: 1690\n",
            "locally at: 1700\n",
            "locally at: 1710\n",
            "locally at: 1720\n",
            "locally at: 1730\n",
            "locally at: 1740\n",
            "locally at: 1750\n",
            "locally at: 1760\n",
            "locally at: 1770\n",
            "locally at: 1780\n",
            "locally at: 1790\n",
            "locally at: 1800\n",
            "locally at: 1810\n",
            "locally at: 1820\n",
            "locally at: 1830\n",
            "locally at: 1840\n",
            "locally at: 1850\n",
            "locally at: 1860\n",
            "locally at: 1870\n",
            "locally at: 1880\n",
            "locally at: 1890\n",
            "locally at: 1900\n",
            "locally at: 1910\n",
            "locally at: 1920\n",
            "locally at: 1930\n",
            "locally at: 1940\n",
            "locally at: 1950\n",
            "locally at: 1960\n",
            "locally at: 1970\n",
            "locally at: 1980\n",
            "locally at: 1990\n",
            "locally at: 2000\n",
            "locally at: 2010\n",
            "locally at: 2020\n",
            "locally at: 2030\n",
            "locally at: 2040\n",
            "locally at: 2050\n",
            "locally at: 2060\n",
            "locally at: 2070\n",
            "locally at: 2080\n",
            "locally at: 2090\n",
            "locally at: 2100\n",
            "locally at: 2110\n",
            "locally at: 2120\n",
            "locally at: 2130\n",
            "locally at: 2140\n",
            "locally at: 2150\n",
            "locally at: 2160\n",
            "locally at: 2170\n",
            "locally at: 2180\n",
            "locally at: 2190\n",
            "locally at: 2200\n",
            "locally at: 2210\n",
            "locally at: 2220\n",
            "locally at: 2230\n",
            "locally at: 2240\n",
            "locally at: 2250\n",
            "locally at: 2260\n",
            "locally at: 2270\n",
            "locally at: 2280\n",
            "locally at: 2290\n",
            "locally at: 2300\n",
            "locally at: 2310\n",
            "locally at: 2320\n",
            "locally at: 2330\n",
            "locally at: 2340\n",
            "locally at: 2350\n",
            "locally at: 2360\n",
            "locally at: 2370\n",
            "locally at: 2380\n",
            "locally at: 2390\n",
            "locally at: 2400\n",
            "locally at: 2410\n",
            "locally at: 2420\n",
            "locally at: 2430\n",
            "locally at: 2440\n",
            "locally at: 2450\n",
            "locally at: 2460\n",
            "locally at: 2470\n",
            "locally at: 2480\n",
            "locally at: 2490\n",
            "locally at: 2500\n",
            "locally at: 2510\n",
            "locally at: 2520\n",
            "locally at: 2530\n",
            "locally at: 2540\n",
            "locally at: 2550\n",
            "locally at: 2560\n",
            "locally at: 2570\n",
            "locally at: 2580\n",
            "locally at: 2590\n",
            "locally at: 2600\n",
            "locally at: 2610\n",
            "locally at: 2620\n",
            "locally at: 2630\n",
            "locally at: 2640\n",
            "locally at: 2650\n",
            "locally at: 2660\n",
            "locally at: 2670\n",
            "locally at: 2680\n",
            "locally at: 2690\n",
            "locally at: 2700\n",
            "locally at: 2710\n",
            "locally at: 2720\n",
            "locally at: 2730\n",
            "locally at: 2740\n",
            "locally at: 2750\n",
            "locally at: 2760\n",
            "locally at: 2770\n",
            "locally at: 2780\n",
            "locally at: 2790\n",
            "locally at: 2800\n",
            "locally at: 2810\n",
            "locally at: 2820\n",
            "locally at: 2830\n",
            "locally at: 2840\n",
            "locally at: 2850\n",
            "locally at: 2860\n",
            "locally at: 2870\n",
            "locally at: 2880\n",
            "locally at: 2890\n",
            "locally at: 2900\n",
            "locally at: 2910\n",
            "locally at: 2920\n",
            "locally at: 2930\n",
            "locally at: 2940\n",
            "locally at: 2950\n",
            "locally at: 2960\n",
            "locally at: 2970\n",
            "locally at: 2980\n",
            "locally at: 2990\n",
            "locally at: 3000\n",
            "locally at: 3010\n",
            "locally at: 3020\n",
            "locally at: 3030\n",
            "locally at: 3040\n",
            "locally at: 3050\n",
            "locally at: 3060\n",
            "locally at: 3070\n",
            "locally at: 3080\n",
            "locally at: 3090\n",
            "locally at: 3100\n",
            "locally at: 3110\n",
            "locally at: 3120\n",
            "locally at: 3130\n",
            "locally at: 3140\n",
            "locally at: 3150\n",
            "locally at: 3160\n",
            "locally at: 3170\n",
            "locally at: 3180\n",
            "locally at: 3190\n",
            "locally at: 3200\n",
            "locally at: 3210\n",
            "locally at: 3220\n",
            "locally at: 3230\n",
            "locally at: 3240\n",
            "locally at: 3250\n",
            "locally at: 3260\n",
            "locally at: 3270\n",
            "locally at: 3280\n",
            "locally at: 3290\n",
            "locally at: 3300\n",
            "locally at: 3310\n",
            "locally at: 3320\n",
            "locally at: 3330\n",
            "locally at: 3340\n",
            "locally at: 3350\n",
            "locally at: 3360\n",
            "locally at: 3370\n",
            "locally at: 3380\n",
            "locally at: 3390\n",
            "locally at: 3400\n",
            "locally at: 3410\n",
            "locally at: 3420\n",
            "locally at: 3430\n",
            "locally at: 3440\n",
            "locally at: 3450\n",
            "locally at: 3460\n",
            "locally at: 3470\n",
            "locally at: 3480\n",
            "locally at: 3490\n",
            "locally at: 3500\n",
            "locally at: 3510\n",
            "locally at: 3520\n",
            "locally at: 3530\n",
            "locally at: 3540\n",
            "locally at: 3550\n",
            "locally at: 3560\n",
            "locally at: 3570\n",
            "locally at: 3580\n",
            "locally at: 3590\n",
            "locally at: 3600\n",
            "locally at: 3610\n",
            "locally at: 3620\n",
            "locally at: 3630\n",
            "locally at: 3640\n",
            "locally at: 3650\n",
            "locally at: 3660\n",
            "locally at: 3670\n",
            "locally at: 3680\n",
            "locally at: 3690\n",
            "locally at: 3700\n",
            "locally at: 3710\n",
            "locally at: 3720\n",
            "locally at: 3730\n",
            "locally at: 3740\n",
            "locally at: 3750\n",
            "locally at: 3760\n",
            "locally at: 3770\n",
            "locally at: 3780\n",
            "locally at: 3790\n",
            "locally at: 3800\n",
            "locally at: 3810\n",
            "locally at: 3820\n",
            "locally at: 3830\n",
            "locally at: 3840\n",
            "locally at: 3850\n",
            "locally at: 3860\n",
            "locally at: 3870\n",
            "locally at: 3880\n",
            "locally at: 3890\n",
            "locally at: 3900\n",
            "locally at: 3910\n",
            "locally at: 3920\n",
            "locally at: 3930\n",
            "locally at: 3940\n",
            "locally at: 3950\n",
            "locally at: 3960\n",
            "locally at: 3970\n",
            "locally at: 3980\n",
            "locally at: 3990\n",
            "locally at: 4000\n",
            "locally at: 4010\n",
            "locally at: 4020\n",
            "locally at: 4030\n",
            "locally at: 4040\n",
            "locally at: 4050\n",
            "locally at: 4060\n",
            "locally at: 4070\n",
            "locally at: 4080\n",
            "locally at: 4090\n",
            "locally at: 4100\n",
            "locally at: 4110\n",
            "locally at: 4120\n",
            "locally at: 4130\n",
            "locally at: 4140\n",
            "locally at: 4150\n",
            "locally at: 4160\n",
            "locally at: 4170\n",
            "locally at: 4180\n",
            "locally at: 4190\n",
            "locally at: 4200\n",
            "locally at: 4210\n",
            "locally at: 4220\n",
            "locally at: 4230\n",
            "locally at: 4240\n",
            "locally at: 4250\n",
            "locally at: 4260\n",
            "locally at: 4270\n",
            "locally at: 4280\n",
            "locally at: 4290\n",
            "locally at: 4300\n",
            "locally at: 4310\n",
            "locally at: 4320\n",
            "locally at: 4330\n",
            "locally at: 4340\n",
            "locally at: 4350\n",
            "locally at: 4360\n",
            "locally at: 4370\n",
            "locally at: 4380\n",
            "locally at: 4390\n",
            "locally at: 4400\n",
            "locally at: 4410\n",
            "locally at: 4420\n",
            "locally at: 4430\n",
            "locally at: 4440\n",
            "locally at: 4450\n",
            "locally at: 4460\n",
            "locally at: 4470\n",
            "locally at: 4480\n",
            "locally at: 4490\n",
            "locally at: 4500\n",
            "locally at: 4510\n",
            "locally at: 4520\n",
            "locally at: 4530\n",
            "locally at: 4540\n",
            "locally at: 4550\n",
            "locally at: 4560\n",
            "locally at: 4570\n",
            "locally at: 4580\n",
            "locally at: 4590\n",
            "locally at: 4600\n",
            "locally at: 4610\n",
            "locally at: 4620\n",
            "locally at: 4630\n",
            "locally at: 4640\n",
            "locally at: 4650\n",
            "locally at: 4660\n",
            "locally at: 4670\n",
            "locally at: 4680\n",
            "locally at: 4690\n",
            "locally at: 4700\n",
            "locally at: 4710\n",
            "locally at: 4720\n",
            "locally at: 4730\n",
            "locally at: 4740\n",
            "locally at: 4750\n",
            "locally at: 4760\n",
            "locally at: 4770\n",
            "locally at: 4780\n",
            "locally at: 4790\n",
            "locally at: 4800\n",
            "locally at: 4810\n",
            "locally at: 4820\n",
            "locally at: 4830\n",
            "locally at: 4840\n",
            "locally at: 4850\n",
            "locally at: 4860\n",
            "locally at: 4870\n",
            "locally at: 4880\n",
            "locally at: 4890\n",
            "locally at: 4900\n",
            "locally at: 4910\n",
            "locally at: 4920\n",
            "locally at: 4930\n",
            "locally at: 4940\n",
            "locally at: 4950\n",
            "locally at: 4960\n",
            "locally at: 4970\n",
            "locally at: 4980\n",
            "locally at: 4990\n",
            "locally at: 5000\n",
            "locally at: 5010\n",
            "locally at: 5020\n",
            "locally at: 5030\n",
            "locally at: 5040\n",
            "locally at: 5050\n",
            "locally at: 5060\n",
            "locally at: 5070\n",
            "locally at: 5080\n",
            "locally at: 5090\n",
            "locally at: 5100\n",
            "locally at: 5110\n",
            "locally at: 5120\n",
            "locally at: 5130\n",
            "locally at: 5140\n",
            "locally at: 5150\n",
            "locally at: 5160\n",
            "locally at: 5170\n",
            "locally at: 5180\n",
            "locally at: 5190\n",
            "locally at: 5200\n",
            "locally at: 5210\n",
            "locally at: 5220\n",
            "locally at: 5230\n",
            "locally at: 5240\n",
            "locally at: 5250\n",
            "locally at: 5260\n",
            "locally at: 5270\n",
            "locally at: 5280\n",
            "locally at: 5290\n",
            "locally at: 5300\n",
            "locally at: 5310\n",
            "locally at: 5320\n",
            "locally at: 5330\n",
            "locally at: 5340\n",
            "locally at: 5350\n",
            "locally at: 5360\n",
            "locally at: 5370\n",
            "locally at: 5380\n",
            "locally at: 5390\n",
            "locally at: 5400\n",
            "locally at: 5410\n",
            "locally at: 5420\n",
            "locally at: 5430\n",
            "locally at: 5440\n",
            "locally at: 5450\n",
            "locally at: 5460\n",
            "locally at: 5470\n",
            "locally at: 5480\n",
            "locally at: 5490\n",
            "locally at: 5500\n",
            "locally at: 5510\n",
            "locally at: 5520\n",
            "locally at: 5530\n",
            "locally at: 5540\n",
            "locally at: 5550\n",
            "locally at: 5560\n",
            "locally at: 5570\n",
            "locally at: 5580\n",
            "locally at: 5590\n",
            "locally at: 5600\n",
            "locally at: 5610\n",
            "locally at: 5620\n",
            "locally at: 5630\n",
            "locally at: 5640\n",
            "locally at: 5650\n",
            "locally at: 5660\n",
            "locally at: 5670\n",
            "locally at: 5680\n",
            "locally at: 5690\n",
            "locally at: 5700\n",
            "locally at: 5710\n",
            "locally at: 5720\n",
            "locally at: 5730\n",
            "locally at: 5740\n",
            "locally at: 5750\n",
            "locally at: 5760\n",
            "locally at: 5770\n",
            "locally at: 5780\n",
            "locally at: 5790\n",
            "locally at: 5800\n",
            "locally at: 5810\n",
            "locally at: 5820\n",
            "locally at: 5830\n",
            "locally at: 5840\n",
            "locally at: 5850\n",
            "locally at: 5860\n",
            "locally at: 5870\n",
            "locally at: 5880\n",
            "locally at: 5890\n",
            "locally at: 5900\n",
            "locally at: 5910\n",
            "locally at: 5920\n",
            "locally at: 5930\n",
            "locally at: 5940\n",
            "locally at: 5950\n",
            "locally at: 5960\n",
            "locally at: 5970\n",
            "locally at: 5980\n",
            "locally at: 5990\n",
            "locally at: 6000\n",
            "locally at: 6010\n",
            "locally at: 6020\n",
            "locally at: 6030\n",
            "locally at: 6040\n",
            "locally at: 6050\n",
            "locally at: 6060\n",
            "locally at: 6070\n",
            "locally at: 6080\n",
            "locally at: 6090\n",
            "locally at: 6100\n",
            "locally at: 6110\n",
            "locally at: 6120\n",
            "locally at: 6130\n",
            "locally at: 6140\n",
            "locally at: 6150\n",
            "locally at: 6160\n",
            "locally at: 6170\n",
            "locally at: 6180\n",
            "locally at: 6190\n",
            "locally at: 6200\n",
            "locally at: 6210\n",
            "locally at: 6220\n",
            "locally at: 6230\n",
            "locally at: 6240\n",
            "locally at: 6250\n",
            "locally at: 6260\n",
            "locally at: 6270\n",
            "locally at: 6280\n",
            "locally at: 6290\n",
            "locally at: 6300\n",
            "locally at: 6310\n",
            "locally at: 6320\n",
            "locally at: 6330\n",
            "locally at: 6340\n",
            "locally at: 6350\n",
            "locally at: 6360\n",
            "locally at: 6370\n",
            "locally at: 6380\n",
            "locally at: 6390\n",
            "locally at: 6400\n",
            "locally at: 6410\n",
            "locally at: 6420\n",
            "locally at: 6430\n",
            "locally at: 6440\n",
            "locally at: 6450\n",
            "locally at: 6460\n",
            "locally at: 6470\n",
            "locally at: 6480\n",
            "locally at: 6490\n",
            "locally at: 6500\n",
            "locally at: 6510\n",
            "locally at: 6520\n",
            "locally at: 6530\n",
            "locally at: 6540\n",
            "locally at: 6550\n",
            "locally at: 6560\n",
            "locally at: 6570\n",
            "locally at: 6580\n",
            "locally at: 6590\n",
            "locally at: 6600\n",
            "locally at: 6610\n",
            "locally at: 6620\n",
            "locally at: 6630\n",
            "locally at: 6640\n",
            "locally at: 6650\n",
            "locally at: 6660\n",
            "locally at: 6670\n",
            "locally at: 6680\n",
            "locally at: 6690\n",
            "locally at: 6700\n",
            "locally at: 6710\n",
            "locally at: 6720\n",
            "locally at: 6730\n",
            "locally at: 6740\n",
            "locally at: 6750\n",
            "locally at: 6760\n",
            "locally at: 6770\n",
            "locally at: 6780\n",
            "locally at: 6790\n",
            "locally at: 6800\n",
            "locally at: 6810\n",
            "locally at: 6820\n",
            "locally at: 6830\n",
            "locally at: 6840\n",
            "locally at: 6850\n",
            "locally at: 6860\n",
            "locally at: 6870\n",
            "locally at: 6880\n",
            "locally at: 6890\n",
            "locally at: 6900\n",
            "locally at: 6910\n",
            "locally at: 6920\n",
            "locally at: 6930\n",
            "locally at: 6940\n",
            "locally at: 6950\n",
            "locally at: 6960\n",
            "locally at: 6970\n",
            "locally at: 6980\n",
            "locally at: 6990\n",
            "locally at: 7000\n",
            "locally at: 7010\n",
            "locally at: 7020\n",
            "locally at: 7030\n",
            "locally at: 7040\n",
            "locally at: 7050\n",
            "locally at: 7060\n",
            "locally at: 7070\n",
            "locally at: 7080\n",
            "locally at: 7090\n",
            "locally at: 7100\n",
            "locally at: 7110\n",
            "locally at: 7120\n",
            "locally at: 7130\n",
            "locally at: 7140\n",
            "locally at: 7150\n",
            "locally at: 7160\n",
            "locally at: 7170\n",
            "locally at: 7180\n",
            "locally at: 7190\n",
            "locally at: 7200\n",
            "locally at: 7210\n",
            "locally at: 7220\n",
            "locally at: 7230\n",
            "locally at: 7240\n",
            "locally at: 7250\n",
            "locally at: 7260\n",
            "locally at: 7270\n",
            "locally at: 7280\n",
            "locally at: 7290\n",
            "locally at: 7300\n",
            "locally at: 7310\n",
            "locally at: 7320\n",
            "locally at: 7330\n",
            "locally at: 7340\n",
            "locally at: 7350\n",
            "locally at: 7360\n",
            "locally at: 7370\n",
            "locally at: 7380\n",
            "locally at: 7390\n",
            "locally at: 7400\n",
            "locally at: 7410\n",
            "locally at: 7420\n",
            "locally at: 7430\n",
            "locally at: 7440\n",
            "locally at: 7450\n",
            "locally at: 7460\n",
            "locally at: 7470\n",
            "locally at: 7480\n",
            "locally at: 7490\n",
            "locally at: 7500\n",
            "locally at: 7510\n",
            "locally at: 7520\n",
            "locally at: 7530\n",
            "locally at: 7540\n",
            "locally at: 7550\n",
            "locally at: 7560\n",
            "locally at: 7570\n",
            "locally at: 7580\n",
            "locally at: 7590\n",
            "locally at: 7600\n",
            "locally at: 7610\n",
            "locally at: 7620\n",
            "locally at: 7630\n",
            "locally at: 7640\n",
            "locally at: 7650\n",
            "locally at: 7660\n",
            "locally at: 7670\n",
            "locally at: 7680\n",
            "locally at: 7690\n",
            "locally at: 7700\n",
            "locally at: 7710\n",
            "locally at: 7720\n",
            "locally at: 7730\n",
            "locally at: 7740\n",
            "locally at: 7750\n",
            "locally at: 7760\n",
            "locally at: 7770\n",
            "locally at: 7780\n",
            "locally at: 7790\n",
            "locally at: 7800\n",
            "locally at: 7810\n",
            "locally at: 7820\n",
            "locally at: 7830\n",
            "locally at: 7840\n",
            "locally at: 7850\n",
            "locally at: 7860\n",
            "locally at: 7870\n",
            "locally at: 7880\n",
            "locally at: 7890\n",
            "locally at: 7900\n",
            "locally at: 7910\n",
            "locally at: 7920\n",
            "locally at: 7930\n",
            "locally at: 7940\n",
            "locally at: 7950\n",
            "locally at: 7960\n",
            "locally at: 7970\n",
            "locally at: 7980\n",
            "locally at: 7990\n",
            "locally at: 8000\n",
            "locally at: 8010\n",
            "locally at: 8020\n",
            "locally at: 8030\n",
            "locally at: 8040\n",
            "locally at: 8050\n",
            "locally at: 8060\n",
            "locally at: 8070\n",
            "locally at: 8080\n",
            "locally at: 8090\n",
            "locally at: 8100\n",
            "locally at: 8110\n",
            "locally at: 8120\n",
            "locally at: 8130\n",
            "locally at: 8140\n",
            "locally at: 8150\n",
            "locally at: 8160\n",
            "locally at: 8170\n",
            "locally at: 8180\n",
            "locally at: 8190\n",
            "locally at: 8200\n",
            "locally at: 8210\n",
            "locally at: 8220\n",
            "locally at: 8230\n",
            "locally at: 8240\n",
            "locally at: 8250\n",
            "locally at: 8260\n",
            "locally at: 8270\n",
            "locally at: 8280\n",
            "locally at: 8290\n",
            "locally at: 8300\n",
            "locally at: 8310\n",
            "locally at: 8320\n",
            "locally at: 8330\n",
            "locally at: 8340\n",
            "locally at: 8350\n",
            "locally at: 8360\n",
            "locally at: 8370\n",
            "locally at: 8380\n",
            "locally at: 8390\n",
            "locally at: 8400\n",
            "locally at: 8410\n",
            "locally at: 8420\n",
            "locally at: 8430\n",
            "locally at: 8440\n",
            "locally at: 8450\n",
            "locally at: 8460\n",
            "locally at: 8470\n",
            "locally at: 8480\n",
            "locally at: 8490\n",
            "locally at: 8500\n",
            "locally at: 8510\n",
            "locally at: 8520\n",
            "locally at: 8530\n",
            "locally at: 8540\n",
            "locally at: 8550\n",
            "locally at: 8560\n",
            "locally at: 8570\n",
            "locally at: 8580\n",
            "locally at: 8590\n",
            "locally at: 8600\n",
            "locally at: 8610\n",
            "locally at: 8620\n",
            "locally at: 8630\n",
            "locally at: 8640\n",
            "locally at: 8650\n",
            "locally at: 8660\n",
            "locally at: 8670\n",
            "locally at: 8680\n",
            "locally at: 8690\n",
            "locally at: 8700\n",
            "locally at: 8710\n",
            "locally at: 8720\n",
            "locally at: 8730\n",
            "locally at: 8740\n",
            "locally at: 8750\n",
            "locally at: 8760\n",
            "locally at: 8770\n",
            "locally at: 8780\n",
            "locally at: 8790\n",
            "locally at: 8800\n",
            "locally at: 8810\n",
            "locally at: 8820\n",
            "locally at: 8830\n",
            "locally at: 8840\n",
            "locally at: 8850\n",
            "locally at: 8860\n",
            "locally at: 8870\n",
            "locally at: 8880\n",
            "locally at: 8890\n",
            "locally at: 8900\n",
            "locally at: 8910\n",
            "locally at: 8920\n",
            "locally at: 8930\n",
            "locally at: 8940\n",
            "locally at: 8950\n",
            "locally at: 8960\n",
            "locally at: 8970\n",
            "locally at: 8980\n",
            "locally at: 8990\n",
            "locally at: 9000\n",
            "locally at: 9010\n",
            "locally at: 9020\n",
            "locally at: 9030\n",
            "locally at: 9040\n",
            "locally at: 9050\n",
            "locally at: 9060\n",
            "locally at: 9070\n",
            "locally at: 9080\n",
            "locally at: 9090\n",
            "locally at: 9100\n",
            "locally at: 9110\n",
            "locally at: 9120\n",
            "locally at: 9130\n",
            "locally at: 9140\n",
            "locally at: 9150\n",
            "locally at: 9160\n",
            "locally at: 9170\n",
            "locally at: 9180\n",
            "locally at: 9190\n",
            "locally at: 9200\n",
            "locally at: 9210\n",
            "locally at: 9220\n",
            "locally at: 9230\n",
            "locally at: 9240\n",
            "locally at: 9250\n",
            "locally at: 9260\n",
            "locally at: 9270\n",
            "locally at: 9280\n",
            "locally at: 9290\n",
            "locally at: 9300\n",
            "locally at: 9310\n",
            "locally at: 9320\n",
            "locally at: 9330\n",
            "locally at: 9340\n",
            "locally at: 9350\n",
            "locally at: 9360\n",
            "locally at: 9370\n",
            "locally at: 9380\n",
            "locally at: 9390\n",
            "locally at: 9400\n",
            "locally at: 9410\n",
            "locally at: 9420\n",
            "locally at: 9430\n",
            "locally at: 9440\n",
            "locally at: 9450\n",
            "locally at: 9460\n",
            "locally at: 9470\n",
            "locally at: 9480\n",
            "locally at: 9490\n",
            "locally at: 9500\n",
            "locally at: 9510\n",
            "locally at: 9520\n",
            "locally at: 9530\n",
            "locally at: 9540\n",
            "locally at: 9550\n",
            "locally at: 9560\n",
            "locally at: 9570\n",
            "locally at: 9580\n",
            "locally at: 9590\n",
            "locally at: 9600\n",
            "locally at: 9610\n",
            "locally at: 9620\n",
            "locally at: 9630\n",
            "locally at: 9640\n",
            "locally at: 9650\n",
            "locally at: 9660\n",
            "locally at: 9670\n",
            "locally at: 9680\n",
            "locally at: 9690\n",
            "locally at: 9700\n",
            "locally at: 9710\n",
            "locally at: 9720\n",
            "locally at: 9730\n",
            "locally at: 9740\n",
            "locally at: 9750\n",
            "locally at: 9760\n",
            "locally at: 9770\n",
            "locally at: 9780\n",
            "locally at: 9790\n",
            "locally at: 9800\n",
            "locally at: 9810\n",
            "locally at: 9820\n",
            "locally at: 9830\n",
            "locally at: 9840\n",
            "locally at: 9850\n",
            "locally at: 9860\n",
            "locally at: 9870\n",
            "locally at: 9880\n",
            "locally at: 9890\n",
            "locally at: 9900\n",
            "locally at: 9910\n",
            "locally at: 9920\n",
            "locally at: 9930\n",
            "locally at: 9940\n",
            "locally at: 9950\n",
            "locally at: 9960\n",
            "locally at: 9970\n",
            "locally at: 9980\n",
            "locally at: 9990\n"
          ],
          "name": "stdout"
        }
      ]
    },
    {
      "cell_type": "code",
      "metadata": {
        "id": "i2db9kEWohJ3",
        "outputId": "1bfdfaae-ddd0-4bb2-e732-a809da8b1395"
      },
      "source": [
        "predictions"
      ],
      "execution_count": null,
      "outputs": [
        {
          "output_type": "execute_result",
          "data": {
            "text/plain": [
              "array([7, ..., 6])"
            ]
          },
          "metadata": {
            "tags": []
          },
          "execution_count": 326
        }
      ]
    },
    {
      "cell_type": "code",
      "metadata": {
        "id": "dHO3IDSjohJ3",
        "outputId": "2a49236a-878a-4851-92c3-fc0c35113c98"
      },
      "source": [
        "predictions"
      ],
      "execution_count": null,
      "outputs": [
        {
          "output_type": "execute_result",
          "data": {
            "text/plain": [
              "[7.0, 2.0, 1.0, 0.0, 4.0, 1.0, 4.0, 9.0, 5.0, 9.0]"
            ]
          },
          "metadata": {
            "tags": []
          },
          "execution_count": 289
        }
      ]
    },
    {
      "cell_type": "code",
      "metadata": {
        "id": "SF8fTJAmohJ4",
        "outputId": "e8315ca2-d6f3-42ed-a57a-fbfb7790a537"
      },
      "source": [
        "correct = yTest\n",
        "correct"
      ],
      "execution_count": null,
      "outputs": [
        {
          "output_type": "execute_result",
          "data": {
            "text/plain": [
              "array([7, ..., 6])"
            ]
          },
          "metadata": {
            "tags": []
          },
          "execution_count": 327
        }
      ]
    },
    {
      "cell_type": "markdown",
      "metadata": {
        "id": "znIka9Ibw5SL"
      },
      "source": [
        "If we wish to save our results"
      ]
    },
    {
      "cell_type": "code",
      "metadata": {
        "id": "r_AdkkO-ohJ4"
      },
      "source": [
        "import scipy.io\n",
        "\n",
        "#predictions\n",
        "#correct\n",
        "scipy.io.savemat('test.mat', dict(predictions=predictions, correct=correct))"
      ],
      "execution_count": null,
      "outputs": []
    },
    {
      "cell_type": "markdown",
      "metadata": {
        "id": "DtSlDR-NohJ8"
      },
      "source": [
        "### Considering data type for Euclidean Distance"
      ]
    },
    {
      "cell_type": "markdown",
      "metadata": {
        "id": "3TWiAcD7xxxp"
      },
      "source": [
        "Note that labelling in this section is from an old version; names may need to be changed.\n",
        "\n",
        "The essential idea is that you cannot perform appropriate euclidean distance calculations with uint8 (and thus need to convert to another dtype)."
      ]
    },
    {
      "cell_type": "code",
      "metadata": {
        "id": "xwcwis_VohJ9"
      },
      "source": [
        "#Setting view\n",
        "np.set_printoptions(edgeitems=1, linewidth=500, \n",
        "    formatter=dict(float=lambda x: \"%.3g\" % x))"
      ],
      "execution_count": null,
      "outputs": []
    },
    {
      "cell_type": "code",
      "metadata": {
        "id": "rqgAmqApohJ9",
        "outputId": "d673ff09-6258-46c2-ae71-08d40fdf0973"
      },
      "source": [
        "trainX[1]"
      ],
      "execution_count": null,
      "outputs": [
        {
          "output_type": "execute_result",
          "data": {
            "text/plain": [
              "array([[  0,   0,   0,   0,   0,   0,   0,   0,   0,   0,   0,   0,   0,   0,   0,   0,   0,   0,   0,   0,   0,   0,   0,   0,   0,   0,   0,   0],\n",
              "       [  0,   0,   0,   0,   0,   0,   0,   0,   0,   0,   0,   0,   0,   0,   0,   0,   0,   0,   0,   0,   0,   0,   0,   0,   0,   0,   0,   0],\n",
              "       [  0,   0,   0,   0,   0,   0,   0,   0,   0,   0,   0,   0,   0,   0,   0,   0,   0,   0,   0,   0,   0,   0,   0,   0,   0,   0,   0,   0],\n",
              "       [  0,   0,   0,   0,   0,   0,   0,   0,   0,   0,   0,   0,   0,   0,   0,   0,   0,   0,   0,   0,   0,   0,   0,   0,   0,   0,   0,   0],\n",
              "       [  0,   0,   0,   0,   0,   0,   0,   0,   0,   0,   0,   0,   0,   0,   0,  51, 159, 253, 159,  50,   0,   0,   0,   0,   0,   0,   0,   0],\n",
              "       [  0,   0,   0,   0,   0,   0,   0,   0,   0,   0,   0,   0,   0,   0,  48, 238, 252, 252, 252, 237,   0,   0,   0,   0,   0,   0,   0,   0],\n",
              "       [  0,   0,   0,   0,   0,   0,   0,   0,   0,   0,   0,   0,   0,  54, 227, 253, 252, 239, 233, 252,  57,   6,   0,   0,   0,   0,   0,   0],\n",
              "       [  0,   0,   0,   0,   0,   0,   0,   0,   0,   0,   0,  10,  60, 224, 252, 253, 252, 202,  84, 252, 253, 122,   0,   0,   0,   0,   0,   0],\n",
              "       [  0,   0,   0,   0,   0,   0,   0,   0,   0,   0,   0, 163, 252, 252, 252, 253, 252, 252,  96, 189, 253, 167,   0,   0,   0,   0,   0,   0],\n",
              "       [  0,   0,   0,   0,   0,   0,   0,   0,   0,   0,  51, 238, 253, 253, 190, 114, 253, 228,  47,  79, 255, 168,   0,   0,   0,   0,   0,   0],\n",
              "       [  0,   0,   0,   0,   0,   0,   0,   0,   0,  48, 238, 252, 252, 179,  12,  75, 121,  21,   0,   0, 253, 243,  50,   0,   0,   0,   0,   0],\n",
              "       [  0,   0,   0,   0,   0,   0,   0,   0,  38, 165, 253, 233, 208,  84,   0,   0,   0,   0,   0,   0, 253, 252, 165,   0,   0,   0,   0,   0],\n",
              "       [  0,   0,   0,   0,   0,   0,   0,   7, 178, 252, 240,  71,  19,  28,   0,   0,   0,   0,   0,   0, 253, 252, 195,   0,   0,   0,   0,   0],\n",
              "       [  0,   0,   0,   0,   0,   0,   0,  57, 252, 252,  63,   0,   0,   0,   0,   0,   0,   0,   0,   0, 253, 252, 195,   0,   0,   0,   0,   0],\n",
              "       [  0,   0,   0,   0,   0,   0,   0, 198, 253, 190,   0,   0,   0,   0,   0,   0,   0,   0,   0,   0, 255, 253, 196,   0,   0,   0,   0,   0],\n",
              "       [  0,   0,   0,   0,   0,   0,  76, 246, 252, 112,   0,   0,   0,   0,   0,   0,   0,   0,   0,   0, 253, 252, 148,   0,   0,   0,   0,   0],\n",
              "       [  0,   0,   0,   0,   0,   0,  85, 252, 230,  25,   0,   0,   0,   0,   0,   0,   0,   0,   7, 135, 253, 186,  12,   0,   0,   0,   0,   0],\n",
              "       [  0,   0,   0,   0,   0,   0,  85, 252, 223,   0,   0,   0,   0,   0,   0,   0,   0,   7, 131, 252, 225,  71,   0,   0,   0,   0,   0,   0],\n",
              "       [  0,   0,   0,   0,   0,   0,  85, 252, 145,   0,   0,   0,   0,   0,   0,   0,  48, 165, 252, 173,   0,   0,   0,   0,   0,   0,   0,   0],\n",
              "       [  0,   0,   0,   0,   0,   0,  86, 253, 225,   0,   0,   0,   0,   0,   0, 114, 238, 253, 162,   0,   0,   0,   0,   0,   0,   0,   0,   0],\n",
              "       [  0,   0,   0,   0,   0,   0,  85, 252, 249, 146,  48,  29,  85, 178, 225, 253, 223, 167,  56,   0,   0,   0,   0,   0,   0,   0,   0,   0],\n",
              "       [  0,   0,   0,   0,   0,   0,  85, 252, 252, 252, 229, 215, 252, 252, 252, 196, 130,   0,   0,   0,   0,   0,   0,   0,   0,   0,   0,   0],\n",
              "       [  0,   0,   0,   0,   0,   0,  28, 199, 252, 252, 253, 252, 252, 233, 145,   0,   0,   0,   0,   0,   0,   0,   0,   0,   0,   0,   0,   0],\n",
              "       [  0,   0,   0,   0,   0,   0,   0,  25, 128, 252, 253, 252, 141,  37,   0,   0,   0,   0,   0,   0,   0,   0,   0,   0,   0,   0,   0,   0],\n",
              "       [  0,   0,   0,   0,   0,   0,   0,   0,   0,   0,   0,   0,   0,   0,   0,   0,   0,   0,   0,   0,   0,   0,   0,   0,   0,   0,   0,   0],\n",
              "       [  0,   0,   0,   0,   0,   0,   0,   0,   0,   0,   0,   0,   0,   0,   0,   0,   0,   0,   0,   0,   0,   0,   0,   0,   0,   0,   0,   0],\n",
              "       [  0,   0,   0,   0,   0,   0,   0,   0,   0,   0,   0,   0,   0,   0,   0,   0,   0,   0,   0,   0,   0,   0,   0,   0,   0,   0,   0,   0],\n",
              "       [  0,   0,   0,   0,   0,   0,   0,   0,   0,   0,   0,   0,   0,   0,   0,   0,   0,   0,   0,   0,   0,   0,   0,   0,   0,   0,   0,   0]], dtype=uint8)"
            ]
          },
          "metadata": {
            "tags": []
          },
          "execution_count": 201
        }
      ]
    },
    {
      "cell_type": "code",
      "metadata": {
        "id": "SYQvEZXgohJ9",
        "outputId": "50b28dbe-261c-444f-d3d8-445d051c61f8"
      },
      "source": [
        "testX[3]"
      ],
      "execution_count": null,
      "outputs": [
        {
          "output_type": "execute_result",
          "data": {
            "text/plain": [
              "array([[  0,   0,   0,   0,   0,   0,   0,   0,   0,   0,   0,   0,   0,   0,   0,   0,   0,   0,   0,   0,   0,   0,   0,   0,   0,   0,   0,   0],\n",
              "       [  0,   0,   0,   0,   0,   0,   0,   0,   0,   0,   0,   0,   0,   0,   0,   0,   0,   0,   0,   0,   0,   0,   0,   0,   0,   0,   0,   0],\n",
              "       [  0,   0,   0,   0,   0,   0,   0,   0,   0,   0,   0,   0,   0,   0,   0,   0,   0,   0,   0,   0,   0,   0,   0,   0,   0,   0,   0,   0],\n",
              "       [  0,   0,   0,   0,   0,   0,   0,   0,   0,   0,   0,   0,   0,   0,   0,   0,   0,   0,   0,   0,   0,   0,   0,   0,   0,   0,   0,   0],\n",
              "       [  0,   0,   0,   0,   0,   0,   0,   0,   0,   0,   0,   0,  11, 150, 253, 202,  31,   0,   0,   0,   0,   0,   0,   0,   0,   0,   0,   0],\n",
              "       [  0,   0,   0,   0,   0,   0,   0,   0,   0,   0,   0,   0,  37, 251, 251, 253, 107,   0,   0,   0,   0,   0,   0,   0,   0,   0,   0,   0],\n",
              "       [  0,   0,   0,   0,   0,   0,   0,   0,   0,   0,   0,  21, 197, 251, 251, 253, 107,   0,   0,   0,   0,   0,   0,   0,   0,   0,   0,   0],\n",
              "       [  0,   0,   0,   0,   0,   0,   0,   0,   0,   0, 110, 190, 251, 251, 251, 253, 169, 109,  62,   0,   0,   0,   0,   0,   0,   0,   0,   0],\n",
              "       [  0,   0,   0,   0,   0,   0,   0,   0,   0,   0, 253, 251, 251, 251, 251, 253, 251, 251, 220,  51,   0,   0,   0,   0,   0,   0,   0,   0],\n",
              "       [  0,   0,   0,   0,   0,   0,   0,   0,   0, 182, 255, 253, 253, 253, 253, 234, 222, 253, 253, 253,   0,   0,   0,   0,   0,   0,   0,   0],\n",
              "       [  0,   0,   0,   0,   0,   0,   0,   0,  63, 221, 253, 251, 251, 251, 147,  77,  62, 128, 251, 251, 105,   0,   0,   0,   0,   0,   0,   0],\n",
              "       [  0,   0,   0,   0,   0,   0,   0,  32, 231, 251, 253, 251, 220, 137,  10,   0,   0,  31, 230, 251, 243, 113,   5,   0,   0,   0,   0,   0],\n",
              "       [  0,   0,   0,   0,   0,   0,   0,  37, 251, 251, 253, 188,  20,   0,   0,   0,   0,   0, 109, 251, 253, 251,  35,   0,   0,   0,   0,   0],\n",
              "       [  0,   0,   0,   0,   0,   0,   0,  37, 251, 251, 201,  30,   0,   0,   0,   0,   0,   0,  31, 200, 253, 251,  35,   0,   0,   0,   0,   0],\n",
              "       [  0,   0,   0,   0,   0,   0,   0,  37, 253, 253,   0,   0,   0,   0,   0,   0,   0,   0,  32, 202, 255, 253, 164,   0,   0,   0,   0,   0],\n",
              "       [  0,   0,   0,   0,   0,   0,   0, 140, 251, 251,   0,   0,   0,   0,   0,   0,   0,   0, 109, 251, 253, 251,  35,   0,   0,   0,   0,   0],\n",
              "       [  0,   0,   0,   0,   0,   0,   0, 217, 251, 251,   0,   0,   0,   0,   0,   0,  21,  63, 231, 251, 253, 230,  30,   0,   0,   0,   0,   0],\n",
              "       [  0,   0,   0,   0,   0,   0,   0, 217, 251, 251,   0,   0,   0,   0,   0,   0, 144, 251, 251, 251, 221,  61,   0,   0,   0,   0,   0,   0],\n",
              "       [  0,   0,   0,   0,   0,   0,   0, 217, 251, 251,   0,   0,   0,   0,   0, 182, 221, 251, 251, 251, 180,   0,   0,   0,   0,   0,   0,   0],\n",
              "       [  0,   0,   0,   0,   0,   0,   0, 218, 253, 253,  73,  73, 228, 253, 253, 255, 253, 253, 253, 253,   0,   0,   0,   0,   0,   0,   0,   0],\n",
              "       [  0,   0,   0,   0,   0,   0,   0, 113, 251, 251, 253, 251, 251, 251, 251, 253, 251, 251, 251, 147,   0,   0,   0,   0,   0,   0,   0,   0],\n",
              "       [  0,   0,   0,   0,   0,   0,   0,  31, 230, 251, 253, 251, 251, 251, 251, 253, 230, 189,  35,  10,   0,   0,   0,   0,   0,   0,   0,   0],\n",
              "       [  0,   0,   0,   0,   0,   0,   0,   0,  62, 142, 253, 251, 251, 251, 251, 253, 107,   0,   0,   0,   0,   0,   0,   0,   0,   0,   0,   0],\n",
              "       [  0,   0,   0,   0,   0,   0,   0,   0,   0,   0,  72, 174, 251, 173,  71,  72,  30,   0,   0,   0,   0,   0,   0,   0,   0,   0,   0,   0],\n",
              "       [  0,   0,   0,   0,   0,   0,   0,   0,   0,   0,   0,   0,   0,   0,   0,   0,   0,   0,   0,   0,   0,   0,   0,   0,   0,   0,   0,   0],\n",
              "       [  0,   0,   0,   0,   0,   0,   0,   0,   0,   0,   0,   0,   0,   0,   0,   0,   0,   0,   0,   0,   0,   0,   0,   0,   0,   0,   0,   0],\n",
              "       [  0,   0,   0,   0,   0,   0,   0,   0,   0,   0,   0,   0,   0,   0,   0,   0,   0,   0,   0,   0,   0,   0,   0,   0,   0,   0,   0,   0],\n",
              "       [  0,   0,   0,   0,   0,   0,   0,   0,   0,   0,   0,   0,   0,   0,   0,   0,   0,   0,   0,   0,   0,   0,   0,   0,   0,   0,   0,   0]], dtype=uint8)"
            ]
          },
          "metadata": {
            "tags": []
          },
          "execution_count": 202
        }
      ]
    },
    {
      "cell_type": "code",
      "metadata": {
        "id": "3ZUHEEFsohJ-",
        "outputId": "01d2d6e3-3640-4c44-e8ba-da82b72aacb9"
      },
      "source": [
        "testX[3]-trainX[1]"
      ],
      "execution_count": null,
      "outputs": [
        {
          "output_type": "execute_result",
          "data": {
            "text/plain": [
              "array([[  0,   0,   0,   0,   0,   0,   0,   0,   0,   0,   0,   0,   0,   0,   0,   0,   0,   0,   0,   0,   0,   0,   0,   0,   0,   0,   0,   0],\n",
              "       [  0,   0,   0,   0,   0,   0,   0,   0,   0,   0,   0,   0,   0,   0,   0,   0,   0,   0,   0,   0,   0,   0,   0,   0,   0,   0,   0,   0],\n",
              "       [  0,   0,   0,   0,   0,   0,   0,   0,   0,   0,   0,   0,   0,   0,   0,   0,   0,   0,   0,   0,   0,   0,   0,   0,   0,   0,   0,   0],\n",
              "       [  0,   0,   0,   0,   0,   0,   0,   0,   0,   0,   0,   0,   0,   0,   0,   0,   0,   0,   0,   0,   0,   0,   0,   0,   0,   0,   0,   0],\n",
              "       [  0,   0,   0,   0,   0,   0,   0,   0,   0,   0,   0,   0,  11, 150, 253, 151, 128,   3,  97, 206,   0,   0,   0,   0,   0,   0,   0,   0],\n",
              "       [  0,   0,   0,   0,   0,   0,   0,   0,   0,   0,   0,   0,  37, 251, 203,  15, 111,   4,   4,  19,   0,   0,   0,   0,   0,   0,   0,   0],\n",
              "       [  0,   0,   0,   0,   0,   0,   0,   0,   0,   0,   0,  21, 197, 197,  24,   0, 111,  17,  23,   4, 199, 250,   0,   0,   0,   0,   0,   0],\n",
              "       [  0,   0,   0,   0,   0,   0,   0,   0,   0,   0, 110, 180, 191,  27, 255,   0, 173, 163, 234,   4,   3, 134,   0,   0,   0,   0,   0,   0],\n",
              "       [  0,   0,   0,   0,   0,   0,   0,   0,   0,   0, 253,  88, 255, 255, 255,   0, 255, 255, 124, 118,   3,  89,   0,   0,   0,   0,   0,   0],\n",
              "       [  0,   0,   0,   0,   0,   0,   0,   0,   0, 182, 204,  15,   0,   0,  63, 120, 225,  25, 206, 174,   1,  88,   0,   0,   0,   0,   0,   0],\n",
              "       [  0,   0,   0,   0,   0,   0,   0,   0,  63, 173,  15, 255, 255,  72, 135,   2, 197, 107, 251, 251, 108,  13, 206,   0,   0,   0,   0,   0],\n",
              "       [  0,   0,   0,   0,   0,   0,   0,  32, 193,  86,   0,  18,  12,  53,  10,   0,   0,  31, 230, 251, 246, 117,  96,   0,   0,   0,   0,   0],\n",
              "       [  0,   0,   0,   0,   0,   0,   0,  30,  73, 255,  13, 117,   1, 228,   0,   0,   0,   0, 109, 251,   0, 255,  96,   0,   0,   0,   0,   0],\n",
              "       [  0,   0,   0,   0,   0,   0,   0, 236, 255, 255, 138,  30,   0,   0,   0,   0,   0,   0,  31, 200,   0, 255,  96,   0,   0,   0,   0,   0],\n",
              "       [  0,   0,   0,   0,   0,   0,   0,  95,   0,  63,   0,   0,   0,   0,   0,   0,   0,   0,  32, 202,   0,   0, 224,   0,   0,   0,   0,   0],\n",
              "       [  0,   0,   0,   0,   0,   0, 180, 150, 255, 139,   0,   0,   0,   0,   0,   0,   0,   0, 109, 251,   0, 255, 143,   0,   0,   0,   0,   0],\n",
              "       [  0,   0,   0,   0,   0,   0, 171, 221,  21, 226,   0,   0,   0,   0,   0,   0,  21,  63, 224, 116,   0,  44,  18,   0,   0,   0,   0,   0],\n",
              "       [  0,   0,   0,   0,   0,   0, 171, 221,  28, 251,   0,   0,   0,   0,   0,   0, 144, 244, 120, 255, 252, 246,   0,   0,   0,   0,   0,   0],\n",
              "       [  0,   0,   0,   0,   0,   0, 171, 221, 106, 251,   0,   0,   0,   0,   0, 182, 173,  86, 255,  78, 180,   0,   0,   0,   0,   0,   0,   0],\n",
              "       [  0,   0,   0,   0,   0,   0, 170, 221,  28, 253,  73,  73, 228, 253, 253, 141,  15,   0,  91, 253,   0,   0,   0,   0,   0,   0,   0,   0],\n",
              "       [  0,   0,   0,   0,   0,   0, 171, 117,   2, 105, 205, 222, 166,  73,  26,   0,  28,  84, 195, 147,   0,   0,   0,   0,   0,   0,   0,   0],\n",
              "       [  0,   0,   0,   0,   0,   0, 171,  35, 234, 255,  24,  36, 255, 255, 255,  57, 100, 189,  35,  10,   0,   0,   0,   0,   0,   0,   0,   0],\n",
              "       [  0,   0,   0,   0,   0,   0, 228,  57,  66, 146,   0, 255, 255,  18, 106, 253, 107,   0,   0,   0,   0,   0,   0,   0,   0,   0,   0,   0],\n",
              "       [  0,   0,   0,   0,   0,   0,   0, 231, 128,   4,  75, 178, 110, 136,  71,  72,  30,   0,   0,   0,   0,   0,   0,   0,   0,   0,   0,   0],\n",
              "       [  0,   0,   0,   0,   0,   0,   0,   0,   0,   0,   0,   0,   0,   0,   0,   0,   0,   0,   0,   0,   0,   0,   0,   0,   0,   0,   0,   0],\n",
              "       [  0,   0,   0,   0,   0,   0,   0,   0,   0,   0,   0,   0,   0,   0,   0,   0,   0,   0,   0,   0,   0,   0,   0,   0,   0,   0,   0,   0],\n",
              "       [  0,   0,   0,   0,   0,   0,   0,   0,   0,   0,   0,   0,   0,   0,   0,   0,   0,   0,   0,   0,   0,   0,   0,   0,   0,   0,   0,   0],\n",
              "       [  0,   0,   0,   0,   0,   0,   0,   0,   0,   0,   0,   0,   0,   0,   0,   0,   0,   0,   0,   0,   0,   0,   0,   0,   0,   0,   0,   0]], dtype=uint8)"
            ]
          },
          "metadata": {
            "tags": []
          },
          "execution_count": 203
        }
      ]
    },
    {
      "cell_type": "markdown",
      "metadata": {
        "id": "X9fHAK96ohJ-"
      },
      "source": [
        "This is not a valid form of euclidean distance. \n",
        "\n",
        "This is because uint8 ranges from 0-256. As such, we cannot acquire negative values. Overflow leaves values of 199, which are overestimations of error at a location."
      ]
    },
    {
      "cell_type": "code",
      "metadata": {
        "id": "ArpvKD2WohJ-",
        "outputId": "2fb153cc-8c54-496a-aae5-f11ee8edb18b"
      },
      "source": [
        "#Observe:\n",
        "testX[3][6][20]-trainX[1][6][20]"
      ],
      "execution_count": null,
      "outputs": [
        {
          "output_type": "stream",
          "text": [
            "/home/marco/.local/lib/python3.6/site-packages/ipykernel_launcher.py:2: RuntimeWarning: overflow encountered in ubyte_scalars\n",
            "  \n"
          ],
          "name": "stderr"
        },
        {
          "output_type": "execute_result",
          "data": {
            "text/plain": [
              "199"
            ]
          },
          "metadata": {
            "tags": []
          },
          "execution_count": 204
        }
      ]
    },
    {
      "cell_type": "code",
      "metadata": {
        "id": "BPG4FvTAohJ_",
        "outputId": "4e7fa821-e541-416a-deda-f5e1229c1049"
      },
      "source": [
        "#Convert test to int32\n",
        "TestXNew = testX[3].astype(np.int32)\n",
        "TestXNew"
      ],
      "execution_count": null,
      "outputs": [
        {
          "output_type": "execute_result",
          "data": {
            "text/plain": [
              "array([[  0,   0,   0,   0,   0,   0,   0,   0,   0,   0,   0,   0,   0,   0,   0,   0,   0,   0,   0,   0,   0,   0,   0,   0,   0,   0,   0,   0],\n",
              "       [  0,   0,   0,   0,   0,   0,   0,   0,   0,   0,   0,   0,   0,   0,   0,   0,   0,   0,   0,   0,   0,   0,   0,   0,   0,   0,   0,   0],\n",
              "       [  0,   0,   0,   0,   0,   0,   0,   0,   0,   0,   0,   0,   0,   0,   0,   0,   0,   0,   0,   0,   0,   0,   0,   0,   0,   0,   0,   0],\n",
              "       [  0,   0,   0,   0,   0,   0,   0,   0,   0,   0,   0,   0,   0,   0,   0,   0,   0,   0,   0,   0,   0,   0,   0,   0,   0,   0,   0,   0],\n",
              "       [  0,   0,   0,   0,   0,   0,   0,   0,   0,   0,   0,   0,  11, 150, 253, 202,  31,   0,   0,   0,   0,   0,   0,   0,   0,   0,   0,   0],\n",
              "       [  0,   0,   0,   0,   0,   0,   0,   0,   0,   0,   0,   0,  37, 251, 251, 253, 107,   0,   0,   0,   0,   0,   0,   0,   0,   0,   0,   0],\n",
              "       [  0,   0,   0,   0,   0,   0,   0,   0,   0,   0,   0,  21, 197, 251, 251, 253, 107,   0,   0,   0,   0,   0,   0,   0,   0,   0,   0,   0],\n",
              "       [  0,   0,   0,   0,   0,   0,   0,   0,   0,   0, 110, 190, 251, 251, 251, 253, 169, 109,  62,   0,   0,   0,   0,   0,   0,   0,   0,   0],\n",
              "       [  0,   0,   0,   0,   0,   0,   0,   0,   0,   0, 253, 251, 251, 251, 251, 253, 251, 251, 220,  51,   0,   0,   0,   0,   0,   0,   0,   0],\n",
              "       [  0,   0,   0,   0,   0,   0,   0,   0,   0, 182, 255, 253, 253, 253, 253, 234, 222, 253, 253, 253,   0,   0,   0,   0,   0,   0,   0,   0],\n",
              "       [  0,   0,   0,   0,   0,   0,   0,   0,  63, 221, 253, 251, 251, 251, 147,  77,  62, 128, 251, 251, 105,   0,   0,   0,   0,   0,   0,   0],\n",
              "       [  0,   0,   0,   0,   0,   0,   0,  32, 231, 251, 253, 251, 220, 137,  10,   0,   0,  31, 230, 251, 243, 113,   5,   0,   0,   0,   0,   0],\n",
              "       [  0,   0,   0,   0,   0,   0,   0,  37, 251, 251, 253, 188,  20,   0,   0,   0,   0,   0, 109, 251, 253, 251,  35,   0,   0,   0,   0,   0],\n",
              "       [  0,   0,   0,   0,   0,   0,   0,  37, 251, 251, 201,  30,   0,   0,   0,   0,   0,   0,  31, 200, 253, 251,  35,   0,   0,   0,   0,   0],\n",
              "       [  0,   0,   0,   0,   0,   0,   0,  37, 253, 253,   0,   0,   0,   0,   0,   0,   0,   0,  32, 202, 255, 253, 164,   0,   0,   0,   0,   0],\n",
              "       [  0,   0,   0,   0,   0,   0,   0, 140, 251, 251,   0,   0,   0,   0,   0,   0,   0,   0, 109, 251, 253, 251,  35,   0,   0,   0,   0,   0],\n",
              "       [  0,   0,   0,   0,   0,   0,   0, 217, 251, 251,   0,   0,   0,   0,   0,   0,  21,  63, 231, 251, 253, 230,  30,   0,   0,   0,   0,   0],\n",
              "       [  0,   0,   0,   0,   0,   0,   0, 217, 251, 251,   0,   0,   0,   0,   0,   0, 144, 251, 251, 251, 221,  61,   0,   0,   0,   0,   0,   0],\n",
              "       [  0,   0,   0,   0,   0,   0,   0, 217, 251, 251,   0,   0,   0,   0,   0, 182, 221, 251, 251, 251, 180,   0,   0,   0,   0,   0,   0,   0],\n",
              "       [  0,   0,   0,   0,   0,   0,   0, 218, 253, 253,  73,  73, 228, 253, 253, 255, 253, 253, 253, 253,   0,   0,   0,   0,   0,   0,   0,   0],\n",
              "       [  0,   0,   0,   0,   0,   0,   0, 113, 251, 251, 253, 251, 251, 251, 251, 253, 251, 251, 251, 147,   0,   0,   0,   0,   0,   0,   0,   0],\n",
              "       [  0,   0,   0,   0,   0,   0,   0,  31, 230, 251, 253, 251, 251, 251, 251, 253, 230, 189,  35,  10,   0,   0,   0,   0,   0,   0,   0,   0],\n",
              "       [  0,   0,   0,   0,   0,   0,   0,   0,  62, 142, 253, 251, 251, 251, 251, 253, 107,   0,   0,   0,   0,   0,   0,   0,   0,   0,   0,   0],\n",
              "       [  0,   0,   0,   0,   0,   0,   0,   0,   0,   0,  72, 174, 251, 173,  71,  72,  30,   0,   0,   0,   0,   0,   0,   0,   0,   0,   0,   0],\n",
              "       [  0,   0,   0,   0,   0,   0,   0,   0,   0,   0,   0,   0,   0,   0,   0,   0,   0,   0,   0,   0,   0,   0,   0,   0,   0,   0,   0,   0],\n",
              "       [  0,   0,   0,   0,   0,   0,   0,   0,   0,   0,   0,   0,   0,   0,   0,   0,   0,   0,   0,   0,   0,   0,   0,   0,   0,   0,   0,   0],\n",
              "       [  0,   0,   0,   0,   0,   0,   0,   0,   0,   0,   0,   0,   0,   0,   0,   0,   0,   0,   0,   0,   0,   0,   0,   0,   0,   0,   0,   0],\n",
              "       [  0,   0,   0,   0,   0,   0,   0,   0,   0,   0,   0,   0,   0,   0,   0,   0,   0,   0,   0,   0,   0,   0,   0,   0,   0,   0,   0,   0]], dtype=int32)"
            ]
          },
          "metadata": {
            "tags": []
          },
          "execution_count": 205
        }
      ]
    },
    {
      "cell_type": "code",
      "metadata": {
        "id": "5G-FO0pNohJ_",
        "outputId": "f018301a-0969-434a-cfb0-548f76d71358"
      },
      "source": [
        "TestXNew - trainX[1]"
      ],
      "execution_count": null,
      "outputs": [
        {
          "output_type": "execute_result",
          "data": {
            "text/plain": [
              "array([[   0,    0,    0,    0,    0,    0,    0,    0,    0,    0,    0,    0,    0,    0,    0,    0,    0,    0,    0,    0,    0,    0,    0,    0,    0,    0,    0,    0],\n",
              "       [   0,    0,    0,    0,    0,    0,    0,    0,    0,    0,    0,    0,    0,    0,    0,    0,    0,    0,    0,    0,    0,    0,    0,    0,    0,    0,    0,    0],\n",
              "       [   0,    0,    0,    0,    0,    0,    0,    0,    0,    0,    0,    0,    0,    0,    0,    0,    0,    0,    0,    0,    0,    0,    0,    0,    0,    0,    0,    0],\n",
              "       [   0,    0,    0,    0,    0,    0,    0,    0,    0,    0,    0,    0,    0,    0,    0,    0,    0,    0,    0,    0,    0,    0,    0,    0,    0,    0,    0,    0],\n",
              "       [   0,    0,    0,    0,    0,    0,    0,    0,    0,    0,    0,    0,   11,  150,  253,  151, -128, -253, -159,  -50,    0,    0,    0,    0,    0,    0,    0,    0],\n",
              "       [   0,    0,    0,    0,    0,    0,    0,    0,    0,    0,    0,    0,   37,  251,  203,   15, -145, -252, -252, -237,    0,    0,    0,    0,    0,    0,    0,    0],\n",
              "       [   0,    0,    0,    0,    0,    0,    0,    0,    0,    0,    0,   21,  197,  197,   24,    0, -145, -239, -233, -252,  -57,   -6,    0,    0,    0,    0,    0,    0],\n",
              "       [   0,    0,    0,    0,    0,    0,    0,    0,    0,    0,  110,  180,  191,   27,   -1,    0,  -83,  -93,  -22, -252, -253, -122,    0,    0,    0,    0,    0,    0],\n",
              "       [   0,    0,    0,    0,    0,    0,    0,    0,    0,    0,  253,   88,   -1,   -1,   -1,    0,   -1,   -1,  124, -138, -253, -167,    0,    0,    0,    0,    0,    0],\n",
              "       [   0,    0,    0,    0,    0,    0,    0,    0,    0,  182,  204,   15,    0,    0,   63,  120,  -31,   25,  206,  174, -255, -168,    0,    0,    0,    0,    0,    0],\n",
              "       [   0,    0,    0,    0,    0,    0,    0,    0,   63,  173,   15,   -1,   -1,   72,  135,    2,  -59,  107,  251,  251, -148, -243,  -50,    0,    0,    0,    0,    0],\n",
              "       [   0,    0,    0,    0,    0,    0,    0,   32,  193,   86,    0,   18,   12,   53,   10,    0,    0,   31,  230,  251,  -10, -139, -160,    0,    0,    0,    0,    0],\n",
              "       [   0,    0,    0,    0,    0,    0,    0,   30,   73,   -1,   13,  117,    1,  -28,    0,    0,    0,    0,  109,  251,    0,   -1, -160,    0,    0,    0,    0,    0],\n",
              "       [   0,    0,    0,    0,    0,    0,    0,  -20,   -1,   -1,  138,   30,    0,    0,    0,    0,    0,    0,   31,  200,    0,   -1, -160,    0,    0,    0,    0,    0],\n",
              "       [   0,    0,    0,    0,    0,    0,    0, -161,    0,   63,    0,    0,    0,    0,    0,    0,    0,    0,   32,  202,    0,    0,  -32,    0,    0,    0,    0,    0],\n",
              "       [   0,    0,    0,    0,    0,    0,  -76, -106,   -1,  139,    0,    0,    0,    0,    0,    0,    0,    0,  109,  251,    0,   -1, -113,    0,    0,    0,    0,    0],\n",
              "       [   0,    0,    0,    0,    0,    0,  -85,  -35,   21,  226,    0,    0,    0,    0,    0,    0,   21,   63,  224,  116,    0,   44,   18,    0,    0,    0,    0,    0],\n",
              "       [   0,    0,    0,    0,    0,    0,  -85,  -35,   28,  251,    0,    0,    0,    0,    0,    0,  144,  244,  120,   -1,   -4,  -10,    0,    0,    0,    0,    0,    0],\n",
              "       [   0,    0,    0,    0,    0,    0,  -85,  -35,  106,  251,    0,    0,    0,    0,    0,  182,  173,   86,   -1,   78,  180,    0,    0,    0,    0,    0,    0,    0],\n",
              "       [   0,    0,    0,    0,    0,    0,  -86,  -35,   28,  253,   73,   73,  228,  253,  253,  141,   15,    0,   91,  253,    0,    0,    0,    0,    0,    0,    0,    0],\n",
              "       [   0,    0,    0,    0,    0,    0,  -85, -139,    2,  105,  205,  222,  166,   73,   26,    0,   28,   84,  195,  147,    0,    0,    0,    0,    0,    0,    0,    0],\n",
              "       [   0,    0,    0,    0,    0,    0,  -85, -221,  -22,   -1,   24,   36,   -1,   -1,   -1,   57,  100,  189,   35,   10,    0,    0,    0,    0,    0,    0,    0,    0],\n",
              "       [   0,    0,    0,    0,    0,    0,  -28, -199, -190, -110,    0,   -1,   -1,   18,  106,  253,  107,    0,    0,    0,    0,    0,    0,    0,    0,    0,    0,    0],\n",
              "       [   0,    0,    0,    0,    0,    0,    0,  -25, -128, -252, -181,  -78,  110,  136,   71,   72,   30,    0,    0,    0,    0,    0,    0,    0,    0,    0,    0,    0],\n",
              "       [   0,    0,    0,    0,    0,    0,    0,    0,    0,    0,    0,    0,    0,    0,    0,    0,    0,    0,    0,    0,    0,    0,    0,    0,    0,    0,    0,    0],\n",
              "       [   0,    0,    0,    0,    0,    0,    0,    0,    0,    0,    0,    0,    0,    0,    0,    0,    0,    0,    0,    0,    0,    0,    0,    0,    0,    0,    0,    0],\n",
              "       [   0,    0,    0,    0,    0,    0,    0,    0,    0,    0,    0,    0,    0,    0,    0,    0,    0,    0,    0,    0,    0,    0,    0,    0,    0,    0,    0,    0],\n",
              "       [   0,    0,    0,    0,    0,    0,    0,    0,    0,    0,    0,    0,    0,    0,    0,    0,    0,    0,    0,    0,    0,    0,    0,    0,    0,    0,    0,    0]], dtype=int32)"
            ]
          },
          "metadata": {
            "tags": []
          },
          "execution_count": 207
        }
      ]
    },
    {
      "cell_type": "code",
      "metadata": {
        "id": "AfLrmB_mohJ_",
        "outputId": "f23d38a1-cb76-4f39-f5d2-9cb8ec7dc141"
      },
      "source": [
        "#Further verification if Euclidean norm versus my manual calculation\n",
        "from numpy import linalg as LA\n",
        "heyo = TestXNew - trainX[1]\n",
        "LA.norm(heyo,'fro')"
      ],
      "execution_count": null,
      "outputs": [
        {
          "output_type": "execute_result",
          "data": {
            "text/plain": [
              "1980.683972773042"
            ]
          },
          "metadata": {
            "tags": []
          },
          "execution_count": 163
        }
      ]
    },
    {
      "cell_type": "code",
      "metadata": {
        "id": "1YKTpaGaohKA"
      },
      "source": [
        "TestXNew = testX[3].astype(np.int32)"
      ],
      "execution_count": null,
      "outputs": []
    },
    {
      "cell_type": "code",
      "metadata": {
        "id": "J9RGEj62ohKB",
        "outputId": "3f9b2651-fdd2-4bd9-e986-b40b1634f099"
      },
      "source": [
        "#Seems legit.\n",
        "np.sqrt(np.sum((trainX[1]-TestXNew)**2))"
      ],
      "execution_count": null,
      "outputs": [
        {
          "output_type": "execute_result",
          "data": {
            "text/plain": [
              "1980.683972773042"
            ]
          },
          "metadata": {
            "tags": []
          },
          "execution_count": 165
        }
      ]
    },
    {
      "cell_type": "markdown",
      "metadata": {
        "id": "5GgoL6TtohKB"
      },
      "source": [
        "## Bottom K By Intuition\n",
        "Even if our solution is not perfectly efficient, it should save time by reducing the complexity from sorting an ENTIRE array N times to K-Smallest N times.\n",
        "\n",
        "Yet our code methodology has an imprecision because of a small drop in accuracy. These indices can be seen when a boolean comparison is made bwteen this method and the standard tuple sort method\n",
        "\n",
        "It should also be considered that perhaps sorting tuples is not the way to go to reduce computational complexity."
      ]
    },
    {
      "cell_type": "code",
      "metadata": {
        "id": "ZlZtVQHzohKC"
      },
      "source": [
        "tupledVals = [(0,1.2),(0,0.8),(1,2.2),(2,3.2),(0,0.2),(4,72),(6,2.1),(9,10)]"
      ],
      "execution_count": null,
      "outputs": []
    },
    {
      "cell_type": "code",
      "metadata": {
        "id": "m08EdobGohKC"
      },
      "source": [
        "\n",
        "def smallestKInTuple(inputList,k):\n",
        "    \"\"\"\n",
        "    INPUT: An array or list of TUPLES\n",
        "    OUTPUT: smallest k elements\n",
        "    Functionality: Does so by modified selection sort.\n",
        "    Dependancy: I use numpy for argmin.\n",
        "    \"\"\"\n",
        "    #Store into temp array\n",
        "    temp = inputList[0:k]\n",
        "    \n",
        "    #Find max of temp array\n",
        "    maxTemp = max(temp, key = lambda t: t[1])\n",
        "    maxVal = maxTemp[1]\n",
        "    \n",
        "    #for inputLIst[k:]\n",
        "    for i in range(k,len(inputList)):\n",
        "        #if the value at i in inputList[k:n] is less\n",
        "        if(inputList[i][1] < maxVal):\n",
        "            #Swap that value with current max in our k list\n",
        "            \n",
        "            #This is to determine the index where we have our max location\n",
        "            p = -1\n",
        "            for tupleTemp in temp:\n",
        "                p = p+1\n",
        "                \n",
        "                if(tupleTemp[1] == maxVal):\n",
        "                    maxLocation = p\n",
        "            \n",
        "            \n",
        "            temp[maxLocation] = inputList[i]\n",
        "            \n",
        "            #New max\n",
        "            maxTemp = max(temp, key = lambda t: t[1])\n",
        "            maxVal = maxTemp[1]\n",
        "            \n",
        "    return temp\n"
      ],
      "execution_count": null,
      "outputs": []
    },
    {
      "cell_type": "code",
      "metadata": {
        "id": "GZb4LknsohKC",
        "outputId": "9509b63f-00e6-4322-b41a-f69928bf7b68"
      },
      "source": [
        "smallestKInTuple(tupledVals,3)"
      ],
      "execution_count": null,
      "outputs": [
        {
          "output_type": "execute_result",
          "data": {
            "text/plain": [
              "[(0, 1.2), (0, 0.8), (0, 0.2)]"
            ]
          },
          "metadata": {
            "tags": []
          },
          "execution_count": 88
        }
      ]
    }
  ]
}